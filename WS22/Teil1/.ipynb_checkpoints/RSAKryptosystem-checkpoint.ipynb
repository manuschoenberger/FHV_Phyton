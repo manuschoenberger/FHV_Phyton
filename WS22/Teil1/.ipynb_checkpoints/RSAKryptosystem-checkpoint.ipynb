{
 "cells": [
  {
   "cell_type": "code",
   "execution_count": 1,
   "id": "b679276f-8e7d-47b7-910e-1fabcc952952",
   "metadata": {},
   "outputs": [
    {
     "name": "stdout",
     "output_type": "stream",
     "text": [
      "65\n",
      "A\n"
     ]
    }
   ],
   "source": [
    "# ord('c') -> ASCII-Code , chr(65) -> 'A'\n",
    "print(ord('A'))\n",
    "print(chr(65))"
   ]
  },
  {
   "cell_type": "code",
   "execution_count": 2,
   "id": "3dd9da4d-eb25-46f5-a2b7-59b8725b5341",
   "metadata": {},
   "outputs": [
    {
     "name": "stdout",
     "output_type": "stream",
     "text": [
      "H\n"
     ]
    }
   ],
   "source": [
    "# C um 5 Buchstaben \"verschieben\"\n",
    "print(chr(ord('C') - ord ('A') + 5 % 26 + ord('A')))"
   ]
  },
  {
   "cell_type": "code",
   "execution_count": 3,
   "id": "eda57b4a-b7a4-437f-8411-04f9960fea1f",
   "metadata": {},
   "outputs": [
    {
     "name": "stdout",
     "output_type": "stream",
     "text": [
      "AA\n"
     ]
    }
   ],
   "source": [
    "# String Concatination \"verschieben\"\n",
    "res = 'A'\n",
    "res += 'A'\n",
    "print(res)"
   ]
  },
  {
   "cell_type": "code",
   "execution_count": 4,
   "id": "b3bf62ef-a4f4-4121-8fbb-0ad8908ba067",
   "metadata": {},
   "outputs": [],
   "source": [
    "def caeserEnc(msg, key):\n",
    "    result = \"\"\n",
    "    for c in msg:\n",
    "        encChar = chr(ord(c) - ord ('A') + key % 26 + ord('A'))\n",
    "        result += encChar\n",
    "    return result"
   ]
  },
  {
   "cell_type": "code",
   "execution_count": 5,
   "id": "08c9f920-117b-4892-a1a8-bc8312951e12",
   "metadata": {},
   "outputs": [
    {
     "data": {
      "text/plain": [
       "'MFQQT'"
      ]
     },
     "execution_count": 5,
     "metadata": {},
     "output_type": "execute_result"
    }
   ],
   "source": [
    "caeserEnc(\"HALLO\", 5)"
   ]
  },
  {
   "cell_type": "code",
   "execution_count": 6,
   "id": "483acf5c-6abe-407b-8ab8-067002b653c4",
   "metadata": {},
   "outputs": [
    {
     "data": {
      "text/plain": [
       "'NGRRU'"
      ]
     },
     "execution_count": 6,
     "metadata": {},
     "output_type": "execute_result"
    }
   ],
   "source": [
    "caeserEnc(\"HALLO\", 6)"
   ]
  },
  {
   "cell_type": "code",
   "execution_count": 7,
   "id": "e5f97235-ab4a-4ecb-9c74-9c30445d7512",
   "metadata": {},
   "outputs": [
    {
     "data": {
      "text/plain": [
       "(229, 251)"
      ]
     },
     "execution_count": 7,
     "metadata": {},
     "output_type": "execute_result"
    }
   ],
   "source": [
    "from sympy import prime, factorint, mod_inverse\n",
    "p = prime(50)\n",
    "q = prime(54)\n",
    "p, q"
   ]
  },
  {
   "cell_type": "code",
   "execution_count": 8,
   "id": "9a9d170e-0f53-4c0b-881b-02e7bead8101",
   "metadata": {},
   "outputs": [
    {
     "data": {
      "text/plain": [
       "(57479, 57000)"
      ]
     },
     "execution_count": 8,
     "metadata": {},
     "output_type": "execute_result"
    }
   ],
   "source": [
    "n = p * q\n",
    "phi = (p-1) * (q-1)\n",
    "n, phi"
   ]
  },
  {
   "cell_type": "code",
   "execution_count": 9,
   "id": "61c6efcd-4604-4863-b99a-2ce139819195",
   "metadata": {},
   "outputs": [
    {
     "data": {
      "text/plain": [
       "{2: 3, 3: 1, 5: 3, 19: 1}"
      ]
     },
     "execution_count": 9,
     "metadata": {},
     "output_type": "execute_result"
    }
   ],
   "source": [
    "factorint(phi)"
   ]
  },
  {
   "cell_type": "code",
   "execution_count": 10,
   "id": "35d501e0-fd2f-4ab9-964b-3b42ba7da62e",
   "metadata": {},
   "outputs": [
    {
     "data": {
      "text/plain": [
       "(1001, 16001)"
      ]
     },
     "execution_count": 10,
     "metadata": {},
     "output_type": "execute_result"
    }
   ],
   "source": [
    "e = 7 * 11 * 13\n",
    "d = mod_inverse(e, phi)\n",
    "e, d"
   ]
  },
  {
   "cell_type": "code",
   "execution_count": 11,
   "id": "370946cf-8208-4ed5-b6f7-9358b16485d7",
   "metadata": {},
   "outputs": [],
   "source": [
    "def crypt(M,k):\n",
    "    return M ** k % n"
   ]
  },
  {
   "cell_type": "code",
   "execution_count": 12,
   "id": "1ac69482-6bf8-41ae-86b3-3895b272e954",
   "metadata": {},
   "outputs": [
    {
     "data": {
      "text/plain": [
       "8262"
      ]
     },
     "execution_count": 12,
     "metadata": {},
     "output_type": "execute_result"
    }
   ],
   "source": [
    "crypt(1234, d)"
   ]
  },
  {
   "cell_type": "code",
   "execution_count": 13,
   "id": "ffa936fd-2d4e-4575-8dcc-df1bdb46eada",
   "metadata": {},
   "outputs": [
    {
     "data": {
      "text/plain": [
       "1234"
      ]
     },
     "execution_count": 13,
     "metadata": {},
     "output_type": "execute_result"
    }
   ],
   "source": [
    "crypt(8262, e)"
   ]
  }
 ],
 "metadata": {
  "kernelspec": {
   "display_name": "Python 3 (ipykernel)",
   "language": "python",
   "name": "python3"
  },
  "language_info": {
   "codemirror_mode": {
    "name": "ipython",
    "version": 3
   },
   "file_extension": ".py",
   "mimetype": "text/x-python",
   "name": "python",
   "nbconvert_exporter": "python",
   "pygments_lexer": "ipython3",
   "version": "3.9.12"
  }
 },
 "nbformat": 4,
 "nbformat_minor": 5
}
