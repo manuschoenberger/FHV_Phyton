{
 "cells": [
  {
   "cell_type": "code",
   "execution_count": 3,
   "id": "44b6dce9-993e-4142-b7a2-407bd9f3487f",
   "metadata": {},
   "outputs": [
    {
     "data": {
      "text/plain": [
       "'1101100'"
      ]
     },
     "execution_count": 3,
     "metadata": {},
     "output_type": "execute_result"
    }
   ],
   "source": [
    "# Multiplikation in binärer Darstellung Python\n",
    "0b11011 * 0b100\n",
    "'{:b}'.format(0b11011 * 0b100)"
   ]
  },
  {
   "cell_type": "code",
   "execution_count": 4,
   "id": "567f2517-e716-4db3-9ee0-4047eff8b1cb",
   "metadata": {},
   "outputs": [
    {
     "data": {
      "text/plain": [
       "27"
      ]
     },
     "execution_count": 4,
     "metadata": {},
     "output_type": "execute_result"
    }
   ],
   "source": [
    "0b1101111 // 0b100 # // ganzzahlige Division"
   ]
  },
  {
   "cell_type": "code",
   "execution_count": 6,
   "id": "8e027761-bd32-41e2-bbed-dfdf9808ecd1",
   "metadata": {},
   "outputs": [
    {
     "data": {
      "text/plain": [
       "27"
      ]
     },
     "execution_count": 6,
     "metadata": {},
     "output_type": "execute_result"
    }
   ],
   "source": [
    "0b1101100 // 0b100 # gleiches Ergebnis wie vorhin obwohl 0b1101100"
   ]
  },
  {
   "cell_type": "code",
   "execution_count": 8,
   "id": "7bf48d09-9af1-42c1-a1e4-16438ba4b0d8",
   "metadata": {},
   "outputs": [
    {
     "data": {
      "text/plain": [
       "3"
      ]
     },
     "execution_count": 8,
     "metadata": {},
     "output_type": "execute_result"
    }
   ],
   "source": [
    "0b1101111 % 0b100 # Modulo-Operator == was ist der Rest?"
   ]
  },
  {
   "cell_type": "code",
   "execution_count": 9,
   "id": "f71efa4c-1726-4adf-957d-64f42f9ee0c2",
   "metadata": {},
   "outputs": [
    {
     "data": {
      "text/plain": [
       "0"
      ]
     },
     "execution_count": 9,
     "metadata": {},
     "output_type": "execute_result"
    }
   ],
   "source": [
    "0b1101100 % 0b100 # nicht gleiches Ergebnis weil 0b1101100"
   ]
  },
  {
   "cell_type": "code",
   "execution_count": 16,
   "id": "a45cbe70-7024-4a43-8f74-bd61f9639e6f",
   "metadata": {},
   "outputs": [
    {
     "data": {
      "text/plain": [
       "5"
      ]
     },
     "execution_count": 16,
     "metadata": {},
     "output_type": "execute_result"
    }
   ],
   "source": [
    "107 % 17"
   ]
  },
  {
   "cell_type": "code",
   "execution_count": 17,
   "id": "d2d16089-a10b-40af-8056-74b6e362aeed",
   "metadata": {},
   "outputs": [
    {
     "data": {
      "text/plain": [
       "5"
      ]
     },
     "execution_count": 17,
     "metadata": {},
     "output_type": "execute_result"
    }
   ],
   "source": [
    "73 % 17"
   ]
  },
  {
   "cell_type": "code",
   "execution_count": 18,
   "id": "d9b6c2c0-aada-48c5-86b4-1edfcad1324c",
   "metadata": {},
   "outputs": [
    {
     "data": {
      "text/plain": [
       "True"
      ]
     },
     "execution_count": 18,
     "metadata": {},
     "output_type": "execute_result"
    }
   ],
   "source": [
    "107 % 17 == 73 % 17"
   ]
  },
  {
   "cell_type": "code",
   "execution_count": 19,
   "id": "c3f9143e-e5ca-4cd3-8a74-0d4a56e43746",
   "metadata": {},
   "outputs": [
    {
     "data": {
      "text/plain": [
       "False"
      ]
     },
     "execution_count": 19,
     "metadata": {},
     "output_type": "execute_result"
    }
   ],
   "source": [
    "107 % 17 == 72 % 17"
   ]
  },
  {
   "cell_type": "code",
   "execution_count": 10,
   "id": "50febc53-4d23-4d28-aadb-956031ad95e4",
   "metadata": {},
   "outputs": [
    {
     "data": {
      "text/plain": [
       "True"
      ]
     },
     "execution_count": 10,
     "metadata": {},
     "output_type": "execute_result"
    }
   ],
   "source": [
    "# boolsche Werte\n",
    "a = 3\n",
    "b = 5\n",
    "a < 5"
   ]
  },
  {
   "cell_type": "code",
   "execution_count": 11,
   "id": "cb20811f-c584-4229-9a84-57a16ecd741c",
   "metadata": {},
   "outputs": [
    {
     "data": {
      "text/plain": [
       "True"
      ]
     },
     "execution_count": 11,
     "metadata": {},
     "output_type": "execute_result"
    }
   ],
   "source": [
    "a < b"
   ]
  },
  {
   "cell_type": "code",
   "execution_count": 12,
   "id": "ca8dd0c9-9bbd-4bc5-bfe8-42b13efed084",
   "metadata": {},
   "outputs": [
    {
     "name": "stdout",
     "output_type": "stream",
     "text": [
      "3 5\n"
     ]
    }
   ],
   "source": [
    "if False:\n",
    "    b = a\n",
    "print(a,b)"
   ]
  },
  {
   "cell_type": "code",
   "execution_count": 13,
   "id": "274a1337-8bcd-4506-afd6-0977bbe0962f",
   "metadata": {},
   "outputs": [
    {
     "name": "stdout",
     "output_type": "stream",
     "text": [
      "3 3\n"
     ]
    }
   ],
   "source": [
    "if True:\n",
    "    b = a\n",
    "print(a,b)"
   ]
  },
  {
   "cell_type": "code",
   "execution_count": 15,
   "id": "8e5cc66f-b2e9-4cc4-8df9-8afb6ca16fec",
   "metadata": {},
   "outputs": [
    {
     "name": "stdout",
     "output_type": "stream",
     "text": [
      "3 3\n"
     ]
    }
   ],
   "source": [
    "if (a > b):\n",
    "    b = a\n",
    "print(a,b)"
   ]
  },
  {
   "cell_type": "code",
   "execution_count": 20,
   "id": "eab02b84-6b2b-4429-a21d-1a674ef8a267",
   "metadata": {},
   "outputs": [],
   "source": [
    "def congruentModulo(a,b,n):\n",
    "    return a % n == b % n"
   ]
  },
  {
   "cell_type": "code",
   "execution_count": 23,
   "id": "7cd80e1f-138b-4318-84ad-cc9c8860b8c6",
   "metadata": {},
   "outputs": [
    {
     "data": {
      "text/plain": [
       "False"
      ]
     },
     "execution_count": 23,
     "metadata": {},
     "output_type": "execute_result"
    }
   ],
   "source": [
    "congruentModulo(107, 72, 17)"
   ]
  },
  {
   "cell_type": "code",
   "execution_count": 26,
   "id": "d7bc4abc-2e09-4085-b347-19ba1d08d9cb",
   "metadata": {},
   "outputs": [
    {
     "data": {
      "text/plain": [
       "True"
      ]
     },
     "execution_count": 26,
     "metadata": {},
     "output_type": "execute_result"
    }
   ],
   "source": [
    "congruentModulo(107, 73, 17)"
   ]
  },
  {
   "cell_type": "code",
   "execution_count": 24,
   "id": "f2b45801-21c0-478f-a048-1df74096ad37",
   "metadata": {},
   "outputs": [],
   "source": [
    "def congruentModulo_sub(a,b,n):\n",
    "    while a > n:\n",
    "        a -= n\n",
    "    while b > n:\n",
    "        b -= n\n",
    "    return a == b"
   ]
  },
  {
   "cell_type": "code",
   "execution_count": 25,
   "id": "b9b97d39-9acd-459b-97d1-2cb3f9cbe2e0",
   "metadata": {},
   "outputs": [
    {
     "data": {
      "text/plain": [
       "False"
      ]
     },
     "execution_count": 25,
     "metadata": {},
     "output_type": "execute_result"
    }
   ],
   "source": [
    "congruentModulo_sub(107, 72, 17)"
   ]
  },
  {
   "cell_type": "code",
   "execution_count": 27,
   "id": "427d7cf9-9d2d-4bff-8adb-7c4fdefe6318",
   "metadata": {},
   "outputs": [
    {
     "data": {
      "text/plain": [
       "True"
      ]
     },
     "execution_count": 27,
     "metadata": {},
     "output_type": "execute_result"
    }
   ],
   "source": [
    "congruentModulo_sub(107, 73, 17)"
   ]
  }
 ],
 "metadata": {
  "kernelspec": {
   "display_name": "Python 3 (ipykernel)",
   "language": "python",
   "name": "python3"
  },
  "language_info": {
   "codemirror_mode": {
    "name": "ipython",
    "version": 3
   },
   "file_extension": ".py",
   "mimetype": "text/x-python",
   "name": "python",
   "nbconvert_exporter": "python",
   "pygments_lexer": "ipython3",
   "version": "3.9.12"
  }
 },
 "nbformat": 4,
 "nbformat_minor": 5
}
