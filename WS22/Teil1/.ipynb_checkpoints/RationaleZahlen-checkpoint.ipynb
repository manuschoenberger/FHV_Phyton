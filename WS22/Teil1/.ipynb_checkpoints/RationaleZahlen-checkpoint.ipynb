{
 "cells": [
  {
   "cell_type": "code",
   "execution_count": 1,
   "id": "452e01f1-c0e4-47e3-bfb8-3ef3276da442",
   "metadata": {},
   "outputs": [
    {
     "data": {
      "text/plain": [
       "0.010000000000000009"
      ]
     },
     "execution_count": 1,
     "metadata": {},
     "output_type": "execute_result"
    }
   ],
   "source": [
    "1 - 0.99"
   ]
  },
  {
   "cell_type": "code",
   "execution_count": 2,
   "id": "6ccb6559-68d2-4df2-94af-c0d39bea472f",
   "metadata": {},
   "outputs": [
    {
     "data": {
      "text/plain": [
       "0.3333333333333333"
      ]
     },
     "execution_count": 2,
     "metadata": {},
     "output_type": "execute_result"
    }
   ],
   "source": [
    "1 / 3"
   ]
  },
  {
   "cell_type": "code",
   "execution_count": 3,
   "id": "91bad6f4-8876-4328-8dc2-f3c694e2589d",
   "metadata": {},
   "outputs": [
    {
     "data": {
      "text/plain": [
       "0.9999999999999001"
      ]
     },
     "execution_count": 3,
     "metadata": {},
     "output_type": "execute_result"
    }
   ],
   "source": [
    "0.3333333333333 * 3"
   ]
  },
  {
   "cell_type": "code",
   "execution_count": 4,
   "id": "fa9b6ef0-af98-42d4-836c-55e4cd045a3a",
   "metadata": {},
   "outputs": [
    {
     "data": {
      "text/plain": [
       "1.0"
      ]
     },
     "execution_count": 4,
     "metadata": {},
     "output_type": "execute_result"
    }
   ],
   "source": [
    "(1 / 3) * 3"
   ]
  },
  {
   "cell_type": "code",
   "execution_count": 5,
   "id": "7952cdb4-d432-45a4-b3fa-119b2628b504",
   "metadata": {},
   "outputs": [],
   "source": [
    "from sympy import gcd\n",
    "\n",
    "#kanonische Zerlegung\n",
    "def kleinsterTerm(frac): # frac = [a,b]\n",
    "    nenner = frac[0]\n",
    "    zaehler = frac[1]\n",
    "    g = gcd(nenner, zaehler) # gcd = grösster gemeinsamer Teiler\n",
    "    return [nenner // g, zaehler // g]"
   ]
  },
  {
   "cell_type": "code",
   "execution_count": 6,
   "id": "bcdd1e21-0770-4fbe-b9f6-88fcd6d43cca",
   "metadata": {},
   "outputs": [
    {
     "data": {
      "text/plain": [
       "[2, 3]"
      ]
     },
     "execution_count": 6,
     "metadata": {},
     "output_type": "execute_result"
    }
   ],
   "source": [
    "kleinsterTerm([20,30])"
   ]
  },
  {
   "cell_type": "code",
   "execution_count": 7,
   "id": "52b57f79-b382-4e87-8424-e774712e0375",
   "metadata": {},
   "outputs": [
    {
     "data": {
      "text/latex": [
       "$\\displaystyle 10$"
      ],
      "text/plain": [
       "10"
      ]
     },
     "execution_count": 7,
     "metadata": {},
     "output_type": "execute_result"
    }
   ],
   "source": [
    "gcd(20,30)"
   ]
  },
  {
   "cell_type": "code",
   "execution_count": 8,
   "id": "14631da5-99a9-4e89-bc8b-cb2c3898b8c4",
   "metadata": {},
   "outputs": [],
   "source": [
    "def addFrac(frac1, frac2): # adds frac1 = [a1, b1] + frac2 = [a2, b2]\n",
    "    a = frac1[0]\n",
    "    b = frac1[1]\n",
    "    c = frac2[0]\n",
    "    d = frac2[1]\n",
    "    res = (a * d + c * b) / (b * d)\n",
    "    return res"
   ]
  },
  {
   "cell_type": "code",
   "execution_count": 9,
   "id": "4b9054ac-03da-4fd0-a25d-fafac8252ef9",
   "metadata": {},
   "outputs": [
    {
     "data": {
      "text/plain": [
       "1.625"
      ]
     },
     "execution_count": 9,
     "metadata": {},
     "output_type": "execute_result"
    }
   ],
   "source": [
    "addFrac([7,8], [3,4])"
   ]
  },
  {
   "cell_type": "code",
   "execution_count": 10,
   "id": "baddd9ea-e0fe-4d3b-a70f-34da7a0a2ac7",
   "metadata": {},
   "outputs": [],
   "source": [
    "def addFrac(frac1, frac2): # adds frac1 = [a1, b1] + frac2 = [a2, b2]\n",
    "    a = frac1[0]\n",
    "    b = frac1[1]\n",
    "    c = frac2[0]\n",
    "    d = frac2[1]\n",
    "    res = [a * d + c * b , b * d]\n",
    "    return kleinsterTerm(res)"
   ]
  },
  {
   "cell_type": "code",
   "execution_count": 11,
   "id": "7187a60d-9572-4150-9467-7e7531f9e57c",
   "metadata": {},
   "outputs": [
    {
     "data": {
      "text/plain": [
       "[13, 8]"
      ]
     },
     "execution_count": 11,
     "metadata": {},
     "output_type": "execute_result"
    }
   ],
   "source": [
    "addFrac([7,8], [3,4])"
   ]
  }
 ],
 "metadata": {
  "kernelspec": {
   "display_name": "Python 3 (ipykernel)",
   "language": "python",
   "name": "python3"
  },
  "language_info": {
   "codemirror_mode": {
    "name": "ipython",
    "version": 3
   },
   "file_extension": ".py",
   "mimetype": "text/x-python",
   "name": "python",
   "nbconvert_exporter": "python",
   "pygments_lexer": "ipython3",
   "version": "3.9.12"
  }
 },
 "nbformat": 4,
 "nbformat_minor": 5
}
