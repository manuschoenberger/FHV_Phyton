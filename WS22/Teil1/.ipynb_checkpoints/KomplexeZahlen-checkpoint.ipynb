{
 "cells": [
  {
   "cell_type": "code",
   "execution_count": 1,
   "id": "351e509d-7b2e-4a37-a9f2-e133bba8878c",
   "metadata": {},
   "outputs": [
    {
     "data": {
      "text/plain": [
       "(2-1j)"
      ]
     },
     "execution_count": 1,
     "metadata": {},
     "output_type": "execute_result"
    }
   ],
   "source": [
    "#statt i ein j\n",
    "(3 + 1j) / (1 + 1j)"
   ]
  },
  {
   "cell_type": "code",
   "execution_count": 2,
   "id": "1248624a-918f-4db9-91f7-85bb83dab199",
   "metadata": {},
   "outputs": [
    {
     "data": {
      "text/plain": [
       "(2+4j)"
      ]
     },
     "execution_count": 2,
     "metadata": {},
     "output_type": "execute_result"
    }
   ],
   "source": [
    "(3 + 1j) * (1 + 1j)"
   ]
  },
  {
   "cell_type": "code",
   "execution_count": 3,
   "id": "76d64808-0142-4b9e-aa96-45b342781481",
   "metadata": {},
   "outputs": [
    {
     "data": {
      "text/plain": [
       "(4+2j)"
      ]
     },
     "execution_count": 3,
     "metadata": {},
     "output_type": "execute_result"
    }
   ],
   "source": [
    "(3 + 1j) + (1 + 1j)"
   ]
  }
 ],
 "metadata": {
  "kernelspec": {
   "display_name": "Python 3 (ipykernel)",
   "language": "python",
   "name": "python3"
  },
  "language_info": {
   "codemirror_mode": {
    "name": "ipython",
    "version": 3
   },
   "file_extension": ".py",
   "mimetype": "text/x-python",
   "name": "python",
   "nbconvert_exporter": "python",
   "pygments_lexer": "ipython3",
   "version": "3.9.12"
  }
 },
 "nbformat": 4,
 "nbformat_minor": 5
}
