{
 "cells": [
  {
   "cell_type": "code",
   "execution_count": 4,
   "id": "49e06123-994e-4977-8e8e-55e11909d470",
   "metadata": {},
   "outputs": [],
   "source": [
    "from math import *\n",
    "\n",
    "def babylon(x):\n",
    "    a = x\n",
    "    while (a * a - x) > 0.001: #Wir stoppen, wenn a**2 - x kleiner 0,001\n",
    "        a = (a + x / a) / 2 #Das ist unser a_{n+1}, a_1 = (10 + (10 / 10)) / 2 = 11/2\n",
    "    return a"
   ]
  },
  {
   "cell_type": "code",
   "execution_count": 2,
   "id": "4a3b6b67-e001-4e43-86e8-8071f6f04a30",
   "metadata": {},
   "outputs": [
    {
     "data": {
      "text/plain": [
       "3.162277665175675"
      ]
     },
     "execution_count": 2,
     "metadata": {},
     "output_type": "execute_result"
    }
   ],
   "source": [
    "babylon(10)"
   ]
  },
  {
   "cell_type": "code",
   "execution_count": 3,
   "id": "c60b2ceb-f811-4240-86f3-a1ed864049a4",
   "metadata": {},
   "outputs": [
    {
     "data": {
      "text/plain": [
       "2.0000000929222947"
      ]
     },
     "execution_count": 3,
     "metadata": {},
     "output_type": "execute_result"
    }
   ],
   "source": [
    "babylon(4)"
   ]
  },
  {
   "cell_type": "code",
   "execution_count": 9,
   "id": "b131ef69-ae36-4f05-a907-22087f29d7dc",
   "metadata": {},
   "outputs": [
    {
     "data": {
      "text/plain": [
       "1"
      ]
     },
     "execution_count": 9,
     "metadata": {},
     "output_type": "execute_result"
    }
   ],
   "source": [
    "babylon(1)"
   ]
  }
 ],
 "metadata": {
  "kernelspec": {
   "display_name": "Python 3 (ipykernel)",
   "language": "python",
   "name": "python3"
  },
  "language_info": {
   "codemirror_mode": {
    "name": "ipython",
    "version": 3
   },
   "file_extension": ".py",
   "mimetype": "text/x-python",
   "name": "python",
   "nbconvert_exporter": "python",
   "pygments_lexer": "ipython3",
   "version": "3.9.12"
  }
 },
 "nbformat": 4,
 "nbformat_minor": 5
}
