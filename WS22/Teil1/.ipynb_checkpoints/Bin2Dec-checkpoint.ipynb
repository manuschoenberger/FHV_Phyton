{
 "cells": [
  {
   "cell_type": "code",
   "execution_count": 5,
   "id": "c44d5b8b-d826-43ee-a5b2-8b9fad28834e",
   "metadata": {},
   "outputs": [
    {
     "name": "stdout",
     "output_type": "stream",
     "text": [
      "False\n"
     ]
    }
   ],
   "source": [
    "A=[1,2,3,4]"
   ]
  },
  {
   "cell_type": "code",
   "execution_count": 7,
   "id": "98e5e710-429c-4fda-8163-1dde43a94e7c",
   "metadata": {},
   "outputs": [
    {
     "data": {
      "text/plain": [
       "1"
      ]
     },
     "execution_count": 7,
     "metadata": {},
     "output_type": "execute_result"
    }
   ],
   "source": [
    "A[0]"
   ]
  },
  {
   "cell_type": "code",
   "execution_count": 8,
   "id": "c168ac63-ac54-47db-b93f-ea8f3c9320fd",
   "metadata": {},
   "outputs": [
    {
     "data": {
      "text/plain": [
       "[1, 2]"
      ]
     },
     "execution_count": 8,
     "metadata": {},
     "output_type": "execute_result"
    }
   ],
   "source": [
    "A[0:2]"
   ]
  },
  {
   "cell_type": "code",
   "execution_count": 9,
   "id": "7e431321-e0f4-4b21-98ec-93bc1e5b023b",
   "metadata": {},
   "outputs": [
    {
     "data": {
      "text/plain": [
       "[1, 2, 3]"
      ]
     },
     "execution_count": 9,
     "metadata": {},
     "output_type": "execute_result"
    }
   ],
   "source": [
    "A[0:3]"
   ]
  },
  {
   "cell_type": "code",
   "execution_count": 10,
   "id": "46cd017b-1423-4334-bd9c-35c506cea0fa",
   "metadata": {},
   "outputs": [
    {
     "name": "stdout",
     "output_type": "stream",
     "text": [
      "[2, 3, 4]\n",
      "[1, 2, 3]\n"
     ]
    }
   ],
   "source": [
    "print(A[1:])\n",
    "print(A[:3])"
   ]
  },
  {
   "cell_type": "code",
   "execution_count": 13,
   "id": "b0471253-b413-4d36-9a55-9bddee3708af",
   "metadata": {},
   "outputs": [
    {
     "data": {
      "text/plain": [
       "42"
      ]
     },
     "execution_count": 13,
     "metadata": {},
     "output_type": "execute_result"
    }
   ],
   "source": [
    "def Bin2Dec(B):\n",
    "    retval = B[0]\n",
    "    for b in B[1:]:\n",
    "        retval = 2*retval + b\n",
    "    return retval\n",
    "\n",
    "Bin2Dec([1,0,1,0,1,0])"
   ]
  },
  {
   "cell_type": "code",
   "execution_count": 3,
   "id": "81219d82-1fa0-4dbb-b416-fa4246b52533",
   "metadata": {},
   "outputs": [
    {
     "data": {
      "text/plain": [
       "85"
      ]
     },
     "execution_count": 3,
     "metadata": {},
     "output_type": "execute_result"
    }
   ],
   "source": [
    "def Bin2Dec(B):\n",
    "    retval = B[0]\n",
    "    for b in B[1:]:\n",
    "        retval = 2*retval + b\n",
    "    return retval\n",
    "\n",
    "Bin2Dec([1,0,1,0,1,0,1])"
   ]
  },
  {
   "cell_type": "code",
   "execution_count": 3,
   "id": "1fafe2bb-f12f-42b0-b13a-56a37244c7b5",
   "metadata": {},
   "outputs": [
    {
     "data": {
      "text/plain": [
       "85"
      ]
     },
     "execution_count": 3,
     "metadata": {},
     "output_type": "execute_result"
    }
   ],
   "source": [
    "def Bin2Dec(A):\n",
    "    \n",
    "    decnum = A[0]\n",
    "    \n",
    "    for b in A[1:]:\n",
    "        decnum = 2 * decnum + b\n",
    "    return decnum\n",
    "\n",
    "Bin2Dec([1,0,1,0,1,0,1])"
   ]
  }
 ],
 "metadata": {
  "kernelspec": {
   "display_name": "Python 3 (ipykernel)",
   "language": "python",
   "name": "python3"
  },
  "language_info": {
   "codemirror_mode": {
    "name": "ipython",
    "version": 3
   },
   "file_extension": ".py",
   "mimetype": "text/x-python",
   "name": "python",
   "nbconvert_exporter": "python",
   "pygments_lexer": "ipython3",
   "version": "3.9.12"
  }
 },
 "nbformat": 4,
 "nbformat_minor": 5
}
