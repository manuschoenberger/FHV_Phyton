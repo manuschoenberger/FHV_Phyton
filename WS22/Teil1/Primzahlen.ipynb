{
 "cells": [
  {
   "cell_type": "code",
   "execution_count": 1,
   "id": "6e71756a-ca9b-4412-9809-99a7f5cae6ce",
   "metadata": {},
   "outputs": [],
   "source": [
    "#Primzahlenerkennung"
   ]
  },
  {
   "cell_type": "code",
   "execution_count": 2,
   "id": "50e84f59-75b4-4c5f-b843-d6c6aa52d2de",
   "metadata": {},
   "outputs": [
    {
     "name": "stdout",
     "output_type": "stream",
     "text": [
      "[1, 2, 3]\n",
      "1\n",
      "2\n",
      "3\n"
     ]
    }
   ],
   "source": [
    "#Erzeugen einer Liste von Zahlen\n",
    "print(list(range(1,4)))\n",
    "for i in list (range(1,4)):\n",
    "    print(i)"
   ]
  },
  {
   "cell_type": "code",
   "execution_count": 3,
   "id": "2ecff37a-2301-4745-9335-dd57d27253aa",
   "metadata": {},
   "outputs": [],
   "source": [
    "#primtive Funktion um festzustellen, ob n prim ist\n",
    "def isPrime(n):\n",
    "    if n <= 1:\n",
    "        return False"
   ]
  },
  {
   "cell_type": "code",
   "execution_count": 4,
   "id": "a49aae84-293a-44a2-a9ec-0c04c46e76fe",
   "metadata": {},
   "outputs": [
    {
     "data": {
      "text/plain": [
       "False"
      ]
     },
     "execution_count": 4,
     "metadata": {},
     "output_type": "execute_result"
    }
   ],
   "source": [
    "isPrime(1)"
   ]
  },
  {
   "cell_type": "code",
   "execution_count": 5,
   "id": "a288c606-1c37-447d-b0ba-3e617d292df7",
   "metadata": {},
   "outputs": [],
   "source": [
    "#besserer Algorithmus\n",
    "def isPrime(n):\n",
    "    if n <= 1:\n",
    "        return False\n",
    "    for i in range(2,n):\n",
    "        if n % i == 0:\n",
    "            return False\n",
    "    return True"
   ]
  },
  {
   "cell_type": "code",
   "execution_count": 6,
   "id": "e50b4f05-8403-4305-ae49-cbcd207d6d7a",
   "metadata": {},
   "outputs": [
    {
     "data": {
      "text/plain": [
       "False"
      ]
     },
     "execution_count": 6,
     "metadata": {},
     "output_type": "execute_result"
    }
   ],
   "source": [
    "isPrime(4)"
   ]
  },
  {
   "cell_type": "code",
   "execution_count": 7,
   "id": "d5da196e-59aa-4770-ac5c-fda894288d94",
   "metadata": {},
   "outputs": [
    {
     "data": {
      "text/plain": [
       "True"
      ]
     },
     "execution_count": 7,
     "metadata": {},
     "output_type": "execute_result"
    }
   ],
   "source": [
    "isPrime(5)"
   ]
  },
  {
   "cell_type": "code",
   "execution_count": 8,
   "id": "bb8aacab-3771-4868-bdba-12cebb13a815",
   "metadata": {},
   "outputs": [],
   "source": [
    "#Erzuegen von Primzahlen\n",
    "def getPrime(n):\n",
    "    p = []\n",
    "    for i in range(n):\n",
    "        if isPrime(i):\n",
    "            p.append(i)\n",
    "    return p"
   ]
  },
  {
   "cell_type": "code",
   "execution_count": 9,
   "id": "1e41e76c-a27a-4a64-b55d-99b9a9f5fd44",
   "metadata": {},
   "outputs": [
    {
     "data": {
      "text/plain": [
       "[2,\n",
       " 3,\n",
       " 5,\n",
       " 7,\n",
       " 11,\n",
       " 13,\n",
       " 17,\n",
       " 19,\n",
       " 23,\n",
       " 29,\n",
       " 31,\n",
       " 37,\n",
       " 41,\n",
       " 43,\n",
       " 47,\n",
       " 53,\n",
       " 59,\n",
       " 61,\n",
       " 67,\n",
       " 71,\n",
       " 73,\n",
       " 79,\n",
       " 83,\n",
       " 89,\n",
       " 97]"
      ]
     },
     "execution_count": 9,
     "metadata": {},
     "output_type": "execute_result"
    }
   ],
   "source": [
    "getPrime(100)"
   ]
  },
  {
   "cell_type": "code",
   "execution_count": 10,
   "id": "1112d396-dcb8-4c4a-8af0-bfd7ed87cb5a",
   "metadata": {},
   "outputs": [],
   "source": [
    "#Primfaktorzerlegung\n",
    "def primeFactors(n):\n",
    "    result = []\n",
    "    c = 2\n",
    "    while n > 1:\n",
    "        while True:\n",
    "            if n % c == 0:\n",
    "                result.append(c)\n",
    "                n //= c #n = n // c\n",
    "                break\n",
    "            c += 1\n",
    "    return result"
   ]
  },
  {
   "cell_type": "code",
   "execution_count": 11,
   "id": "69a6ed17-1b0e-4b8f-84ab-553dda020dd9",
   "metadata": {},
   "outputs": [
    {
     "data": {
      "text/plain": [
       "[2, 5]"
      ]
     },
     "execution_count": 11,
     "metadata": {},
     "output_type": "execute_result"
    }
   ],
   "source": [
    "primeFactors(10)"
   ]
  },
  {
   "cell_type": "code",
   "execution_count": 17,
   "id": "28d1581e-5fc1-47fc-b6db-77f60f0b46a6",
   "metadata": {},
   "outputs": [
    {
     "data": {
      "text/plain": [
       "[2, 2, 2, 3, 5, 7, 29]"
      ]
     },
     "execution_count": 17,
     "metadata": {},
     "output_type": "execute_result"
    }
   ],
   "source": [
    "primeFactors(24360)"
   ]
  },
  {
   "cell_type": "code",
   "execution_count": 13,
   "id": "e26bffd9-0256-4af8-93fd-e8ddef2e2dc4",
   "metadata": {},
   "outputs": [],
   "source": [
    "#Sieb des Eratosthenes\n",
    "def pzSieb(n):\n",
    "    primes = []\n",
    "    numbers = list(range(2,n)) #Liste mit allen Zahlen bis n\n",
    "    c = 2\n",
    "    while c * c < n: #gleicher Effekt wie sqrt(n)\n",
    "        for k in range (c, n, c): #das \"c\" an dritter Stelle steht für die c-er - Schritte\n",
    "            if k in numbers:\n",
    "                numbers.remove(k)\n",
    "        primes.append(c)\n",
    "        c = numbers[0]\n",
    "    return primes + numbers"
   ]
  },
  {
   "cell_type": "code",
   "execution_count": 14,
   "id": "fa664945-0311-4a07-92a4-d07da15b921a",
   "metadata": {},
   "outputs": [
    {
     "data": {
      "text/plain": [
       "[2,\n",
       " 3,\n",
       " 5,\n",
       " 7,\n",
       " 11,\n",
       " 13,\n",
       " 17,\n",
       " 19,\n",
       " 23,\n",
       " 29,\n",
       " 31,\n",
       " 37,\n",
       " 41,\n",
       " 43,\n",
       " 47,\n",
       " 53,\n",
       " 59,\n",
       " 61,\n",
       " 67,\n",
       " 71,\n",
       " 73,\n",
       " 79,\n",
       " 83,\n",
       " 89,\n",
       " 97]"
      ]
     },
     "execution_count": 14,
     "metadata": {},
     "output_type": "execute_result"
    }
   ],
   "source": [
    "pzSieb(100)"
   ]
  }
 ],
 "metadata": {
  "kernelspec": {
   "display_name": "Python 3 (ipykernel)",
   "language": "python",
   "name": "python3"
  },
  "language_info": {
   "codemirror_mode": {
    "name": "ipython",
    "version": 3
   },
   "file_extension": ".py",
   "mimetype": "text/x-python",
   "name": "python",
   "nbconvert_exporter": "python",
   "pygments_lexer": "ipython3",
   "version": "3.9.12"
  }
 },
 "nbformat": 4,
 "nbformat_minor": 5
}
