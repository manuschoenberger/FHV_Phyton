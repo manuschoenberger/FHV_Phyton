{
 "cells": [
  {
   "cell_type": "code",
   "execution_count": 1,
   "id": "3df37166-2ace-4063-b957-ae0666bac65d",
   "metadata": {},
   "outputs": [],
   "source": [
    "#ggT ohne mod"
   ]
  },
  {
   "cell_type": "code",
   "execution_count": 2,
   "id": "2d861c85-fbb1-4c7b-9429-15e4593df49b",
   "metadata": {},
   "outputs": [],
   "source": [
    "def ggT(a,b):\n",
    "    while a != b:\n",
    "        if a < b:\n",
    "            a, b = b, a #tauscht a mit b\n",
    "        a = a - b\n",
    "    return a"
   ]
  },
  {
   "cell_type": "code",
   "execution_count": 3,
   "id": "1e74efd9-ebcc-4128-8077-a792884fab2f",
   "metadata": {},
   "outputs": [
    {
     "data": {
      "text/plain": [
       "25"
      ]
     },
     "execution_count": 3,
     "metadata": {},
     "output_type": "execute_result"
    }
   ],
   "source": [
    "ggT(400,225)"
   ]
  },
  {
   "cell_type": "code",
   "execution_count": 4,
   "id": "be76aeea-9b03-4b6f-8269-d54a20476f63",
   "metadata": {},
   "outputs": [],
   "source": [
    "# Erweiterung in Linearkombination, damit wir a und b herausbekommen (extggT)"
   ]
  },
  {
   "cell_type": "code",
   "execution_count": 5,
   "id": "34d84a05-610d-4d33-96f6-8ee0b95b71e2",
   "metadata": {},
   "outputs": [],
   "source": [
    "def extggT(a,b):\n",
    "    diffs = [] # here we store the differences between the single values \n",
    "    while a != b:\n",
    "        if b > a: # Warning! For practise we change the operator\n",
    "            a, b = b, a \n",
    "        diffs.append([a,b]) # add the two numbers \n",
    "        a = a - b\n",
    "        \n",
    "    # now calculate m and n s.t. (such that) d = m * a + n * b\n",
    "    d = a # this is the ggT!\n",
    "    m = 1\n",
    "    n = -1 # 1 and -1 stand for alpha and beta in 1 * a + (-1) * b\n",
    "    print(diffs)\n",
    "    a,b = diffs.pop() # [[..,..], [..,..], [50, 25] => a = 50, b = 25\n",
    "    for x,y in reversed(diffs): # now we let d = m * a + n * b true in each iteration\n",
    "        if y == a: # here we check if a or b was changed in the step\n",
    "            b = x\n",
    "            m -= n # increase the multiplyer of a (as n is negative)\n",
    "        else:\n",
    "            a = x\n",
    "            n -= m # decrease the multiplyer of b (as n is negative)\n",
    "    return [d, [m, a, n, b]]"
   ]
  },
  {
   "cell_type": "code",
   "execution_count": 6,
   "id": "0f553167-f9b3-4867-8f0d-43c522987562",
   "metadata": {},
   "outputs": [
    {
     "name": "stdout",
     "output_type": "stream",
     "text": [
      "[[400, 225], [225, 175], [175, 50], [125, 50], [75, 50], [50, 25]]\n"
     ]
    },
    {
     "data": {
      "text/plain": [
       "[25, [9, 225, -5, 400]]"
      ]
     },
     "execution_count": 6,
     "metadata": {},
     "output_type": "execute_result"
    }
   ],
   "source": [
    "extggT(400,225)"
   ]
  },
  {
   "cell_type": "code",
   "execution_count": 7,
   "id": "7ab6e57d-f4e7-479b-abfd-5f335b9113cb",
   "metadata": {},
   "outputs": [
    {
     "data": {
      "text/plain": [
       "25"
      ]
     },
     "execution_count": 7,
     "metadata": {},
     "output_type": "execute_result"
    }
   ],
   "source": [
    "9 * 225 - 5 * 400"
   ]
  },
  {
   "cell_type": "code",
   "execution_count": 8,
   "id": "f4340d27-0a6b-4549-b51c-736423e30787",
   "metadata": {},
   "outputs": [
    {
     "name": "stdout",
     "output_type": "stream",
     "text": [
      "[[400, 42], [358, 42], [316, 42], [274, 42], [232, 42], [190, 42], [148, 42], [106, 42], [64, 42], [42, 22], [22, 20], [20, 2], [18, 2], [16, 2], [14, 2], [12, 2], [10, 2], [8, 2], [6, 2], [4, 2]]\n"
     ]
    },
    {
     "data": {
      "text/plain": [
       "[2, [181, 42, -19, 400]]"
      ]
     },
     "execution_count": 8,
     "metadata": {},
     "output_type": "execute_result"
    }
   ],
   "source": [
    "extggT(400,42)"
   ]
  },
  {
   "cell_type": "code",
   "execution_count": 9,
   "id": "7b4ee0f2-2275-4841-8fdb-d41122b8fd98",
   "metadata": {},
   "outputs": [
    {
     "data": {
      "text/plain": [
       "2"
      ]
     },
     "execution_count": 9,
     "metadata": {},
     "output_type": "execute_result"
    }
   ],
   "source": [
    "181 * 42 - 19 * 400"
   ]
  },
  {
   "cell_type": "code",
   "execution_count": 10,
   "id": "e2a6cbd3-f074-4552-beaf-78e8fa47864b",
   "metadata": {},
   "outputs": [],
   "source": [
    "# Erweiterte Algorithmus von Euklid"
   ]
  },
  {
   "cell_type": "code",
   "execution_count": 11,
   "id": "a6cfb56e-84d7-48e2-937e-9c4f8ba18601",
   "metadata": {},
   "outputs": [
    {
     "name": "stdout",
     "output_type": "stream",
     "text": [
      "[[6, 5], [5, 1], [4, 1], [3, 1], [2, 1]]\n"
     ]
    },
    {
     "data": {
      "text/plain": [
       "[1, [5, 5, -4, 6]]"
      ]
     },
     "execution_count": 11,
     "metadata": {},
     "output_type": "execute_result"
    }
   ],
   "source": [
    "extggT(5,6)"
   ]
  },
  {
   "cell_type": "code",
   "execution_count": 12,
   "id": "e1bb1034-182f-462c-81e3-923c5bc0d769",
   "metadata": {},
   "outputs": [
    {
     "data": {
      "text/plain": [
       "1"
      ]
     },
     "execution_count": 12,
     "metadata": {},
     "output_type": "execute_result"
    }
   ],
   "source": [
    "# d = m * a + n * b [d, [m, a, n, b]]\n",
    "5 * 5 + -4 * 6"
   ]
  },
  {
   "cell_type": "code",
   "execution_count": 13,
   "id": "f9323c49-b292-42dc-ac3b-66bbe6196c01",
   "metadata": {},
   "outputs": [],
   "source": [
    "#Nebenrechnungen"
   ]
  },
  {
   "cell_type": "code",
   "execution_count": 14,
   "id": "1980e1aa-135a-494e-becb-ca3b87c55ba3",
   "metadata": {},
   "outputs": [
    {
     "name": "stdout",
     "output_type": "stream",
     "text": [
      "[[850, 187], [663, 187], [476, 187], [289, 187], [187, 102], [102, 85], [85, 17], [68, 17], [51, 17], [34, 17]]\n"
     ]
    },
    {
     "data": {
      "text/plain": [
       "[17, [41, 187, -9, 850]]"
      ]
     },
     "execution_count": 14,
     "metadata": {},
     "output_type": "execute_result"
    }
   ],
   "source": [
    "extggT(850,187)"
   ]
  },
  {
   "cell_type": "code",
   "execution_count": 15,
   "id": "788cc313-2a84-41e1-9677-ed8fec6a8988",
   "metadata": {},
   "outputs": [
    {
     "name": "stdout",
     "output_type": "stream",
     "text": [
      "[[233, 144], [144, 89], [89, 55], [55, 34], [34, 21], [21, 13], [13, 8], [8, 5], [5, 3], [3, 2], [2, 1]]\n"
     ]
    },
    {
     "data": {
      "text/plain": [
       "[1, [89, 233, -144, 144]]"
      ]
     },
     "execution_count": 15,
     "metadata": {},
     "output_type": "execute_result"
    }
   ],
   "source": [
    "extggT(233,144)"
   ]
  },
  {
   "cell_type": "code",
   "execution_count": 16,
   "id": "916ec33d-f6a4-4fe1-86df-531daa8c7fc4",
   "metadata": {},
   "outputs": [
    {
     "name": "stdout",
     "output_type": "stream",
     "text": [
      "[[520, 340], [340, 180], [180, 160], [160, 20], [140, 20], [120, 20], [100, 20], [80, 20], [60, 20], [40, 20]]\n"
     ]
    },
    {
     "data": {
      "text/plain": [
       "[20, [23, 340, -15, 520]]"
      ]
     },
     "execution_count": 16,
     "metadata": {},
     "output_type": "execute_result"
    }
   ],
   "source": [
    "extggT(520,340)"
   ]
  },
  {
   "cell_type": "code",
   "execution_count": 17,
   "id": "8b51d2db-c779-4cbd-9b38-397b94f4828b",
   "metadata": {},
   "outputs": [
    {
     "name": "stdout",
     "output_type": "stream",
     "text": [
      "[[11, 10], [10, 1], [9, 1], [8, 1], [7, 1], [6, 1], [5, 1], [4, 1], [3, 1], [2, 1]]\n"
     ]
    },
    {
     "data": {
      "text/plain": [
       "[1, [10, 10, -9, 11]]"
      ]
     },
     "execution_count": 17,
     "metadata": {},
     "output_type": "execute_result"
    }
   ],
   "source": [
    "extggT(10,11)"
   ]
  }
 ],
 "metadata": {
  "kernelspec": {
   "display_name": "Python 3 (ipykernel)",
   "language": "python",
   "name": "python3"
  },
  "language_info": {
   "codemirror_mode": {
    "name": "ipython",
    "version": 3
   },
   "file_extension": ".py",
   "mimetype": "text/x-python",
   "name": "python",
   "nbconvert_exporter": "python",
   "pygments_lexer": "ipython3",
   "version": "3.9.12"
  }
 },
 "nbformat": 4,
 "nbformat_minor": 5
}
