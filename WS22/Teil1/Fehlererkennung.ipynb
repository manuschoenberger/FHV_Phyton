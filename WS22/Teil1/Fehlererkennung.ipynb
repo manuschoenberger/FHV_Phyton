{
 "cells": [
  {
   "cell_type": "code",
   "execution_count": 1,
   "id": "069ca56b-efb8-4b11-89a9-039c4d499292",
   "metadata": {},
   "outputs": [],
   "source": [
    "#Fehlererkennung einer ISBN - Nummer"
   ]
  },
  {
   "cell_type": "code",
   "execution_count": 2,
   "id": "a38289b3-d244-432c-966f-a9df0f04e945",
   "metadata": {},
   "outputs": [],
   "source": [
    "def checkISBN(digits): #e.g. digits = \"123456789\"\n",
    "    factor = 1\n",
    "    sum = 0 #\"sum\" ist zwar ein befehl, aber wird hier mit = 0 überschrieben und sum wird zu einer Variable\n",
    "    for digit in digits:\n",
    "        sum += factor * int(digit) \n",
    "        factor += 1\n",
    "    return(sum % 11)"
   ]
  },
  {
   "cell_type": "code",
   "execution_count": 3,
   "id": "cb2e9c89-bfee-4603-a984-fedf6d3f099d",
   "metadata": {},
   "outputs": [
    {
     "data": {
      "text/plain": [
       "4"
      ]
     },
     "execution_count": 3,
     "metadata": {},
     "output_type": "execute_result"
    }
   ],
   "source": [
    "checkISBN(\"148421177\")"
   ]
  },
  {
   "cell_type": "code",
   "execution_count": 4,
   "id": "16569e69-6487-4f10-8459-67e2317b0bd5",
   "metadata": {},
   "outputs": [],
   "source": [
    "#Rechnen mit String"
   ]
  },
  {
   "cell_type": "code",
   "execution_count": 5,
   "id": "e4b19c6f-baa3-4244-b2e6-546ce9ef1f2c",
   "metadata": {},
   "outputs": [
    {
     "name": "stdout",
     "output_type": "stream",
     "text": [
      "1\n",
      "2\n",
      "3\n"
     ]
    }
   ],
   "source": [
    "input = \"123\"\n",
    "for digit in input:\n",
    "    print(digit) "
   ]
  },
  {
   "cell_type": "code",
   "execution_count": 6,
   "id": "fecf588c-4de4-4463-9a9a-7215c021ca42",
   "metadata": {},
   "outputs": [
    {
     "name": "stdout",
     "output_type": "stream",
     "text": [
      "11\n",
      "22\n",
      "33\n"
     ]
    }
   ],
   "source": [
    "input = \"123\"\n",
    "for digit in input:\n",
    "    print(digit * 2) "
   ]
  },
  {
   "cell_type": "code",
   "execution_count": 7,
   "id": "0a5d2758-6549-4c99-83fb-d332f0243c6f",
   "metadata": {},
   "outputs": [
    {
     "name": "stdout",
     "output_type": "stream",
     "text": [
      "2\n",
      "4\n",
      "6\n"
     ]
    }
   ],
   "source": [
    "input = \"123\"\n",
    "for digit in input:\n",
    "    print(int(digit)* 2) "
   ]
  },
  {
   "cell_type": "code",
   "execution_count": 8,
   "id": "2eeba232-8b20-4f83-9d2e-40931a2be2dc",
   "metadata": {},
   "outputs": [],
   "source": [
    "#Zusätzliche Erklärung zum \"sum\" Befehl"
   ]
  },
  {
   "cell_type": "code",
   "execution_count": 9,
   "id": "84df2b61-5269-49ab-8f6e-5217e8a134cc",
   "metadata": {},
   "outputs": [
    {
     "data": {
      "text/plain": [
       "<function sum(iterable, /, start=0)>"
      ]
     },
     "execution_count": 9,
     "metadata": {},
     "output_type": "execute_result"
    }
   ],
   "source": [
    "sum"
   ]
  },
  {
   "cell_type": "code",
   "execution_count": 10,
   "id": "9b7a80d1-7a93-4679-b9b0-520ae2679c75",
   "metadata": {},
   "outputs": [
    {
     "data": {
      "text/plain": [
       "10"
      ]
     },
     "execution_count": 10,
     "metadata": {},
     "output_type": "execute_result"
    }
   ],
   "source": [
    "sum([1,2,3,4])"
   ]
  }
 ],
 "metadata": {
  "kernelspec": {
   "display_name": "Python 3 (ipykernel)",
   "language": "python",
   "name": "python3"
  },
  "language_info": {
   "codemirror_mode": {
    "name": "ipython",
    "version": 3
   },
   "file_extension": ".py",
   "mimetype": "text/x-python",
   "name": "python",
   "nbconvert_exporter": "python",
   "pygments_lexer": "ipython3",
   "version": "3.9.12"
  }
 },
 "nbformat": 4,
 "nbformat_minor": 5
}
