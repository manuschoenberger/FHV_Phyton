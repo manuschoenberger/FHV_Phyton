{
 "cells": [
  {
   "cell_type": "code",
   "execution_count": 1,
   "id": "eb5e8207-4533-4482-b717-d1c7b7109c37",
   "metadata": {},
   "outputs": [],
   "source": [
    "# Dezimalzahl in eine Binärzahl umwandeln\n",
    "# wiederholte Division mit Rest"
   ]
  },
  {
   "cell_type": "code",
   "execution_count": 4,
   "id": "aa2ab80f-289d-4cb8-8cd9-d8b91e43cbd7",
   "metadata": {},
   "outputs": [],
   "source": [
    "def dec2bin(number):\n",
    "    \"\"\"\n",
    "    Wandelt eine Dezimalzahl in eine Binärzahl um.\n",
    "    number = Dezimalzahl (z.B.: 13) \n",
    "    Rückgabewert: Liste an Ziffern.\n",
    "    \"\"\"\n",
    "    # []... leere Liste\n",
    "    digits = []\n",
    "    \n",
    "    while True:\n",
    "        # modulo: Das gibt uns den Rest zurück, Symbol: %\n",
    "        rest = number % 2\n",
    "        \n",
    "        # // steht für die ganzzahlige Division\n",
    "        quotient = number // 2\n",
    "    \n",
    "        # .append hängt ein Element an die Liste dran.\n",
    "        digits.append(rest)\n",
    "        \n",
    "        # wir rechnen mit dem Quotienten weiter.\n",
    "        number = quotient\n",
    "        \n",
    "        if quotient == 0:\n",
    "            # break: Bricht die Schleife ab.\n",
    "            break   \n",
    "               \n",
    "    #.reverse dreht die Liste um.\n",
    "    digits.reverse()\n",
    "    \n",
    "    return digits"
   ]
  },
  {
   "cell_type": "code",
   "execution_count": 5,
   "id": "b7db5c0e-997c-4cf6-b2d7-650a59e6e95a",
   "metadata": {},
   "outputs": [
    {
     "data": {
      "text/plain": [
       "[1, 1, 0, 1]"
      ]
     },
     "execution_count": 5,
     "metadata": {},
     "output_type": "execute_result"
    }
   ],
   "source": [
    "dec2bin(13)"
   ]
  },
  {
   "cell_type": "code",
   "execution_count": 2,
   "id": "a7bc4955-364d-488a-9761-4fd9afd41bab",
   "metadata": {},
   "outputs": [],
   "source": [
    "def dec2bin(number):\n",
    "    digits = []\n",
    "    \n",
    "    while True:\n",
    "        rest = number % 2   \n",
    "        quotient = number // 2\n",
    "        \n",
    "        digits.append(rest)     \n",
    "        number = quotient\n",
    "        \n",
    "        if quotient == 0:\n",
    "            break   \n",
    "               \n",
    "    digits.reverse()\n",
    "    \n",
    "    return digits"
   ]
  },
  {
   "cell_type": "code",
   "execution_count": 3,
   "id": "f9da2841-3bf0-43cb-84e0-d29d2cc51b16",
   "metadata": {},
   "outputs": [
    {
     "data": {
      "text/plain": [
       "[1, 1, 0, 1]"
      ]
     },
     "execution_count": 3,
     "metadata": {},
     "output_type": "execute_result"
    }
   ],
   "source": [
    "dec2bin(13)"
   ]
  }
 ],
 "metadata": {
  "kernelspec": {
   "display_name": "Python 3 (ipykernel)",
   "language": "python",
   "name": "python3"
  },
  "language_info": {
   "codemirror_mode": {
    "name": "ipython",
    "version": 3
   },
   "file_extension": ".py",
   "mimetype": "text/x-python",
   "name": "python",
   "nbconvert_exporter": "python",
   "pygments_lexer": "ipython3",
   "version": "3.9.12"
  }
 },
 "nbformat": 4,
 "nbformat_minor": 5
}
