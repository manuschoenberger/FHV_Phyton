{
 "cells": [
  {
   "cell_type": "code",
   "execution_count": 40,
   "id": "e394f043-caac-41a5-b488-8937a7ec3d30",
   "metadata": {},
   "outputs": [],
   "source": [
    "# Tipps und Tricks in Python Nr. 1"
   ]
  },
  {
   "cell_type": "code",
   "execution_count": null,
   "id": "82cc7fd9-1a19-4732-8984-7d63ba9814a4",
   "metadata": {},
   "outputs": [],
   "source": [
    "# \"Random\" - Befehl"
   ]
  },
  {
   "cell_type": "code",
   "execution_count": 41,
   "id": "93a30e39-4ee7-4d88-8987-dc3f8cff49a2",
   "metadata": {},
   "outputs": [
    {
     "name": "stdout",
     "output_type": "stream",
     "text": [
      "Koch heute Spaghetti Bolognese\n"
     ]
    }
   ],
   "source": [
    "# Was soll ich heute kochen?\n",
    "print(\"Koch heute Spaghetti Bolognese\")"
   ]
  },
  {
   "cell_type": "code",
   "execution_count": 42,
   "id": "871c8d74-7028-4f38-91cf-ed2ba452d878",
   "metadata": {},
   "outputs": [],
   "source": [
    "# Immer gleiches Ergebnis (Spaghetti Bolognese)"
   ]
  },
  {
   "cell_type": "code",
   "execution_count": 52,
   "id": "7b160147-eb03-499d-9097-fd880f0b0bd4",
   "metadata": {},
   "outputs": [
    {
     "name": "stdout",
     "output_type": "stream",
     "text": [
      "Koch heute Spaghetti Bolognese.\n"
     ]
    }
   ],
   "source": [
    "# Gleich wie vorhin, mit Variable recipe_name: \"Spaghetti Bolognese\"\n",
    "\n",
    "recipe_name = \"Spaghetti Bolognese\"\n",
    "print(\"Koch heute {0}.\".format(recipe_name))"
   ]
  },
  {
   "cell_type": "code",
   "execution_count": 53,
   "id": "a6452a58-b3ef-4a41-8202-01b3daa323c3",
   "metadata": {},
   "outputs": [
    {
     "name": "stdout",
     "output_type": "stream",
     "text": [
      "Koch heute Lasagne.\n"
     ]
    }
   ],
   "source": [
    "# mit Variable recipe_name: \"Lasagne\"\n",
    "\n",
    "recipe_name = \"Lasagne\"\n",
    "print(\"Koch heute {0}.\".format(recipe_name))"
   ]
  },
  {
   "cell_type": "code",
   "execution_count": null,
   "id": "890759fa-4eec-4fb0-aa39-2db2ee9a0a37",
   "metadata": {},
   "outputs": [],
   "source": [
    "# Wir importieren den Code für Befehl \"Random\""
   ]
  },
  {
   "cell_type": "code",
   "execution_count": 65,
   "id": "6f4bb4aa-8407-40ca-b6e0-4a9d49e64f5b",
   "metadata": {},
   "outputs": [
    {
     "name": "stdout",
     "output_type": "stream",
     "text": [
      "Koch heute Lasagne.\n"
     ]
    }
   ],
   "source": [
    "import random\n",
    "\n",
    "recipes = [\"Spaghetti Bolognese\", \"Lasagne\", \"Penne\"]\n",
    "recipe_name = random.choice(recipes)\n",
    "print(\"Koch heute {0}.\".format(recipe_name))"
   ]
  },
  {
   "cell_type": "code",
   "execution_count": 49,
   "id": "1f6221ae-f81b-498c-b76a-07297895d867",
   "metadata": {},
   "outputs": [
    {
     "name": "stdout",
     "output_type": "stream",
     "text": [
      "Koch heute Spaghetti Bolognese.\n"
     ]
    }
   ],
   "source": [
    "recipes = [\"Spaghetti Bolognese\", \"Lasagne\", \"Penne\"]\n",
    "recipe_name = random.choice(recipes)\n",
    "print(\"Koch heute {0}.\".format(recipe_name))"
   ]
  },
  {
   "cell_type": "code",
   "execution_count": 50,
   "id": "d0b50acc-5e53-4241-a104-91b8dd81bb17",
   "metadata": {},
   "outputs": [
    {
     "name": "stdout",
     "output_type": "stream",
     "text": [
      "Koch heute Penne.\n"
     ]
    }
   ],
   "source": [
    "recipes = [\"Spaghetti Bolognese\", \"Lasagne\", \"Penne\"]\n",
    "recipe_name = random.choice(recipes)\n",
    "print(\"Koch heute {0}.\".format(recipe_name))"
   ]
  },
  {
   "cell_type": "code",
   "execution_count": 69,
   "id": "4c556d69-d43f-4909-b018-73dc2d7f0389",
   "metadata": {},
   "outputs": [
    {
     "name": "stdout",
     "output_type": "stream",
     "text": [
      "Koch heute Penne.\n"
     ]
    }
   ],
   "source": [
    "# \"random\" zu \"r\" kürzen\n",
    "\n",
    "import random as r\n",
    "\n",
    "recipes = [\"Spaghetti Bolognese\", \"Lasagne\", \"Penne\"]\n",
    "recipe_name = r.choice(recipes)\n",
    "print(\"Koch heute {0}.\".format(recipe_name))"
   ]
  },
  {
   "cell_type": "code",
   "execution_count": 74,
   "id": "df3f3a8f-abd3-438e-aa39-e6103f1f59a1",
   "metadata": {},
   "outputs": [],
   "source": [
    "# Dezimalzahl als Binärzahl ausgeben"
   ]
  },
  {
   "cell_type": "code",
   "execution_count": 73,
   "id": "48eab8a8-1ab7-418b-aaf1-3bf9720e70c4",
   "metadata": {},
   "outputs": [
    {
     "name": "stdout",
     "output_type": "stream",
     "text": [
      "1000\n"
     ]
    }
   ],
   "source": [
    "print(\"{0:b}\".format(8))"
   ]
  },
  {
   "cell_type": "code",
   "execution_count": 75,
   "id": "e9f95b36-a6e8-4620-be69-bf5ccc9efb2c",
   "metadata": {},
   "outputs": [
    {
     "data": {
      "text/plain": [
       "'0b1000'"
      ]
     },
     "execution_count": 75,
     "metadata": {},
     "output_type": "execute_result"
    }
   ],
   "source": [
    "bin(8)"
   ]
  },
  {
   "cell_type": "code",
   "execution_count": 77,
   "id": "c1780f10-50ff-46cc-83a4-42ad63af1602",
   "metadata": {},
   "outputs": [],
   "source": [
    "# Summe aller zahlen von 1 bis 20"
   ]
  },
  {
   "cell_type": "code",
   "execution_count": 80,
   "id": "94a397fd-28f8-4bc8-8cb2-2e4c81c22c95",
   "metadata": {},
   "outputs": [
    {
     "name": "stdout",
     "output_type": "stream",
     "text": [
      "1\n",
      "2\n",
      "3\n",
      "4\n",
      "5\n",
      "6\n",
      "7\n",
      "8\n",
      "9\n",
      "10\n",
      "11\n",
      "12\n",
      "13\n",
      "14\n",
      "15\n",
      "16\n",
      "17\n",
      "18\n",
      "19\n",
      "20\n",
      "210\n"
     ]
    }
   ],
   "source": [
    "# Als while-Schleife\n",
    "\n",
    "i = 0 # i... Index\n",
    "sum = 0\n",
    "\n",
    "while i < 20:\n",
    "        i += 1\n",
    "        print (i)\n",
    "        sum += i\n",
    "          \n",
    "# 20*10/2 = kleiner gauss, gaussche summenformel = n*(n+1)/2\n",
    "print(sum)"
   ]
  },
  {
   "cell_type": "code",
   "execution_count": 31,
   "id": "0341477c-7374-4c9b-8ae1-04aa5577ce0b",
   "metadata": {},
   "outputs": [
    {
     "name": "stdout",
     "output_type": "stream",
     "text": [
      "[0, 1, 2, 3, 4, 5, 6, 7, 8, 9, 10, 11, 12, 13, 14, 15, 16, 17, 18, 19]\n"
     ]
    }
   ],
   "source": [
    "print(list(range(20)))"
   ]
  },
  {
   "cell_type": "code",
   "execution_count": 79,
   "id": "878647dd-9b4f-4e5a-92d2-cdd44c5d2fc0",
   "metadata": {},
   "outputs": [
    {
     "name": "stdout",
     "output_type": "stream",
     "text": [
      "210\n"
     ]
    }
   ],
   "source": [
    "# Als for-Schleife\n",
    "\n",
    "sum = 0\n",
    "for value in range(21):\n",
    "    sum = sum + value\n",
    "    \n",
    "print(sum)"
   ]
  },
  {
   "cell_type": "code",
   "execution_count": 82,
   "id": "1e91e73a-0736-4af4-b390-e084700c2adf",
   "metadata": {},
   "outputs": [
    {
     "name": "stdout",
     "output_type": "stream",
     "text": [
      "Summe bis Index 0: 0\n",
      "Summe bis Index 1: 1\n",
      "Summe bis Index 2: 3\n",
      "Summe bis Index 3: 6\n",
      "Summe bis Index 4: 10\n",
      "Summe bis Index 5: 15\n",
      "Summe bis Index 6: 21\n",
      "Summe bis Index 7: 28\n",
      "Summe bis Index 8: 36\n",
      "Summe bis Index 9: 45\n",
      "Summe bis Index 10: 55\n",
      "Summe bis Index 11: 66\n",
      "Summe bis Index 12: 78\n",
      "Summe bis Index 13: 91\n",
      "Summe bis Index 14: 105\n",
      "Summe bis Index 15: 120\n",
      "Summe bis Index 16: 136\n",
      "Summe bis Index 17: 153\n",
      "Summe bis Index 18: 171\n",
      "Summe bis Index 19: 190\n",
      "Summe bis Index 20: 210\n",
      "210\n"
     ]
    }
   ],
   "source": [
    "# Enumerate Befehl\n",
    "\n",
    "sum = 0\n",
    "for index, value in enumerate(range(21)): # Index fängt bei 0 an und geht bis 20\n",
    "    sum = sum + value\n",
    "    print(\"Summe bis Index {0}: {1}\".format(index, sum))\n",
    "    \n",
    "print(sum)"
   ]
  },
  {
   "cell_type": "code",
   "execution_count": 83,
   "id": "ca489e7e-3c4c-4311-80e8-de1d770e4b5a",
   "metadata": {},
   "outputs": [],
   "source": [
    "# Beispiele mit Zeichenketten"
   ]
  },
  {
   "cell_type": "code",
   "execution_count": 35,
   "id": "6f82454d-a440-48e8-b48c-4fffc88d897f",
   "metadata": {},
   "outputs": [
    {
     "name": "stdout",
     "output_type": "stream",
     "text": [
      "1\n",
      "2\n",
      "3\n",
      "4\n"
     ]
    }
   ],
   "source": [
    "for char in \"1234\":\n",
    "    print(char)"
   ]
  },
  {
   "cell_type": "code",
   "execution_count": 37,
   "id": "592346b8-c59b-4117-bffa-95f3c6a2e926",
   "metadata": {},
   "outputs": [
    {
     "name": "stdout",
     "output_type": "stream",
     "text": [
      "1a\n",
      "2a\n",
      "3a\n",
      "4a\n"
     ]
    }
   ],
   "source": [
    "for char in \"1234\":\n",
    "    print(char + \"a\")"
   ]
  },
  {
   "cell_type": "code",
   "execution_count": 84,
   "id": "ff424842-02f9-49e6-b564-3f045823e746",
   "metadata": {},
   "outputs": [
    {
     "name": "stdout",
     "output_type": "stream",
     "text": [
      "4\n",
      "5\n",
      "6\n",
      "7\n"
     ]
    }
   ],
   "source": [
    "for char in \"1234\":\n",
    "    print(int(char) + 3) # Zählt zu den int Werten der Zeichenkette +3 jeweils dazu"
   ]
  },
  {
   "cell_type": "code",
   "execution_count": 85,
   "id": "60032471-5091-489c-836f-0eb2f4d4166e",
   "metadata": {},
   "outputs": [
    {
     "name": "stdout",
     "output_type": "stream",
     "text": [
      "4\n",
      "5\n"
     ]
    }
   ],
   "source": [
    "for char in \"12A34\":\n",
    "    if char == \"A\":\n",
    "        break\n",
    "        \n",
    "    print(int(char) + 3)"
   ]
  },
  {
   "cell_type": "code",
   "execution_count": 86,
   "id": "3762639b-fa00-4960-8a43-6d7bb79bc328",
   "metadata": {},
   "outputs": [],
   "source": [
    "# Schleife nimmt nur 1 und 2 auf und zählt jeweils +3 dazu"
   ]
  }
 ],
 "metadata": {
  "kernelspec": {
   "display_name": "Python 3 (ipykernel)",
   "language": "python",
   "name": "python3"
  },
  "language_info": {
   "codemirror_mode": {
    "name": "ipython",
    "version": 3
   },
   "file_extension": ".py",
   "mimetype": "text/x-python",
   "name": "python",
   "nbconvert_exporter": "python",
   "pygments_lexer": "ipython3",
   "version": "3.9.12"
  }
 },
 "nbformat": 4,
 "nbformat_minor": 5
}
