{
 "cells": [
  {
   "cell_type": "code",
   "execution_count": 1,
   "id": "16754cbb-ef0e-427b-a53d-e7aa320d62f4",
   "metadata": {},
   "outputs": [],
   "source": [
    "#Uebungsblatt 6"
   ]
  },
  {
   "cell_type": "code",
   "execution_count": 2,
   "id": "74ce1d59-8afa-468d-9803-466e0489cf80",
   "metadata": {},
   "outputs": [],
   "source": [
    "#Aufgabe 2"
   ]
  },
  {
   "cell_type": "code",
   "execution_count": 3,
   "id": "756016e3-026f-4f94-a788-3cef06d6143e",
   "metadata": {},
   "outputs": [],
   "source": [
    "def disjunktion(a,b):\n",
    "    if not a:\n",
    "        if not b:\n",
    "            return False\n",
    "    return True"
   ]
  },
  {
   "cell_type": "code",
   "execution_count": 4,
   "id": "e990e621-8645-46ac-a1d9-4c37a87f54e6",
   "metadata": {},
   "outputs": [
    {
     "data": {
      "text/plain": [
       "True"
      ]
     },
     "execution_count": 4,
     "metadata": {},
     "output_type": "execute_result"
    }
   ],
   "source": [
    "disjunktion(True, True)"
   ]
  },
  {
   "cell_type": "code",
   "execution_count": 5,
   "id": "4afb3bed-1cd5-4f18-8da0-47979e7c56f6",
   "metadata": {},
   "outputs": [
    {
     "data": {
      "text/plain": [
       "True"
      ]
     },
     "execution_count": 5,
     "metadata": {},
     "output_type": "execute_result"
    }
   ],
   "source": [
    "disjunktion(True, False)"
   ]
  },
  {
   "cell_type": "code",
   "execution_count": 6,
   "id": "7f311426-3757-4cb2-9c0e-92aa32de4b23",
   "metadata": {},
   "outputs": [
    {
     "data": {
      "text/plain": [
       "True"
      ]
     },
     "execution_count": 6,
     "metadata": {},
     "output_type": "execute_result"
    }
   ],
   "source": [
    "disjunktion(False, True)"
   ]
  },
  {
   "cell_type": "code",
   "execution_count": 7,
   "id": "06d4df53-851d-4a99-927e-7c9756f9d5ea",
   "metadata": {},
   "outputs": [
    {
     "data": {
      "text/plain": [
       "False"
      ]
     },
     "execution_count": 7,
     "metadata": {},
     "output_type": "execute_result"
    }
   ],
   "source": [
    "disjunktion(False, False)"
   ]
  },
  {
   "cell_type": "code",
   "execution_count": 8,
   "id": "08f758a4-39b0-40f3-b208-4409d0e305fe",
   "metadata": {},
   "outputs": [],
   "source": [
    "def negation(a):\n",
    "    if a:\n",
    "        return False\n",
    "    return True"
   ]
  },
  {
   "cell_type": "code",
   "execution_count": 9,
   "id": "f5f7e5e4-c99e-48f1-9147-de81fa42f0eb",
   "metadata": {},
   "outputs": [
    {
     "data": {
      "text/plain": [
       "False"
      ]
     },
     "execution_count": 9,
     "metadata": {},
     "output_type": "execute_result"
    }
   ],
   "source": [
    "negation(True)"
   ]
  },
  {
   "cell_type": "code",
   "execution_count": 10,
   "id": "ad9b241e-0111-45a5-b4e4-4fd0f6024125",
   "metadata": {},
   "outputs": [
    {
     "data": {
      "text/plain": [
       "True"
      ]
     },
     "execution_count": 10,
     "metadata": {},
     "output_type": "execute_result"
    }
   ],
   "source": [
    "negation(False)"
   ]
  },
  {
   "cell_type": "code",
   "execution_count": 11,
   "id": "1c22c3a2-caba-4f58-a771-b56ae0a7257e",
   "metadata": {},
   "outputs": [],
   "source": [
    "def implikation(a,b):\n",
    "    if a:\n",
    "        if not b:\n",
    "            return False\n",
    "    return True"
   ]
  },
  {
   "cell_type": "code",
   "execution_count": 12,
   "id": "4e9ebea7-3462-447b-9af7-d7ea17451063",
   "metadata": {},
   "outputs": [
    {
     "data": {
      "text/plain": [
       "True"
      ]
     },
     "execution_count": 12,
     "metadata": {},
     "output_type": "execute_result"
    }
   ],
   "source": [
    "implikation(True, True)"
   ]
  },
  {
   "cell_type": "code",
   "execution_count": 13,
   "id": "f15b1d8e-f2fa-4306-a745-baed919c07eb",
   "metadata": {},
   "outputs": [
    {
     "data": {
      "text/plain": [
       "False"
      ]
     },
     "execution_count": 13,
     "metadata": {},
     "output_type": "execute_result"
    }
   ],
   "source": [
    "implikation(True, False)"
   ]
  },
  {
   "cell_type": "code",
   "execution_count": 14,
   "id": "504fba7c-2435-47bc-b00f-1ace4d15804c",
   "metadata": {},
   "outputs": [
    {
     "data": {
      "text/plain": [
       "True"
      ]
     },
     "execution_count": 14,
     "metadata": {},
     "output_type": "execute_result"
    }
   ],
   "source": [
    "implikation(False, True)"
   ]
  },
  {
   "cell_type": "code",
   "execution_count": 15,
   "id": "e1244016-2074-42f3-ad30-8fac0dd3bb86",
   "metadata": {},
   "outputs": [
    {
     "data": {
      "text/plain": [
       "True"
      ]
     },
     "execution_count": 15,
     "metadata": {},
     "output_type": "execute_result"
    }
   ],
   "source": [
    "implikation(False, False)"
   ]
  },
  {
   "cell_type": "code",
   "execution_count": 16,
   "id": "e21b43e7-ca28-4718-93ac-229af83676cd",
   "metadata": {},
   "outputs": [],
   "source": [
    "def aequivalenz(a,b):\n",
    "    if a == b:\n",
    "        return True\n",
    "    return False"
   ]
  },
  {
   "cell_type": "code",
   "execution_count": 17,
   "id": "6ee23020-b0e6-44ef-9aec-935d6e218254",
   "metadata": {},
   "outputs": [
    {
     "data": {
      "text/plain": [
       "True"
      ]
     },
     "execution_count": 17,
     "metadata": {},
     "output_type": "execute_result"
    }
   ],
   "source": [
    "aequivalenz(True, True)"
   ]
  },
  {
   "cell_type": "code",
   "execution_count": 18,
   "id": "e02ae185-3ede-4d54-bd87-f182252db4e7",
   "metadata": {},
   "outputs": [
    {
     "data": {
      "text/plain": [
       "False"
      ]
     },
     "execution_count": 18,
     "metadata": {},
     "output_type": "execute_result"
    }
   ],
   "source": [
    "aequivalenz(True, False)"
   ]
  },
  {
   "cell_type": "code",
   "execution_count": 19,
   "id": "f0a60e5c-7ed1-41f3-9c68-50ad78ba433f",
   "metadata": {},
   "outputs": [
    {
     "data": {
      "text/plain": [
       "False"
      ]
     },
     "execution_count": 19,
     "metadata": {},
     "output_type": "execute_result"
    }
   ],
   "source": [
    "aequivalenz(False, True)"
   ]
  },
  {
   "cell_type": "code",
   "execution_count": 20,
   "id": "801fc578-256c-42d5-a67e-f84e255404b3",
   "metadata": {},
   "outputs": [
    {
     "data": {
      "text/plain": [
       "True"
      ]
     },
     "execution_count": 20,
     "metadata": {},
     "output_type": "execute_result"
    }
   ],
   "source": [
    "aequivalenz(False, False)"
   ]
  },
  {
   "cell_type": "code",
   "execution_count": 21,
   "id": "0d42b988-2bf8-4293-a028-9b435a5ec500",
   "metadata": {},
   "outputs": [],
   "source": [
    "#Aufgabe 9"
   ]
  },
  {
   "cell_type": "code",
   "execution_count": 22,
   "id": "ea235d5c-1b40-4632-846f-bcc92231a917",
   "metadata": {},
   "outputs": [
    {
     "name": "stdout",
     "output_type": "stream",
     "text": [
      "1. Formel:\n",
      "True\n",
      "True\n",
      "True\n",
      "False\n",
      "False\n",
      "False\n",
      "False\n",
      "False\n",
      "\n",
      "2. Formel:\n",
      "True\n",
      "True\n",
      "True\n",
      "False\n",
      "False\n",
      "False\n",
      "False\n",
      "False\n"
     ]
    }
   ],
   "source": [
    "a = []\n",
    "for p in [True, False]:\n",
    "    for q in [True, False]: \n",
    "        for r in [True, False]: \n",
    "            a.append([p, q, r])\n",
    "\n",
    "print ('1. Formel:')\n",
    "\n",
    "for p, q, r in a:\n",
    "    print (p & (q or r))\n",
    "\n",
    "print ('\\n2. Formel:')    \n",
    "\n",
    "for p, q, r in a:\n",
    "    print ((p & q) or (p & r))"
   ]
  },
  {
   "cell_type": "code",
   "execution_count": 23,
   "id": "022f020a-d171-45df-89aa-88efd26c5213",
   "metadata": {},
   "outputs": [
    {
     "name": "stdout",
     "output_type": "stream",
     "text": [
      "1. Formel:\n",
      "False\n",
      "True\n",
      "True\n",
      "True\n",
      "\n",
      "2. Formel:\n",
      "False\n",
      "True\n",
      "True\n",
      "True\n"
     ]
    }
   ],
   "source": [
    "b = []\n",
    "for p in [True, False]:\n",
    "    for q in [True, False]:  \n",
    "        b.append([p, q])\n",
    "\n",
    "print ('1. Formel:')\n",
    "\n",
    "for p, q in b:\n",
    "    print (not (p & q))\n",
    "\n",
    "print ('\\n2. Formel:')    \n",
    "\n",
    "for p, q in b:\n",
    "    print ((not p) or (not q))"
   ]
  },
  {
   "cell_type": "code",
   "execution_count": 24,
   "id": "f18308ab-35a9-4e72-8470-37caeae43e1b",
   "metadata": {},
   "outputs": [],
   "source": [
    "#Aufgabe 10"
   ]
  },
  {
   "cell_type": "code",
   "execution_count": 25,
   "id": "b9b0193c-8821-4c73-81ab-4ba43ba77837",
   "metadata": {},
   "outputs": [],
   "source": [
    "def Allquantor(A, M):\n",
    "    for m in M:\n",
    "        if not A(m):\n",
    "            return False\n",
    "    return True"
   ]
  },
  {
   "cell_type": "code",
   "execution_count": 26,
   "id": "05e170dd-9a9d-407b-b1eb-c4c3a758127b",
   "metadata": {},
   "outputs": [
    {
     "data": {
      "text/plain": [
       "True"
      ]
     },
     "execution_count": 26,
     "metadata": {},
     "output_type": "execute_result"
    }
   ],
   "source": [
    "Allquantor(lambda x: x * x == x ** 2, {1,2,3,4,5,6,7,8,9})"
   ]
  },
  {
   "cell_type": "code",
   "execution_count": 27,
   "id": "eb0cdeb5-57b8-48e7-a533-dda61f45a855",
   "metadata": {},
   "outputs": [],
   "source": [
    "def ExistenzquantorTwo(A, M1, M2):\n",
    "    for m1 in M1:\n",
    "        for m2 in M2:\n",
    "            if A(m1,m2):\n",
    "                return True\n",
    "    return False"
   ]
  },
  {
   "cell_type": "code",
   "execution_count": 28,
   "id": "08a6cf4e-eafd-4413-80bf-85ace6909b71",
   "metadata": {},
   "outputs": [
    {
     "data": {
      "text/plain": [
       "True"
      ]
     },
     "execution_count": 28,
     "metadata": {},
     "output_type": "execute_result"
    }
   ],
   "source": [
    "ExistenzquantorTwo(lambda x,y: x * y == 6, {1,2,3,4,5}, {1,2,3,4,5})"
   ]
  }
 ],
 "metadata": {
  "kernelspec": {
   "display_name": "Python 3 (ipykernel)",
   "language": "python",
   "name": "python3"
  },
  "language_info": {
   "codemirror_mode": {
    "name": "ipython",
    "version": 3
   },
   "file_extension": ".py",
   "mimetype": "text/x-python",
   "name": "python",
   "nbconvert_exporter": "python",
   "pygments_lexer": "ipython3",
   "version": "3.9.12"
  }
 },
 "nbformat": 4,
 "nbformat_minor": 5
}
