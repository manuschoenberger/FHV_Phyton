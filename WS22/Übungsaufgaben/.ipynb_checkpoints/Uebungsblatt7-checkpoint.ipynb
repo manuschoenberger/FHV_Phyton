{
 "cells": [
  {
   "cell_type": "code",
   "execution_count": null,
   "id": "dca54337-20b6-444d-801b-3bbb76fa367b",
   "metadata": {},
   "outputs": [],
   "source": [
    "#Uebungsblatt7"
   ]
  },
  {
   "cell_type": "code",
   "execution_count": 1,
   "id": "3a2c1ceb-45b0-4b81-809d-4b25ad1c0bda",
   "metadata": {},
   "outputs": [],
   "source": [
    "#Aufgabe 3"
   ]
  },
  {
   "cell_type": "code",
   "execution_count": 42,
   "id": "b23927d0-a335-4628-b9d9-466e3eb3fb41",
   "metadata": {},
   "outputs": [],
   "source": [
    "def vereinigung(A,B):\n",
    "    C = set()\n",
    "    for i in A:\n",
    "        C.add(i)\n",
    "    for i in B:\n",
    "        C.add(i)\n",
    "    return C"
   ]
  },
  {
   "cell_type": "code",
   "execution_count": 43,
   "id": "40b8b19d-b047-4d0d-9a31-03609867daee",
   "metadata": {},
   "outputs": [
    {
     "data": {
      "text/plain": [
       "{1, 2, 3, 4, 5}"
      ]
     },
     "execution_count": 43,
     "metadata": {},
     "output_type": "execute_result"
    }
   ],
   "source": [
    "vereinigung({1,2,3}, {3,4,5})"
   ]
  },
  {
   "cell_type": "code",
   "execution_count": 9,
   "id": "59de7a41-28b6-4118-879f-41599730dae5",
   "metadata": {},
   "outputs": [],
   "source": [
    "def durchschnitt(A,B):\n",
    "    C = set()\n",
    "    for i in A:\n",
    "        if i in B:\n",
    "            C.add(i)\n",
    "    return C"
   ]
  },
  {
   "cell_type": "code",
   "execution_count": 10,
   "id": "8cbf7ebb-6f33-470a-9467-f5ea949b03c7",
   "metadata": {},
   "outputs": [
    {
     "data": {
      "text/plain": [
       "{3}"
      ]
     },
     "execution_count": 10,
     "metadata": {},
     "output_type": "execute_result"
    }
   ],
   "source": [
    "durchschnitt({1,2,3}, {3,4,5})"
   ]
  },
  {
   "cell_type": "code",
   "execution_count": 13,
   "id": "92c03f72-0d9e-4c3e-8ae6-f835b1a47424",
   "metadata": {},
   "outputs": [],
   "source": [
    "def mengentheoretischeDifferenz(A,B):\n",
    "    C = set()\n",
    "    for i in A:\n",
    "        if i not in B:\n",
    "            C.add(i)\n",
    "    return C"
   ]
  },
  {
   "cell_type": "code",
   "execution_count": 14,
   "id": "7444ac43-9fbc-4f4b-b218-3beec2049be0",
   "metadata": {},
   "outputs": [
    {
     "data": {
      "text/plain": [
       "{1, 2}"
      ]
     },
     "execution_count": 14,
     "metadata": {},
     "output_type": "execute_result"
    }
   ],
   "source": [
    "mengentheoretischeDifferenz({1,2,3}, {3,4,5})"
   ]
  },
  {
   "cell_type": "code",
   "execution_count": 1,
   "id": "3aab3a26-53dd-4b23-9705-47695a5c86b7",
   "metadata": {},
   "outputs": [],
   "source": [
    "#Aufgabe 6"
   ]
  },
  {
   "cell_type": "code",
   "execution_count": 19,
   "id": "c3144d32-2411-4795-a3e4-51a5ff68154e",
   "metadata": {},
   "outputs": [],
   "source": [
    "from fractions import Fraction\n",
    "Y1 = {Fraction(1,x) for x in range(1,101)}"
   ]
  },
  {
   "cell_type": "code",
   "execution_count": 20,
   "id": "571c65e2-c255-48c5-9ef7-2cf3af930b48",
   "metadata": {},
   "outputs": [
    {
     "data": {
      "text/plain": [
       "{Fraction(1, 100),\n",
       " Fraction(1, 99),\n",
       " Fraction(1, 98),\n",
       " Fraction(1, 97),\n",
       " Fraction(1, 96),\n",
       " Fraction(1, 95),\n",
       " Fraction(1, 94),\n",
       " Fraction(1, 93),\n",
       " Fraction(1, 92),\n",
       " Fraction(1, 91),\n",
       " Fraction(1, 90),\n",
       " Fraction(1, 89),\n",
       " Fraction(1, 88),\n",
       " Fraction(1, 87),\n",
       " Fraction(1, 86),\n",
       " Fraction(1, 85),\n",
       " Fraction(1, 84),\n",
       " Fraction(1, 83),\n",
       " Fraction(1, 82),\n",
       " Fraction(1, 81),\n",
       " Fraction(1, 80),\n",
       " Fraction(1, 79),\n",
       " Fraction(1, 78),\n",
       " Fraction(1, 77),\n",
       " Fraction(1, 76),\n",
       " Fraction(1, 75),\n",
       " Fraction(1, 74),\n",
       " Fraction(1, 73),\n",
       " Fraction(1, 72),\n",
       " Fraction(1, 71),\n",
       " Fraction(1, 70),\n",
       " Fraction(1, 69),\n",
       " Fraction(1, 68),\n",
       " Fraction(1, 67),\n",
       " Fraction(1, 66),\n",
       " Fraction(1, 65),\n",
       " Fraction(1, 64),\n",
       " Fraction(1, 63),\n",
       " Fraction(1, 62),\n",
       " Fraction(1, 61),\n",
       " Fraction(1, 60),\n",
       " Fraction(1, 59),\n",
       " Fraction(1, 58),\n",
       " Fraction(1, 57),\n",
       " Fraction(1, 56),\n",
       " Fraction(1, 55),\n",
       " Fraction(1, 54),\n",
       " Fraction(1, 53),\n",
       " Fraction(1, 52),\n",
       " Fraction(1, 51),\n",
       " Fraction(1, 50),\n",
       " Fraction(1, 49),\n",
       " Fraction(1, 48),\n",
       " Fraction(1, 47),\n",
       " Fraction(1, 46),\n",
       " Fraction(1, 45),\n",
       " Fraction(1, 44),\n",
       " Fraction(1, 43),\n",
       " Fraction(1, 42),\n",
       " Fraction(1, 41),\n",
       " Fraction(1, 40),\n",
       " Fraction(1, 39),\n",
       " Fraction(1, 38),\n",
       " Fraction(1, 37),\n",
       " Fraction(1, 36),\n",
       " Fraction(1, 35),\n",
       " Fraction(1, 34),\n",
       " Fraction(1, 33),\n",
       " Fraction(1, 32),\n",
       " Fraction(1, 31),\n",
       " Fraction(1, 30),\n",
       " Fraction(1, 29),\n",
       " Fraction(1, 28),\n",
       " Fraction(1, 27),\n",
       " Fraction(1, 26),\n",
       " Fraction(1, 25),\n",
       " Fraction(1, 24),\n",
       " Fraction(1, 23),\n",
       " Fraction(1, 22),\n",
       " Fraction(1, 21),\n",
       " Fraction(1, 20),\n",
       " Fraction(1, 19),\n",
       " Fraction(1, 18),\n",
       " Fraction(1, 17),\n",
       " Fraction(1, 16),\n",
       " Fraction(1, 15),\n",
       " Fraction(1, 14),\n",
       " Fraction(1, 13),\n",
       " Fraction(1, 12),\n",
       " Fraction(1, 11),\n",
       " Fraction(1, 10),\n",
       " Fraction(1, 9),\n",
       " Fraction(1, 8),\n",
       " Fraction(1, 7),\n",
       " Fraction(1, 6),\n",
       " Fraction(1, 5),\n",
       " Fraction(1, 4),\n",
       " Fraction(1, 3),\n",
       " Fraction(1, 2),\n",
       " Fraction(1, 1)}"
      ]
     },
     "execution_count": 20,
     "metadata": {},
     "output_type": "execute_result"
    }
   ],
   "source": [
    "Y1"
   ]
  },
  {
   "cell_type": "code",
   "execution_count": 21,
   "id": "f50547ae-b31e-458d-9545-e38f1c2d6440",
   "metadata": {},
   "outputs": [],
   "source": [
    "Y2 = {2 ** x for x in range(21)}"
   ]
  },
  {
   "cell_type": "code",
   "execution_count": 22,
   "id": "0b2ea515-b2f2-4170-8828-d0fd2c528e8e",
   "metadata": {},
   "outputs": [
    {
     "data": {
      "text/plain": [
       "{1,\n",
       " 2,\n",
       " 4,\n",
       " 8,\n",
       " 16,\n",
       " 32,\n",
       " 64,\n",
       " 128,\n",
       " 256,\n",
       " 512,\n",
       " 1024,\n",
       " 2048,\n",
       " 4096,\n",
       " 8192,\n",
       " 16384,\n",
       " 32768,\n",
       " 65536,\n",
       " 131072,\n",
       " 262144,\n",
       " 524288,\n",
       " 1048576}"
      ]
     },
     "execution_count": 22,
     "metadata": {},
     "output_type": "execute_result"
    }
   ],
   "source": [
    "Y2"
   ]
  },
  {
   "cell_type": "code",
   "execution_count": 23,
   "id": "e73118ce-6697-44df-b7b0-35438706c06f",
   "metadata": {},
   "outputs": [],
   "source": [
    "Y3 = {((-1) ** x) * (x ** 3) for x in range(1,31)} "
   ]
  },
  {
   "cell_type": "code",
   "execution_count": 25,
   "id": "9d5ec80b-b0a2-47e0-af48-5ee5ec5345ec",
   "metadata": {},
   "outputs": [
    {
     "data": {
      "text/plain": [
       "{-24389,\n",
       " -19683,\n",
       " -15625,\n",
       " -12167,\n",
       " -9261,\n",
       " -6859,\n",
       " -4913,\n",
       " -3375,\n",
       " -2197,\n",
       " -1331,\n",
       " -729,\n",
       " -343,\n",
       " -125,\n",
       " -27,\n",
       " -1,\n",
       " 8,\n",
       " 64,\n",
       " 216,\n",
       " 512,\n",
       " 1000,\n",
       " 1728,\n",
       " 2744,\n",
       " 4096,\n",
       " 5832,\n",
       " 8000,\n",
       " 10648,\n",
       " 13824,\n",
       " 17576,\n",
       " 21952,\n",
       " 27000}"
      ]
     },
     "execution_count": 25,
     "metadata": {},
     "output_type": "execute_result"
    }
   ],
   "source": [
    "Y3"
   ]
  },
  {
   "cell_type": "code",
   "execution_count": 27,
   "id": "64916ae4-a44f-4dbb-82d6-fcafde602557",
   "metadata": {},
   "outputs": [],
   "source": [
    "#Aufgabe 7"
   ]
  },
  {
   "cell_type": "code",
   "execution_count": 46,
   "id": "66bfbb21-a577-40ea-a6bd-ef87333be022",
   "metadata": {},
   "outputs": [],
   "source": [
    "def CrossProduct(A,B):\n",
    "    C = set()\n",
    "    for n in A:\n",
    "        for m in B:\n",
    "            C.add((n,m))\n",
    "    return C"
   ]
  },
  {
   "cell_type": "code",
   "execution_count": 47,
   "id": "57897665-c192-4f8e-beea-5d3e9988c433",
   "metadata": {},
   "outputs": [
    {
     "data": {
      "text/plain": [
       "{(1, 3), (1, 4), (2, 3), (2, 4)}"
      ]
     },
     "execution_count": 47,
     "metadata": {},
     "output_type": "execute_result"
    }
   ],
   "source": [
    "CrossProduct({1,2}, {3,4})"
   ]
  },
  {
   "cell_type": "code",
   "execution_count": 1,
   "id": "272c8f13-4790-4e1f-8c28-15eed2ee3e75",
   "metadata": {},
   "outputs": [],
   "source": [
    "#Aufgabe 10"
   ]
  },
  {
   "cell_type": "code",
   "execution_count": 7,
   "id": "202ca345-58d7-4c6d-9489-9d55ffc7dc3a",
   "metadata": {},
   "outputs": [],
   "source": [
    "def NatG():\n",
    "    n = 0\n",
    "    while True:\n",
    "        if n % 2 == 0:\n",
    "            yield n\n",
    "        n += 1"
   ]
  },
  {
   "cell_type": "code",
   "execution_count": 8,
   "id": "f2bc79e2-b5b4-4d47-8bba-14bdd9496513",
   "metadata": {},
   "outputs": [
    {
     "data": {
      "text/plain": [
       "<generator object NatG at 0x000001B4EA5D0820>"
      ]
     },
     "execution_count": 8,
     "metadata": {},
     "output_type": "execute_result"
    }
   ],
   "source": [
    "NatG()"
   ]
  },
  {
   "cell_type": "code",
   "execution_count": 9,
   "id": "ebf3ff51-2f3d-4c45-a3ff-74292288ff6c",
   "metadata": {},
   "outputs": [],
   "source": [
    "def viewGen(gen,n):\n",
    "    c = 1\n",
    "    L = []\n",
    "    for x in gen:\n",
    "        if c > n:\n",
    "            break\n",
    "        L.append(x)\n",
    "        c += 1\n",
    "    return L"
   ]
  },
  {
   "cell_type": "code",
   "execution_count": 12,
   "id": "5943da0f-e0cb-43ee-8660-505373ca4397",
   "metadata": {},
   "outputs": [
    {
     "data": {
      "text/plain": [
       "[0,\n",
       " 2,\n",
       " 4,\n",
       " 6,\n",
       " 8,\n",
       " 10,\n",
       " 12,\n",
       " 14,\n",
       " 16,\n",
       " 18,\n",
       " 20,\n",
       " 22,\n",
       " 24,\n",
       " 26,\n",
       " 28,\n",
       " 30,\n",
       " 32,\n",
       " 34,\n",
       " 36,\n",
       " 38,\n",
       " 40,\n",
       " 42,\n",
       " 44,\n",
       " 46,\n",
       " 48,\n",
       " 50,\n",
       " 52,\n",
       " 54,\n",
       " 56,\n",
       " 58]"
      ]
     },
     "execution_count": 12,
     "metadata": {},
     "output_type": "execute_result"
    }
   ],
   "source": [
    "viewGen(NatG(),30)"
   ]
  },
  {
   "cell_type": "code",
   "execution_count": 13,
   "id": "22560f10-5d9c-4605-89f3-7d0c82573f86",
   "metadata": {},
   "outputs": [],
   "source": [
    "#Aufgabe 11"
   ]
  },
  {
   "cell_type": "code",
   "execution_count": 44,
   "id": "9ce9e6d2-c964-43c3-8f9c-481bae98976d",
   "metadata": {},
   "outputs": [],
   "source": [
    "from fractions import Fraction\n",
    "\n",
    "def betterRat():\n",
    "    c = 2\n",
    "    checkedFrac = set()\n",
    "    while True:\n",
    "        den = 1 \n",
    "        while den < c:\n",
    "            currentFrac = Fraction(c-den,den)\n",
    "            if not currentFrac in checkedFrac:\n",
    "                yield currentFrac\n",
    "                checkedFrac.add(currentFrac)\n",
    "            den += 1\n",
    "        c += 1"
   ]
  },
  {
   "cell_type": "code",
   "execution_count": 45,
   "id": "c70cdd21-c7fd-46fd-a3b1-e67d17543a79",
   "metadata": {},
   "outputs": [
    {
     "data": {
      "text/plain": [
       "<generator object betterRat at 0x000001B4EC57BAC0>"
      ]
     },
     "execution_count": 45,
     "metadata": {},
     "output_type": "execute_result"
    }
   ],
   "source": [
    "betterRat()"
   ]
  },
  {
   "cell_type": "code",
   "execution_count": 46,
   "id": "889a25eb-e269-49b5-9e5b-4223ab7e0972",
   "metadata": {},
   "outputs": [
    {
     "data": {
      "text/plain": [
       "[Fraction(1, 1),\n",
       " Fraction(2, 1),\n",
       " Fraction(1, 2),\n",
       " Fraction(3, 1),\n",
       " Fraction(1, 3),\n",
       " Fraction(4, 1),\n",
       " Fraction(3, 2),\n",
       " Fraction(2, 3),\n",
       " Fraction(1, 4),\n",
       " Fraction(5, 1),\n",
       " Fraction(1, 5),\n",
       " Fraction(6, 1),\n",
       " Fraction(5, 2),\n",
       " Fraction(4, 3),\n",
       " Fraction(3, 4),\n",
       " Fraction(2, 5),\n",
       " Fraction(1, 6),\n",
       " Fraction(7, 1),\n",
       " Fraction(5, 3),\n",
       " Fraction(3, 5)]"
      ]
     },
     "execution_count": 46,
     "metadata": {},
     "output_type": "execute_result"
    }
   ],
   "source": [
    "viewGen(betterRat(),20)"
   ]
  }
 ],
 "metadata": {
  "kernelspec": {
   "display_name": "Python 3 (ipykernel)",
   "language": "python",
   "name": "python3"
  },
  "language_info": {
   "codemirror_mode": {
    "name": "ipython",
    "version": 3
   },
   "file_extension": ".py",
   "mimetype": "text/x-python",
   "name": "python",
   "nbconvert_exporter": "python",
   "pygments_lexer": "ipython3",
   "version": "3.9.12"
  }
 },
 "nbformat": 4,
 "nbformat_minor": 5
}
