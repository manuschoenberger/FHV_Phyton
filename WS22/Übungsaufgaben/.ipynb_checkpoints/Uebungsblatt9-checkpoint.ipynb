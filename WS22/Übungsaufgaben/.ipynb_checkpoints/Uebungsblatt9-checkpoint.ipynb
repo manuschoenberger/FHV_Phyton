{
 "cells": [
  {
   "cell_type": "code",
   "execution_count": 1,
   "id": "e23819f7-b250-4561-b10a-5322244fd4b2",
   "metadata": {},
   "outputs": [],
   "source": [
    "#Uebungsblatt 9"
   ]
  },
  {
   "cell_type": "code",
   "execution_count": 2,
   "id": "8d026ca8-dd02-4dff-9b82-6ec0b7836384",
   "metadata": {},
   "outputs": [],
   "source": [
    "#Aufgabe 4"
   ]
  },
  {
   "cell_type": "code",
   "execution_count": 3,
   "id": "f129327f-d4b3-4d88-8811-5d72d9853d8c",
   "metadata": {},
   "outputs": [],
   "source": [
    "def powerSet(A):\n",
    "    if A == set():\n",
    "        yield frozenset()\n",
    "    else:\n",
    "        a = A.pop()\n",
    "        for x in powerSet(A):\n",
    "            yield x\n",
    "            yield x | {a}\n",
    "\n",
    "# | ist Vereinigung"
   ]
  },
  {
   "cell_type": "code",
   "execution_count": 5,
   "id": "10096b83-e3dc-4fbd-99ab-5f24e81ad7b0",
   "metadata": {},
   "outputs": [],
   "source": [
    "def finiteSubsets(n):\n",
    "    k = 0\n",
    "    seen = set()\n",
    "    while True:\n",
    "        for s in powerSet(set(range(k)),n):\n",
    "            if not s in seen:\n",
    "                yield s\n",
    "                seen.add(s)\n",
    "        k += 1"
   ]
  },
  {
   "cell_type": "code",
   "execution_count": null,
   "id": "be8de440-f4d6-4892-ab71-881e67930281",
   "metadata": {},
   "outputs": [],
   "source": [
    "#laut Vorlesung"
   ]
  },
  {
   "cell_type": "code",
   "execution_count": null,
   "id": "51cf719d-324f-45f8-b5c9-f2bb9cf39ad3",
   "metadata": {},
   "outputs": [],
   "source": [
    "# fac(n) = 1 * 2 * 3 * ... * n\n",
    "def myFactorial(n):\n",
    "    if n == 1:\n",
    "        return 1\n",
    "    return n * myFactorial(n-1)\n",
    "myFactorial(3)"
   ]
  },
  {
   "cell_type": "code",
   "execution_count": null,
   "id": "0d101ee9-3ce8-4ad1-a5d1-9c5cd7a925a3",
   "metadata": {},
   "outputs": [],
   "source": [
    "# Teilmengen der größe k von L\n",
    "def combs (L,k):\n",
    "    if k == 0:\n",
    "        yield frozenset()\n",
    "    else:\n",
    "        for x in L: # take each x in L\n",
    "            for P in combs(L-{x}, k-1): # recursive call of combs with L / x\n",
    "                yield frozenset([x]) | P\n",
    "       \n",
    "list(combs(set({1,2,3}), 1))"
   ]
  },
  {
   "cell_type": "code",
   "execution_count": null,
   "id": "76ba9b75-4e9d-417d-8b72-0d0101024c44",
   "metadata": {},
   "outputs": [],
   "source": [
    "# Alle Teilmengen der größe n von N\n",
    "# Achtung! sehr ineffizient und läuft bei aufruf \"ewig\"\n",
    "def fixedSizeSubsets(n):\n",
    "    k = n\n",
    "    seen = set()\n",
    "    while True:\n",
    "        for s in combs(set(range(k)), n):\n",
    "            if not s in seen:\n",
    "                yield s\n",
    "                seen.add(s)\n",
    "        k +=1\n",
    "\n",
    " \n",
    "\n",
    "i = 10\n",
    "for mySet in fixedSizeSubsets(5):\n",
    "    i -=1\n",
    "    print(list(mySet))\n",
    "    if i <= 0:\n",
    "        break"
   ]
  }
 ],
 "metadata": {
  "kernelspec": {
   "display_name": "Python 3 (ipykernel)",
   "language": "python",
   "name": "python3"
  },
  "language_info": {
   "codemirror_mode": {
    "name": "ipython",
    "version": 3
   },
   "file_extension": ".py",
   "mimetype": "text/x-python",
   "name": "python",
   "nbconvert_exporter": "python",
   "pygments_lexer": "ipython3",
   "version": "3.9.12"
  }
 },
 "nbformat": 4,
 "nbformat_minor": 5
}
