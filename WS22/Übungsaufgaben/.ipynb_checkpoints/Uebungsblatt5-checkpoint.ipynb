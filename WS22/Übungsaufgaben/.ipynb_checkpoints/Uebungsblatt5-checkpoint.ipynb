{
 "cells": [
  {
   "cell_type": "code",
   "execution_count": 1,
   "id": "0bbdc317-0532-4bb5-a3b4-9e805b9c5350",
   "metadata": {},
   "outputs": [],
   "source": [
    "#Uebungsblatt 5"
   ]
  },
  {
   "cell_type": "code",
   "execution_count": 2,
   "id": "1a64db35-3b25-418f-a75d-73c3777c780c",
   "metadata": {},
   "outputs": [],
   "source": [
    "#Aufgabe 1"
   ]
  },
  {
   "cell_type": "code",
   "execution_count": 3,
   "id": "8c612990-0fa1-4807-8624-dae3c4d3553e",
   "metadata": {},
   "outputs": [],
   "source": [
    "from sympy import gcd\n",
    "\n",
    "def kleinsterTerm(frac):\n",
    "    nenner = frac[0]\n",
    "    zaehler = frac[1]\n",
    "    if nenner < 0:\n",
    "        nenner *= -1\n",
    "    if zaehler < 0:\n",
    "        zaehler *= -1\n",
    "    g = gcd(nenner, zaehler)\n",
    "    return [nenner // g, zaehler // g]"
   ]
  },
  {
   "cell_type": "code",
   "execution_count": 4,
   "id": "8577adf2-0f91-4b1e-aee2-cfe58ee63cd3",
   "metadata": {},
   "outputs": [
    {
     "data": {
      "text/plain": [
       "[2, 3]"
      ]
     },
     "execution_count": 4,
     "metadata": {},
     "output_type": "execute_result"
    }
   ],
   "source": [
    "kleinsterTerm([-20,-30])"
   ]
  },
  {
   "cell_type": "code",
   "execution_count": 5,
   "id": "11f58d52-2c03-483d-9bec-8e25aa13c79a",
   "metadata": {},
   "outputs": [
    {
     "data": {
      "text/plain": [
       "[2, 3]"
      ]
     },
     "execution_count": 5,
     "metadata": {},
     "output_type": "execute_result"
    }
   ],
   "source": [
    "kleinsterTerm([-20,30])"
   ]
  },
  {
   "cell_type": "code",
   "execution_count": 6,
   "id": "3f7a220e-5acc-4d58-ab46-78c04d999292",
   "metadata": {},
   "outputs": [
    {
     "data": {
      "text/plain": [
       "[2, 3]"
      ]
     },
     "execution_count": 6,
     "metadata": {},
     "output_type": "execute_result"
    }
   ],
   "source": [
    "kleinsterTerm([20,-30])"
   ]
  },
  {
   "cell_type": "code",
   "execution_count": 7,
   "id": "4dcb7d8b-f3c8-4f29-981c-6885e3e993a0",
   "metadata": {},
   "outputs": [],
   "source": [
    "#Aufgabe 2"
   ]
  },
  {
   "cell_type": "code",
   "execution_count": 8,
   "id": "2241e998-9a5e-4379-97f6-f029bd9b1448",
   "metadata": {},
   "outputs": [],
   "source": [
    "def mulFrac(frac1, frac2):\n",
    "    a = frac1[0]\n",
    "    b = frac1[1]\n",
    "    c = frac2[0]\n",
    "    d = frac2[1]\n",
    "    res = [a * c , b * d]\n",
    "    return kleinsterTerm(res)"
   ]
  },
  {
   "cell_type": "code",
   "execution_count": 9,
   "id": "0ef318cd-f52f-4b13-9fc3-20d9bb4ecda7",
   "metadata": {},
   "outputs": [
    {
     "data": {
      "text/plain": [
       "[21, 32]"
      ]
     },
     "execution_count": 9,
     "metadata": {},
     "output_type": "execute_result"
    }
   ],
   "source": [
    "mulFrac([7,8], [3,4])"
   ]
  },
  {
   "cell_type": "code",
   "execution_count": 10,
   "id": "f1e4d25b-d75e-448f-937d-cce7e2d1b9e8",
   "metadata": {},
   "outputs": [],
   "source": [
    "#Aufgabe 3"
   ]
  },
  {
   "cell_type": "code",
   "execution_count": 11,
   "id": "1678bcf2-cafc-4af7-a171-2791473b5a5c",
   "metadata": {},
   "outputs": [],
   "source": [
    "def addFrac(frac1, frac2):\n",
    "    a = frac1[0]\n",
    "    b = frac1[1]\n",
    "    c = frac2[0]\n",
    "    d = frac2[1]\n",
    "    res = [a * d + c * b , b * d]\n",
    "    return kleinsterTerm(res)\n",
    "\n",
    "def subFrac(frac1, frac2):\n",
    "    a = frac1[0]\n",
    "    b = frac1[1]\n",
    "    c = -frac2[0]\n",
    "    d = frac2[1]\n",
    "    res = [a * d + c * b , b * d] \n",
    "    return kleinsterTerm(res)"
   ]
  },
  {
   "cell_type": "code",
   "execution_count": 12,
   "id": "00af7ada-357b-4d4c-a363-1c03415e0709",
   "metadata": {},
   "outputs": [
    {
     "data": {
      "text/plain": [
       "[1, 8]"
      ]
     },
     "execution_count": 12,
     "metadata": {},
     "output_type": "execute_result"
    }
   ],
   "source": [
    "subFrac([7,8], [3,4])"
   ]
  },
  {
   "cell_type": "code",
   "execution_count": 13,
   "id": "fbcc7ee4-f7bf-44ef-bcb6-d06b014a16a4",
   "metadata": {},
   "outputs": [],
   "source": [
    "def mulFrac(frac1, frac2):\n",
    "    a = frac1[0]\n",
    "    b = frac1[1]\n",
    "    c = frac2[0]\n",
    "    d = frac2[1]\n",
    "    res = [a * c , b * d]\n",
    "    return kleinsterTerm(res)\n",
    "\n",
    "def divFrac(frac1, frac2):\n",
    "    a = frac1[0]\n",
    "    b = frac1[1]\n",
    "    c = frac2[1]\n",
    "    d = frac2[0]\n",
    "    res = [a * c , b * d]\n",
    "    return kleinsterTerm(res)"
   ]
  },
  {
   "cell_type": "code",
   "execution_count": 14,
   "id": "5fea8289-fac2-48a6-bc56-83d6d3c8a9f2",
   "metadata": {},
   "outputs": [
    {
     "data": {
      "text/plain": [
       "[7, 6]"
      ]
     },
     "execution_count": 14,
     "metadata": {},
     "output_type": "execute_result"
    }
   ],
   "source": [
    "divFrac([7,8], [3,4])"
   ]
  },
  {
   "cell_type": "code",
   "execution_count": 15,
   "id": "72999c3e-bef8-48c1-8887-e3689215d5fa",
   "metadata": {},
   "outputs": [],
   "source": [
    "#Aufgabe 6"
   ]
  },
  {
   "cell_type": "code",
   "execution_count": 16,
   "id": "8c7b2dd0-9652-4e8c-b130-8047870881d8",
   "metadata": {},
   "outputs": [],
   "source": [
    "def getRational(a,b,n):\n",
    "    res = []\n",
    "    for i in range(n):\n",
    "        a = (a + b) / 2\n",
    "        res.append(a)\n",
    "    return res"
   ]
  },
  {
   "cell_type": "code",
   "execution_count": 17,
   "id": "e9df3943-f972-45fa-93d4-88b1c63ba47a",
   "metadata": {},
   "outputs": [
    {
     "data": {
      "text/plain": [
       "[3.0, 4.0, 4.5, 4.75, 4.875]"
      ]
     },
     "execution_count": 17,
     "metadata": {},
     "output_type": "execute_result"
    }
   ],
   "source": [
    "getRational(1,5,5)"
   ]
  },
  {
   "cell_type": "code",
   "execution_count": 18,
   "id": "05bee1d2-763c-47e2-897f-c6544b840870",
   "metadata": {},
   "outputs": [
    {
     "data": {
      "text/plain": [
       "[0.5,\n",
       " 0.75,\n",
       " 0.875,\n",
       " 0.9375,\n",
       " 0.96875,\n",
       " 0.984375,\n",
       " 0.9921875,\n",
       " 0.99609375,\n",
       " 0.998046875,\n",
       " 0.9990234375]"
      ]
     },
     "execution_count": 18,
     "metadata": {},
     "output_type": "execute_result"
    }
   ],
   "source": [
    "getRational(0,1,10)"
   ]
  },
  {
   "cell_type": "code",
   "execution_count": 19,
   "id": "b6697772-0304-49cf-916e-8b2573c096aa",
   "metadata": {},
   "outputs": [
    {
     "data": {
      "text/plain": [
       "[0.0, 0.5, 0.75, 0.875, 0.9375]"
      ]
     },
     "execution_count": 19,
     "metadata": {},
     "output_type": "execute_result"
    }
   ],
   "source": [
    "getRational(-1,1,5)"
   ]
  },
  {
   "cell_type": "code",
   "execution_count": 20,
   "id": "35f4e45c-f6a5-44d2-940c-edb1b448cffb",
   "metadata": {},
   "outputs": [],
   "source": [
    "#Aufgabe 7"
   ]
  },
  {
   "cell_type": "code",
   "execution_count": 21,
   "id": "497a9564-c7c9-4bcb-b59e-3ea3b4194db5",
   "metadata": {},
   "outputs": [
    {
     "data": {
      "text/plain": [
       "[4.0]"
      ]
     },
     "execution_count": 21,
     "metadata": {},
     "output_type": "execute_result"
    }
   ],
   "source": [
    "getRational(0,8,1)"
   ]
  },
  {
   "cell_type": "code",
   "execution_count": 22,
   "id": "aacfc3c5-dd96-4d04-9395-34b5abfdb36d",
   "metadata": {},
   "outputs": [],
   "source": [
    "#Aufgabe 9"
   ]
  },
  {
   "cell_type": "code",
   "execution_count": 23,
   "id": "de071173-105d-4b0a-8fbd-d644b02703a5",
   "metadata": {},
   "outputs": [],
   "source": [
    "from math import *\n",
    "\n",
    "def babylon(x,g):\n",
    "    a = x\n",
    "    b = 1\n",
    "    while (a - b) > g: \n",
    "        a = (a + b) / 2 \n",
    "        b = x / a\n",
    "    return a"
   ]
  },
  {
   "cell_type": "code",
   "execution_count": 27,
   "id": "b6e6d248-aea9-4120-bb07-12a97db043f6",
   "metadata": {},
   "outputs": [
    {
     "data": {
      "text/plain": [
       "1.272019756920277"
      ]
     },
     "execution_count": 27,
     "metadata": {},
     "output_type": "execute_result"
    }
   ],
   "source": [
    "babylon(((1 + 5**(1/2)) / 2), 0.001)"
   ]
  },
  {
   "cell_type": "code",
   "execution_count": null,
   "id": "33f0c43a-de18-4fc5-8b30-d681c52a4c0a",
   "metadata": {},
   "outputs": [],
   "source": [
    "#Aufgabe 13"
   ]
  },
  {
   "cell_type": "code",
   "execution_count": null,
   "id": "ae0947ee-a21e-480c-9f66-ddfc6a913856",
   "metadata": {},
   "outputs": [],
   "source": [
    "def complex_substract(z1, z2):\n",
    "    a = z1[0]\n",
    "    b = z1[1]\n",
    "    c = -z2[0]\n",
    "    d = -z2[1]\n",
    "    res = [a + c, b + d]\n",
    "    return res"
   ]
  },
  {
   "cell_type": "code",
   "execution_count": null,
   "id": "b16cae27-38cb-4fb3-a23c-51fcd54cf095",
   "metadata": {},
   "outputs": [],
   "source": [
    "complex_substract([4,3j],[7,-2j])"
   ]
  },
  {
   "cell_type": "code",
   "execution_count": null,
   "id": "c3568700-f9ac-40a5-a44a-2a90bc1df3f0",
   "metadata": {},
   "outputs": [],
   "source": [
    "def complex_substract_simple(z1, z2):\n",
    "    return (z1 - z2)"
   ]
  },
  {
   "cell_type": "code",
   "execution_count": null,
   "id": "42723168-b39a-42bd-8a11-78b282516b5a",
   "metadata": {},
   "outputs": [],
   "source": [
    "complex_substract_simple(4+3j,7-2j)"
   ]
  },
  {
   "cell_type": "code",
   "execution_count": null,
   "id": "3018fb3a-7f3d-4b91-92a6-7310ccde9476",
   "metadata": {},
   "outputs": [],
   "source": [
    "def complex_multiply(z1, z2):\n",
    "    a = z1[0]\n",
    "    b = z1[1]\n",
    "    c = z2[0]\n",
    "    d = z2[1]\n",
    "    res = [a * c + b * d, a * d + b * c]\n",
    "    return res"
   ]
  },
  {
   "cell_type": "code",
   "execution_count": null,
   "id": "7c9b1e90-dca4-4170-b4d0-0b63a93ebece",
   "metadata": {},
   "outputs": [],
   "source": [
    "complex_multiply([3,1j],[2,-1j])"
   ]
  },
  {
   "cell_type": "code",
   "execution_count": null,
   "id": "5a8cfb7c-714a-4bf8-a52c-cfc7bc3310b3",
   "metadata": {},
   "outputs": [],
   "source": [
    "def complex_multiply_simple(z1, z2):\n",
    "    return (z1 * z2)"
   ]
  },
  {
   "cell_type": "code",
   "execution_count": null,
   "id": "9839e41c-1b3b-4fb1-99c9-f7a57f2ded96",
   "metadata": {},
   "outputs": [],
   "source": [
    "complex_multiply_simple(3+1j,2-1j)"
   ]
  },
  {
   "cell_type": "code",
   "execution_count": null,
   "id": "61a61fbf-a71d-43fd-92e1-e54497f5165b",
   "metadata": {
    "tags": []
   },
   "outputs": [],
   "source": [
    "def complex_division(z1, z2):\n",
    "    a = z1[0]\n",
    "    b = z1[1]\n",
    "    c = z2[0]\n",
    "    d = z2[1]\n",
    "    divisor = c * c - d * d\n",
    "    res = complex_multiply(z1, (c, -d))\n",
    "    return (res[0] / divisor, res[1] / divisor)"
   ]
  },
  {
   "cell_type": "code",
   "execution_count": null,
   "id": "bcbdbbda-7865-4963-be63-29e57a9429fc",
   "metadata": {},
   "outputs": [],
   "source": [
    "complex_division([1,2j],[2,-1j])"
   ]
  },
  {
   "cell_type": "code",
   "execution_count": null,
   "id": "6a7a55a2-c9d4-4768-b718-18f01a82616b",
   "metadata": {},
   "outputs": [],
   "source": [
    "def complex_division_simple(z1, z2):\n",
    "    return (z1 / z2)"
   ]
  },
  {
   "cell_type": "code",
   "execution_count": null,
   "id": "0b66aecb-3077-45bd-8672-7f9051350dcc",
   "metadata": {},
   "outputs": [],
   "source": [
    "complex_division_simple(1+2j,2-1j)"
   ]
  },
  {
   "cell_type": "code",
   "execution_count": null,
   "id": "3aa0c726-ecca-45ee-a165-e27b6fb2b416",
   "metadata": {},
   "outputs": [],
   "source": [
    "def complex_conjugate(z):\n",
    "    a = z[0]\n",
    "    b = z[1]\n",
    "    res = [a - b]\n",
    "    return res"
   ]
  },
  {
   "cell_type": "code",
   "execution_count": null,
   "id": "4252040d-1430-4a84-8eb7-3bfcf89fcdbd",
   "metadata": {},
   "outputs": [],
   "source": [
    "complex_conjugate([2,3j])"
   ]
  }
 ],
 "metadata": {
  "kernelspec": {
   "display_name": "Python 3 (ipykernel)",
   "language": "python",
   "name": "python3"
  },
  "language_info": {
   "codemirror_mode": {
    "name": "ipython",
    "version": 3
   },
   "file_extension": ".py",
   "mimetype": "text/x-python",
   "name": "python",
   "nbconvert_exporter": "python",
   "pygments_lexer": "ipython3",
   "version": "3.9.12"
  }
 },
 "nbformat": 4,
 "nbformat_minor": 5
}
