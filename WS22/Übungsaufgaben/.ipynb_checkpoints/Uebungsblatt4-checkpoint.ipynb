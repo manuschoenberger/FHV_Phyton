{
 "cells": [
  {
   "cell_type": "code",
   "execution_count": 1,
   "id": "eba10291-3e32-46e8-b09f-fea8cb3a37eb",
   "metadata": {},
   "outputs": [],
   "source": [
    "#Uebungsblatt 4"
   ]
  },
  {
   "cell_type": "code",
   "execution_count": 2,
   "id": "afd5bcdc-f4ac-4c2d-810a-03c46fa4b95c",
   "metadata": {},
   "outputs": [],
   "source": [
    "#Aufgabe 1"
   ]
  },
  {
   "cell_type": "code",
   "execution_count": 3,
   "id": "d81cd08c-5e5f-4ed7-88a3-0de6e607d560",
   "metadata": {},
   "outputs": [],
   "source": [
    "import math\n",
    "def isPrime(n):\n",
    "    if n <= 1:\n",
    "        return False\n",
    "    for i in range(2, 1 + int(math.sqrt(n))):\n",
    "        if n % i == 0:\n",
    "            return False\n",
    "    return True"
   ]
  },
  {
   "cell_type": "code",
   "execution_count": 4,
   "id": "4c8558e1-b73a-479c-a946-a8c8a65f378a",
   "metadata": {},
   "outputs": [
    {
     "data": {
      "text/plain": [
       "True"
      ]
     },
     "execution_count": 4,
     "metadata": {},
     "output_type": "execute_result"
    }
   ],
   "source": [
    "isPrime(17)"
   ]
  },
  {
   "cell_type": "code",
   "execution_count": 5,
   "id": "cc1d9ce5-cd51-4e5a-b1ab-30f38ab24241",
   "metadata": {},
   "outputs": [
    {
     "data": {
      "text/plain": [
       "False"
      ]
     },
     "execution_count": 5,
     "metadata": {},
     "output_type": "execute_result"
    }
   ],
   "source": [
    "isPrime(16)"
   ]
  },
  {
   "cell_type": "code",
   "execution_count": 6,
   "id": "41741abd-95dc-4aa0-a67e-f3021c482709",
   "metadata": {},
   "outputs": [
    {
     "data": {
      "text/plain": [
       "False"
      ]
     },
     "execution_count": 6,
     "metadata": {},
     "output_type": "execute_result"
    }
   ],
   "source": [
    "isPrime(25)"
   ]
  },
  {
   "cell_type": "code",
   "execution_count": 7,
   "id": "9db92dcb-8275-4a3e-9f7a-9b5e94218a08",
   "metadata": {},
   "outputs": [
    {
     "data": {
      "text/plain": [
       "4.123105625617661"
      ]
     },
     "execution_count": 7,
     "metadata": {},
     "output_type": "execute_result"
    }
   ],
   "source": [
    "math.sqrt(17)"
   ]
  },
  {
   "cell_type": "code",
   "execution_count": 8,
   "id": "98b4d6d1-88ee-4d0f-a3cb-ad2234577724",
   "metadata": {},
   "outputs": [
    {
     "data": {
      "text/plain": [
       "4.0"
      ]
     },
     "execution_count": 8,
     "metadata": {},
     "output_type": "execute_result"
    }
   ],
   "source": [
    "math.sqrt(16)"
   ]
  },
  {
   "cell_type": "code",
   "execution_count": 9,
   "id": "723a9f40-dc22-42d8-8d7c-b6204055acd1",
   "metadata": {},
   "outputs": [
    {
     "data": {
      "text/plain": [
       "5.0"
      ]
     },
     "execution_count": 9,
     "metadata": {},
     "output_type": "execute_result"
    }
   ],
   "source": [
    "math.sqrt(25)"
   ]
  },
  {
   "cell_type": "code",
   "execution_count": 10,
   "id": "d533db55-07f2-47b8-a5a4-71a43e653559",
   "metadata": {},
   "outputs": [],
   "source": [
    "#Aufgabe 3"
   ]
  },
  {
   "cell_type": "code",
   "execution_count": 11,
   "id": "749fa165-39b2-483c-b153-c99d5c313caf",
   "metadata": {},
   "outputs": [],
   "source": [
    "def primeFactors(n):\n",
    "    result = []\n",
    "    c = 2\n",
    "    while n > 1:\n",
    "        while True:\n",
    "            if n % c == 0:\n",
    "                result.append(c)\n",
    "                n //= c #n = n // c\n",
    "                break\n",
    "            c += 1\n",
    "    return result"
   ]
  },
  {
   "cell_type": "code",
   "execution_count": 12,
   "id": "77766bbc-d94f-4302-ae75-e52b6ab9bd92",
   "metadata": {},
   "outputs": [
    {
     "data": {
      "text/plain": [
       "[2, 3, 5, 11, 113]"
      ]
     },
     "execution_count": 12,
     "metadata": {},
     "output_type": "execute_result"
    }
   ],
   "source": [
    "primeFactors(37290)"
   ]
  },
  {
   "cell_type": "code",
   "execution_count": 13,
   "id": "3c553d88-9d6e-4912-a95c-60c28c29b789",
   "metadata": {},
   "outputs": [
    {
     "data": {
      "text/plain": [
       "[2, 2, 2, 11, 683]"
      ]
     },
     "execution_count": 13,
     "metadata": {},
     "output_type": "execute_result"
    }
   ],
   "source": [
    "primeFactors(60104)"
   ]
  },
  {
   "cell_type": "code",
   "execution_count": 14,
   "id": "1d8145a9-d880-4fd5-b6be-5432c91c8349",
   "metadata": {},
   "outputs": [
    {
     "data": {
      "text/plain": [
       "[11, 911]"
      ]
     },
     "execution_count": 14,
     "metadata": {},
     "output_type": "execute_result"
    }
   ],
   "source": [
    "primeFactors(10021)"
   ]
  },
  {
   "cell_type": "code",
   "execution_count": 15,
   "id": "21d68aeb-3590-44d8-bf6d-ceec39dbfeba",
   "metadata": {},
   "outputs": [],
   "source": [
    "#Aufgabe 5"
   ]
  },
  {
   "cell_type": "code",
   "execution_count": 16,
   "id": "c8fb4707-58c4-425b-852b-4f0ed18bf743",
   "metadata": {},
   "outputs": [],
   "source": [
    "def caeserEnc(msg, key):\n",
    "    result = \"\"\n",
    "    for c in msg:\n",
    "        encChar = chr(ord(c) - ord ('A') + key % 26 + ord('A'))\n",
    "        result += encChar\n",
    "    return result"
   ]
  },
  {
   "cell_type": "code",
   "execution_count": 17,
   "id": "863ccca5-3ea8-4567-aba6-c5d729f1892d",
   "metadata": {},
   "outputs": [
    {
     "data": {
      "text/plain": [
       "'Mfqqt'"
      ]
     },
     "execution_count": 17,
     "metadata": {},
     "output_type": "execute_result"
    }
   ],
   "source": [
    "caeserEnc(\"Hallo\", 5)"
   ]
  },
  {
   "cell_type": "code",
   "execution_count": 18,
   "id": "15fbe7a1-19d8-45c8-a2e1-12587970e706",
   "metadata": {},
   "outputs": [
    {
     "data": {
      "text/plain": [
       "'NgRru'"
      ]
     },
     "execution_count": 18,
     "metadata": {},
     "output_type": "execute_result"
    }
   ],
   "source": [
    "caeserEnc(\"HaLlo\", 6)"
   ]
  },
  {
   "cell_type": "code",
   "execution_count": 19,
   "id": "f2c90121-f1cd-4680-9dca-5ddadafc678f",
   "metadata": {},
   "outputs": [],
   "source": [
    "#Aufgabe 6"
   ]
  },
  {
   "cell_type": "code",
   "execution_count": 20,
   "id": "f8e93eea-e9fb-4323-afc9-bc1ba102f025",
   "metadata": {},
   "outputs": [],
   "source": [
    "def caeserDec(msg, key):\n",
    "    result = \"\"\n",
    "    for c in msg:\n",
    "        encChar = chr(ord(c) - ord ('A') - key % 26 + ord('A'))\n",
    "        result += encChar\n",
    "    return result"
   ]
  },
  {
   "cell_type": "code",
   "execution_count": 21,
   "id": "26f7c0c1-7174-4492-a022-d3e50a9f2c28",
   "metadata": {},
   "outputs": [
    {
     "data": {
      "text/plain": [
       "'Hallo'"
      ]
     },
     "execution_count": 21,
     "metadata": {},
     "output_type": "execute_result"
    }
   ],
   "source": [
    "caeserDec(\"Mfqqt\", 5)"
   ]
  },
  {
   "cell_type": "code",
   "execution_count": 22,
   "id": "629915ea-fda7-475e-baa2-025bc9c27b68",
   "metadata": {},
   "outputs": [
    {
     "data": {
      "text/plain": [
       "'HaLlo'"
      ]
     },
     "execution_count": 22,
     "metadata": {},
     "output_type": "execute_result"
    }
   ],
   "source": [
    "caeserDec(\"NgRru\", 6)"
   ]
  },
  {
   "cell_type": "code",
   "execution_count": 23,
   "id": "633a43d0-35d6-4e56-94a4-f3b0fd464d7f",
   "metadata": {},
   "outputs": [],
   "source": [
    "#Aufgabe 7"
   ]
  },
  {
   "cell_type": "code",
   "execution_count": 24,
   "id": "9544d4fa-f8e0-4421-9431-ea5a9e3044e7",
   "metadata": {},
   "outputs": [
    {
     "data": {
      "text/plain": [
       "(281, 311)"
      ]
     },
     "execution_count": 24,
     "metadata": {},
     "output_type": "execute_result"
    }
   ],
   "source": [
    "from sympy import prime, factorint, mod_inverse\n",
    "p = prime(60)\n",
    "q = prime(64)\n",
    "p, q"
   ]
  },
  {
   "cell_type": "code",
   "execution_count": 25,
   "id": "52fc97d8-3b49-4c25-b702-0a5a859be9db",
   "metadata": {},
   "outputs": [
    {
     "data": {
      "text/plain": [
       "(87391, 86800)"
      ]
     },
     "execution_count": 25,
     "metadata": {},
     "output_type": "execute_result"
    }
   ],
   "source": [
    "n = p * q\n",
    "phi = (p-1) * (q-1)\n",
    "n, phi"
   ]
  },
  {
   "cell_type": "code",
   "execution_count": 26,
   "id": "73dfbcd2-05dc-4195-97cc-2ad6309971a3",
   "metadata": {},
   "outputs": [
    {
     "data": {
      "text/plain": [
       "{2: 4, 5: 2, 7: 1, 31: 1}"
      ]
     },
     "execution_count": 26,
     "metadata": {},
     "output_type": "execute_result"
    }
   ],
   "source": [
    "factorint(phi)"
   ]
  },
  {
   "cell_type": "code",
   "execution_count": 27,
   "id": "d3785f0b-4f61-4000-a5f9-0e162d843c03",
   "metadata": {},
   "outputs": [
    {
     "data": {
      "text/plain": [
       "(429, 58069)"
      ]
     },
     "execution_count": 27,
     "metadata": {},
     "output_type": "execute_result"
    }
   ],
   "source": [
    "e = 3 * 11 * 13\n",
    "d = mod_inverse(e, phi)\n",
    "e, d"
   ]
  },
  {
   "cell_type": "code",
   "execution_count": 28,
   "id": "13a62a9b-2e17-4e5e-a367-575f67186871",
   "metadata": {},
   "outputs": [],
   "source": [
    "def crypt(M,k):\n",
    "    return M ** k % n"
   ]
  },
  {
   "cell_type": "code",
   "execution_count": 29,
   "id": "dc3c0199-9659-4b34-96b4-ca81094e7e52",
   "metadata": {},
   "outputs": [
    {
     "data": {
      "text/plain": [
       "50495"
      ]
     },
     "execution_count": 29,
     "metadata": {},
     "output_type": "execute_result"
    }
   ],
   "source": [
    "crypt(5023, d)"
   ]
  },
  {
   "cell_type": "code",
   "execution_count": 30,
   "id": "72ab83e6-848e-4229-be36-8d6975a2d4b3",
   "metadata": {},
   "outputs": [
    {
     "data": {
      "text/plain": [
       "5023"
      ]
     },
     "execution_count": 30,
     "metadata": {},
     "output_type": "execute_result"
    }
   ],
   "source": [
    "crypt(50495, e)"
   ]
  },
  {
   "cell_type": "code",
   "execution_count": 31,
   "id": "ae7b6a89-6265-41ec-887a-67d64d1f71b1",
   "metadata": {},
   "outputs": [
    {
     "data": {
      "text/plain": [
       "69748"
      ]
     },
     "execution_count": 31,
     "metadata": {},
     "output_type": "execute_result"
    }
   ],
   "source": [
    "crypt(77777, d)"
   ]
  },
  {
   "cell_type": "code",
   "execution_count": 32,
   "id": "3ab14bea-ee52-4475-b88b-331a8361ecee",
   "metadata": {},
   "outputs": [
    {
     "data": {
      "text/plain": [
       "77777"
      ]
     },
     "execution_count": 32,
     "metadata": {},
     "output_type": "execute_result"
    }
   ],
   "source": [
    "crypt(69748, e)"
   ]
  },
  {
   "cell_type": "code",
   "execution_count": 33,
   "id": "df97ade8-d6bb-42df-a534-0d05c6ff05c6",
   "metadata": {},
   "outputs": [],
   "source": [
    "#Beweis, dass man nur bis n verschlüsseln kann"
   ]
  },
  {
   "cell_type": "code",
   "execution_count": 34,
   "id": "a3c3219c-14d6-4440-bbd6-35072eb6ac2a",
   "metadata": {},
   "outputs": [
    {
     "data": {
      "text/plain": [
       "87390"
      ]
     },
     "execution_count": 34,
     "metadata": {},
     "output_type": "execute_result"
    }
   ],
   "source": [
    "crypt(87390, d)"
   ]
  },
  {
   "cell_type": "code",
   "execution_count": 35,
   "id": "c13bdcd3-7bef-4890-a5d5-897a3d675b96",
   "metadata": {},
   "outputs": [
    {
     "data": {
      "text/plain": [
       "87390"
      ]
     },
     "execution_count": 35,
     "metadata": {},
     "output_type": "execute_result"
    }
   ],
   "source": [
    "crypt(87390, e)"
   ]
  },
  {
   "cell_type": "code",
   "execution_count": 36,
   "id": "0d8f2e19-ed91-488a-90e1-0897d50a9ac0",
   "metadata": {},
   "outputs": [
    {
     "data": {
      "text/plain": [
       "0"
      ]
     },
     "execution_count": 36,
     "metadata": {},
     "output_type": "execute_result"
    }
   ],
   "source": [
    "crypt(87391, d)"
   ]
  },
  {
   "cell_type": "code",
   "execution_count": 37,
   "id": "9ad3bdd3-1ae1-4558-8dc8-c3bbeacd74bc",
   "metadata": {},
   "outputs": [
    {
     "data": {
      "text/plain": [
       "0"
      ]
     },
     "execution_count": 37,
     "metadata": {},
     "output_type": "execute_result"
    }
   ],
   "source": [
    "crypt(0, e)"
   ]
  },
  {
   "cell_type": "code",
   "execution_count": 38,
   "id": "c2e43e6c-758f-47fa-b097-3d5c198c5949",
   "metadata": {},
   "outputs": [
    {
     "data": {
      "text/plain": [
       "1"
      ]
     },
     "execution_count": 38,
     "metadata": {},
     "output_type": "execute_result"
    }
   ],
   "source": [
    "crypt(87392, d)"
   ]
  },
  {
   "cell_type": "code",
   "execution_count": 39,
   "id": "1ec0512e-2934-40a2-9fff-d1db0db6ae47",
   "metadata": {},
   "outputs": [
    {
     "data": {
      "text/plain": [
       "1"
      ]
     },
     "execution_count": 39,
     "metadata": {},
     "output_type": "execute_result"
    }
   ],
   "source": [
    "crypt(1, e)"
   ]
  }
 ],
 "metadata": {
  "kernelspec": {
   "display_name": "Python 3 (ipykernel)",
   "language": "python",
   "name": "python3"
  },
  "language_info": {
   "codemirror_mode": {
    "name": "ipython",
    "version": 3
   },
   "file_extension": ".py",
   "mimetype": "text/x-python",
   "name": "python",
   "nbconvert_exporter": "python",
   "pygments_lexer": "ipython3",
   "version": "3.9.12"
  }
 },
 "nbformat": 4,
 "nbformat_minor": 5
}
