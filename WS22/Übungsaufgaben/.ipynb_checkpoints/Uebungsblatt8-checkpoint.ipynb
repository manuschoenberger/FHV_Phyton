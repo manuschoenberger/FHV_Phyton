{
 "cells": [
  {
   "cell_type": "code",
   "execution_count": 1,
   "id": "6c36a339-a10b-464c-b0c1-98e5f1f098f5",
   "metadata": {},
   "outputs": [],
   "source": [
    "#Uebungsblatt 8"
   ]
  },
  {
   "cell_type": "code",
   "execution_count": 2,
   "id": "ae977f65-fdd0-4429-831a-446da4da58c5",
   "metadata": {},
   "outputs": [],
   "source": [
    "#Aufgabe 4"
   ]
  },
  {
   "cell_type": "code",
   "execution_count": 3,
   "id": "28e378cc-0019-42b9-b48a-bf218fb50718",
   "metadata": {},
   "outputs": [],
   "source": [
    "def onlyTuples(s):\n",
    "    return(all(map(lambda x: type(x) is tuple, s)))"
   ]
  },
  {
   "cell_type": "code",
   "execution_count": 4,
   "id": "0b663997-cbc3-49a5-95da-5c0c7819acd0",
   "metadata": {},
   "outputs": [
    {
     "data": {
      "text/plain": [
       "True"
      ]
     },
     "execution_count": 4,
     "metadata": {},
     "output_type": "execute_result"
    }
   ],
   "source": [
    "onlyTuples([(1,2),(2,4)])"
   ]
  },
  {
   "cell_type": "code",
   "execution_count": 5,
   "id": "eb254d83-a0c0-48d9-891c-b09cfd7271ab",
   "metadata": {},
   "outputs": [
    {
     "data": {
      "text/plain": [
       "False"
      ]
     },
     "execution_count": 5,
     "metadata": {},
     "output_type": "execute_result"
    }
   ],
   "source": [
    "onlyTuples([(1,2),(2,4),4])"
   ]
  },
  {
   "cell_type": "code",
   "execution_count": 6,
   "id": "64cb9a10-05f7-45d3-8af4-4a68e54d1059",
   "metadata": {},
   "outputs": [
    {
     "data": {
      "text/plain": [
       "True"
      ]
     },
     "execution_count": 6,
     "metadata": {},
     "output_type": "execute_result"
    }
   ],
   "source": [
    "onlyTuples([(1,2),(2,4),(2,3,4)])"
   ]
  },
  {
   "cell_type": "code",
   "execution_count": 7,
   "id": "bd7bd724-5f80-4e4a-8a27-fc98e8b88e52",
   "metadata": {},
   "outputs": [],
   "source": [
    "def only2setTuples(s):\n",
    "    return(all(map(lambda x: type(x) is tuple and len(x) == 2, s)))"
   ]
  },
  {
   "cell_type": "code",
   "execution_count": 8,
   "id": "dd2ae744-44b7-4a69-99c1-4ae694c05e09",
   "metadata": {},
   "outputs": [
    {
     "data": {
      "text/plain": [
       "True"
      ]
     },
     "execution_count": 8,
     "metadata": {},
     "output_type": "execute_result"
    }
   ],
   "source": [
    "only2setTuples([(1,2),(2,4)])"
   ]
  },
  {
   "cell_type": "code",
   "execution_count": 9,
   "id": "949a00a7-6f9a-4fa3-b65e-4104c1eb0865",
   "metadata": {},
   "outputs": [
    {
     "data": {
      "text/plain": [
       "False"
      ]
     },
     "execution_count": 9,
     "metadata": {},
     "output_type": "execute_result"
    }
   ],
   "source": [
    "only2setTuples([(1,2),(2,4),4])"
   ]
  },
  {
   "cell_type": "code",
   "execution_count": 10,
   "id": "5577fc34-08c9-42da-8bad-d9ad2f47d444",
   "metadata": {},
   "outputs": [
    {
     "data": {
      "text/plain": [
       "False"
      ]
     },
     "execution_count": 10,
     "metadata": {},
     "output_type": "execute_result"
    }
   ],
   "source": [
    "only2setTuples([(1,2),(2,4),(2,3,4)])"
   ]
  }
 ],
 "metadata": {
  "kernelspec": {
   "display_name": "Python 3 (ipykernel)",
   "language": "python",
   "name": "python3"
  },
  "language_info": {
   "codemirror_mode": {
    "name": "ipython",
    "version": 3
   },
   "file_extension": ".py",
   "mimetype": "text/x-python",
   "name": "python",
   "nbconvert_exporter": "python",
   "pygments_lexer": "ipython3",
   "version": "3.9.12"
  }
 },
 "nbformat": 4,
 "nbformat_minor": 5
}
