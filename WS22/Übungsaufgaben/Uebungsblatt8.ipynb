{
 "cells": [
  {
   "cell_type": "code",
   "execution_count": 1,
   "id": "6c36a339-a10b-464c-b0c1-98e5f1f098f5",
   "metadata": {},
   "outputs": [],
   "source": [
    "#Uebungsblatt 8"
   ]
  },
  {
   "cell_type": "code",
   "execution_count": 2,
   "id": "ae977f65-fdd0-4429-831a-446da4da58c5",
   "metadata": {},
   "outputs": [],
   "source": [
    "#Aufgabe 4"
   ]
  },
  {
   "cell_type": "code",
   "execution_count": 3,
   "id": "28e378cc-0019-42b9-b48a-bf218fb50718",
   "metadata": {},
   "outputs": [],
   "source": [
    "def onlyTuples(s):\n",
    "    return(all(map(lambda x: type(x) is tuple, s)))"
   ]
  },
  {
   "cell_type": "code",
   "execution_count": 4,
   "id": "0b663997-cbc3-49a5-95da-5c0c7819acd0",
   "metadata": {},
   "outputs": [
    {
     "data": {
      "text/plain": [
       "True"
      ]
     },
     "execution_count": 4,
     "metadata": {},
     "output_type": "execute_result"
    }
   ],
   "source": [
    "onlyTuples([(1,2),(2,4)])"
   ]
  },
  {
   "cell_type": "code",
   "execution_count": 5,
   "id": "eb254d83-a0c0-48d9-891c-b09cfd7271ab",
   "metadata": {},
   "outputs": [
    {
     "data": {
      "text/plain": [
       "False"
      ]
     },
     "execution_count": 5,
     "metadata": {},
     "output_type": "execute_result"
    }
   ],
   "source": [
    "onlyTuples([(1,2),(2,4),4])"
   ]
  },
  {
   "cell_type": "code",
   "execution_count": 6,
   "id": "64cb9a10-05f7-45d3-8af4-4a68e54d1059",
   "metadata": {},
   "outputs": [
    {
     "data": {
      "text/plain": [
       "True"
      ]
     },
     "execution_count": 6,
     "metadata": {},
     "output_type": "execute_result"
    }
   ],
   "source": [
    "onlyTuples([(1,2),(2,4),(2,3,4)])"
   ]
  },
  {
   "cell_type": "code",
   "execution_count": 7,
   "id": "bd7bd724-5f80-4e4a-8a27-fc98e8b88e52",
   "metadata": {},
   "outputs": [],
   "source": [
    "def only2setTuples(s):\n",
    "    return(all(map(lambda x: type(x) is tuple and len(x) == 2, s)))"
   ]
  },
  {
   "cell_type": "code",
   "execution_count": 8,
   "id": "dd2ae744-44b7-4a69-99c1-4ae694c05e09",
   "metadata": {},
   "outputs": [
    {
     "data": {
      "text/plain": [
       "True"
      ]
     },
     "execution_count": 8,
     "metadata": {},
     "output_type": "execute_result"
    }
   ],
   "source": [
    "only2setTuples([(1,2),(2,4)])"
   ]
  },
  {
   "cell_type": "code",
   "execution_count": 9,
   "id": "949a00a7-6f9a-4fa3-b65e-4104c1eb0865",
   "metadata": {},
   "outputs": [
    {
     "data": {
      "text/plain": [
       "False"
      ]
     },
     "execution_count": 9,
     "metadata": {},
     "output_type": "execute_result"
    }
   ],
   "source": [
    "only2setTuples([(1,2),(2,4),4])"
   ]
  },
  {
   "cell_type": "code",
   "execution_count": 10,
   "id": "5577fc34-08c9-42da-8bad-d9ad2f47d444",
   "metadata": {},
   "outputs": [
    {
     "data": {
      "text/plain": [
       "False"
      ]
     },
     "execution_count": 10,
     "metadata": {},
     "output_type": "execute_result"
    }
   ],
   "source": [
    "only2setTuples([(1,2),(2,4),(2,3,4)])"
   ]
  },
  {
   "cell_type": "code",
   "execution_count": 11,
   "id": "bc3c89f5-e1ba-4cf5-b87b-5737392ad975",
   "metadata": {},
   "outputs": [],
   "source": [
    "#Aufgabe 6"
   ]
  },
  {
   "cell_type": "code",
   "execution_count": 12,
   "id": "47db152e-1546-4da2-89d1-9ec39ef9544d",
   "metadata": {},
   "outputs": [],
   "source": [
    "#prüfen ob ein Argument nur tupel enthält\n",
    "all([True, False, True])\n",
    "def onlyTuples(s):\n",
    "    return(all(map(lambda x: type(x) is tuple, s))) "
   ]
  },
  {
   "cell_type": "code",
   "execution_count": 13,
   "id": "5385d68f-c050-49c2-bac5-354b7592bb31",
   "metadata": {},
   "outputs": [],
   "source": [
    "#prüfen ob Menge von Tupeln rechteindeutig ist\n",
    "def rightUnique(f):\n",
    "    for x1, y1 in f:\n",
    "        for x2, y2 in f:\n",
    "            if x1 == x2 and y1 != y2:\n",
    "                return False\n",
    "    return True"
   ]
  },
  {
   "cell_type": "code",
   "execution_count": 14,
   "id": "aca0ace4-28b6-4ec9-b3bf-735e9265629c",
   "metadata": {},
   "outputs": [],
   "source": [
    "def isFunction(f):\n",
    "    return onlyTuples(f) and rightUnique(f)"
   ]
  },
  {
   "cell_type": "code",
   "execution_count": 15,
   "id": "1fbe99c3-4500-4e78-a558-52a2833d7615",
   "metadata": {},
   "outputs": [],
   "source": [
    "#Injektiv bedeutet quasi gleich linkseindeutig\n",
    "def injective(f):\n",
    "    for x1, y1 in f:\n",
    "        for x2, y2 in f:\n",
    "            if y1 == y2 and x1 != x2:\n",
    "                return False\n",
    "    return True"
   ]
  },
  {
   "cell_type": "code",
   "execution_count": 16,
   "id": "56eff8d0-7682-4ec3-abdc-b40bb7209c5d",
   "metadata": {},
   "outputs": [],
   "source": [
    "def isInjectiveFunction(f):\n",
    "    return onlyTuples(f) and rightUnique(f) and injective(f)"
   ]
  },
  {
   "cell_type": "code",
   "execution_count": 17,
   "id": "4f38405d-79e5-4d78-8cba-a9662368b26a",
   "metadata": {},
   "outputs": [
    {
     "data": {
      "text/plain": [
       "True"
      ]
     },
     "execution_count": 17,
     "metadata": {},
     "output_type": "execute_result"
    }
   ],
   "source": [
    "isInjectiveFunction([(1,2),(2,3),(3,5)])"
   ]
  },
  {
   "cell_type": "code",
   "execution_count": 18,
   "id": "6f14bdc1-ed14-49c9-8c1c-fbb3d0952589",
   "metadata": {},
   "outputs": [],
   "source": [
    "#Aufgabe 10"
   ]
  },
  {
   "cell_type": "code",
   "execution_count": 19,
   "id": "fed1b4ba-b9a3-46b8-a8e4-d722609becaf",
   "metadata": {},
   "outputs": [],
   "source": [
    "def comp(f,g):\n",
    "    res = set()\n",
    "    for a, b in f:\n",
    "        for c, d in g:\n",
    "            if b == c:\n",
    "                res.add((a,d))\n",
    "                break\n",
    "    return res"
   ]
  },
  {
   "cell_type": "code",
   "execution_count": 20,
   "id": "56eb05a4-e4cf-48c9-b7f5-9cdb94cc9a5a",
   "metadata": {},
   "outputs": [
    {
     "data": {
      "text/plain": [
       "{(1, 10), (2, 5)}"
      ]
     },
     "execution_count": 20,
     "metadata": {},
     "output_type": "execute_result"
    }
   ],
   "source": [
    "comp({(1,2),(2,3)},{(2,10),(3,5)})"
   ]
  }
 ],
 "metadata": {
  "kernelspec": {
   "display_name": "Python 3 (ipykernel)",
   "language": "python",
   "name": "python3"
  },
  "language_info": {
   "codemirror_mode": {
    "name": "ipython",
    "version": 3
   },
   "file_extension": ".py",
   "mimetype": "text/x-python",
   "name": "python",
   "nbconvert_exporter": "python",
   "pygments_lexer": "ipython3",
   "version": "3.9.12"
  }
 },
 "nbformat": 4,
 "nbformat_minor": 5
}
