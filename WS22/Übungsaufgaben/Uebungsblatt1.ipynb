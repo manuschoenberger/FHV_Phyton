{
 "cells": [
  {
   "cell_type": "code",
   "execution_count": 1,
   "id": "26b42ebc-807e-4f47-b63c-6757c49da89f",
   "metadata": {},
   "outputs": [],
   "source": [
    "#Uebungsblatt 1"
   ]
  },
  {
   "cell_type": "code",
   "execution_count": 2,
   "id": "677065e0-3f66-4079-8978-1aab1bac6802",
   "metadata": {},
   "outputs": [],
   "source": [
    "#Aufgabe 1"
   ]
  },
  {
   "cell_type": "code",
   "execution_count": 3,
   "id": "bd7c6e97-3257-4bda-8b73-16ce38577c4b",
   "metadata": {},
   "outputs": [],
   "source": [
    "#Dec2Bin\n",
    "\n",
    "def Dec2Bin(num):\n",
    "\n",
    "    digits = []\n",
    "\n",
    "    while True:\n",
    "        remainder = num % 2\n",
    "        quotient = num // 2\n",
    "\n",
    "        digits.append(remainder)\n",
    "        num = quotient\n",
    "\n",
    "        if quotient == 0:\n",
    "            break\n",
    "\n",
    "    digits.reverse()\n",
    "\n",
    "    return digits"
   ]
  },
  {
   "cell_type": "code",
   "execution_count": 4,
   "id": "a39b8fb9-b29f-4f02-a796-0d1221185857",
   "metadata": {},
   "outputs": [
    {
     "data": {
      "text/plain": [
       "[1, 0, 1, 0, 1, 0]"
      ]
     },
     "execution_count": 4,
     "metadata": {},
     "output_type": "execute_result"
    }
   ],
   "source": [
    "Dec2Bin(42)"
   ]
  },
  {
   "cell_type": "code",
   "execution_count": 5,
   "id": "a6e045dd-7950-4dda-a8f8-a2550b8cdf06",
   "metadata": {},
   "outputs": [
    {
     "data": {
      "text/plain": [
       "[1, 0, 0, 0, 0, 0, 0, 0, 0, 0]"
      ]
     },
     "execution_count": 5,
     "metadata": {},
     "output_type": "execute_result"
    }
   ],
   "source": [
    "Dec2Bin(512)"
   ]
  },
  {
   "cell_type": "code",
   "execution_count": 6,
   "id": "e7d41b5c-b693-48f5-8dfd-95a98c20dd0f",
   "metadata": {},
   "outputs": [],
   "source": [
    "#Bin2Dec\n",
    "\n",
    "def Bin2Dec(A):\n",
    "    \n",
    "    retval = A[0]\n",
    "    \n",
    "    for b in A[1:]:\n",
    "        retval = 2 * retval + b\n",
    "    return retval"
   ]
  },
  {
   "cell_type": "code",
   "execution_count": 7,
   "id": "fca6dc5a-83db-4495-9cf2-af68d2598615",
   "metadata": {},
   "outputs": [
    {
     "data": {
      "text/plain": [
       "85"
      ]
     },
     "execution_count": 7,
     "metadata": {},
     "output_type": "execute_result"
    }
   ],
   "source": [
    "Bin2Dec([1,0,1,0,1,0,1])"
   ]
  },
  {
   "cell_type": "code",
   "execution_count": 8,
   "id": "b37549af-6c13-4c4d-b2fb-27714a5f9993",
   "metadata": {},
   "outputs": [],
   "source": [
    "# Aufgabe 2"
   ]
  },
  {
   "cell_type": "code",
   "execution_count": 9,
   "id": "3762af8e-6f72-46dc-ba2e-8f2490e53cc4",
   "metadata": {},
   "outputs": [],
   "source": [
    "#Oct2Dec\n",
    "\n",
    "def Oct2Dec(B):\n",
    "    \n",
    "    retval = B[0]\n",
    "    \n",
    "    for b in B[1:]:\n",
    "        retval = 8 * retval + b\n",
    "    return retval"
   ]
  },
  {
   "cell_type": "code",
   "execution_count": 10,
   "id": "cf75c112-3fcb-4d39-951e-3ba6b78666d9",
   "metadata": {},
   "outputs": [
    {
     "data": {
      "text/plain": [
       "421"
      ]
     },
     "execution_count": 10,
     "metadata": {},
     "output_type": "execute_result"
    }
   ],
   "source": [
    "Oct2Dec([6,4,5])"
   ]
  },
  {
   "cell_type": "code",
   "execution_count": 11,
   "id": "4931d59b-e552-4580-8cc8-cac0cb743726",
   "metadata": {},
   "outputs": [],
   "source": [
    "# Aufgabe 3"
   ]
  },
  {
   "cell_type": "code",
   "execution_count": 12,
   "id": "692053b5-b1c8-4c07-be80-3a8fa717efdf",
   "metadata": {},
   "outputs": [],
   "source": [
    "#Dec2Oct\n",
    "\n",
    "def Dec2Oct(num):\n",
    "\n",
    "    digits = []\n",
    "    \n",
    "    while True:\n",
    "        remainder = num % 8\n",
    "        quotient = num // 8\n",
    "    \n",
    "        digits.append(remainder)\n",
    "        num = quotient\n",
    "    \n",
    "        if quotient == 0:\n",
    "            break\n",
    "        \n",
    "    digits.reverse()\n",
    "    \n",
    "    return digits"
   ]
  },
  {
   "cell_type": "code",
   "execution_count": 13,
   "id": "fde2fccd-8804-4bd1-9756-6cfa3135646c",
   "metadata": {},
   "outputs": [
    {
     "data": {
      "text/plain": [
       "[6, 4, 5]"
      ]
     },
     "execution_count": 13,
     "metadata": {},
     "output_type": "execute_result"
    }
   ],
   "source": [
    "Dec2Oct(421)"
   ]
  },
  {
   "cell_type": "code",
   "execution_count": 14,
   "id": "9112cb3a-f5e5-41ca-a8ca-6f03b47909eb",
   "metadata": {},
   "outputs": [],
   "source": [
    "# Aufgabe 4"
   ]
  },
  {
   "cell_type": "code",
   "execution_count": 15,
   "id": "da363a08-16bd-44f5-a8a8-2d1ebf70e699",
   "metadata": {},
   "outputs": [
    {
     "data": {
      "text/plain": [
       "8"
      ]
     },
     "execution_count": 15,
     "metadata": {},
     "output_type": "execute_result"
    }
   ],
   "source": [
    "0b10 << 2"
   ]
  },
  {
   "cell_type": "code",
   "execution_count": 16,
   "id": "7d89cb44-885a-4888-932e-afa25e669e77",
   "metadata": {},
   "outputs": [
    {
     "data": {
      "text/plain": [
       "3"
      ]
     },
     "execution_count": 16,
     "metadata": {},
     "output_type": "execute_result"
    }
   ],
   "source": [
    "0b1111 >> 2"
   ]
  },
  {
   "cell_type": "code",
   "execution_count": 17,
   "id": "39d67743-e0b6-4c09-b7ca-ecfb4f8f259d",
   "metadata": {},
   "outputs": [
    {
     "data": {
      "text/plain": [
       "12"
      ]
     },
     "execution_count": 17,
     "metadata": {},
     "output_type": "execute_result"
    }
   ],
   "source": [
    "0b1111 >> 2 << 2"
   ]
  },
  {
   "cell_type": "code",
   "execution_count": 18,
   "id": "6b8ed55b-ed73-44d9-9cd5-7bb834dc120c",
   "metadata": {},
   "outputs": [
    {
     "data": {
      "text/plain": [
       "128"
      ]
     },
     "execution_count": 18,
     "metadata": {},
     "output_type": "execute_result"
    }
   ],
   "source": [
    "256 >> 1"
   ]
  },
  {
   "cell_type": "code",
   "execution_count": 19,
   "id": "0f246c64-9832-4742-97b5-3ab4f2a5fe2e",
   "metadata": {},
   "outputs": [
    {
     "data": {
      "text/plain": [
       "40"
      ]
     },
     "execution_count": 19,
     "metadata": {},
     "output_type": "execute_result"
    }
   ],
   "source": [
    "10 << 2"
   ]
  },
  {
   "cell_type": "code",
   "execution_count": 20,
   "id": "62e449d3-8f2d-4fa6-98a7-97f66cb4742e",
   "metadata": {},
   "outputs": [
    {
     "data": {
      "text/plain": [
       "254"
      ]
     },
     "execution_count": 20,
     "metadata": {},
     "output_type": "execute_result"
    }
   ],
   "source": [
    "255 >> 1 << 1"
   ]
  },
  {
   "cell_type": "code",
   "execution_count": 21,
   "id": "2bad2f5d-941e-406d-88b1-7345323603e8",
   "metadata": {},
   "outputs": [],
   "source": [
    "# Aufgabe 5"
   ]
  },
  {
   "cell_type": "code",
   "execution_count": 22,
   "id": "6e3e906f-d769-4f83-8942-272dbd0de2e3",
   "metadata": {},
   "outputs": [],
   "source": [
    "def mult(a):\n",
    "    s = 0\n",
    "    b = 14  # 0b1110\n",
    "    while b > 0:\n",
    "        if b & 1:\n",
    "            s += a\n",
    "        a <<= 1\n",
    "        b >>= 1\n",
    "    return s"
   ]
  },
  {
   "cell_type": "code",
   "execution_count": 23,
   "id": "174865ed-f267-43b0-bded-37000b2a43cd",
   "metadata": {},
   "outputs": [
    {
     "data": {
      "text/plain": [
       "28"
      ]
     },
     "execution_count": 23,
     "metadata": {},
     "output_type": "execute_result"
    }
   ],
   "source": [
    "mult(2)"
   ]
  },
  {
   "cell_type": "code",
   "execution_count": 24,
   "id": "c460bf4f-bba9-4405-81de-7353d8626aeb",
   "metadata": {},
   "outputs": [
    {
     "data": {
      "text/plain": [
       "42"
      ]
     },
     "execution_count": 24,
     "metadata": {},
     "output_type": "execute_result"
    }
   ],
   "source": [
    "mult(3)"
   ]
  },
  {
   "cell_type": "code",
   "execution_count": 25,
   "id": "36fa7f77-7478-49dc-8945-01cd1648cdf4",
   "metadata": {},
   "outputs": [
    {
     "data": {
      "text/plain": [
       "70"
      ]
     },
     "execution_count": 25,
     "metadata": {},
     "output_type": "execute_result"
    }
   ],
   "source": [
    "mult(5)"
   ]
  },
  {
   "cell_type": "code",
   "execution_count": 26,
   "id": "bde71b03-a323-49bf-bffb-594d155476e5",
   "metadata": {},
   "outputs": [],
   "source": [
    "# Nur mit + (Ansatz für obigen Algorhitmus)\n",
    "\n",
    "def mul(a):\n",
    "    s = 0\n",
    "    b = 14  \n",
    "    for i in range(0,b):\n",
    "        s += a\n",
    "    return s"
   ]
  },
  {
   "cell_type": "code",
   "execution_count": 27,
   "id": "12cc330f-1316-4246-bed9-1f2f5b0b9da7",
   "metadata": {},
   "outputs": [
    {
     "data": {
      "text/plain": [
       "28"
      ]
     },
     "execution_count": 27,
     "metadata": {},
     "output_type": "execute_result"
    }
   ],
   "source": [
    "mul(2)"
   ]
  },
  {
   "cell_type": "code",
   "execution_count": 28,
   "id": "7ac33e71-88f7-48d1-a2fb-c888688c0642",
   "metadata": {},
   "outputs": [
    {
     "data": {
      "text/plain": [
       "42"
      ]
     },
     "execution_count": 28,
     "metadata": {},
     "output_type": "execute_result"
    }
   ],
   "source": [
    "mul(3)"
   ]
  },
  {
   "cell_type": "code",
   "execution_count": 29,
   "id": "0b2c33ce-19df-49f0-821d-0e99931acb8b",
   "metadata": {},
   "outputs": [
    {
     "data": {
      "text/plain": [
       "70"
      ]
     },
     "execution_count": 29,
     "metadata": {},
     "output_type": "execute_result"
    }
   ],
   "source": [
    "mul(5)"
   ]
  },
  {
   "cell_type": "code",
   "execution_count": 30,
   "id": "395c0de8-8093-4616-9496-67513eb77aca",
   "metadata": {},
   "outputs": [],
   "source": [
    "# 2. Varaiante (ohne if-Bedingung)\n",
    "\n",
    "def multiply(a):\n",
    "    s = 0\n",
    "    b = 1\n",
    "    while b < 4:\n",
    "        s += (a << b)\n",
    "        b += 1\n",
    "    return s"
   ]
  },
  {
   "cell_type": "code",
   "execution_count": 31,
   "id": "fc348784-558f-4c69-af53-096451a87137",
   "metadata": {},
   "outputs": [
    {
     "data": {
      "text/plain": [
       "28"
      ]
     },
     "execution_count": 31,
     "metadata": {},
     "output_type": "execute_result"
    }
   ],
   "source": [
    "multiply(2)"
   ]
  },
  {
   "cell_type": "code",
   "execution_count": 32,
   "id": "68166dde-b9ad-448b-ab1d-d0303d4a5775",
   "metadata": {},
   "outputs": [
    {
     "data": {
      "text/plain": [
       "42"
      ]
     },
     "execution_count": 32,
     "metadata": {},
     "output_type": "execute_result"
    }
   ],
   "source": [
    "multiply(3)"
   ]
  },
  {
   "cell_type": "code",
   "execution_count": 33,
   "id": "9116c209-f16c-4e63-8759-fa99b30aa909",
   "metadata": {},
   "outputs": [
    {
     "data": {
      "text/plain": [
       "70"
      ]
     },
     "execution_count": 33,
     "metadata": {},
     "output_type": "execute_result"
    }
   ],
   "source": [
    "multiply(5)"
   ]
  },
  {
   "cell_type": "code",
   "execution_count": 34,
   "id": "d9e26bb5-5738-4236-ab52-442e293164b5",
   "metadata": {},
   "outputs": [],
   "source": [
    "# 3. Varaiante (ohne while-Schleife)\n",
    "\n",
    "def multi(a):\n",
    "    s = 0\n",
    "    for b in range(1,4):\n",
    "        s += (a << b)\n",
    "    return s"
   ]
  },
  {
   "cell_type": "code",
   "execution_count": 35,
   "id": "f93ae73c-6e64-4e8b-9b80-8642c9fcaf3f",
   "metadata": {},
   "outputs": [
    {
     "data": {
      "text/plain": [
       "28"
      ]
     },
     "execution_count": 35,
     "metadata": {},
     "output_type": "execute_result"
    }
   ],
   "source": [
    "multi(2)"
   ]
  },
  {
   "cell_type": "code",
   "execution_count": 36,
   "id": "2c936170-3fbd-45ef-909d-5c5abb3d322f",
   "metadata": {},
   "outputs": [
    {
     "data": {
      "text/plain": [
       "42"
      ]
     },
     "execution_count": 36,
     "metadata": {},
     "output_type": "execute_result"
    }
   ],
   "source": [
    "multi(3)"
   ]
  },
  {
   "cell_type": "code",
   "execution_count": 37,
   "id": "2b20a2b4-181e-4dd7-b7dc-99f29f9919ee",
   "metadata": {},
   "outputs": [
    {
     "data": {
      "text/plain": [
       "70"
      ]
     },
     "execution_count": 37,
     "metadata": {},
     "output_type": "execute_result"
    }
   ],
   "source": [
    "multi(5)"
   ]
  },
  {
   "cell_type": "code",
   "execution_count": 38,
   "id": "671c73ca-0667-4fbd-9edc-16f68532f56e",
   "metadata": {},
   "outputs": [],
   "source": [
    "# Aufgabe 6"
   ]
  },
  {
   "cell_type": "code",
   "execution_count": 39,
   "id": "20f4c109-f925-4197-9811-e1b0a1de95f7",
   "metadata": {},
   "outputs": [
    {
     "name": "stdout",
     "output_type": "stream",
     "text": [
      "In 8-Bit Darstellung:             100100 * 10000000 + 101010\n",
      "Mit 0d256 als 0b100000000:        10010 * 100000000 + 101010\n",
      "Ergebnis von 186 * 25 in 8-Bit:   42 bzw. 101010\n"
     ]
    }
   ],
   "source": [
    "print(\"In 8-Bit Darstellung:            \", \"{0:b}\".format((186 * 25) // 128), \"*\", \"{0:b}\".format(128), \"+\",\"{0:b}\".format((186 * 25) % 128))\n",
    "print(\"Mit 0d256 als 0b100000000:       \", \"{0:b}\".format((186 * 25) // 256), \"*\", \"{0:b}\".format(256), \"+\",\"{0:b}\".format((186 * 25) % 256))\n",
    "print(\"Ergebnis von 186 * 25 in 8-Bit:  \",(186 * 25) % 256, \"bzw.\" ,\"{0:b}\".format((186 * 25) % 256))"
   ]
  },
  {
   "cell_type": "code",
   "execution_count": 40,
   "id": "1d5258cb-68e6-400b-8a67-1fc15f7bf420",
   "metadata": {},
   "outputs": [
    {
     "data": {
      "text/plain": [
       "4650"
      ]
     },
     "execution_count": 40,
     "metadata": {},
     "output_type": "execute_result"
    }
   ],
   "source": [
    "0b100100 * 0b10000000 + 0b101010"
   ]
  },
  {
   "cell_type": "code",
   "execution_count": 41,
   "id": "5d3456bd-4a7e-4c2c-b82a-eba882a7fa5e",
   "metadata": {},
   "outputs": [
    {
     "data": {
      "text/plain": [
       "4650"
      ]
     },
     "execution_count": 41,
     "metadata": {},
     "output_type": "execute_result"
    }
   ],
   "source": [
    "186 * 25"
   ]
  },
  {
   "cell_type": "code",
   "execution_count": 42,
   "id": "259a0b60-c6cf-4c9c-8df5-eae70c1c8e8d",
   "metadata": {},
   "outputs": [],
   "source": [
    "#Aufgabe 7"
   ]
  },
  {
   "cell_type": "code",
   "execution_count": 43,
   "id": "714137fb-0916-4c46-812d-0b7b38dd239c",
   "metadata": {},
   "outputs": [],
   "source": [
    "def congruentModulo(a,b,n):\n",
    "    return a % n == b % n"
   ]
  },
  {
   "cell_type": "code",
   "execution_count": 44,
   "id": "f76e49c4-8162-4b14-85f1-5bd871eae95a",
   "metadata": {},
   "outputs": [
    {
     "data": {
      "text/plain": [
       "True"
      ]
     },
     "execution_count": 44,
     "metadata": {},
     "output_type": "execute_result"
    }
   ],
   "source": [
    "congruentModulo(201,101,10)"
   ]
  },
  {
   "cell_type": "code",
   "execution_count": 45,
   "id": "43720f7e-ba78-4a57-9eea-83be6603cd3f",
   "metadata": {},
   "outputs": [
    {
     "data": {
      "text/plain": [
       "False"
      ]
     },
     "execution_count": 45,
     "metadata": {},
     "output_type": "execute_result"
    }
   ],
   "source": [
    "congruentModulo(201,101,19)"
   ]
  },
  {
   "cell_type": "code",
   "execution_count": 46,
   "id": "03e8324d-aeb6-4177-89b5-24cdc52c6246",
   "metadata": {},
   "outputs": [
    {
     "data": {
      "text/plain": [
       "True"
      ]
     },
     "execution_count": 46,
     "metadata": {},
     "output_type": "execute_result"
    }
   ],
   "source": [
    "congruentModulo(101,101,19)"
   ]
  },
  {
   "cell_type": "code",
   "execution_count": 47,
   "id": "b78d60b9-9fe8-49e1-b739-09d5031ede6c",
   "metadata": {},
   "outputs": [
    {
     "data": {
      "text/plain": [
       "True"
      ]
     },
     "execution_count": 47,
     "metadata": {},
     "output_type": "execute_result"
    }
   ],
   "source": [
    "congruentModulo(0,42,7)"
   ]
  }
 ],
 "metadata": {
  "kernelspec": {
   "display_name": "Python 3 (ipykernel)",
   "language": "python",
   "name": "python3"
  },
  "language_info": {
   "codemirror_mode": {
    "name": "ipython",
    "version": 3
   },
   "file_extension": ".py",
   "mimetype": "text/x-python",
   "name": "python",
   "nbconvert_exporter": "python",
   "pygments_lexer": "ipython3",
   "version": "3.9.12"
  }
 },
 "nbformat": 4,
 "nbformat_minor": 5
}
