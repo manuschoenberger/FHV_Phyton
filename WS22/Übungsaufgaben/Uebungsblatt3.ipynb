{
 "cells": [
  {
   "cell_type": "code",
   "execution_count": 1,
   "id": "fa0e0261-ae40-4d2e-88c1-15b0473792db",
   "metadata": {},
   "outputs": [],
   "source": [
    "#Uebungsblatt 3"
   ]
  },
  {
   "cell_type": "code",
   "execution_count": 2,
   "id": "fbf3f5b0-5855-4abc-99de-45507958398d",
   "metadata": {},
   "outputs": [],
   "source": [
    "#Aufgabe 1"
   ]
  },
  {
   "cell_type": "code",
   "execution_count": 3,
   "id": "f3d17717-61b4-4fa0-a23e-6268a60365d2",
   "metadata": {},
   "outputs": [],
   "source": [
    "def ggT(a,b):\n",
    "    statA = a\n",
    "    statB = b\n",
    "    if a < b:\n",
    "        a, b = b, a\n",
    "    while (statA % b) != 0 or (statB % b) != 0:\n",
    "        b -= 1\n",
    "    return b"
   ]
  },
  {
   "cell_type": "code",
   "execution_count": 4,
   "id": "2f05983e-a898-43c0-be82-a083810b07d6",
   "metadata": {},
   "outputs": [
    {
     "data": {
      "text/plain": [
       "25"
      ]
     },
     "execution_count": 4,
     "metadata": {},
     "output_type": "execute_result"
    }
   ],
   "source": [
    "ggT(400,225)"
   ]
  },
  {
   "cell_type": "code",
   "execution_count": 5,
   "id": "8be67a70-419e-4e1c-bceb-9e77f005831b",
   "metadata": {},
   "outputs": [
    {
     "data": {
      "text/plain": [
       "25"
      ]
     },
     "execution_count": 5,
     "metadata": {},
     "output_type": "execute_result"
    }
   ],
   "source": [
    "ggT(225,400)"
   ]
  },
  {
   "cell_type": "code",
   "execution_count": 6,
   "id": "d84e6f2c-bd29-4123-be3c-40e5f73c2954",
   "metadata": {},
   "outputs": [
    {
     "data": {
      "text/plain": [
       "2"
      ]
     },
     "execution_count": 6,
     "metadata": {},
     "output_type": "execute_result"
    }
   ],
   "source": [
    "ggT(6,4)"
   ]
  },
  {
   "cell_type": "code",
   "execution_count": 7,
   "id": "4077a230-676b-4664-ab8d-6dacae8db381",
   "metadata": {},
   "outputs": [
    {
     "data": {
      "text/plain": [
       "2"
      ]
     },
     "execution_count": 7,
     "metadata": {},
     "output_type": "execute_result"
    }
   ],
   "source": [
    "ggT(4,6)"
   ]
  },
  {
   "cell_type": "code",
   "execution_count": 8,
   "id": "56a5b062-4877-4e3c-bcf4-5c7cc907dfcd",
   "metadata": {},
   "outputs": [
    {
     "data": {
      "text/plain": [
       "2"
      ]
     },
     "execution_count": 8,
     "metadata": {},
     "output_type": "execute_result"
    }
   ],
   "source": [
    "ggT(10,8)"
   ]
  },
  {
   "cell_type": "code",
   "execution_count": 9,
   "id": "8032d94c-90c0-4b9a-a60d-2d19e99b541b",
   "metadata": {},
   "outputs": [
    {
     "data": {
      "text/plain": [
       "2"
      ]
     },
     "execution_count": 9,
     "metadata": {},
     "output_type": "execute_result"
    }
   ],
   "source": [
    "ggT(8,10)"
   ]
  },
  {
   "cell_type": "code",
   "execution_count": 10,
   "id": "d244e8ea-5e2d-4615-98b2-15ef4c17e459",
   "metadata": {},
   "outputs": [
    {
     "data": {
      "text/plain": [
       "10"
      ]
     },
     "execution_count": 10,
     "metadata": {},
     "output_type": "execute_result"
    }
   ],
   "source": [
    "ggT(10,10)"
   ]
  },
  {
   "cell_type": "code",
   "execution_count": 12,
   "id": "ea13856f-1355-4f5a-8a4f-cc6756e05c6c",
   "metadata": {},
   "outputs": [],
   "source": [
    "#Aufgabe 5"
   ]
  },
  {
   "cell_type": "code",
   "execution_count": 13,
   "id": "30bce7d9-61c5-41b5-bf46-a6f802d5a15b",
   "metadata": {},
   "outputs": [],
   "source": [
    "def betterGGT(a,b):\n",
    "    if a < b:\n",
    "        a, b = b, a\n",
    "    while b != 0:\n",
    "        temp = b\n",
    "        b = a % b\n",
    "        a = temp\n",
    "    return a"
   ]
  },
  {
   "cell_type": "code",
   "execution_count": 14,
   "id": "cf6ad016-10e7-4342-a16d-a88b0e9dca5a",
   "metadata": {},
   "outputs": [
    {
     "data": {
      "text/plain": [
       "25"
      ]
     },
     "execution_count": 14,
     "metadata": {},
     "output_type": "execute_result"
    }
   ],
   "source": [
    "betterGGT(400,225)"
   ]
  },
  {
   "cell_type": "code",
   "execution_count": 15,
   "id": "d5e4eb93-3a4a-4b1f-a5c3-b1a36d55971f",
   "metadata": {},
   "outputs": [
    {
     "data": {
      "text/plain": [
       "25"
      ]
     },
     "execution_count": 15,
     "metadata": {},
     "output_type": "execute_result"
    }
   ],
   "source": [
    "betterGGT(225,400)"
   ]
  },
  {
   "cell_type": "code",
   "execution_count": 16,
   "id": "c6b5f509-7b24-4a3a-8818-acd2ed08d33c",
   "metadata": {},
   "outputs": [
    {
     "data": {
      "text/plain": [
       "2"
      ]
     },
     "execution_count": 16,
     "metadata": {},
     "output_type": "execute_result"
    }
   ],
   "source": [
    "betterGGT(6,4)"
   ]
  },
  {
   "cell_type": "code",
   "execution_count": 17,
   "id": "9f8a7223-d7cf-4f70-9117-6821c4467a6c",
   "metadata": {},
   "outputs": [
    {
     "data": {
      "text/plain": [
       "2"
      ]
     },
     "execution_count": 17,
     "metadata": {},
     "output_type": "execute_result"
    }
   ],
   "source": [
    "betterGGT(4,6)"
   ]
  },
  {
   "cell_type": "code",
   "execution_count": 18,
   "id": "12e815fe-27e6-460c-a020-deac93bdd43f",
   "metadata": {},
   "outputs": [
    {
     "data": {
      "text/plain": [
       "2"
      ]
     },
     "execution_count": 18,
     "metadata": {},
     "output_type": "execute_result"
    }
   ],
   "source": [
    "betterGGT(10,8)"
   ]
  },
  {
   "cell_type": "code",
   "execution_count": 19,
   "id": "ef2703fd-4f65-4085-a1c7-c5acc45cb870",
   "metadata": {},
   "outputs": [
    {
     "data": {
      "text/plain": [
       "2"
      ]
     },
     "execution_count": 19,
     "metadata": {},
     "output_type": "execute_result"
    }
   ],
   "source": [
    "betterGGT(8,10)"
   ]
  },
  {
   "cell_type": "code",
   "execution_count": 20,
   "id": "2cb83269-ffdf-4b0e-ae7f-078aae9e5984",
   "metadata": {},
   "outputs": [
    {
     "data": {
      "text/plain": [
       "10"
      ]
     },
     "execution_count": 20,
     "metadata": {},
     "output_type": "execute_result"
    }
   ],
   "source": [
    "betterGGT(10,10)"
   ]
  },
  {
   "cell_type": "code",
   "execution_count": 21,
   "id": "c71a7e5f-9ead-4e95-9ee3-6bf61d0003e3",
   "metadata": {},
   "outputs": [],
   "source": [
    "#Aufgabe 6"
   ]
  },
  {
   "cell_type": "code",
   "execution_count": 22,
   "id": "716c5072-c505-4bef-b236-6b14b8d5e764",
   "metadata": {},
   "outputs": [],
   "source": [
    "def extggT(a,b):\n",
    "    diffs = []\n",
    "    while a != b:\n",
    "        if b > a:\n",
    "            a, b = b, a \n",
    "        diffs.append([a,b]) \n",
    "        a = a - b\n",
    "\n",
    "    d = a \n",
    "    m = 1\n",
    "    n = -1 \n",
    "    a,b = diffs.pop() \n",
    "    for x,y in reversed(diffs):\n",
    "        if y == a:\n",
    "            b = x\n",
    "            m -= n \n",
    "        else:\n",
    "            a = x\n",
    "            n -= m \n",
    "    return [d, [m, a, n, b]]"
   ]
  },
  {
   "cell_type": "code",
   "execution_count": 23,
   "id": "15d66845-f2e3-49f6-984f-877c2b8d8601",
   "metadata": {},
   "outputs": [
    {
     "data": {
      "text/plain": [
       "[25, [9, 225, -5, 400]]"
      ]
     },
     "execution_count": 23,
     "metadata": {},
     "output_type": "execute_result"
    }
   ],
   "source": [
    "extggT(400,225)"
   ]
  },
  {
   "cell_type": "code",
   "execution_count": 24,
   "id": "3fb5392b-da4b-45b9-94f3-bc8bddc807b1",
   "metadata": {},
   "outputs": [
    {
     "data": {
      "text/plain": [
       "[25, [9, 225, -5, 400]]"
      ]
     },
     "execution_count": 24,
     "metadata": {},
     "output_type": "execute_result"
    }
   ],
   "source": [
    "extggT(225,400)"
   ]
  },
  {
   "cell_type": "code",
   "execution_count": 25,
   "id": "7c5ee7b7-2c04-42aa-906d-768ea8092640",
   "metadata": {},
   "outputs": [
    {
     "data": {
      "text/plain": [
       "[2, [2, 4, -1, 6]]"
      ]
     },
     "execution_count": 25,
     "metadata": {},
     "output_type": "execute_result"
    }
   ],
   "source": [
    "extggT(6,4)"
   ]
  },
  {
   "cell_type": "code",
   "execution_count": 26,
   "id": "f29502a6-9e28-4eb4-a7d2-d9ca3f41140a",
   "metadata": {},
   "outputs": [
    {
     "data": {
      "text/plain": [
       "[2, [2, 4, -1, 6]]"
      ]
     },
     "execution_count": 26,
     "metadata": {},
     "output_type": "execute_result"
    }
   ],
   "source": [
    "extggT(4,6)"
   ]
  },
  {
   "cell_type": "code",
   "execution_count": 27,
   "id": "a0767f64-62af-4a3c-adc9-179eaca7f0a7",
   "metadata": {},
   "outputs": [
    {
     "data": {
      "text/plain": [
       "[2, [4, 8, -3, 10]]"
      ]
     },
     "execution_count": 27,
     "metadata": {},
     "output_type": "execute_result"
    }
   ],
   "source": [
    "extggT(10,8)"
   ]
  },
  {
   "cell_type": "code",
   "execution_count": 28,
   "id": "434c70a0-76eb-4588-a2d8-44521609be24",
   "metadata": {},
   "outputs": [
    {
     "data": {
      "text/plain": [
       "[2, [4, 8, -3, 10]]"
      ]
     },
     "execution_count": 28,
     "metadata": {},
     "output_type": "execute_result"
    }
   ],
   "source": [
    "extggT(8,10)"
   ]
  },
  {
   "cell_type": "code",
   "execution_count": 29,
   "id": "90f984a5-3bb9-4b95-9441-cf7e5a969c56",
   "metadata": {},
   "outputs": [],
   "source": [
    "#Aufgabe 7"
   ]
  },
  {
   "cell_type": "code",
   "execution_count": 30,
   "id": "5319930a-04da-40b2-9aee-fd6ff7d195f9",
   "metadata": {},
   "outputs": [
    {
     "data": {
      "text/plain": [
       "[1, [5, 5, -4, 6]]"
      ]
     },
     "execution_count": 30,
     "metadata": {},
     "output_type": "execute_result"
    }
   ],
   "source": [
    "extggT(5,6)"
   ]
  },
  {
   "cell_type": "code",
   "execution_count": 31,
   "id": "4e81cafe-c20c-40c6-9bc6-44c36093b17d",
   "metadata": {},
   "outputs": [
    {
     "data": {
      "text/plain": [
       "[1, [7, 4, -3, 9]]"
      ]
     },
     "execution_count": 31,
     "metadata": {},
     "output_type": "execute_result"
    }
   ],
   "source": [
    "extggT(9,4)"
   ]
  },
  {
   "cell_type": "code",
   "execution_count": 32,
   "id": "e9d2ef41-a6b9-4cd0-af4c-c4390eed4711",
   "metadata": {},
   "outputs": [
    {
     "data": {
      "text/plain": [
       "[6, [3, 18, -2, 24]]"
      ]
     },
     "execution_count": 32,
     "metadata": {},
     "output_type": "execute_result"
    }
   ],
   "source": [
    "extggT(24,18)"
   ]
  },
  {
   "cell_type": "code",
   "execution_count": 33,
   "id": "114c61a1-8a2f-480f-895e-b0a7c4a7182c",
   "metadata": {},
   "outputs": [
    {
     "data": {
      "text/plain": [
       "[3, [46, 204, -59, 159]]"
      ]
     },
     "execution_count": 33,
     "metadata": {},
     "output_type": "execute_result"
    }
   ],
   "source": [
    "extggT(204,159)"
   ]
  },
  {
   "cell_type": "code",
   "execution_count": 34,
   "id": "2c992453-4424-40b0-9087-8e4c435c029c",
   "metadata": {},
   "outputs": [],
   "source": [
    "#Aufgabe 8"
   ]
  },
  {
   "cell_type": "code",
   "execution_count": 35,
   "id": "2fac26f0-f4e1-4726-a138-8d7bfc514fd9",
   "metadata": {},
   "outputs": [],
   "source": [
    "def checkISBN(digits): \n",
    "    factor = 1\n",
    "    sum = 0 \n",
    "    for digit in digits:\n",
    "        sum += factor * int(digit) \n",
    "        factor += 1\n",
    "    return(sum % 11)"
   ]
  },
  {
   "cell_type": "code",
   "execution_count": 36,
   "id": "1a4ed928-d18f-49a0-a7e0-42abb4f5c62e",
   "metadata": {},
   "outputs": [
    {
     "data": {
      "text/plain": [
       "4"
      ]
     },
     "execution_count": 36,
     "metadata": {},
     "output_type": "execute_result"
    }
   ],
   "source": [
    "checkISBN(\"148421177\")"
   ]
  }
 ],
 "metadata": {
  "kernelspec": {
   "display_name": "Python 3 (ipykernel)",
   "language": "python",
   "name": "python3"
  },
  "language_info": {
   "codemirror_mode": {
    "name": "ipython",
    "version": 3
   },
   "file_extension": ".py",
   "mimetype": "text/x-python",
   "name": "python",
   "nbconvert_exporter": "python",
   "pygments_lexer": "ipython3",
   "version": "3.9.12"
  }
 },
 "nbformat": 4,
 "nbformat_minor": 5
}
