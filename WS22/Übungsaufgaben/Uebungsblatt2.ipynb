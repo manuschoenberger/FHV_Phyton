{
 "cells": [
  {
   "cell_type": "code",
   "execution_count": 1,
   "id": "f5e7b0cc-4a6a-4759-b7c7-5c4015544598",
   "metadata": {},
   "outputs": [],
   "source": [
    "#Uebungsblatt 2"
   ]
  },
  {
   "cell_type": "code",
   "execution_count": 2,
   "id": "03a50e4e-f3eb-4b5a-ac04-40f9b269ecf5",
   "metadata": {},
   "outputs": [],
   "source": [
    "#Aufgabe 5"
   ]
  },
  {
   "cell_type": "code",
   "execution_count": 3,
   "id": "648ff925-ed5b-44a2-9fd9-6e5495bc9654",
   "metadata": {},
   "outputs": [],
   "source": [
    "def summod(a,b,n):\n",
    "    k = (a + b) % n\n",
    "    return k"
   ]
  },
  {
   "cell_type": "code",
   "execution_count": 4,
   "id": "fe60ba1f-a0c4-4dab-8597-3fbf75b25482",
   "metadata": {},
   "outputs": [
    {
     "data": {
      "text/plain": [
       "4"
      ]
     },
     "execution_count": 4,
     "metadata": {},
     "output_type": "execute_result"
    }
   ],
   "source": [
    "summod(5,6,7)"
   ]
  },
  {
   "cell_type": "code",
   "execution_count": 5,
   "id": "ec9eecd2-11ec-420f-b4d7-6433365dded3",
   "metadata": {},
   "outputs": [
    {
     "data": {
      "text/plain": [
       "2"
      ]
     },
     "execution_count": 5,
     "metadata": {},
     "output_type": "execute_result"
    }
   ],
   "source": [
    "summod(3,9,5)"
   ]
  },
  {
   "cell_type": "code",
   "execution_count": 6,
   "id": "22da348d-0995-4d7b-a98f-717678bb65e1",
   "metadata": {},
   "outputs": [
    {
     "data": {
      "text/plain": [
       "1"
      ]
     },
     "execution_count": 6,
     "metadata": {},
     "output_type": "execute_result"
    }
   ],
   "source": [
    "summod(14,65,78)"
   ]
  },
  {
   "cell_type": "code",
   "execution_count": 7,
   "id": "d347f4d2-7e60-45e8-9e9b-90b22609b8cc",
   "metadata": {},
   "outputs": [
    {
     "data": {
      "text/plain": [
       "79"
      ]
     },
     "execution_count": 7,
     "metadata": {},
     "output_type": "execute_result"
    }
   ],
   "source": [
    "summod(14,65,80)"
   ]
  },
  {
   "cell_type": "code",
   "execution_count": 8,
   "id": "33ca5e39-1eb8-41b8-a62b-b4e95f0db073",
   "metadata": {},
   "outputs": [],
   "source": [
    "#Aufgabe 7"
   ]
  },
  {
   "cell_type": "code",
   "execution_count": 9,
   "id": "d22872fe-e62d-4f7f-bd76-5e2a58567161",
   "metadata": {},
   "outputs": [],
   "source": [
    "#Quersumme einer Zahl n"
   ]
  },
  {
   "cell_type": "code",
   "execution_count": 10,
   "id": "7101ee14-45e2-4134-ac9b-03da4253baa5",
   "metadata": {},
   "outputs": [],
   "source": [
    "def quersum(n):\n",
    "    s = 0\n",
    "    while n > 0:\n",
    "        s += n % 10\n",
    "        n //= 10\n",
    "    return s"
   ]
  },
  {
   "cell_type": "code",
   "execution_count": 11,
   "id": "52c9008f-7499-43db-8ccd-58220aeb6751",
   "metadata": {},
   "outputs": [
    {
     "data": {
      "text/plain": [
       "6"
      ]
     },
     "execution_count": 11,
     "metadata": {},
     "output_type": "execute_result"
    }
   ],
   "source": [
    "quersum(321)"
   ]
  },
  {
   "cell_type": "code",
   "execution_count": 12,
   "id": "39726d51-509e-45db-887a-8cb1b1f2e418",
   "metadata": {},
   "outputs": [
    {
     "data": {
      "text/plain": [
       "27"
      ]
     },
     "execution_count": 12,
     "metadata": {},
     "output_type": "execute_result"
    }
   ],
   "source": [
    "quersum(5135913)"
   ]
  },
  {
   "cell_type": "code",
   "execution_count": 13,
   "id": "66e77a3a-75c6-4431-a866-8cbd21aa952b",
   "metadata": {},
   "outputs": [
    {
     "data": {
      "text/plain": [
       "28"
      ]
     },
     "execution_count": 13,
     "metadata": {},
     "output_type": "execute_result"
    }
   ],
   "source": [
    "quersum(5135914)"
   ]
  },
  {
   "cell_type": "code",
   "execution_count": 14,
   "id": "1e5dd178-16d7-42e5-b307-e3f56915742f",
   "metadata": {},
   "outputs": [
    {
     "data": {
      "text/plain": [
       "4"
      ]
     },
     "execution_count": 14,
     "metadata": {},
     "output_type": "execute_result"
    }
   ],
   "source": [
    "quersum(200000000002)"
   ]
  },
  {
   "cell_type": "code",
   "execution_count": 15,
   "id": "babc49c9-555b-4420-a73f-f00345548fad",
   "metadata": {},
   "outputs": [],
   "source": [
    "#iterierte Quersumme einer Zahl n"
   ]
  },
  {
   "cell_type": "code",
   "execution_count": 16,
   "id": "d4158fc0-24e0-4a2d-a7ba-5305f379c0ca",
   "metadata": {},
   "outputs": [],
   "source": [
    "def itQuersum(n):\n",
    "    s = 0\n",
    "    singleUseGateKey = 1 #Schlüssel für Eintritt der Schleife\n",
    "    while singleUseGateKey == 1:\n",
    "        singleUseGateKey = 0\n",
    "        while n > 0:\n",
    "            s += n % 10\n",
    "            n //= 10\n",
    "        if s > 9 and n == 0:\n",
    "            n = s\n",
    "            s = 0\n",
    "            singleUseGateKey = 1\n",
    "        if s < 9 and n == 0:\n",
    "            return s\n",
    "    return s"
   ]
  },
  {
   "cell_type": "code",
   "execution_count": 17,
   "id": "e5c7f151-22b2-46d8-97c8-e313c5eac3a0",
   "metadata": {},
   "outputs": [
    {
     "data": {
      "text/plain": [
       "6"
      ]
     },
     "execution_count": 17,
     "metadata": {},
     "output_type": "execute_result"
    }
   ],
   "source": [
    "itQuersum(321)"
   ]
  },
  {
   "cell_type": "code",
   "execution_count": 18,
   "id": "b43840a6-2853-4b46-be93-c4073d9b4a35",
   "metadata": {},
   "outputs": [
    {
     "data": {
      "text/plain": [
       "9"
      ]
     },
     "execution_count": 18,
     "metadata": {},
     "output_type": "execute_result"
    }
   ],
   "source": [
    "itQuersum(5135913)"
   ]
  },
  {
   "cell_type": "code",
   "execution_count": 19,
   "id": "859d4b9d-87cd-4e52-87e2-18ae38adfd50",
   "metadata": {},
   "outputs": [
    {
     "data": {
      "text/plain": [
       "1"
      ]
     },
     "execution_count": 19,
     "metadata": {},
     "output_type": "execute_result"
    }
   ],
   "source": [
    "itQuersum(5135914)"
   ]
  },
  {
   "cell_type": "code",
   "execution_count": 20,
   "id": "6a579cde-5f27-4720-9f13-a2aad970c2b6",
   "metadata": {},
   "outputs": [
    {
     "data": {
      "text/plain": [
       "4"
      ]
     },
     "execution_count": 20,
     "metadata": {},
     "output_type": "execute_result"
    }
   ],
   "source": [
    "itQuersum(2000000000002)"
   ]
  },
  {
   "cell_type": "code",
   "execution_count": 21,
   "id": "9fcba9ef-0fc4-4829-9e33-d754a03fd22a",
   "metadata": {},
   "outputs": [],
   "source": [
    "#Aufgabe 10"
   ]
  },
  {
   "cell_type": "code",
   "execution_count": 22,
   "id": "2524f00c-e105-4226-9095-bee22e5739f0",
   "metadata": {},
   "outputs": [],
   "source": [
    "def addInv(n,z):\n",
    "    n = z - (n % z)\n",
    "    return n"
   ]
  },
  {
   "cell_type": "code",
   "execution_count": 23,
   "id": "c5690847-0dbe-46d0-a420-d02e6e41bbba",
   "metadata": {},
   "outputs": [
    {
     "data": {
      "text/plain": [
       "2"
      ]
     },
     "execution_count": 23,
     "metadata": {},
     "output_type": "execute_result"
    }
   ],
   "source": [
    "addInv(4,6)"
   ]
  },
  {
   "cell_type": "code",
   "execution_count": 24,
   "id": "82a6a56c-cf66-466c-bddf-475b647131c1",
   "metadata": {},
   "outputs": [
    {
     "data": {
      "text/plain": [
       "6"
      ]
     },
     "execution_count": 24,
     "metadata": {},
     "output_type": "execute_result"
    }
   ],
   "source": [
    "addInv(4,10)"
   ]
  },
  {
   "cell_type": "code",
   "execution_count": 25,
   "id": "1447b9d7-a0ef-469e-81f7-f9b4b4197da6",
   "metadata": {},
   "outputs": [
    {
     "data": {
      "text/plain": [
       "2"
      ]
     },
     "execution_count": 25,
     "metadata": {},
     "output_type": "execute_result"
    }
   ],
   "source": [
    "addInv(10,4)"
   ]
  }
 ],
 "metadata": {
  "kernelspec": {
   "display_name": "Python 3 (ipykernel)",
   "language": "python",
   "name": "python3"
  },
  "language_info": {
   "codemirror_mode": {
    "name": "ipython",
    "version": 3
   },
   "file_extension": ".py",
   "mimetype": "text/x-python",
   "name": "python",
   "nbconvert_exporter": "python",
   "pygments_lexer": "ipython3",
   "version": "3.9.12"
  }
 },
 "nbformat": 4,
 "nbformat_minor": 5
}
