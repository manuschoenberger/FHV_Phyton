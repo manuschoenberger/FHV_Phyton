{
 "cells": [
  {
   "cell_type": "code",
   "execution_count": 1,
   "id": "d7d115c1-6ac9-4ca5-8178-d1ea869a878b",
   "metadata": {},
   "outputs": [
    {
     "data": {
      "text/plain": [
       "(False, True, False)"
      ]
     },
     "execution_count": 1,
     "metadata": {},
     "output_type": "execute_result"
    }
   ],
   "source": [
    "A = True \n",
    "B = False\n",
    "A & B, A | B, not A"
   ]
  },
  {
   "cell_type": "code",
   "execution_count": 2,
   "id": "fe92a0e3-4a56-4603-9f4b-89b9b86cc2b4",
   "metadata": {},
   "outputs": [],
   "source": [
    "def konjunktion(a,b):\n",
    "    if a == True:\n",
    "        if b == True:\n",
    "            return True\n",
    "    return False"
   ]
  },
  {
   "cell_type": "code",
   "execution_count": 3,
   "id": "f52cd907-c9d4-4ef3-9c0c-41a5d2c279ea",
   "metadata": {},
   "outputs": [
    {
     "data": {
      "text/plain": [
       "(False, False)"
      ]
     },
     "execution_count": 3,
     "metadata": {},
     "output_type": "execute_result"
    }
   ],
   "source": [
    "konjunktion(A,B), konjunktion(B,B)"
   ]
  },
  {
   "cell_type": "code",
   "execution_count": 4,
   "id": "c26f05f8-4d8b-47e9-b795-ceefcaefd318",
   "metadata": {},
   "outputs": [
    {
     "data": {
      "text/plain": [
       "False"
      ]
     },
     "execution_count": 4,
     "metadata": {},
     "output_type": "execute_result"
    }
   ],
   "source": [
    "B & B"
   ]
  },
  {
   "cell_type": "code",
   "execution_count": 5,
   "id": "3a60131a-2fa2-4b54-8b94-b2b51629800f",
   "metadata": {},
   "outputs": [
    {
     "data": {
      "text/plain": [
       "(True, False)"
      ]
     },
     "execution_count": 5,
     "metadata": {},
     "output_type": "execute_result"
    }
   ],
   "source": [
    "q = False\n",
    "p = True\n",
    "r = True\n",
    "p & (q or r), (p and q)"
   ]
  },
  {
   "cell_type": "code",
   "execution_count": 6,
   "id": "e05d699d-a574-4d88-be13-3b3b7ebc06dd",
   "metadata": {},
   "outputs": [],
   "source": [
    "def evalDist(p, q, r):\n",
    "    return p or (q & r) == (p or q) & (p or r)"
   ]
  },
  {
   "cell_type": "code",
   "execution_count": 7,
   "id": "f4b7e230-f009-40a5-b3e5-d9ede487e254",
   "metadata": {},
   "outputs": [
    {
     "data": {
      "text/plain": [
       "True"
      ]
     },
     "execution_count": 7,
     "metadata": {},
     "output_type": "execute_result"
    }
   ],
   "source": [
    "evalDist(True, True, False)"
   ]
  },
  {
   "cell_type": "code",
   "execution_count": 8,
   "id": "588dd3d6-d233-41eb-b990-b0c976cacc2e",
   "metadata": {},
   "outputs": [],
   "source": [
    "a = []\n",
    "for p in [True, False]:\n",
    "    for q in [True, False]: #Matrix\n",
    "        for r in [True, False]: #Matrix\n",
    "            a.append([p, q, r]) #2 Möglichkeiten mit 3 Variablen (2^3 Arrays)"
   ]
  },
  {
   "cell_type": "code",
   "execution_count": 9,
   "id": "903997ee-d4fe-430d-81b4-78ce60dc89d2",
   "metadata": {},
   "outputs": [
    {
     "data": {
      "text/plain": [
       "[[True, True, True],\n",
       " [True, True, False],\n",
       " [True, False, True],\n",
       " [True, False, False],\n",
       " [False, True, True],\n",
       " [False, True, False],\n",
       " [False, False, True],\n",
       " [False, False, False]]"
      ]
     },
     "execution_count": 9,
     "metadata": {},
     "output_type": "execute_result"
    }
   ],
   "source": [
    "a"
   ]
  },
  {
   "cell_type": "code",
   "execution_count": 10,
   "id": "846dfd57-af5a-4b9f-8b79-bad57d7ee369",
   "metadata": {},
   "outputs": [],
   "source": [
    "for x in a:\n",
    "    if not(evalDist(x[0], x[1], x[2])):\n",
    "        print('Formel ist falsch!')\n",
    "        break"
   ]
  }
 ],
 "metadata": {
  "kernelspec": {
   "display_name": "Python 3 (ipykernel)",
   "language": "python",
   "name": "python3"
  },
  "language_info": {
   "codemirror_mode": {
    "name": "ipython",
    "version": 3
   },
   "file_extension": ".py",
   "mimetype": "text/x-python",
   "name": "python",
   "nbconvert_exporter": "python",
   "pygments_lexer": "ipython3",
   "version": "3.9.12"
  }
 },
 "nbformat": 4,
 "nbformat_minor": 5
}
