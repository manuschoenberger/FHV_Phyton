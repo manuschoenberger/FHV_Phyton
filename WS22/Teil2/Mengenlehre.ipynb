{
 "cells": [
  {
   "cell_type": "code",
   "execution_count": 1,
   "id": "81126ab9-420e-4032-baa8-ed2e2273023e",
   "metadata": {},
   "outputs": [
    {
     "data": {
      "text/plain": [
       "True"
      ]
     },
     "execution_count": 1,
     "metadata": {},
     "output_type": "execute_result"
    }
   ],
   "source": [
    "#Zwei Möglichkeiten eine Menge zu definieren\n",
    "A = {1,2,3,42}\n",
    "B = set((1,3,3,2,42))\n",
    "A == B"
   ]
  },
  {
   "cell_type": "code",
   "execution_count": 2,
   "id": "274bc575-b548-4007-b50f-20397bd4e6bf",
   "metadata": {},
   "outputs": [
    {
     "data": {
      "text/plain": [
       "{1, 2, 3, 42}"
      ]
     },
     "execution_count": 2,
     "metadata": {},
     "output_type": "execute_result"
    }
   ],
   "source": [
    "B"
   ]
  },
  {
   "cell_type": "code",
   "execution_count": 3,
   "id": "a3e7cced-2aa7-4d4d-955d-468708d6b917",
   "metadata": {},
   "outputs": [
    {
     "data": {
      "text/plain": [
       "(True, False)"
      ]
     },
     "execution_count": 3,
     "metadata": {},
     "output_type": "execute_result"
    }
   ],
   "source": [
    "3 in A, 4 in A"
   ]
  },
  {
   "cell_type": "code",
   "execution_count": 4,
   "id": "4d6048a9-886c-4635-832b-37b9039a8b19",
   "metadata": {},
   "outputs": [
    {
     "data": {
      "text/plain": [
       "4"
      ]
     },
     "execution_count": 4,
     "metadata": {},
     "output_type": "execute_result"
    }
   ],
   "source": [
    "len(A)"
   ]
  },
  {
   "cell_type": "code",
   "execution_count": 5,
   "id": "e6ef2de1-a94b-486a-a2df-35810e3a5634",
   "metadata": {},
   "outputs": [
    {
     "data": {
      "text/plain": [
       "4"
      ]
     },
     "execution_count": 5,
     "metadata": {},
     "output_type": "execute_result"
    }
   ],
   "source": [
    "len({1,1,1,1,1,1,2,3,4}) #Menge"
   ]
  },
  {
   "cell_type": "code",
   "execution_count": 6,
   "id": "683e6c66-00da-4f59-b52e-327294046df5",
   "metadata": {},
   "outputs": [
    {
     "data": {
      "text/plain": [
       "9"
      ]
     },
     "execution_count": 6,
     "metadata": {},
     "output_type": "execute_result"
    }
   ],
   "source": [
    "len([1,1,1,1,1,1,2,3,4]) #Liste"
   ]
  },
  {
   "cell_type": "code",
   "execution_count": 7,
   "id": "f5045ba0-54d5-4fea-8a66-00d3044efce9",
   "metadata": {},
   "outputs": [
    {
     "data": {
      "text/plain": [
       "False"
      ]
     },
     "execution_count": 7,
     "metadata": {},
     "output_type": "execute_result"
    }
   ],
   "source": [
    "{1,2,4} == {1,2,3,4}"
   ]
  },
  {
   "cell_type": "code",
   "execution_count": 8,
   "id": "00bc09aa-b55b-4e55-ba00-d3c126c46b9b",
   "metadata": {},
   "outputs": [],
   "source": [
    "def subset(A, B):\n",
    "    for a in A:\n",
    "        if a not in B:\n",
    "            return False\n",
    "    return True"
   ]
  },
  {
   "cell_type": "code",
   "execution_count": 9,
   "id": "c21e4076-d2ea-46d1-b638-e7982be7f499",
   "metadata": {},
   "outputs": [
    {
     "data": {
      "text/plain": [
       "True"
      ]
     },
     "execution_count": 9,
     "metadata": {},
     "output_type": "execute_result"
    }
   ],
   "source": [
    "subset({1,2,4}, {1,2,3,4})"
   ]
  },
  {
   "cell_type": "code",
   "execution_count": 10,
   "id": "51c4e4bd-340b-4ad4-954c-fd787e91fd1f",
   "metadata": {},
   "outputs": [],
   "source": [
    "def realsubset(A, B): #echte Teilmenge\n",
    "    for a in A:\n",
    "        if a not in B:\n",
    "            return False\n",
    "    return (len(A) != len(B))"
   ]
  },
  {
   "cell_type": "code",
   "execution_count": 11,
   "id": "a071a9be-1994-4596-9acc-dd89e0ed5fbd",
   "metadata": {},
   "outputs": [
    {
     "data": {
      "text/plain": [
       "True"
      ]
     },
     "execution_count": 11,
     "metadata": {},
     "output_type": "execute_result"
    }
   ],
   "source": [
    "realsubset({1,2,4}, {1,2,3,4})"
   ]
  },
  {
   "cell_type": "code",
   "execution_count": 12,
   "id": "72abfcc9-0b18-4080-99fa-cfe5d7ce4af7",
   "metadata": {},
   "outputs": [
    {
     "data": {
      "text/plain": [
       "False"
      ]
     },
     "execution_count": 12,
     "metadata": {},
     "output_type": "execute_result"
    }
   ],
   "source": [
    "realsubset({1,2,3,4}, {1,2,3,4})"
   ]
  },
  {
   "cell_type": "code",
   "execution_count": 13,
   "id": "26544baa-0698-464e-a361-811d6b9d51cd",
   "metadata": {},
   "outputs": [
    {
     "data": {
      "text/plain": [
       "True"
      ]
     },
     "execution_count": 13,
     "metadata": {},
     "output_type": "execute_result"
    }
   ],
   "source": [
    "subset(set(), {1,2})"
   ]
  },
  {
   "cell_type": "code",
   "execution_count": 14,
   "id": "f38a6677-de5b-4fa0-ab0e-90fff6c694f5",
   "metadata": {},
   "outputs": [
    {
     "data": {
      "text/plain": [
       "{1,\n",
       " 2,\n",
       " 4,\n",
       " 5,\n",
       " 7,\n",
       " 8,\n",
       " 10,\n",
       " 11,\n",
       " 13,\n",
       " 14,\n",
       " 16,\n",
       " 17,\n",
       " 19,\n",
       " 20,\n",
       " 22,\n",
       " 23,\n",
       " 25,\n",
       " 26,\n",
       " 28,\n",
       " 29,\n",
       " 31,\n",
       " 32,\n",
       " 34,\n",
       " 35,\n",
       " 37,\n",
       " 38,\n",
       " 40,\n",
       " 41}"
      ]
     },
     "execution_count": 14,
     "metadata": {},
     "output_type": "execute_result"
    }
   ],
   "source": [
    "#natürlichen Zahlen kleiner 42 und nicht durch 3 teilbar\n",
    "A = set(range(42))\n",
    "D = set()\n",
    "A, D\n",
    "for n in A:\n",
    "    if n % 3 != 0:\n",
    "        D.add(n)\n",
    "D"
   ]
  },
  {
   "cell_type": "code",
   "execution_count": 15,
   "id": "89a7b1b9-f654-485d-bc3d-47cf6d4ace5d",
   "metadata": {},
   "outputs": [],
   "source": [
    "#x ist prim und ir quadrat ist kleiner als 10000\n",
    "import sympy\n",
    "x = set()\n",
    "for n in range(2, 101): #100**2 = 10000\n",
    "    if sympy.isprime(n) and n * n < 10000:\n",
    "        x.add(n)"
   ]
  },
  {
   "cell_type": "code",
   "execution_count": 16,
   "id": "69a40be2-df73-437e-b5bb-00614976d3f5",
   "metadata": {},
   "outputs": [
    {
     "data": {
      "text/plain": [
       "{2,\n",
       " 3,\n",
       " 5,\n",
       " 7,\n",
       " 11,\n",
       " 13,\n",
       " 17,\n",
       " 19,\n",
       " 23,\n",
       " 29,\n",
       " 31,\n",
       " 37,\n",
       " 41,\n",
       " 43,\n",
       " 47,\n",
       " 53,\n",
       " 59,\n",
       " 61,\n",
       " 67,\n",
       " 71,\n",
       " 73,\n",
       " 79,\n",
       " 83,\n",
       " 89,\n",
       " 97}"
      ]
     },
     "execution_count": 16,
     "metadata": {},
     "output_type": "execute_result"
    }
   ],
   "source": [
    "x"
   ]
  },
  {
   "cell_type": "code",
   "execution_count": 17,
   "id": "8bcd7f78-caa7-48f9-a2c5-49d15632a9bc",
   "metadata": {},
   "outputs": [],
   "source": [
    "D = {n ** 2 for n in A if n ** 2 < 500}  #\"for\" ist gleichgültig mit Doppelpunkt"
   ]
  },
  {
   "cell_type": "code",
   "execution_count": 18,
   "id": "88577438-0b11-4cef-adf7-e0f862e04dc3",
   "metadata": {},
   "outputs": [
    {
     "data": {
      "text/plain": [
       "{0,\n",
       " 1,\n",
       " 4,\n",
       " 9,\n",
       " 16,\n",
       " 25,\n",
       " 36,\n",
       " 49,\n",
       " 64,\n",
       " 81,\n",
       " 100,\n",
       " 121,\n",
       " 144,\n",
       " 169,\n",
       " 196,\n",
       " 225,\n",
       " 256,\n",
       " 289,\n",
       " 324,\n",
       " 361,\n",
       " 400,\n",
       " 441,\n",
       " 484}"
      ]
     },
     "execution_count": 18,
     "metadata": {},
     "output_type": "execute_result"
    }
   ],
   "source": [
    "D"
   ]
  },
  {
   "cell_type": "code",
   "execution_count": 19,
   "id": "0e59f0a4-a930-4aa1-9237-d6d802d0ca7a",
   "metadata": {},
   "outputs": [],
   "source": [
    "# Mengen mit 2 Parametern\n",
    "from fractions import Fraction\n",
    "B = {1,2,5}\n",
    "C = {3,7,9,11}\n",
    "A = set()\n",
    "for n in B:\n",
    "    for d in C:\n",
    "        A.add(Fraction(n,d))"
   ]
  },
  {
   "cell_type": "code",
   "execution_count": 20,
   "id": "3e88d0c8-6c19-4291-abc9-3783bdb839dd",
   "metadata": {},
   "outputs": [
    {
     "data": {
      "text/plain": [
       "{Fraction(1, 11),\n",
       " Fraction(1, 9),\n",
       " Fraction(1, 7),\n",
       " Fraction(2, 11),\n",
       " Fraction(2, 9),\n",
       " Fraction(2, 7),\n",
       " Fraction(1, 3),\n",
       " Fraction(5, 11),\n",
       " Fraction(5, 9),\n",
       " Fraction(2, 3),\n",
       " Fraction(5, 7),\n",
       " Fraction(5, 3)}"
      ]
     },
     "execution_count": 20,
     "metadata": {},
     "output_type": "execute_result"
    }
   ],
   "source": [
    "A"
   ]
  },
  {
   "cell_type": "code",
   "execution_count": 21,
   "id": "5614928f-1ae3-4982-a062-bd3f3f9e3fab",
   "metadata": {},
   "outputs": [
    {
     "data": {
      "text/plain": [
       "Fraction(1, 1)"
      ]
     },
     "execution_count": 21,
     "metadata": {},
     "output_type": "execute_result"
    }
   ],
   "source": [
    "Fraction(1,2) * Fraction(2,1)"
   ]
  },
  {
   "cell_type": "code",
   "execution_count": 22,
   "id": "dd5a4ce9-32e9-4a45-8e12-81e051427083",
   "metadata": {},
   "outputs": [
    {
     "name": "stdout",
     "output_type": "stream",
     "text": [
      "2\n",
      "3\n",
      "4\n",
      "5\n",
      "6\n",
      "7\n",
      "8\n",
      "9\n"
     ]
    }
   ],
   "source": [
    "#Iteratoren und Generatoren\n",
    "for i in range(2,10):\n",
    "    print(i)"
   ]
  },
  {
   "cell_type": "code",
   "execution_count": 23,
   "id": "39ee348e-b8e1-430c-8765-7b8c7fc8c4aa",
   "metadata": {},
   "outputs": [
    {
     "data": {
      "text/plain": [
       "range(2, 10)"
      ]
     },
     "execution_count": 23,
     "metadata": {},
     "output_type": "execute_result"
    }
   ],
   "source": [
    "#Generator\n",
    "range(2,10)"
   ]
  },
  {
   "cell_type": "code",
   "execution_count": 24,
   "id": "1134b714-32df-4991-8d59-de3134f132c4",
   "metadata": {},
   "outputs": [
    {
     "data": {
      "text/plain": [
       "[2, 3, 4, 5, 6, 7, 8, 9]"
      ]
     },
     "execution_count": 24,
     "metadata": {},
     "output_type": "execute_result"
    }
   ],
   "source": [
    "list(range(2,10))"
   ]
  },
  {
   "cell_type": "code",
   "execution_count": 25,
   "id": "15fbb24c-af21-4b22-8cd1-aa1abeae15fb",
   "metadata": {},
   "outputs": [
    {
     "name": "stdout",
     "output_type": "stream",
     "text": [
      "2\n",
      "3\n",
      "4\n",
      "5\n",
      "6\n",
      "7\n",
      "8\n",
      "9\n"
     ]
    }
   ],
   "source": [
    "#Iterator\n",
    "for i in list(range(2,10)):\n",
    "    print(i)"
   ]
  },
  {
   "cell_type": "code",
   "execution_count": 26,
   "id": "0cae9489-38d1-40c6-81f1-4597e0fcd997",
   "metadata": {},
   "outputs": [],
   "source": [
    "def myRange(a,b):\n",
    "    result = a\n",
    "    while result < b:\n",
    "        yield result #result.append(result)\n",
    "        result += 1 #result = result + 1"
   ]
  },
  {
   "cell_type": "code",
   "execution_count": 27,
   "id": "a81e9e24-51cc-47e9-990e-1743cab27f80",
   "metadata": {},
   "outputs": [
    {
     "data": {
      "text/plain": [
       "<generator object myRange at 0x00000266CB116900>"
      ]
     },
     "execution_count": 27,
     "metadata": {},
     "output_type": "execute_result"
    }
   ],
   "source": [
    "myRange(2,10)"
   ]
  },
  {
   "cell_type": "code",
   "execution_count": 28,
   "id": "94e4ab34-a916-4eb2-8f42-18122e2e63bc",
   "metadata": {},
   "outputs": [],
   "source": [
    "a = myRange(2,10)"
   ]
  },
  {
   "cell_type": "code",
   "execution_count": 29,
   "id": "eb20a3ad-f50b-4695-9139-6cd8b85d4f4c",
   "metadata": {},
   "outputs": [
    {
     "name": "stdout",
     "output_type": "stream",
     "text": [
      "2\n",
      "3\n",
      "4\n",
      "5\n",
      "6\n",
      "7\n",
      "8\n",
      "9\n"
     ]
    }
   ],
   "source": [
    "for i in a:\n",
    "    print(i)"
   ]
  },
  {
   "cell_type": "code",
   "execution_count": 30,
   "id": "96331920-617c-4bbb-b1f4-74b71b99a663",
   "metadata": {},
   "outputs": [],
   "source": [
    "#Menge der natürlichen Zahlen\n",
    "def Nat():\n",
    "    n = 0\n",
    "    while True:\n",
    "        yield n\n",
    "        n += 1"
   ]
  },
  {
   "cell_type": "code",
   "execution_count": 31,
   "id": "d28430aa-71c2-4006-9659-e6a7535910c0",
   "metadata": {},
   "outputs": [
    {
     "data": {
      "text/plain": [
       "<generator object Nat at 0x00000266CB116D60>"
      ]
     },
     "execution_count": 31,
     "metadata": {},
     "output_type": "execute_result"
    }
   ],
   "source": [
    "Nat()"
   ]
  },
  {
   "cell_type": "code",
   "execution_count": 32,
   "id": "4f48fc12-678c-4935-b688-305816b9233d",
   "metadata": {},
   "outputs": [],
   "source": [
    "def viewGen(gen,n):\n",
    "    c = 1\n",
    "    L = []\n",
    "    for x in gen:\n",
    "        if c > n:\n",
    "            break\n",
    "        L.append(x)\n",
    "        c += 1\n",
    "    return L"
   ]
  },
  {
   "cell_type": "code",
   "execution_count": 33,
   "id": "20039209-483c-4efd-941e-680452a7396a",
   "metadata": {},
   "outputs": [
    {
     "data": {
      "text/plain": [
       "[0, 1, 2, 3, 4, 5, 6, 7, 8, 9]"
      ]
     },
     "execution_count": 33,
     "metadata": {},
     "output_type": "execute_result"
    }
   ],
   "source": [
    "viewGen(Nat(),10)"
   ]
  },
  {
   "cell_type": "code",
   "execution_count": 35,
   "id": "6212c21a-7f59-4ec9-87ec-a56d268824ea",
   "metadata": {},
   "outputs": [
    {
     "name": "stdout",
     "output_type": "stream",
     "text": [
      "1/2\n"
     ]
    }
   ],
   "source": [
    "from fractions import Fraction\n",
    "print(Fraction(1,2))"
   ]
  },
  {
   "cell_type": "code",
   "execution_count": 38,
   "id": "b836d523-95ff-45d3-82d9-e0e5cb357633",
   "metadata": {},
   "outputs": [],
   "source": [
    "#Menge der rationalen Zahlen mit Cantors ersten Diagonalelement\n",
    "from fractions import Fraction\n",
    "\n",
    "def Rat():\n",
    "    c = 2\n",
    "    while True:\n",
    "        den = 1 # denominator\n",
    "        while den < c:\n",
    "            yield Fraction(c-den,den)\n",
    "            den += 1\n",
    "        c += 1"
   ]
  },
  {
   "cell_type": "code",
   "execution_count": 39,
   "id": "3d64d92a-8baa-4292-8e0c-5e885c8e392e",
   "metadata": {},
   "outputs": [
    {
     "data": {
      "text/plain": [
       "<generator object Rat at 0x00000266CBC1CAC0>"
      ]
     },
     "execution_count": 39,
     "metadata": {},
     "output_type": "execute_result"
    }
   ],
   "source": [
    "Rat()"
   ]
  },
  {
   "cell_type": "code",
   "execution_count": 41,
   "id": "c8e4f5cd-2d68-4669-9ee2-083b5d83cb6e",
   "metadata": {},
   "outputs": [
    {
     "data": {
      "text/plain": [
       "[Fraction(1, 1),\n",
       " Fraction(2, 1),\n",
       " Fraction(1, 2),\n",
       " Fraction(3, 1),\n",
       " Fraction(1, 1),\n",
       " Fraction(1, 3),\n",
       " Fraction(4, 1),\n",
       " Fraction(3, 2),\n",
       " Fraction(2, 3),\n",
       " Fraction(1, 4)]"
      ]
     },
     "execution_count": 41,
     "metadata": {},
     "output_type": "execute_result"
    }
   ],
   "source": [
    "viewGen(Rat(),10)"
   ]
  },
  {
   "cell_type": "code",
   "execution_count": 42,
   "id": "e1ab2a9b-3d29-4e21-948f-78ee6f9f44ba",
   "metadata": {},
   "outputs": [
    {
     "name": "stdout",
     "output_type": "stream",
     "text": [
      "1\n",
      "2\n",
      "1/2\n",
      "3\n",
      "1\n",
      "1/3\n",
      "4\n",
      "3/2\n",
      "2/3\n",
      "1/4\n"
     ]
    }
   ],
   "source": [
    "#Listenformat\n",
    "for q in viewGen(Rat(),10):\n",
    "    print(q)"
   ]
  }
 ],
 "metadata": {
  "kernelspec": {
   "display_name": "Python 3 (ipykernel)",
   "language": "python",
   "name": "python3"
  },
  "language_info": {
   "codemirror_mode": {
    "name": "ipython",
    "version": 3
   },
   "file_extension": ".py",
   "mimetype": "text/x-python",
   "name": "python",
   "nbconvert_exporter": "python",
   "pygments_lexer": "ipython3",
   "version": "3.9.12"
  }
 },
 "nbformat": 4,
 "nbformat_minor": 5
}
