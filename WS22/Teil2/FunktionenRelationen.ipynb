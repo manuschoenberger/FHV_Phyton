{
 "cells": [
  {
   "cell_type": "code",
   "execution_count": 1,
   "id": "1b9a594c-4449-4c48-829c-ff74c7fd6f89",
   "metadata": {},
   "outputs": [],
   "source": [
    "#Funktionen und Relationen"
   ]
  },
  {
   "cell_type": "code",
   "execution_count": 2,
   "id": "449b2888-aaae-4fbd-9ea6-00a5dbe2bd25",
   "metadata": {},
   "outputs": [
    {
     "data": {
      "text/plain": [
       "tuple"
      ]
     },
     "execution_count": 2,
     "metadata": {},
     "output_type": "execute_result"
    }
   ],
   "source": [
    "#Tupel\n",
    "x = (1,2)\n",
    "type(x)"
   ]
  },
  {
   "cell_type": "code",
   "execution_count": 3,
   "id": "339f47b2-89f7-48e7-9cf1-5454b648f034",
   "metadata": {},
   "outputs": [
    {
     "data": {
      "text/plain": [
       "True"
      ]
     },
     "execution_count": 3,
     "metadata": {},
     "output_type": "execute_result"
    }
   ],
   "source": [
    "x = (1,2)\n",
    "type(x)\n",
    "type(x) is tuple"
   ]
  },
  {
   "cell_type": "code",
   "execution_count": 4,
   "id": "a7413b01-29f8-4c3e-81e5-06e36dcd6b7a",
   "metadata": {},
   "outputs": [
    {
     "data": {
      "text/plain": [
       "False"
      ]
     },
     "execution_count": 4,
     "metadata": {},
     "output_type": "execute_result"
    }
   ],
   "source": [
    "x = (1,2)\n",
    "type(x)\n",
    "y = 3\n",
    "type(y) is tuple"
   ]
  },
  {
   "cell_type": "code",
   "execution_count": 6,
   "id": "65ecdf41-9224-486c-947a-c3606dafe96e",
   "metadata": {},
   "outputs": [
    {
     "data": {
      "text/plain": [
       "2"
      ]
     },
     "execution_count": 6,
     "metadata": {},
     "output_type": "execute_result"
    }
   ],
   "source": [
    "x[0] #erstes Element der Tuplen (Defintionsbereich)\n",
    "x[1] #zweites Element des Tupels (Wertebereichs)"
   ]
  },
  {
   "cell_type": "code",
   "execution_count": 7,
   "id": "e7c203ee-99f1-422c-b811-e7f6dee3af83",
   "metadata": {},
   "outputs": [
    {
     "data": {
      "text/plain": [
       "1"
      ]
     },
     "execution_count": 7,
     "metadata": {},
     "output_type": "execute_result"
    }
   ],
   "source": [
    "firstArgument = lambda t: t[0]\n",
    "firstArgument(x)"
   ]
  },
  {
   "cell_type": "code",
   "execution_count": 9,
   "id": "0d2910ea-d1bf-4e51-8cab-92a10e39a2d5",
   "metadata": {},
   "outputs": [
    {
     "data": {
      "text/plain": [
       "[1, 4, 9]"
      ]
     },
     "execution_count": 9,
     "metadata": {},
     "output_type": "execute_result"
    }
   ],
   "source": [
    "#map wendet eine Funktion auf alle Elemente an und liefert Iterator\n",
    "#list macht dann wieder einer Liste daraus\n",
    "list(map(lambda x: x**2, [1,2,3])) #x**2 für alle Elemente der Liste"
   ]
  },
  {
   "cell_type": "code",
   "execution_count": 10,
   "id": "17211495-16a0-4f43-a3b8-1b96799b93e8",
   "metadata": {},
   "outputs": [
    {
     "data": {
      "text/plain": [
       "[1, 2, 3]"
      ]
     },
     "execution_count": 10,
     "metadata": {},
     "output_type": "execute_result"
    }
   ],
   "source": [
    "list(map(firstArgument, [(1,1), (2,4), (3,9)]))"
   ]
  },
  {
   "cell_type": "code",
   "execution_count": 1,
   "id": "306c5bcf-2099-45a8-9a6e-2c1b9b554653",
   "metadata": {},
   "outputs": [],
   "source": [
    "#prüfen ob ein Argument nur tupel enthält\n",
    "all([True, False, True])\n",
    "def onlyTuples(s):\n",
    "    return(all(map(lambda x: type(x) is tuple, s)))"
   ]
  },
  {
   "cell_type": "code",
   "execution_count": 13,
   "id": "9ab6476e-6437-4085-af14-5d08728752c4",
   "metadata": {},
   "outputs": [
    {
     "data": {
      "text/plain": [
       "True"
      ]
     },
     "execution_count": 13,
     "metadata": {},
     "output_type": "execute_result"
    }
   ],
   "source": [
    "onlyTuples([(1,2),(2,4)])"
   ]
  },
  {
   "cell_type": "code",
   "execution_count": 14,
   "id": "ee25ecc8-e773-4205-b2d9-0fd79068c34d",
   "metadata": {},
   "outputs": [
    {
     "data": {
      "text/plain": [
       "False"
      ]
     },
     "execution_count": 14,
     "metadata": {},
     "output_type": "execute_result"
    }
   ],
   "source": [
    "onlyTuples([(1,2),(2,4),4])"
   ]
  },
  {
   "cell_type": "code",
   "execution_count": 16,
   "id": "bf673ed9-39b9-4c52-81de-e8e3e4598c94",
   "metadata": {},
   "outputs": [],
   "source": [
    "#prüfen ob Menge von Tupeln rechteindeutig ist\n",
    "def rightUnique(f):\n",
    "    for x1, y1 in f:\n",
    "        for x2, y2 in f:\n",
    "            if x1 == x2 and y1 != y2:\n",
    "                return False\n",
    "    return True"
   ]
  },
  {
   "cell_type": "code",
   "execution_count": 17,
   "id": "e1106d0b-6edb-43a1-93a5-d82d770e1542",
   "metadata": {},
   "outputs": [
    {
     "data": {
      "text/plain": [
       "True"
      ]
     },
     "execution_count": 17,
     "metadata": {},
     "output_type": "execute_result"
    }
   ],
   "source": [
    "rightUnique([(1,2),(2,4)])"
   ]
  },
  {
   "cell_type": "code",
   "execution_count": 18,
   "id": "f0b568f8-93f0-49af-b0b1-747a485ec809",
   "metadata": {},
   "outputs": [],
   "source": [
    "def isFunction(f):\n",
    "    return onlyTuples(f) and rightUnique(f)"
   ]
  },
  {
   "cell_type": "code",
   "execution_count": 19,
   "id": "cdfd021d-3ed5-4bed-92d7-0ee7d2bc4efd",
   "metadata": {},
   "outputs": [
    {
     "data": {
      "text/plain": [
       "True"
      ]
     },
     "execution_count": 19,
     "metadata": {},
     "output_type": "execute_result"
    }
   ],
   "source": [
    "isFunction([(1,2),(2,3),(3,5)])"
   ]
  },
  {
   "cell_type": "code",
   "execution_count": 1,
   "id": "b5ac1dec-9e26-460c-8e18-e38ebb3f3eba",
   "metadata": {},
   "outputs": [
    {
     "name": "stdout",
     "output_type": "stream",
     "text": [
      "frozenset({1, 10})\n",
      "frozenset({2, 10})\n",
      "frozenset({10, 3})\n"
     ]
    }
   ],
   "source": [
    "#frozenset == freeze the list and make it unchangable\n",
    "# | is pythons set-union (Vereinigung)\n",
    "for x in frozenset((1,2,3)):\n",
    "    print(frozenset([x]) | frozenset({10}))"
   ]
  },
  {
   "cell_type": "code",
   "execution_count": 2,
   "id": "d086a7e4-ee45-4fb3-8724-babac466c9b9",
   "metadata": {},
   "outputs": [
    {
     "data": {
      "text/plain": [
       "True"
      ]
     },
     "execution_count": 2,
     "metadata": {},
     "output_type": "execute_result"
    }
   ],
   "source": [
    "frozenset({10,3}) == frozenset({3,10})"
   ]
  }
 ],
 "metadata": {
  "kernelspec": {
   "display_name": "Python 3 (ipykernel)",
   "language": "python",
   "name": "python3"
  },
  "language_info": {
   "codemirror_mode": {
    "name": "ipython",
    "version": 3
   },
   "file_extension": ".py",
   "mimetype": "text/x-python",
   "name": "python",
   "nbconvert_exporter": "python",
   "pygments_lexer": "ipython3",
   "version": "3.9.12"
  }
 },
 "nbformat": 4,
 "nbformat_minor": 5
}
