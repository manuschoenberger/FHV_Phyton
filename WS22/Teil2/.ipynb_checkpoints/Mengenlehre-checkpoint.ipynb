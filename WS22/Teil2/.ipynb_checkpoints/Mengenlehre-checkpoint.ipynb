{
 "cells": [
  {
   "cell_type": "code",
   "execution_count": 1,
   "id": "81126ab9-420e-4032-baa8-ed2e2273023e",
   "metadata": {},
   "outputs": [
    {
     "data": {
      "text/plain": [
       "True"
      ]
     },
     "execution_count": 1,
     "metadata": {},
     "output_type": "execute_result"
    }
   ],
   "source": [
    "#Zwei Möglichkeiten eine Menge zu definieren\n",
    "A = {1,2,3,42}\n",
    "B = set((1,3,3,2,42))\n",
    "A == B"
   ]
  },
  {
   "cell_type": "code",
   "execution_count": 2,
   "id": "274bc575-b548-4007-b50f-20397bd4e6bf",
   "metadata": {},
   "outputs": [
    {
     "data": {
      "text/plain": [
       "{1, 2, 3, 42}"
      ]
     },
     "execution_count": 2,
     "metadata": {},
     "output_type": "execute_result"
    }
   ],
   "source": [
    "B"
   ]
  },
  {
   "cell_type": "code",
   "execution_count": 3,
   "id": "a3e7cced-2aa7-4d4d-955d-468708d6b917",
   "metadata": {},
   "outputs": [
    {
     "data": {
      "text/plain": [
       "(True, False)"
      ]
     },
     "execution_count": 3,
     "metadata": {},
     "output_type": "execute_result"
    }
   ],
   "source": [
    "3 in A, 4 in A"
   ]
  },
  {
   "cell_type": "code",
   "execution_count": 4,
   "id": "4d6048a9-886c-4635-832b-37b9039a8b19",
   "metadata": {},
   "outputs": [
    {
     "data": {
      "text/plain": [
       "4"
      ]
     },
     "execution_count": 4,
     "metadata": {},
     "output_type": "execute_result"
    }
   ],
   "source": [
    "len(A)"
   ]
  },
  {
   "cell_type": "code",
   "execution_count": 5,
   "id": "e6ef2de1-a94b-486a-a2df-35810e3a5634",
   "metadata": {},
   "outputs": [
    {
     "data": {
      "text/plain": [
       "4"
      ]
     },
     "execution_count": 5,
     "metadata": {},
     "output_type": "execute_result"
    }
   ],
   "source": [
    "len({1,1,1,1,1,1,2,3,4}) #Menge"
   ]
  },
  {
   "cell_type": "code",
   "execution_count": 6,
   "id": "683e6c66-00da-4f59-b52e-327294046df5",
   "metadata": {},
   "outputs": [
    {
     "data": {
      "text/plain": [
       "9"
      ]
     },
     "execution_count": 6,
     "metadata": {},
     "output_type": "execute_result"
    }
   ],
   "source": [
    "len([1,1,1,1,1,1,2,3,4]) #Liste"
   ]
  },
  {
   "cell_type": "code",
   "execution_count": 7,
   "id": "f5045ba0-54d5-4fea-8a66-00d3044efce9",
   "metadata": {},
   "outputs": [
    {
     "data": {
      "text/plain": [
       "False"
      ]
     },
     "execution_count": 7,
     "metadata": {},
     "output_type": "execute_result"
    }
   ],
   "source": [
    "{1,2,4} == {1,2,3,4}"
   ]
  },
  {
   "cell_type": "code",
   "execution_count": 8,
   "id": "00bc09aa-b55b-4e55-ba00-d3c126c46b9b",
   "metadata": {},
   "outputs": [],
   "source": [
    "def subset(A, B):\n",
    "    for a in A:\n",
    "        if a not in B:\n",
    "            return False\n",
    "    return True"
   ]
  },
  {
   "cell_type": "code",
   "execution_count": 9,
   "id": "c21e4076-d2ea-46d1-b638-e7982be7f499",
   "metadata": {},
   "outputs": [
    {
     "data": {
      "text/plain": [
       "True"
      ]
     },
     "execution_count": 9,
     "metadata": {},
     "output_type": "execute_result"
    }
   ],
   "source": [
    "subset({1,2,4}, {1,2,3,4})"
   ]
  },
  {
   "cell_type": "code",
   "execution_count": 10,
   "id": "51c4e4bd-340b-4ad4-954c-fd787e91fd1f",
   "metadata": {},
   "outputs": [],
   "source": [
    "def realsubset(A, B): #echte Teilmenge\n",
    "    for a in A:\n",
    "        if a not in B:\n",
    "            return False\n",
    "    return (len(A) != len(B))"
   ]
  },
  {
   "cell_type": "code",
   "execution_count": 11,
   "id": "a071a9be-1994-4596-9acc-dd89e0ed5fbd",
   "metadata": {},
   "outputs": [
    {
     "data": {
      "text/plain": [
       "True"
      ]
     },
     "execution_count": 11,
     "metadata": {},
     "output_type": "execute_result"
    }
   ],
   "source": [
    "realsubset({1,2,4}, {1,2,3,4})"
   ]
  },
  {
   "cell_type": "code",
   "execution_count": 12,
   "id": "72abfcc9-0b18-4080-99fa-cfe5d7ce4af7",
   "metadata": {},
   "outputs": [
    {
     "data": {
      "text/plain": [
       "False"
      ]
     },
     "execution_count": 12,
     "metadata": {},
     "output_type": "execute_result"
    }
   ],
   "source": [
    "realsubset({1,2,3,4}, {1,2,3,4})"
   ]
  },
  {
   "cell_type": "code",
   "execution_count": 13,
   "id": "26544baa-0698-464e-a361-811d6b9d51cd",
   "metadata": {},
   "outputs": [
    {
     "data": {
      "text/plain": [
       "True"
      ]
     },
     "execution_count": 13,
     "metadata": {},
     "output_type": "execute_result"
    }
   ],
   "source": [
    "subset(set(), {1,2})"
   ]
  },
  {
   "cell_type": "code",
   "execution_count": 14,
   "id": "f38a6677-de5b-4fa0-ab0e-90fff6c694f5",
   "metadata": {},
   "outputs": [
    {
     "data": {
      "text/plain": [
       "{1,\n",
       " 2,\n",
       " 4,\n",
       " 5,\n",
       " 7,\n",
       " 8,\n",
       " 10,\n",
       " 11,\n",
       " 13,\n",
       " 14,\n",
       " 16,\n",
       " 17,\n",
       " 19,\n",
       " 20,\n",
       " 22,\n",
       " 23,\n",
       " 25,\n",
       " 26,\n",
       " 28,\n",
       " 29,\n",
       " 31,\n",
       " 32,\n",
       " 34,\n",
       " 35,\n",
       " 37,\n",
       " 38,\n",
       " 40,\n",
       " 41}"
      ]
     },
     "execution_count": 14,
     "metadata": {},
     "output_type": "execute_result"
    }
   ],
   "source": [
    "#natürlichen Zahlen kleiner 42 und nicht durch 3 teilbar\n",
    "A = set(range(42))\n",
    "D = set()\n",
    "A, D\n",
    "for n in A:\n",
    "    if n % 3 != 0:\n",
    "        D.add(n)\n",
    "D"
   ]
  },
  {
   "cell_type": "code",
   "execution_count": 15,
   "id": "89a7b1b9-f654-485d-bc3d-47cf6d4ace5d",
   "metadata": {},
   "outputs": [],
   "source": [
    "#x ist prim und ir quadrat ist kleiner als 10000\n",
    "import sympy\n",
    "x = set()\n",
    "for n in range(2, 101): #100**2 = 10000\n",
    "    if sympy.isprime(n) and n * n < 10000:\n",
    "        x.add(n)"
   ]
  },
  {
   "cell_type": "code",
   "execution_count": 16,
   "id": "69a40be2-df73-437e-b5bb-00614976d3f5",
   "metadata": {},
   "outputs": [
    {
     "data": {
      "text/plain": [
       "{2,\n",
       " 3,\n",
       " 5,\n",
       " 7,\n",
       " 11,\n",
       " 13,\n",
       " 17,\n",
       " 19,\n",
       " 23,\n",
       " 29,\n",
       " 31,\n",
       " 37,\n",
       " 41,\n",
       " 43,\n",
       " 47,\n",
       " 53,\n",
       " 59,\n",
       " 61,\n",
       " 67,\n",
       " 71,\n",
       " 73,\n",
       " 79,\n",
       " 83,\n",
       " 89,\n",
       " 97}"
      ]
     },
     "execution_count": 16,
     "metadata": {},
     "output_type": "execute_result"
    }
   ],
   "source": [
    "x"
   ]
  },
  {
   "cell_type": "code",
   "execution_count": 17,
   "id": "8bcd7f78-caa7-48f9-a2c5-49d15632a9bc",
   "metadata": {},
   "outputs": [],
   "source": [
    "D = {n ** 2 for n in A if n ** 2 < 500}  #\"for\" ist gleichgültig mit Doppelpunkt"
   ]
  },
  {
   "cell_type": "code",
   "execution_count": 18,
   "id": "88577438-0b11-4cef-adf7-e0f862e04dc3",
   "metadata": {},
   "outputs": [
    {
     "data": {
      "text/plain": [
       "{0,\n",
       " 1,\n",
       " 4,\n",
       " 9,\n",
       " 16,\n",
       " 25,\n",
       " 36,\n",
       " 49,\n",
       " 64,\n",
       " 81,\n",
       " 100,\n",
       " 121,\n",
       " 144,\n",
       " 169,\n",
       " 196,\n",
       " 225,\n",
       " 256,\n",
       " 289,\n",
       " 324,\n",
       " 361,\n",
       " 400,\n",
       " 441,\n",
       " 484}"
      ]
     },
     "execution_count": 18,
     "metadata": {},
     "output_type": "execute_result"
    }
   ],
   "source": [
    "D"
   ]
  },
  {
   "cell_type": "code",
   "execution_count": 25,
   "id": "0e59f0a4-a930-4aa1-9237-d6d802d0ca7a",
   "metadata": {},
   "outputs": [],
   "source": [
    "#Mengen mit 2 Parametern\n",
    "from fractions import Fraction\n",
    "Y = {1,2,5}\n",
    "Z = {3,7,9,11}\n",
    "X = set()\n",
    "for n in B:\n",
    "    for d in C:\n",
    "        X.add(Fraction(n,d))"
   ]
  },
  {
   "cell_type": "code",
   "execution_count": 26,
   "id": "3e88d0c8-6c19-4291-abc9-3783bdb839dd",
   "metadata": {},
   "outputs": [
    {
     "data": {
      "text/plain": [
       "{Fraction(1, 11),\n",
       " Fraction(1, 9),\n",
       " Fraction(1, 7),\n",
       " Fraction(2, 11),\n",
       " Fraction(2, 9),\n",
       " Fraction(2, 7),\n",
       " Fraction(1, 3),\n",
       " Fraction(5, 11),\n",
       " Fraction(5, 9),\n",
       " Fraction(2, 3),\n",
       " Fraction(5, 7),\n",
       " Fraction(5, 3)}"
      ]
     },
     "execution_count": 26,
     "metadata": {},
     "output_type": "execute_result"
    }
   ],
   "source": [
    "X"
   ]
  },
  {
   "cell_type": "code",
   "execution_count": 23,
   "id": "5614928f-1ae3-4982-a062-bd3f3f9e3fab",
   "metadata": {},
   "outputs": [
    {
     "data": {
      "text/plain": [
       "Fraction(1, 1)"
      ]
     },
     "execution_count": 23,
     "metadata": {},
     "output_type": "execute_result"
    }
   ],
   "source": [
    "Fraction(1,2) * Fraction(2,1)"
   ]
  },
  {
   "cell_type": "code",
   "execution_count": null,
   "id": "d5a73b08-40e9-4ce8-9fdc-e5e4589ebb11",
   "metadata": {},
   "outputs": [],
   "source": []
  }
 ],
 "metadata": {
  "kernelspec": {
   "display_name": "Python 3 (ipykernel)",
   "language": "python",
   "name": "python3"
  },
  "language_info": {
   "codemirror_mode": {
    "name": "ipython",
    "version": 3
   },
   "file_extension": ".py",
   "mimetype": "text/x-python",
   "name": "python",
   "nbconvert_exporter": "python",
   "pygments_lexer": "ipython3",
   "version": "3.9.12"
  }
 },
 "nbformat": 4,
 "nbformat_minor": 5
}
