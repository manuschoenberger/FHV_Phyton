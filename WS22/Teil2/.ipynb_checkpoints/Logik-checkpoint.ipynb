{
 "cells": [
  {
   "cell_type": "code",
   "execution_count": 2,
   "id": "d7d115c1-6ac9-4ca5-8178-d1ea869a878b",
   "metadata": {},
   "outputs": [
    {
     "data": {
      "text/plain": [
       "(False, True, False)"
      ]
     },
     "execution_count": 2,
     "metadata": {},
     "output_type": "execute_result"
    }
   ],
   "source": [
    "A = True \n",
    "B = False\n",
    "A & B, A | B, not A"
   ]
  },
  {
   "cell_type": "code",
   "execution_count": 3,
   "id": "fe92a0e3-4a56-4603-9f4b-89b9b86cc2b4",
   "metadata": {},
   "outputs": [],
   "source": [
    "def konjunktion(a,b):\n",
    "    if a == True:\n",
    "        if b == True:\n",
    "            return True\n",
    "    return False"
   ]
  },
  {
   "cell_type": "code",
   "execution_count": 4,
   "id": "f52cd907-c9d4-4ef3-9c0c-41a5d2c279ea",
   "metadata": {},
   "outputs": [
    {
     "data": {
      "text/plain": [
       "(False, False)"
      ]
     },
     "execution_count": 4,
     "metadata": {},
     "output_type": "execute_result"
    }
   ],
   "source": [
    "konjunktion(A,B), konjunktion(B,B)"
   ]
  },
  {
   "cell_type": "code",
   "execution_count": 5,
   "id": "c26f05f8-4d8b-47e9-b795-ceefcaefd318",
   "metadata": {},
   "outputs": [
    {
     "data": {
      "text/plain": [
       "False"
      ]
     },
     "execution_count": 5,
     "metadata": {},
     "output_type": "execute_result"
    }
   ],
   "source": [
    "B & B"
   ]
  },
  {
   "cell_type": "code",
   "execution_count": null,
   "id": "3a60131a-2fa2-4b54-8b94-b2b51629800f",
   "metadata": {},
   "outputs": [],
   "source": [
    "q = False"
   ]
  }
 ],
 "metadata": {
  "kernelspec": {
   "display_name": "Python 3 (ipykernel)",
   "language": "python",
   "name": "python3"
  },
  "language_info": {
   "codemirror_mode": {
    "name": "ipython",
    "version": 3
   },
   "file_extension": ".py",
   "mimetype": "text/x-python",
   "name": "python",
   "nbconvert_exporter": "python",
   "pygments_lexer": "ipython3",
   "version": "3.9.12"
  }
 },
 "nbformat": 4,
 "nbformat_minor": 5
}
