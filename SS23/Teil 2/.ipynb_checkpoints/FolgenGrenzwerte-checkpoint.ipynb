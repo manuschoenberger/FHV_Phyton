{
 "cells": [
  {
   "cell_type": "code",
   "execution_count": 1,
   "id": "f0784e37-c6e3-427a-bc8e-7d969790cb77",
   "metadata": {},
   "outputs": [],
   "source": [
    "#Folgen und Grenzwerte"
   ]
  },
  {
   "cell_type": "code",
   "execution_count": 1,
   "id": "74bc3132-1fb6-4b89-8bfa-3b37ecb96c61",
   "metadata": {},
   "outputs": [
    {
     "name": "stdout",
     "output_type": "stream",
     "text": [
      "1\n",
      "1/2\n",
      "1/3\n",
      "1/4\n",
      "1/5\n",
      "1/6\n",
      "1/7\n",
      "1/8\n",
      "1/9\n",
      "1/10\n"
     ]
    }
   ],
   "source": [
    "#harmonische Folge (i => 1/i)\n",
    "from fractions import Fraction\n",
    "\n",
    "def harmonic():\n",
    "    n = 1\n",
    "    while True:\n",
    "        yield Fraction(1, n)\n",
    "        n +=1\n",
    "        \n",
    "gen = harmonic()\n",
    "for i in range(10):\n",
    "    print(next(gen))"
   ]
  },
  {
   "cell_type": "code",
   "execution_count": 2,
   "id": "e4c578ad-3a6a-4f21-87a6-9dacd52be83e",
   "metadata": {},
   "outputs": [
    {
     "name": "stdout",
     "output_type": "stream",
     "text": [
      "-1\n",
      "1\n",
      "-1\n",
      "1\n",
      "-1\n",
      "1\n",
      "-1\n",
      "1\n",
      "-1\n",
      "1\n"
     ]
    }
   ],
   "source": [
    "def divergent():\n",
    "    n = 1\n",
    "    while True:\n",
    "        yield (-1)**n\n",
    "        n += 1\n",
    "        \n",
    "gen = divergent()\n",
    "for i in range(10):\n",
    "    print(next(gen))"
   ]
  },
  {
   "cell_type": "code",
   "execution_count": 2,
   "id": "aa28e92f-ae97-4553-b779-d9f364722caf",
   "metadata": {},
   "outputs": [],
   "source": [
    "def someValues(seq, L = [10 ** k for k in range(10)]):\n",
    "    for n in L:\n",
    "        #Exception\n",
    "        try: \n",
    "            print(\"{:>15}: {}\".format(n, seq(n)))\n",
    "        except ZeroDivisionError:\n",
    "            print(\"Division by Zero for n = \",n)"
   ]
  },
  {
   "cell_type": "code",
   "execution_count": 3,
   "id": "bebede31-ac0d-4d5d-95e8-3c11f24d62e9",
   "metadata": {},
   "outputs": [
    {
     "name": "stdout",
     "output_type": "stream",
     "text": [
      "              1: 1.0\n",
      "             10: 0.1\n",
      "            100: 0.01\n",
      "           1000: 0.001\n",
      "          10000: 0.0001\n",
      "         100000: 1e-05\n",
      "        1000000: 1e-06\n",
      "       10000000: 1e-07\n",
      "      100000000: 1e-08\n",
      "     1000000000: 1e-09\n"
     ]
    }
   ],
   "source": [
    "someValues(lambda n: 1/n) #lambda für implizierte Funktionen"
   ]
  },
  {
   "cell_type": "code",
   "execution_count": 4,
   "id": "7d31dad3-a269-452e-ba0c-9048015158bd",
   "metadata": {},
   "outputs": [],
   "source": [
    "#ohne lambda\n",
    "def harmonic(n):\n",
    "    return 1/n"
   ]
  },
  {
   "cell_type": "code",
   "execution_count": 5,
   "id": "c5e3999e-430e-49bb-8911-0b920656c1f7",
   "metadata": {},
   "outputs": [
    {
     "name": "stdout",
     "output_type": "stream",
     "text": [
      "              1: 1.0\n",
      "             10: 0.1\n",
      "            100: 0.01\n",
      "           1000: 0.001\n",
      "          10000: 0.0001\n",
      "         100000: 1e-05\n",
      "        1000000: 1e-06\n",
      "       10000000: 1e-07\n",
      "      100000000: 1e-08\n",
      "     1000000000: 1e-09\n"
     ]
    }
   ],
   "source": [
    "someValues(harmonic)"
   ]
  },
  {
   "cell_type": "code",
   "execution_count": 6,
   "id": "336a5cb3-591a-4c2f-af82-54262fc3a247",
   "metadata": {},
   "outputs": [
    {
     "name": "stdout",
     "output_type": "stream",
     "text": [
      "              1: 1\n",
      "             10: 100\n",
      "            100: 10000\n",
      "           1000: 1000000\n",
      "          10000: 100000000\n",
      "         100000: 10000000000\n",
      "        1000000: 1000000000000\n",
      "       10000000: 100000000000000\n",
      "      100000000: 10000000000000000\n",
      "     1000000000: 1000000000000000000\n"
     ]
    }
   ],
   "source": [
    "# n^2 -> bestimmt divergent\n",
    "someValues(lambda n: n**2)"
   ]
  },
  {
   "cell_type": "code",
   "execution_count": 7,
   "id": "67f27634-0593-49fe-907c-6ce4a5025c1e",
   "metadata": {},
   "outputs": [
    {
     "name": "stdout",
     "output_type": "stream",
     "text": [
      "              1: -1\n",
      "             10: 1\n",
      "            100: 1\n",
      "           1000: 1\n",
      "          10000: 1\n",
      "         100000: 1\n",
      "        1000000: 1\n",
      "       10000000: 1\n",
      "      100000000: 1\n",
      "     1000000000: 1\n"
     ]
    }
   ],
   "source": [
    "# (-1)^n -> divergent\n",
    "someValues(lambda n: (-1)**n)"
   ]
  },
  {
   "cell_type": "code",
   "execution_count": 8,
   "id": "f5a24524-54f2-4e1c-8b52-2078202be592",
   "metadata": {},
   "outputs": [],
   "source": [
    "def someValues1(seq, L = [k for k in range(10)]):\n",
    "    for n in L:\n",
    "        #Exception\n",
    "        try: \n",
    "            print(\"{:>15}: {}\".format(n, seq(n)))\n",
    "        except ZeroDivisionError:\n",
    "            print(\"Division by Zero for n = \",n)"
   ]
  },
  {
   "cell_type": "code",
   "execution_count": 9,
   "id": "93587eb6-e9c6-4a7e-a91a-b4e684e739e5",
   "metadata": {},
   "outputs": [
    {
     "name": "stdout",
     "output_type": "stream",
     "text": [
      "              0: 1\n",
      "              1: -1\n",
      "              2: 1\n",
      "              3: -1\n",
      "              4: 1\n",
      "              5: -1\n",
      "              6: 1\n",
      "              7: -1\n",
      "              8: 1\n",
      "              9: -1\n"
     ]
    }
   ],
   "source": [
    "# (-1)^n -> divergent\n",
    "someValues1(lambda n: (-1)**n)"
   ]
  },
  {
   "cell_type": "code",
   "execution_count": 10,
   "id": "fdd39959-e827-48f7-a1fe-9bb573ba2837",
   "metadata": {},
   "outputs": [
    {
     "name": "stdout",
     "output_type": "stream",
     "text": [
      "              1: 0.5\n",
      "             10: 0.9090909090909091\n",
      "            100: 0.9900990099009901\n",
      "           1000: 0.999000999000999\n",
      "          10000: 0.9999000099990001\n",
      "         100000: 0.999990000099999\n",
      "        1000000: 0.999999000001\n",
      "       10000000: 0.99999990000001\n",
      "      100000000: 0.9999999900000001\n",
      "     1000000000: 0.999999999\n"
     ]
    }
   ],
   "source": [
    "someValues(lambda n: n/(n+1))"
   ]
  },
  {
   "cell_type": "code",
   "execution_count": 14,
   "id": "d08548c8-0651-4d85-80b8-58450b95d882",
   "metadata": {},
   "outputs": [],
   "source": [
    "def someValues2(seq, L = [10 ** k for k in range(2,10)]):\n",
    "    for n in L:\n",
    "        #Exception\n",
    "        try: \n",
    "            print(\"{:>15}: {}\".format(n, seq(n)))\n",
    "        except ZeroDivisionError:\n",
    "            print(\"Division by Zero for n = \",n)"
   ]
  },
  {
   "cell_type": "code",
   "execution_count": 16,
   "id": "b952d07e-f39b-46f5-9cd9-a585cce30040",
   "metadata": {},
   "outputs": [
    {
     "name": "stdout",
     "output_type": "stream",
     "text": [
      "            100: 1.0002000200020003\n",
      "           1000: 1.000002000002\n",
      "          10000: 1.00000002\n",
      "         100000: 1.0000000002\n",
      "        1000000: 1.000000000002\n",
      "       10000000: 1.00000000000002\n",
      "      100000000: 1.0000000000000002\n",
      "     1000000000: 1.0\n"
     ]
    }
   ],
   "source": [
    "someValues2(lambda n: (n**2 + 1)/(n**2 - 1))"
   ]
  },
  {
   "cell_type": "code",
   "execution_count": 17,
   "id": "2752ad2d-b0b5-41ee-a891-4312fe522db2",
   "metadata": {},
   "outputs": [
    {
     "name": "stdout",
     "output_type": "stream",
     "text": [
      "              1: 1.0\n",
      "             10: 0.1\n",
      "            100: 0.01\n",
      "           1000: 0.001\n",
      "          10000: 0.0001\n",
      "         100000: 1e-05\n",
      "        1000000: 1e-06\n",
      "       10000000: 1e-07\n",
      "      100000000: 1e-08\n",
      "     1000000000: 1e-09\n"
     ]
    }
   ],
   "source": [
    "someValues(lambda n: n**2/n**3)"
   ]
  },
  {
   "cell_type": "code",
   "execution_count": 19,
   "id": "0a3c5346-ca46-438e-914d-b5dafd1d4b61",
   "metadata": {},
   "outputs": [
    {
     "name": "stdout",
     "output_type": "stream",
     "text": [
      "              1: 9.9999999e-09\n",
      "             10: 9.99999000001e-07\n",
      "            100: 9.999000099990002e-05\n",
      "           1000: 0.009900990099009901\n",
      "          10000: 0.5\n",
      "         100000: 0.9900990099009901\n",
      "        1000000: 0.9999000099990001\n",
      "       10000000: 0.999999000001\n",
      "      100000000: 0.9999999900000001\n",
      "     1000000000: 0.9999999999\n"
     ]
    }
   ],
   "source": [
    "someValues(lambda n: n**2/(n**2 + 100000000))"
   ]
  },
  {
   "cell_type": "code",
   "execution_count": 1,
   "id": "cca62b7a-8430-41f2-920a-52b615213f35",
   "metadata": {},
   "outputs": [],
   "source": [
    "import matplotlib.pyplot as plt\n",
    "import math as Math\n",
    "import numpy as np\n",
    "\n",
    "samples = 1000\n",
    "domain = [1,20]\n",
    "f = lambda x: ((2 * x) - 1)/x\n",
    "\n",
    "X = np.linspace(*domain, samples)"
   ]
  },
  {
   "cell_type": "code",
   "execution_count": 2,
   "id": "826c391a-a059-4cad-b912-edb4eafc8209",
   "metadata": {},
   "outputs": [
    {
     "name": "stdout",
     "output_type": "stream",
     "text": [
      "[ 1.          1.01901902  1.03803804  1.05705706  1.07607608  1.0950951\n",
      "  1.11411411  1.13313313  1.15215215  1.17117117  1.19019019  1.20920921\n",
      "  1.22822823  1.24724725  1.26626627  1.28528529  1.3043043   1.32332332\n",
      "  1.34234234  1.36136136  1.38038038  1.3993994   1.41841842  1.43743744\n",
      "  1.45645646  1.47547548  1.49449449  1.51351351  1.53253253  1.55155155\n",
      "  1.57057057  1.58958959  1.60860861  1.62762763  1.64664665  1.66566567\n",
      "  1.68468468  1.7037037   1.72272272  1.74174174  1.76076076  1.77977978\n",
      "  1.7987988   1.81781782  1.83683684  1.85585586  1.87487487  1.89389389\n",
      "  1.91291291  1.93193193  1.95095095  1.96996997  1.98898899  2.00800801\n",
      "  2.02702703  2.04604605  2.06506507  2.08408408  2.1031031   2.12212212\n",
      "  2.14114114  2.16016016  2.17917918  2.1981982   2.21721722  2.23623624\n",
      "  2.25525526  2.27427427  2.29329329  2.31231231  2.33133133  2.35035035\n",
      "  2.36936937  2.38838839  2.40740741  2.42642643  2.44544545  2.46446446\n",
      "  2.48348348  2.5025025   2.52152152  2.54054054  2.55955956  2.57857858\n",
      "  2.5975976   2.61661662  2.63563564  2.65465465  2.67367367  2.69269269\n",
      "  2.71171171  2.73073073  2.74974975  2.76876877  2.78778779  2.80680681\n",
      "  2.82582583  2.84484484  2.86386386  2.88288288  2.9019019   2.92092092\n",
      "  2.93993994  2.95895896  2.97797798  2.996997    3.01601602  3.03503504\n",
      "  3.05405405  3.07307307  3.09209209  3.11111111  3.13013013  3.14914915\n",
      "  3.16816817  3.18718719  3.20620621  3.22522523  3.24424424  3.26326326\n",
      "  3.28228228  3.3013013   3.32032032  3.33933934  3.35835836  3.37737738\n",
      "  3.3963964   3.41541542  3.43443443  3.45345345  3.47247247  3.49149149\n",
      "  3.51051051  3.52952953  3.54854855  3.56756757  3.58658659  3.60560561\n",
      "  3.62462462  3.64364364  3.66266266  3.68168168  3.7007007   3.71971972\n",
      "  3.73873874  3.75775776  3.77677678  3.7957958   3.81481481  3.83383383\n",
      "  3.85285285  3.87187187  3.89089089  3.90990991  3.92892893  3.94794795\n",
      "  3.96696697  3.98598599  4.00500501  4.02402402  4.04304304  4.06206206\n",
      "  4.08108108  4.1001001   4.11911912  4.13813814  4.15715716  4.17617618\n",
      "  4.1951952   4.21421421  4.23323323  4.25225225  4.27127127  4.29029029\n",
      "  4.30930931  4.32832833  4.34734735  4.36636637  4.38538539  4.4044044\n",
      "  4.42342342  4.44244244  4.46146146  4.48048048  4.4994995   4.51851852\n",
      "  4.53753754  4.55655656  4.57557558  4.59459459  4.61361361  4.63263263\n",
      "  4.65165165  4.67067067  4.68968969  4.70870871  4.72772773  4.74674675\n",
      "  4.76576577  4.78478478  4.8038038   4.82282282  4.84184184  4.86086086\n",
      "  4.87987988  4.8988989   4.91791792  4.93693694  4.95595596  4.97497497\n",
      "  4.99399399  5.01301301  5.03203203  5.05105105  5.07007007  5.08908909\n",
      "  5.10810811  5.12712713  5.14614615  5.16516517  5.18418418  5.2032032\n",
      "  5.22222222  5.24124124  5.26026026  5.27927928  5.2982983   5.31731732\n",
      "  5.33633634  5.35535536  5.37437437  5.39339339  5.41241241  5.43143143\n",
      "  5.45045045  5.46946947  5.48848849  5.50750751  5.52652653  5.54554555\n",
      "  5.56456456  5.58358358  5.6026026   5.62162162  5.64064064  5.65965966\n",
      "  5.67867868  5.6976977   5.71671672  5.73573574  5.75475475  5.77377377\n",
      "  5.79279279  5.81181181  5.83083083  5.84984985  5.86886887  5.88788789\n",
      "  5.90690691  5.92592593  5.94494494  5.96396396  5.98298298  6.002002\n",
      "  6.02102102  6.04004004  6.05905906  6.07807808  6.0970971   6.11611612\n",
      "  6.13513514  6.15415415  6.17317317  6.19219219  6.21121121  6.23023023\n",
      "  6.24924925  6.26826827  6.28728729  6.30630631  6.32532533  6.34434434\n",
      "  6.36336336  6.38238238  6.4014014   6.42042042  6.43943944  6.45845846\n",
      "  6.47747748  6.4964965   6.51551552  6.53453453  6.55355355  6.57257257\n",
      "  6.59159159  6.61061061  6.62962963  6.64864865  6.66766767  6.68668669\n",
      "  6.70570571  6.72472472  6.74374374  6.76276276  6.78178178  6.8008008\n",
      "  6.81981982  6.83883884  6.85785786  6.87687688  6.8958959   6.91491491\n",
      "  6.93393393  6.95295295  6.97197197  6.99099099  7.01001001  7.02902903\n",
      "  7.04804805  7.06706707  7.08608609  7.10510511  7.12412412  7.14314314\n",
      "  7.16216216  7.18118118  7.2002002   7.21921922  7.23823824  7.25725726\n",
      "  7.27627628  7.2952953   7.31431431  7.33333333  7.35235235  7.37137137\n",
      "  7.39039039  7.40940941  7.42842843  7.44744745  7.46646647  7.48548549\n",
      "  7.5045045   7.52352352  7.54254254  7.56156156  7.58058058  7.5995996\n",
      "  7.61861862  7.63763764  7.65665666  7.67567568  7.69469469  7.71371371\n",
      "  7.73273273  7.75175175  7.77077077  7.78978979  7.80880881  7.82782783\n",
      "  7.84684685  7.86586587  7.88488488  7.9039039   7.92292292  7.94194194\n",
      "  7.96096096  7.97997998  7.998999    8.01801802  8.03703704  8.05605606\n",
      "  8.07507508  8.09409409  8.11311311  8.13213213  8.15115115  8.17017017\n",
      "  8.18918919  8.20820821  8.22722723  8.24624625  8.26526527  8.28428428\n",
      "  8.3033033   8.32232232  8.34134134  8.36036036  8.37937938  8.3983984\n",
      "  8.41741742  8.43643644  8.45545546  8.47447447  8.49349349  8.51251251\n",
      "  8.53153153  8.55055055  8.56956957  8.58858859  8.60760761  8.62662663\n",
      "  8.64564565  8.66466466  8.68368368  8.7027027   8.72172172  8.74074074\n",
      "  8.75975976  8.77877878  8.7977978   8.81681682  8.83583584  8.85485485\n",
      "  8.87387387  8.89289289  8.91191191  8.93093093  8.94994995  8.96896897\n",
      "  8.98798799  9.00700701  9.02602603  9.04504505  9.06406406  9.08308308\n",
      "  9.1021021   9.12112112  9.14014014  9.15915916  9.17817818  9.1971972\n",
      "  9.21621622  9.23523524  9.25425425  9.27327327  9.29229229  9.31131131\n",
      "  9.33033033  9.34934935  9.36836837  9.38738739  9.40640641  9.42542543\n",
      "  9.44444444  9.46346346  9.48248248  9.5015015   9.52052052  9.53953954\n",
      "  9.55855856  9.57757758  9.5965966   9.61561562  9.63463463  9.65365365\n",
      "  9.67267267  9.69169169  9.71071071  9.72972973  9.74874875  9.76776777\n",
      "  9.78678679  9.80580581  9.82482482  9.84384384  9.86286286  9.88188188\n",
      "  9.9009009   9.91991992  9.93893894  9.95795796  9.97697698  9.995996\n",
      " 10.01501502 10.03403403 10.05305305 10.07207207 10.09109109 10.11011011\n",
      " 10.12912913 10.14814815 10.16716717 10.18618619 10.20520521 10.22422422\n",
      " 10.24324324 10.26226226 10.28128128 10.3003003  10.31931932 10.33833834\n",
      " 10.35735736 10.37637638 10.3953954  10.41441441 10.43343343 10.45245245\n",
      " 10.47147147 10.49049049 10.50950951 10.52852853 10.54754755 10.56656657\n",
      " 10.58558559 10.6046046  10.62362362 10.64264264 10.66166166 10.68068068\n",
      " 10.6996997  10.71871872 10.73773774 10.75675676 10.77577578 10.79479479\n",
      " 10.81381381 10.83283283 10.85185185 10.87087087 10.88988989 10.90890891\n",
      " 10.92792793 10.94694695 10.96596597 10.98498498 11.004004   11.02302302\n",
      " 11.04204204 11.06106106 11.08008008 11.0990991  11.11811812 11.13713714\n",
      " 11.15615616 11.17517518 11.19419419 11.21321321 11.23223223 11.25125125\n",
      " 11.27027027 11.28928929 11.30830831 11.32732733 11.34634635 11.36536537\n",
      " 11.38438438 11.4034034  11.42242242 11.44144144 11.46046046 11.47947948\n",
      " 11.4984985  11.51751752 11.53653654 11.55555556 11.57457457 11.59359359\n",
      " 11.61261261 11.63163163 11.65065065 11.66966967 11.68868869 11.70770771\n",
      " 11.72672673 11.74574575 11.76476476 11.78378378 11.8028028  11.82182182\n",
      " 11.84084084 11.85985986 11.87887888 11.8978979  11.91691692 11.93593594\n",
      " 11.95495495 11.97397397 11.99299299 12.01201201 12.03103103 12.05005005\n",
      " 12.06906907 12.08808809 12.10710711 12.12612613 12.14514515 12.16416416\n",
      " 12.18318318 12.2022022  12.22122122 12.24024024 12.25925926 12.27827828\n",
      " 12.2972973  12.31631632 12.33533534 12.35435435 12.37337337 12.39239239\n",
      " 12.41141141 12.43043043 12.44944945 12.46846847 12.48748749 12.50650651\n",
      " 12.52552553 12.54454454 12.56356356 12.58258258 12.6016016  12.62062062\n",
      " 12.63963964 12.65865866 12.67767768 12.6966967  12.71571572 12.73473473\n",
      " 12.75375375 12.77277277 12.79179179 12.81081081 12.82982983 12.84884885\n",
      " 12.86786787 12.88688689 12.90590591 12.92492492 12.94394394 12.96296296\n",
      " 12.98198198 13.001001   13.02002002 13.03903904 13.05805806 13.07707708\n",
      " 13.0960961  13.11511512 13.13413413 13.15315315 13.17217217 13.19119119\n",
      " 13.21021021 13.22922923 13.24824825 13.26726727 13.28628629 13.30530531\n",
      " 13.32432432 13.34334334 13.36236236 13.38138138 13.4004004  13.41941942\n",
      " 13.43843844 13.45745746 13.47647648 13.4954955  13.51451451 13.53353353\n",
      " 13.55255255 13.57157157 13.59059059 13.60960961 13.62862863 13.64764765\n",
      " 13.66666667 13.68568569 13.7047047  13.72372372 13.74274274 13.76176176\n",
      " 13.78078078 13.7997998  13.81881882 13.83783784 13.85685686 13.87587588\n",
      " 13.89489489 13.91391391 13.93293293 13.95195195 13.97097097 13.98998999\n",
      " 14.00900901 14.02802803 14.04704705 14.06606607 14.08508509 14.1041041\n",
      " 14.12312312 14.14214214 14.16116116 14.18018018 14.1991992  14.21821822\n",
      " 14.23723724 14.25625626 14.27527528 14.29429429 14.31331331 14.33233233\n",
      " 14.35135135 14.37037037 14.38938939 14.40840841 14.42742743 14.44644645\n",
      " 14.46546547 14.48448448 14.5035035  14.52252252 14.54154154 14.56056056\n",
      " 14.57957958 14.5985986  14.61761762 14.63663664 14.65565566 14.67467467\n",
      " 14.69369369 14.71271271 14.73173173 14.75075075 14.76976977 14.78878879\n",
      " 14.80780781 14.82682683 14.84584585 14.86486486 14.88388388 14.9029029\n",
      " 14.92192192 14.94094094 14.95995996 14.97897898 14.997998   15.01701702\n",
      " 15.03603604 15.05505506 15.07407407 15.09309309 15.11211211 15.13113113\n",
      " 15.15015015 15.16916917 15.18818819 15.20720721 15.22622623 15.24524525\n",
      " 15.26426426 15.28328328 15.3023023  15.32132132 15.34034034 15.35935936\n",
      " 15.37837838 15.3973974  15.41641642 15.43543544 15.45445445 15.47347347\n",
      " 15.49249249 15.51151151 15.53053053 15.54954955 15.56856857 15.58758759\n",
      " 15.60660661 15.62562563 15.64464464 15.66366366 15.68268268 15.7017017\n",
      " 15.72072072 15.73973974 15.75875876 15.77777778 15.7967968  15.81581582\n",
      " 15.83483483 15.85385385 15.87287287 15.89189189 15.91091091 15.92992993\n",
      " 15.94894895 15.96796797 15.98698699 16.00600601 16.02502503 16.04404404\n",
      " 16.06306306 16.08208208 16.1011011  16.12012012 16.13913914 16.15815816\n",
      " 16.17717718 16.1961962  16.21521522 16.23423423 16.25325325 16.27227227\n",
      " 16.29129129 16.31031031 16.32932933 16.34834835 16.36736737 16.38638639\n",
      " 16.40540541 16.42442442 16.44344344 16.46246246 16.48148148 16.5005005\n",
      " 16.51951952 16.53853854 16.55755756 16.57657658 16.5955956  16.61461461\n",
      " 16.63363363 16.65265265 16.67167167 16.69069069 16.70970971 16.72872873\n",
      " 16.74774775 16.76676677 16.78578579 16.8048048  16.82382382 16.84284284\n",
      " 16.86186186 16.88088088 16.8998999  16.91891892 16.93793794 16.95695696\n",
      " 16.97597598 16.99499499 17.01401401 17.03303303 17.05205205 17.07107107\n",
      " 17.09009009 17.10910911 17.12812813 17.14714715 17.16616617 17.18518519\n",
      " 17.2042042  17.22322322 17.24224224 17.26126126 17.28028028 17.2992993\n",
      " 17.31831832 17.33733734 17.35635636 17.37537538 17.39439439 17.41341341\n",
      " 17.43243243 17.45145145 17.47047047 17.48948949 17.50850851 17.52752753\n",
      " 17.54654655 17.56556557 17.58458458 17.6036036  17.62262262 17.64164164\n",
      " 17.66066066 17.67967968 17.6986987  17.71771772 17.73673674 17.75575576\n",
      " 17.77477477 17.79379379 17.81281281 17.83183183 17.85085085 17.86986987\n",
      " 17.88888889 17.90790791 17.92692693 17.94594595 17.96496496 17.98398398\n",
      " 18.003003   18.02202202 18.04104104 18.06006006 18.07907908 18.0980981\n",
      " 18.11711712 18.13613614 18.15515516 18.17417417 18.19319319 18.21221221\n",
      " 18.23123123 18.25025025 18.26926927 18.28828829 18.30730731 18.32632633\n",
      " 18.34534535 18.36436436 18.38338338 18.4024024  18.42142142 18.44044044\n",
      " 18.45945946 18.47847848 18.4974975  18.51651652 18.53553554 18.55455455\n",
      " 18.57357357 18.59259259 18.61161161 18.63063063 18.64964965 18.66866867\n",
      " 18.68768769 18.70670671 18.72572573 18.74474474 18.76376376 18.78278278\n",
      " 18.8018018  18.82082082 18.83983984 18.85885886 18.87787788 18.8968969\n",
      " 18.91591592 18.93493493 18.95395395 18.97297297 18.99199199 19.01101101\n",
      " 19.03003003 19.04904905 19.06806807 19.08708709 19.10610611 19.12512513\n",
      " 19.14414414 19.16316316 19.18218218 19.2012012  19.22022022 19.23923924\n",
      " 19.25825826 19.27727728 19.2962963  19.31531532 19.33433433 19.35335335\n",
      " 19.37237237 19.39139139 19.41041041 19.42942943 19.44844845 19.46746747\n",
      " 19.48648649 19.50550551 19.52452452 19.54354354 19.56256256 19.58158158\n",
      " 19.6006006  19.61961962 19.63863864 19.65765766 19.67667668 19.6956957\n",
      " 19.71471471 19.73373373 19.75275275 19.77177177 19.79079079 19.80980981\n",
      " 19.82882883 19.84784785 19.86686687 19.88588589 19.9049049  19.92392392\n",
      " 19.94294294 19.96196196 19.98098098 20.        ]\n"
     ]
    }
   ],
   "source": [
    "print(X)"
   ]
  },
  {
   "cell_type": "code",
   "execution_count": 3,
   "id": "ecea66a3-41ab-40d2-bdd8-eb1a2baa7568",
   "metadata": {},
   "outputs": [
    {
     "data": {
      "text/plain": [
       "[<matplotlib.lines.Line2D at 0x1f6997a63a0>]"
      ]
     },
     "execution_count": 3,
     "metadata": {},
     "output_type": "execute_result"
    },
    {
     "data": {
      "image/png": "[encoded data removed]",
      "text/plain": [
       "<Figure size 432x288 with 1 Axes>"
      ]
     },
     "metadata": {
      "needs_background": "light"
     },
     "output_type": "display_data"
    }
   ],
   "source": [
    "import matplotlib.pyplot as plt\n",
    "import math as Math\n",
    "import numpy as np\n",
    "\n",
    "samples = 1000\n",
    "domain = [1,20]\n",
    "f = lambda x: ((2 * x) - 1)/x\n",
    "\n",
    "X = np.linspace(*domain, samples)\n",
    "Y = np.fromiter((f(x) for x in X), np.float64, samples)\n",
    "plt.plot(X,Y)"
   ]
  },
  {
   "cell_type": "code",
   "execution_count": 6,
   "id": "8d013d4f-8773-4dd6-9858-bbe3725bbe71",
   "metadata": {},
   "outputs": [
    {
     "data": {
      "text/plain": [
       "1.95"
      ]
     },
     "execution_count": 6,
     "metadata": {},
     "output_type": "execute_result"
    },
    {
     "data": {
      "image/png": "[encoded data removed]",
      "text/plain": [
       "<Figure size 432x288 with 1 Axes>"
      ]
     },
     "metadata": {
      "needs_background": "light"
     },
     "output_type": "display_data"
    }
   ],
   "source": [
    "import matplotlib.pyplot as plt\n",
    "import math as Math\n",
    "import numpy as np\n",
    "\n",
    "samples = 1000\n",
    "domain = [1,20]\n",
    "f = lambda x: ((2 * x) - 1)/x\n",
    "\n",
    "X = np.linspace(*domain, samples)\n",
    "Y = np.fromiter((f(x) for x in X), np.float64, samples)\n",
    "plt.plot(X,Y)\n",
    "\n",
    "Y[999]"
   ]
  },
  {
   "cell_type": "code",
   "execution_count": 7,
   "id": "f8e8a48e-dd1e-4fc4-b01e-764acc5cca19",
   "metadata": {},
   "outputs": [
    {
     "data": {
      "text/plain": [
       "[<matplotlib.lines.Line2D at 0x1f6999dca00>]"
      ]
     },
     "execution_count": 7,
     "metadata": {},
     "output_type": "execute_result"
    },
    {
     "data": {
      "image/png": "[encoded data removed]",
      "text/plain": [
       "<Figure size 432x288 with 1 Axes>"
      ]
     },
     "metadata": {
      "needs_background": "light"
     },
     "output_type": "display_data"
    }
   ],
   "source": [
    "domain = [0.0001, 0.5]\n",
    "f = lambda x: Math.sin(1/x)\n",
    "\n",
    "X = np.linspace(*domain, samples)\n",
    "Y = np.fromiter((f(x) for x in X), np.float64, samples)\n",
    "plt.plot(X,Y)"
   ]
  },
  {
   "cell_type": "code",
   "execution_count": 8,
   "id": "86332225-25a5-4161-8351-1d077a443fce",
   "metadata": {},
   "outputs": [
    {
     "name": "stdout",
     "output_type": "stream",
     "text": [
      "1: 0.0000000000, 0.3183098862\n",
      "2: -0.0000000000, 0.1591549431\n",
      "3: 0.0000000000, 0.1061032954\n",
      "4: -0.0000000000, 0.0795774715\n",
      "5: 0.0000000000, 0.0636619772\n",
      "6: -0.0000000000, 0.0530516477\n",
      "7: 0.0000000000, 0.0454728409\n",
      "8: -0.0000000000, 0.0397887358\n",
      "9: 0.0000000000, 0.0353677651\n"
     ]
    },
    {
     "data": {
      "image/png": "[encoded data removed]",
      "text/plain": [
       "<Figure size 432x288 with 1 Axes>"
      ]
     },
     "metadata": {
      "needs_background": "light"
     },
     "output_type": "display_data"
    }
   ],
   "source": [
    "# Annäherung von f(x) = sin(1/x) an x_0=0 durch die Folge 1/(n*\\pi) \n",
    "def showVals(fn, seq, n, plotcolor='red'):\n",
    "    for k in range(1, n):\n",
    "        # Runden auf 10 Nachkommastellen\n",
    "        print(\"{}: {:.10f}, {:.10f}\".format(k, fn(seq(k)), seq(k)))\n",
    "        plt.scatter(seq(k), fn(seq(k)), s=50, color=plotcolor)\n",
    "\n",
    " \n",
    "\n",
    "f = lambda x: Math.sin(1/x)\n",
    "plt.plot(X, Y)\n",
    "showVals(f, lambda n: 1/(n*Math.pi), 10)"
   ]
  },
  {
   "cell_type": "code",
   "execution_count": 9,
   "id": "f0a3707f-dc1e-4694-9a27-d41d34c6e0d2",
   "metadata": {},
   "outputs": [
    {
     "name": "stdout",
     "output_type": "stream",
     "text": [
      "Values of 1/(n*pi)\n",
      "1: 0.0000000000, 0.3183098862\n",
      "2: -0.0000000000, 0.1591549431\n",
      "3: 0.0000000000, 0.1061032954\n",
      "4: -0.0000000000, 0.0795774715\n",
      "5: 0.0000000000, 0.0636619772\n",
      "6: -0.0000000000, 0.0530516477\n",
      "7: 0.0000000000, 0.0454728409\n",
      "8: -0.0000000000, 0.0397887358\n",
      "9: 0.0000000000, 0.0353677651\n",
      "Values of 2 / ((4 * n + 1) * pi)\n",
      "1: 1.0000000000, 0.1273239545\n",
      "2: 1.0000000000, 0.0707355303\n",
      "3: 1.0000000000, 0.0489707517\n",
      "4: 1.0000000000, 0.0374482219\n",
      "5: 1.0000000000, 0.0303152273\n",
      "6: 1.0000000000, 0.0254647909\n",
      "7: 1.0000000000, 0.0219524059\n",
      "8: 1.0000000000, 0.0192915083\n",
      "9: 1.0000000000, 0.0172059398\n"
     ]
    },
    {
     "data": {
      "image/png": "[encoded data removed]",
      "text/plain": [
       "<Figure size 432x288 with 1 Axes>"
      ]
     },
     "metadata": {
      "needs_background": "light"
     },
     "output_type": "display_data"
    }
   ],
   "source": [
    "plt.plot(X, Y)\n",
    "print('Values of 1/(n*pi)')\n",
    "showVals(f, lambda n: 1/(n*Math.pi), 10)\n",
    "print('Values of 2 / ((4 * n + 1) * pi)')\n",
    "showVals(f, lambda n: 2 / ((4 * n + 1) * Math.pi), 10, 'green')"
   ]
  },
  {
   "cell_type": "code",
   "execution_count": null,
   "id": "cd6d26f0-01be-482d-b821-00a8db923dea",
   "metadata": {},
   "outputs": [],
   "source": []
  }
 ],
 "metadata": {
  "kernelspec": {
   "display_name": "Python 3 (ipykernel)",
   "language": "python",
   "name": "python3"
  },
  "language_info": {
   "codemirror_mode": {
    "name": "ipython",
    "version": 3
   },
   "file_extension": ".py",
   "mimetype": "text/x-python",
   "name": "python",
   "nbconvert_exporter": "python",
   "pygments_lexer": "ipython3",
   "version": "3.9.12"
  }
 },
 "nbformat": 4,
 "nbformat_minor": 5
}
