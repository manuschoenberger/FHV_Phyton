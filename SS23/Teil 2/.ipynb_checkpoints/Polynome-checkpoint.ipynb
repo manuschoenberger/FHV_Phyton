{
 "cells": [
  {
   "cell_type": "code",
   "execution_count": 1,
   "id": "5a5c2cc3-0fe2-4561-a30b-2c6db3ff8ffb",
   "metadata": {},
   "outputs": [],
   "source": [
    "#Polynome"
   ]
  },
  {
   "cell_type": "code",
   "execution_count": 4,
   "id": "a0939af7-d0c2-467c-a93c-b5908e14b1f9",
   "metadata": {},
   "outputs": [
    {
     "data": {
      "text/plain": [
       "array([0.        , 0.01060606, 0.02121212, 0.03181818, 0.04242424,\n",
       "       0.0530303 , 0.06363636, 0.07424242, 0.08484848, 0.09545455,\n",
       "       0.10606061, 0.11666667, 0.12727273, 0.13787879, 0.14848485,\n",
       "       0.15909091, 0.16969697, 0.18030303, 0.19090909, 0.20151515,\n",
       "       0.21212121, 0.22272727, 0.23333333, 0.24393939, 0.25454545,\n",
       "       0.26515152, 0.27575758, 0.28636364, 0.2969697 , 0.30757576,\n",
       "       0.31818182, 0.32878788, 0.33939394, 0.35      , 0.36060606,\n",
       "       0.37121212, 0.38181818, 0.39242424, 0.4030303 , 0.41363636,\n",
       "       0.42424242, 0.43484848, 0.44545455, 0.45606061, 0.46666667,\n",
       "       0.47727273, 0.48787879, 0.49848485, 0.50909091, 0.51969697,\n",
       "       0.53030303, 0.54090909, 0.55151515, 0.56212121, 0.57272727,\n",
       "       0.58333333, 0.59393939, 0.60454545, 0.61515152, 0.62575758,\n",
       "       0.63636364, 0.6469697 , 0.65757576, 0.66818182, 0.67878788,\n",
       "       0.68939394, 0.7       , 0.71060606, 0.72121212, 0.73181818,\n",
       "       0.74242424, 0.7530303 , 0.76363636, 0.77424242, 0.78484848,\n",
       "       0.79545455, 0.80606061, 0.81666667, 0.82727273, 0.83787879,\n",
       "       0.84848485, 0.85909091, 0.86969697, 0.88030303, 0.89090909,\n",
       "       0.90151515, 0.91212121, 0.92272727, 0.93333333, 0.94393939,\n",
       "       0.95454545, 0.96515152, 0.97575758, 0.98636364, 0.9969697 ,\n",
       "       1.00757576, 1.01818182, 1.02878788, 1.03939394, 1.05      ])"
      ]
     },
     "execution_count": 4,
     "metadata": {},
     "output_type": "execute_result"
    }
   ],
   "source": [
    "import matplotlib.pyplot as plt\n",
    "import numpy as np\n",
    "import math\n",
    "\n",
    "#Using numpy t ceate an array X\n",
    "X = np.linspace(0, 1.05, 100)\n",
    "\n",
    "X"
   ]
  },
  {
   "cell_type": "code",
   "execution_count": 10,
   "id": "fc0a84fd-a605-4fde-9f4b-63fa7a9a6db6",
   "metadata": {},
   "outputs": [
    {
     "data": {
      "text/plain": [
       "<matplotlib.legend.Legend at 0x22f0abd46d0>"
      ]
     },
     "execution_count": 10,
     "metadata": {},
     "output_type": "execute_result"
    },
    {
     "data": {
      "image/png": "[encoded data removed]",
      "text/plain": [
       "<Figure size 432x288 with 1 Axes>"
      ]
     },
     "metadata": {
      "needs_background": "light"
     },
     "output_type": "display_data"
    }
   ],
   "source": [
    "import matplotlib.pyplot as plt\n",
    "import numpy as np\n",
    "import math\n",
    "\n",
    " \n",
    "\n",
    "# Using numpy to crate an array X\n",
    "X = np.linspace(0, 1.05, 100)\n",
    "\n",
    " \n",
    "\n",
    "x1 = X # f(x) = 1*x**1\n",
    "x2 = X**2 \n",
    "x3 = X**3 \n",
    "\n",
    " \n",
    "\n",
    "plt.axhline(y = 1, color = 'm', linestyle = '-', label='f(x)=1')\n",
    "plt.plot(X, x1, color='g', label='f(x)=x')\n",
    "plt.plot(X, x2, color='c', label='f(x)=x^2')\n",
    "plt.plot(X, x3, color='c', label='f(x)=x^3')\n",
    "\n",
    " \n",
    "\n",
    "\n",
    "plt.legend()"
   ]
  },
  {
   "cell_type": "code",
   "execution_count": 11,
   "id": "99d9caeb-59eb-4802-b380-ff8c21c80795",
   "metadata": {},
   "outputs": [
    {
     "data": {
      "text/latex": [
       "$\\displaystyle \\left(5 x - 2\\right) \\left(2 x^{2} - 3 x + 7\\right)$"
      ],
      "text/plain": [
       "(5*x - 2)*(2*x**2 - 3*x + 7)"
      ]
     },
     "execution_count": 11,
     "metadata": {},
     "output_type": "execute_result"
    }
   ],
   "source": [
    "from sympy import *\n",
    "x = symbols(\"x\")\n",
    "(2 * x**2 - 3 * x + 7) * (5 * x - 2)"
   ]
  },
  {
   "cell_type": "code",
   "execution_count": 13,
   "id": "9a9e066a-a49a-4c4a-aab3-9417dda2884d",
   "metadata": {},
   "outputs": [
    {
     "data": {
      "text/latex": [
       "$\\displaystyle 10 x^{3} - 19 x^{2} + 41 x - 14$"
      ],
      "text/plain": [
       "10*x**3 - 19*x**2 + 41*x - 14"
      ]
     },
     "execution_count": 13,
     "metadata": {},
     "output_type": "execute_result"
    }
   ],
   "source": [
    "expand((2 * x**2 - 3 * x + 7) * (5 * x - 2))"
   ]
  },
  {
   "cell_type": "code",
   "execution_count": 1,
   "id": "b4d0b5b5-5b9b-4b6b-9629-f9a7c0a91011",
   "metadata": {},
   "outputs": [],
   "source": [
    "def Horner(b, P): # b = auswertestelle, P = koeffizienten des Polynoms\n",
    "    r = 0\n",
    "    for a in P:\n",
    "        r = b * r + a\n",
    "    return r"
   ]
  },
  {
   "cell_type": "code",
   "execution_count": 2,
   "id": "4afcb1fa-46da-4e98-a080-8c2f1bcaebc3",
   "metadata": {},
   "outputs": [
    {
     "data": {
      "text/plain": [
       "7"
      ]
     },
     "execution_count": 2,
     "metadata": {},
     "output_type": "execute_result"
    }
   ],
   "source": [
    "Horner(2, [3, -4, 5, -11])"
   ]
  },
  {
   "cell_type": "code",
   "execution_count": 3,
   "id": "004b2361-330f-436a-a468-ab65e7bdb492",
   "metadata": {},
   "outputs": [
    {
     "data": {
      "text/latex": [
       "$\\displaystyle x \\left(x \\left(2 x^{2} - 1\\right) + 7\\right) + 9$"
      ],
      "text/plain": [
       "x*(x*(2*x**2 - 1) + 7) + 9"
      ]
     },
     "execution_count": 3,
     "metadata": {},
     "output_type": "execute_result"
    }
   ],
   "source": [
    "from sympy import *\n",
    "x = symbols(\"x\")\n",
    "horner(2 * x**4 - x**2 + 7 * x + 9)"
   ]
  },
  {
   "cell_type": "code",
   "execution_count": 5,
   "id": "39e02794-9e08-4083-bf26-d1a811593fe7",
   "metadata": {},
   "outputs": [
    {
     "data": {
      "text/latex": [
       "$\\displaystyle - b^{4} + x^{4}$"
      ],
      "text/plain": [
       "-b**4 + x**4"
      ]
     },
     "execution_count": 5,
     "metadata": {},
     "output_type": "execute_result"
    }
   ],
   "source": [
    "x, b = symbols(\"x, b\")\n",
    "expand((x - b) * (x**3 + b * x**2 + b**2 * x + b**3)) "
   ]
  },
  {
   "cell_type": "code",
   "execution_count": 6,
   "id": "64fc164d-9ea2-4827-851d-d6592f72d854",
   "metadata": {},
   "outputs": [
    {
     "name": "stdout",
     "output_type": "stream",
     "text": [
      "(x - 3)**2*(x**2 - 4*x + 5)\n"
     ]
    }
   ],
   "source": [
    "y = symbols(\"y\")\n",
    "y = x**4 - 10 * x**3 + 38 * x**2 - 66 * x + 45\n",
    "print(factor(y))"
   ]
  },
  {
   "cell_type": "code",
   "execution_count": 7,
   "id": "1da918d5-0615-4fbc-81cb-c8f958557981",
   "metadata": {},
   "outputs": [
    {
     "name": "stdout",
     "output_type": "stream",
     "text": [
      "[3, 2 - I, 2 + I]\n"
     ]
    }
   ],
   "source": [
    "print(solve(y))"
   ]
  },
  {
   "cell_type": "code",
   "execution_count": 8,
   "id": "6b914933-97fa-4dc2-b2c4-05e7abbb62ab",
   "metadata": {},
   "outputs": [
    {
     "data": {
      "text/latex": [
       "$\\displaystyle 6.0 \\cdot 10^{-123}$"
      ],
      "text/plain": [
       "0.e-122"
      ]
     },
     "execution_count": 8,
     "metadata": {},
     "output_type": "execute_result"
    }
   ],
   "source": [
    "y.evalf(subs = {x:3})"
   ]
  },
  {
   "cell_type": "code",
   "execution_count": 2,
   "id": "b609c8fe-39f2-4acd-a0a5-aa4a829106f6",
   "metadata": {},
   "outputs": [
    {
     "data": {
      "text/plain": [
       "<matplotlib.collections.PathCollection at 0x20d44707ee0>"
      ]
     },
     "execution_count": 2,
     "metadata": {},
     "output_type": "execute_result"
    },
    {
     "data": {
      "image/png": "[encoded data removed]",
      "text/plain": [
       "<Figure size 432x288 with 1 Axes>"
      ]
     },
     "metadata": {
      "needs_background": "light"
     },
     "output_type": "display_data"
    }
   ],
   "source": [
    "# Polynominterpolation P0=(-1,10), P1=(2,1), P2=(3,6)\n",
    "\n",
    "import matplotlib.pyplot as plt\n",
    "import numpy as np\n",
    "import math\n",
    "\n",
    "XP = np.array([-1, 2, 3])\n",
    "YP = np.array([10, 1, 6])\n",
    "\n",
    "plt.scatter(XP, YP, color='r')"
   ]
  },
  {
   "cell_type": "code",
   "execution_count": 6,
   "id": "50381379-8eff-4c49-bac5-7f22c0a39b97",
   "metadata": {},
   "outputs": [
    {
     "data": {
      "text/plain": [
       "<matplotlib.collections.PathCollection at 0x20d4486d3d0>"
      ]
     },
     "execution_count": 6,
     "metadata": {},
     "output_type": "execute_result"
    },
    {
     "data": {
      "image/png": "[encoded data removed]",
      "text/plain": [
       "<Figure size 432x288 with 1 Axes>"
      ]
     },
     "metadata": {
      "needs_background": "light"
     },
     "output_type": "display_data"
    }
   ],
   "source": [
    "plt.scatter(XP, YP, color='r')\n",
    "plt.scatter(XP, np.array([0, 0, 0]), color='b')"
   ]
  },
  {
   "cell_type": "code",
   "execution_count": 8,
   "id": "7330ecd0-33d3-444c-8b17-d2e7625a5ac0",
   "metadata": {},
   "outputs": [
    {
     "data": {
      "text/plain": [
       "[<matplotlib.lines.Line2D at 0x20d4494c970>]"
      ]
     },
     "execution_count": 8,
     "metadata": {},
     "output_type": "execute_result"
    },
    {
     "data": {
      "image/png": "[encoded data removed]",
      "text/plain": [
       "<Figure size 432x288 with 1 Axes>"
      ]
     },
     "metadata": {
      "needs_background": "light"
     },
     "output_type": "display_data"
    }
   ],
   "source": [
    "plt.scatter(XP, YP, color='r')\n",
    "plt.scatter(XP, np.array([0, 0, 0]), color='b')\n",
    "\n",
    "X = np.linspace(-1.5, 3.5, 100)\n",
    "\n",
    "#q0 = (x-2)*(x-3)\n",
    "q0 = lambda x: (x-2)*(x-3)\n",
    "\n",
    "plt.plot(X, q0(X), color='r', label='q0(x)')"
   ]
  },
  {
   "cell_type": "code",
   "execution_count": 10,
   "id": "817753ca-b115-4d47-92b6-72221afb462d",
   "metadata": {},
   "outputs": [
    {
     "data": {
      "text/plain": [
       "<matplotlib.legend.Legend at 0x20d45a036a0>"
      ]
     },
     "execution_count": 10,
     "metadata": {},
     "output_type": "execute_result"
    },
    {
     "data": {
      "image/png": "[encoded data removed]",
      "text/plain": [
       "<Figure size 432x288 with 1 Axes>"
      ]
     },
     "metadata": {
      "needs_background": "light"
     },
     "output_type": "display_data"
    }
   ],
   "source": [
    "plt.scatter(XP, YP, color='r')\n",
    "plt.scatter(XP, np.array([0, 0, 0]), color='b')\n",
    "plt.plot(X, q0(X), color='r', label='q0(x)')\n",
    "\n",
    "#Skalierung um 10/12 (12 von q0(-1)) (y0/q0(x0))\n",
    "p0 = lambda x: 10/q0(-1) * q0(x)\n",
    "plt.plot(X, p0(X), color='g', label='p0(x)')\n",
    "\n",
    "plt.legend()"
   ]
  }
 ],
 "metadata": {
  "kernelspec": {
   "display_name": "Python 3 (ipykernel)",
   "language": "python",
   "name": "python3"
  },
  "language_info": {
   "codemirror_mode": {
    "name": "ipython",
    "version": 3
   },
   "file_extension": ".py",
   "mimetype": "text/x-python",
   "name": "python",
   "nbconvert_exporter": "python",
   "pygments_lexer": "ipython3",
   "version": "3.9.12"
  }
 },
 "nbformat": 4,
 "nbformat_minor": 5
}
