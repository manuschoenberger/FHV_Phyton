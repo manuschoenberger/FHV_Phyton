{
 "cells": [
  {
   "cell_type": "code",
   "execution_count": 1,
   "id": "7de4f619-3e7e-4f1a-95df-b2ae21234bff",
   "metadata": {},
   "outputs": [],
   "source": [
    "#Übungsblatt 9"
   ]
  },
  {
   "cell_type": "code",
   "execution_count": 2,
   "id": "e8db5214-d878-4f09-867e-e29e1e7a8306",
   "metadata": {},
   "outputs": [],
   "source": [
    "#Aufgabe 2"
   ]
  },
  {
   "cell_type": "code",
   "execution_count": 3,
   "id": "9f47f03d-3446-47f2-afa2-761ac86fb445",
   "metadata": {},
   "outputs": [],
   "source": [
    "import math"
   ]
  },
  {
   "cell_type": "code",
   "execution_count": 4,
   "id": "996b01bc-303c-4612-b08b-fd6792f66260",
   "metadata": {},
   "outputs": [],
   "source": [
    "def someValues(seq, L = [10 ** k for k in range(10)]):\n",
    "    for n in L:\n",
    "        #Exception\n",
    "        try: \n",
    "            print(\"{:>15}: {}\".format(n, seq(n)))\n",
    "        except ZeroDivisionError:\n",
    "            print(\"Division by Zero for n = \",n)"
   ]
  },
  {
   "cell_type": "code",
   "execution_count": 5,
   "id": "fe6bd799-aa87-47ed-ad89-bff54c7d6dab",
   "metadata": {},
   "outputs": [
    {
     "name": "stdout",
     "output_type": "stream",
     "text": [
      "              1: 0.6666666666666666\n",
      "             10: 0.017341529915832606\n",
      "            100: 2.4596544265798157e-18\n",
      "           1000: 8.104774656527117e-177\n",
      "          10000: 0.0\n",
      "         100000: 0.0\n",
      "        1000000: 0.0\n",
      "       10000000: 0.0\n",
      "      100000000: 0.0\n",
      "     1000000000: 0.0\n"
     ]
    }
   ],
   "source": [
    "someValues(lambda n: (2/3)**n)"
   ]
  },
  {
   "cell_type": "code",
   "execution_count": 6,
   "id": "f57b28dc-e995-486e-b5fe-13de331ec93d",
   "metadata": {},
   "outputs": [],
   "source": [
    "#konvergiert gegen Null (beschränkt) (monoton fallend)"
   ]
  },
  {
   "cell_type": "code",
   "execution_count": 7,
   "id": "7bf86b70-fc1c-4211-bcf4-4ac69097cb05",
   "metadata": {},
   "outputs": [
    {
     "name": "stdout",
     "output_type": "stream",
     "text": [
      "              1: 1.5\n",
      "             10: 57.6650390625\n",
      "            100: 4.065611775352152e+17\n",
      "           1000: 1.2338405969061735e+176\n"
     ]
    }
   ],
   "source": [
    "someValues(lambda n: (3/2)**n, [1,10,100,1000])"
   ]
  },
  {
   "cell_type": "code",
   "execution_count": 8,
   "id": "90dbd9d2-4ac7-4525-8d3a-a5103ddceac4",
   "metadata": {},
   "outputs": [],
   "source": [
    "#divergent (monoton fallend)"
   ]
  },
  {
   "cell_type": "code",
   "execution_count": 9,
   "id": "ef438419-f6c4-4c2a-a8f7-256fadf0fcca",
   "metadata": {},
   "outputs": [
    {
     "name": "stdout",
     "output_type": "stream",
     "text": [
      "              1: 1.0\n",
      "             10: 1.2589254117941673\n",
      "            100: 1.0471285480508996\n",
      "           1000: 1.0069316688518042\n",
      "          10000: 1.0009214583192958\n",
      "         100000: 1.0001151358822766\n",
      "        1000000: 1.0000138156059926\n",
      "       10000000: 1.000001611810864\n",
      "      100000000: 1.0000001842068245\n",
      "     1000000000: 1.000000020723266\n"
     ]
    }
   ],
   "source": [
    "someValues(lambda n: n**(1/n))"
   ]
  },
  {
   "cell_type": "code",
   "execution_count": 10,
   "id": "dd0bd3f8-89af-43ca-8093-75d0a05c66af",
   "metadata": {},
   "outputs": [],
   "source": [
    "#divergent (monoton steigend (weil immer über 1))\n",
    "#von 1 bis 10 streng monoton steigend\n",
    "#ab 10 streng monoton fallend"
   ]
  },
  {
   "cell_type": "code",
   "execution_count": 11,
   "id": "66598d5e-79aa-4235-9918-eec1c6887e59",
   "metadata": {},
   "outputs": [
    {
     "name": "stdout",
     "output_type": "stream",
     "text": [
      "              1: 5.0\n",
      "             10: 2.6911444554673722\n",
      "            100: 8.45272575844283e-89\n"
     ]
    }
   ],
   "source": [
    "someValues(lambda n: (5**n) / (math.factorial(n)), [1,10,100])"
   ]
  },
  {
   "cell_type": "code",
   "execution_count": 12,
   "id": "2780f146-ce21-422e-87dd-7a12c92425bb",
   "metadata": {},
   "outputs": [],
   "source": [
    "#konvergiert gegen Null (beschränkt) (monoton fallend)"
   ]
  },
  {
   "cell_type": "code",
   "execution_count": 13,
   "id": "110593b6-6bda-46f6-b1f4-d96dfa9a3575",
   "metadata": {},
   "outputs": [
    {
     "name": "stdout",
     "output_type": "stream",
     "text": [
      "              1: 2.0\n",
      "             10: 2.5937424601000023\n",
      "            100: 2.7048138294215285\n",
      "           1000: 2.7169239322355936\n",
      "          10000: 2.7181459268249255\n",
      "         100000: 2.7182682371922975\n",
      "        1000000: 2.7182804690957534\n",
      "       10000000: 2.7182816941320818\n",
      "      100000000: 2.7182817983473577\n",
      "     1000000000: 2.7182820520115603\n"
     ]
    }
   ],
   "source": [
    "someValues(lambda n: (((n+1) / (n))**n))"
   ]
  },
  {
   "cell_type": "code",
   "execution_count": 14,
   "id": "dd8f3a82-b618-4d74-bc10-11fee82fbe95",
   "metadata": {},
   "outputs": [],
   "source": [
    "#konvergiert gegen 2.71828... (nicht beschränkt) (monoton steigend)"
   ]
  },
  {
   "cell_type": "code",
   "execution_count": 15,
   "id": "1c518aac-b86c-45c2-a06c-7ba13687a6a3",
   "metadata": {},
   "outputs": [],
   "source": [
    "#Aufgabe 3"
   ]
  },
  {
   "cell_type": "code",
   "execution_count": 16,
   "id": "d3f08590-93b2-4298-8ac9-da9a4ee94fac",
   "metadata": {},
   "outputs": [
    {
     "name": "stdout",
     "output_type": "stream",
     "text": [
      "              1: 1.0\n",
      "             10: 0.01\n",
      "            100: 0.0001\n",
      "           1000: 1e-06\n",
      "          10000: 1e-08\n",
      "         100000: 1e-10\n",
      "        1000000: 1e-12\n",
      "       10000000: 1e-14\n",
      "      100000000: 1e-16\n",
      "     1000000000: 1e-18\n"
     ]
    }
   ],
   "source": [
    "someValues(lambda n: ((1)/(n**2)))"
   ]
  },
  {
   "cell_type": "code",
   "execution_count": 17,
   "id": "68b6a914-6a5d-44cd-bbcf-601127213ab9",
   "metadata": {},
   "outputs": [
    {
     "name": "stdout",
     "output_type": "stream",
     "text": [
      "              1: 4.0\n",
      "             10: 2.1435469250725863\n",
      "            100: 2.0139111001134378\n",
      "           1000: 2.0013867749251615\n"
     ]
    }
   ],
   "source": [
    "someValues(lambda n: (2**(n+1))**((1)/(n)), [1,10,100,1000])"
   ]
  },
  {
   "cell_type": "code",
   "execution_count": 18,
   "id": "88f69cc9-01c5-4086-8d9c-f079e3fa5e35",
   "metadata": {},
   "outputs": [
    {
     "name": "stdout",
     "output_type": "stream",
     "text": [
      "              1: 3.0\n",
      "             10: 3.5937424601000023\n",
      "            100: 3.7048138294215285\n",
      "           1000: 3.7169239322355936\n",
      "          10000: 3.7181459268249255\n",
      "         100000: 3.7182682371922975\n",
      "        1000000: 3.7182804690957534\n",
      "       10000000: 3.7182816941320818\n",
      "      100000000: 3.7182817983473577\n",
      "     1000000000: 3.7182820520115603\n"
     ]
    }
   ],
   "source": [
    "someValues(lambda n: ((1+((1)/(n)))**n+1))"
   ]
  },
  {
   "cell_type": "code",
   "execution_count": 19,
   "id": "609d4927-f1d3-4c54-b39d-d149e537cdba",
   "metadata": {},
   "outputs": [
    {
     "name": "stdout",
     "output_type": "stream",
     "text": [
      "              1: 4.0\n",
      "             10: 6.727499949325611\n",
      "            100: 7.316017851829954\n",
      "           1000: 7.38167565355452\n",
      "          10000: 7.388317279514934\n",
      "         100000: 7.38898220932852\n",
      "        1000000: 7.389048708667429\n",
      "       10000000: 7.38905536865358\n",
      "      100000000: 7.389055935226544\n",
      "     1000000000: 7.389057314288179\n"
     ]
    }
   ],
   "source": [
    "someValues(lambda n: ((1+((1)/(n)))**(2*n)))"
   ]
  },
  {
   "cell_type": "code",
   "execution_count": 20,
   "id": "9f13e043-cb76-46ae-b81e-72b27c6050d5",
   "metadata": {},
   "outputs": [
    {
     "name": "stdout",
     "output_type": "stream",
     "text": [
      "              1: 1.0\n",
      "             10: 1.5848931924611136\n",
      "            100: 1.096478196143185\n",
      "           1000: 1.0139113857366795\n",
      "          10000: 1.001843765724026\n",
      "         100000: 1.0002302850208247\n",
      "        1000000: 1.000027631402856\n",
      "       10000000: 1.0000032236243261\n",
      "      100000000: 1.0000003684136827\n",
      "     1000000000: 1.0000000414465324\n"
     ]
    }
   ],
   "source": [
    "someValues(lambda n: ((n**2)**((1)/(n))))"
   ]
  },
  {
   "cell_type": "code",
   "execution_count": 21,
   "id": "d9b84f97-171b-40eb-9ccd-06a6dbea28b5",
   "metadata": {},
   "outputs": [],
   "source": [
    "#Aufgabe 6"
   ]
  },
  {
   "cell_type": "code",
   "execution_count": 22,
   "id": "4afe8940-bcee-4603-bb7b-c5773e4f83d5",
   "metadata": {},
   "outputs": [
    {
     "data": {
      "text/plain": [
       "[<matplotlib.lines.Line2D at 0x21677c68c70>]"
      ]
     },
     "execution_count": 22,
     "metadata": {},
     "output_type": "execute_result"
    },
    {
     "data": {
      "image/png": "[encoded data removed]",
      "text/plain": [
       "<Figure size 432x288 with 1 Axes>"
      ]
     },
     "metadata": {
      "needs_background": "light"
     },
     "output_type": "display_data"
    }
   ],
   "source": [
    "import matplotlib.pyplot as plt\n",
    "import math as Math\n",
    "import numpy as np\n",
    "\n",
    "samples = 1000\n",
    "domain = [0,20]\n",
    "f = lambda x: 1 / (x - 1)\n",
    "\n",
    "X = np.linspace(*domain, samples)\n",
    "Y = np.fromiter((f(x) for x in X), np.float64, samples)\n",
    "plt.plot(X,Y)"
   ]
  },
  {
   "cell_type": "code",
   "execution_count": 23,
   "id": "84bd4ded-d4bc-4398-bb4e-336e5d71a339",
   "metadata": {},
   "outputs": [
    {
     "name": "stdout",
     "output_type": "stream",
     "text": [
      "oo\n"
     ]
    }
   ],
   "source": [
    "from sympy import *\n",
    "\n",
    "x= symbols('x')\n",
    "r = limit(1/(x - 1), x, 1)\n",
    "print(r)"
   ]
  },
  {
   "cell_type": "code",
   "execution_count": 24,
   "id": "a1a1bb3e-57a6-4953-9732-36c9dc8414fc",
   "metadata": {},
   "outputs": [
    {
     "name": "stdout",
     "output_type": "stream",
     "text": [
      "0\n"
     ]
    }
   ],
   "source": [
    "from sympy import *\n",
    "\n",
    "x= symbols('x')\n",
    "r = limit(1/(x - 1), x, oo)\n",
    "print(r)"
   ]
  },
  {
   "cell_type": "code",
   "execution_count": 25,
   "id": "fb179d6b-18ea-4be9-a0d2-ede545a552f2",
   "metadata": {},
   "outputs": [
    {
     "name": "stdout",
     "output_type": "stream",
     "text": [
      "0\n"
     ]
    }
   ],
   "source": [
    "from sympy import *\n",
    "\n",
    "x= symbols('x')\n",
    "r = limit(1/(x - 1), x, -oo)\n",
    "print(r)"
   ]
  },
  {
   "cell_type": "code",
   "execution_count": 26,
   "id": "b7bf4202-88c1-4a71-b764-a9ed44f4569b",
   "metadata": {},
   "outputs": [
    {
     "data": {
      "text/plain": [
       "[<matplotlib.lines.Line2D at 0x2167a6823a0>]"
      ]
     },
     "execution_count": 26,
     "metadata": {},
     "output_type": "execute_result"
    },
    {
     "data": {
      "image/png": "[encoded data removed]",
      "text/plain": [
       "<Figure size 432x288 with 1 Axes>"
      ]
     },
     "metadata": {
      "needs_background": "light"
     },
     "output_type": "display_data"
    }
   ],
   "source": [
    "import matplotlib.pyplot as plt\n",
    "import math as Math\n",
    "import numpy as np\n",
    "\n",
    "samples = 1000\n",
    "domain = [0,20]\n",
    "f = lambda x: Math.sin(x)\n",
    "\n",
    "X = np.linspace(*domain, samples)\n",
    "Y = np.fromiter((f(x) for x in X), np.float64, samples)\n",
    "plt.plot(X,Y)"
   ]
  },
  {
   "cell_type": "code",
   "execution_count": 27,
   "id": "76d390ea-759a-487f-8e0c-ee38d64ba34c",
   "metadata": {},
   "outputs": [
    {
     "name": "stdout",
     "output_type": "stream",
     "text": [
      "AccumBounds(-1, 1)\n"
     ]
    }
   ],
   "source": [
    "from sympy import *\n",
    "\n",
    "x= symbols('x')\n",
    "r = limit(sin(x), x, oo)\n",
    "print(r)"
   ]
  },
  {
   "cell_type": "code",
   "execution_count": 28,
   "id": "781a646d-652f-437a-9285-55dd10343e72",
   "metadata": {},
   "outputs": [
    {
     "data": {
      "text/plain": [
       "[<matplotlib.lines.Line2D at 0x2167aa38a60>]"
      ]
     },
     "execution_count": 28,
     "metadata": {},
     "output_type": "execute_result"
    },
    {
     "data": {
      "image/png": "[encoded data removed]",
      "text/plain": [
       "<Figure size 432x288 with 1 Axes>"
      ]
     },
     "metadata": {
      "needs_background": "light"
     },
     "output_type": "display_data"
    }
   ],
   "source": [
    "import sympy as sp\n",
    "\n",
    "domain = [0.0001, 0.5]\n",
    "f = lambda x: x*(sp.sin(1/x))\n",
    "\n",
    "X = np.linspace(*domain, samples)\n",
    "Y = np.fromiter((f(x) for x in X), np.float64, samples)\n",
    "plt.plot(X,Y)"
   ]
  },
  {
   "cell_type": "code",
   "execution_count": 29,
   "id": "42e6e917-f033-43bb-9469-8004a78036ee",
   "metadata": {},
   "outputs": [
    {
     "name": "stdout",
     "output_type": "stream",
     "text": [
      "0\n"
     ]
    }
   ],
   "source": [
    "from sympy import *\n",
    "\n",
    "x= symbols('x')\n",
    "r = limit(x*sin(1/x), x, 0)\n",
    "print(r)"
   ]
  }
 ],
 "metadata": {
  "kernelspec": {
   "display_name": "Python 3 (ipykernel)",
   "language": "python",
   "name": "python3"
  },
  "language_info": {
   "codemirror_mode": {
    "name": "ipython",
    "version": 3
   },
   "file_extension": ".py",
   "mimetype": "text/x-python",
   "name": "python",
   "nbconvert_exporter": "python",
   "pygments_lexer": "ipython3",
   "version": "3.9.12"
  }
 },
 "nbformat": 4,
 "nbformat_minor": 5
}
