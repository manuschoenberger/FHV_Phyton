{
 "cells": [
  {
   "cell_type": "code",
   "execution_count": 1,
   "id": "9d476ff1-6cd1-4cbe-9ed3-b5e0192a9153",
   "metadata": {},
   "outputs": [],
   "source": [
    "#Übungsblatt 10"
   ]
  },
  {
   "cell_type": "code",
   "execution_count": 2,
   "id": "d149ce2f-f2c1-4fca-b623-543be335fd0b",
   "metadata": {},
   "outputs": [],
   "source": [
    "#Aufgabe 1"
   ]
  },
  {
   "cell_type": "code",
   "execution_count": 3,
   "id": "a3b8cf93-65ce-43b6-8ee0-30be0881191a",
   "metadata": {},
   "outputs": [
    {
     "data": {
      "text/latex": [
       "$\\displaystyle 2$"
      ],
      "text/plain": [
       "2"
      ]
     },
     "execution_count": 3,
     "metadata": {},
     "output_type": "execute_result"
    }
   ],
   "source": [
    "from sympy import *\n",
    "n = symbols(\"n\")\n",
    "\n",
    "Sum(((1/2)**n), (n, 0, oo)).doit()"
   ]
  },
  {
   "cell_type": "code",
   "execution_count": 4,
   "id": "1d388746-04be-40e6-8d14-807b60da5131",
   "metadata": {},
   "outputs": [],
   "source": [
    "#Aufgabe 2"
   ]
  },
  {
   "cell_type": "code",
   "execution_count": 5,
   "id": "4fceb7ab-efe2-4831-b493-08a1024aa5c0",
   "metadata": {},
   "outputs": [
    {
     "name": "stdout",
     "output_type": "stream",
     "text": [
      "1 1.0\n",
      "2 1.25\n",
      "3 1.3611111111111112\n",
      "4 1.4236111111111112\n",
      "5 1.4636111111111112\n",
      "6 1.4913888888888889\n",
      "7 1.511797052154195\n",
      "8 1.527422052154195\n",
      "9 1.5397677311665408\n",
      "10 1.5497677311665408\n",
      "11 1.558032193976458\n",
      "12 1.5649766384209025\n",
      "13 1.5708937981842162\n",
      "14 1.5759958390005426\n",
      "15 1.580440283444987\n",
      "16 1.584346533444987\n",
      "17 1.587806741057444\n",
      "18 1.5908931608105303\n",
      "19 1.5936632439130234\n",
      "20 1.5961632439130233\n",
      "21 1.5984308176091684\n",
      "22 1.6004969333116477\n",
      "23 1.6023872924798896\n",
      "24 1.6041234035910008\n",
      "25 1.6057234035910009\n",
      "26 1.6072026935318293\n",
      "27 1.6085744356443121\n",
      "28 1.6098499458483937\n",
      "29 1.6110390064904865\n",
      "30 1.6121501176015975\n",
      "31 1.6131907003279242\n",
      "32 1.6141672628279242\n",
      "33 1.6150855364734706\n",
      "34 1.6159505883765848\n",
      "35 1.616766914907197\n",
      "36 1.6175385198454686\n",
      "37 1.6182689800353882\n",
      "38 1.6189615008110114\n",
      "39 1.619618963006935\n",
      "40 1.6202439630069352\n",
      "41 1.6208388470045556\n",
      "42 1.621405740428592\n",
      "43 1.6219465733112313\n",
      "44 1.6224631022368512\n",
      "45 1.622956929397345\n",
      "46 1.6234295191894055\n",
      "47 1.623882212715888\n",
      "48 1.6243162404936657\n",
      "49 1.6247327336215291\n",
      "50 1.625132733621529\n",
      "51 1.6255172011340242\n",
      "52 1.6258870236192313\n",
      "53 1.626243022195237\n",
      "54 1.626585957723358\n",
      "55 1.6269165362357545\n",
      "56 1.6272354137867748\n",
      "57 1.627543200798163\n",
      "58 1.627840465958686\n",
      "59 1.6281277397305907\n",
      "60 1.6284055175083685\n",
      "61 1.6286742624694004\n",
      "62 1.628934408150982\n",
      "63 1.629186360783887\n",
      "64 1.629430501408887\n",
      "65 1.6296671877994195\n",
      "66 1.6298967562108062\n",
      "67 1.630119522974005\n",
      "68 1.6303357859497836\n",
      "69 1.630545825857366\n",
      "70 1.630749907490019\n",
      "71 1.6309482808286422\n",
      "72 1.63114118206321\n",
      "73 1.6313288345308399\n",
      "74 1.6315114495783198\n",
      "75 1.6316892273560977\n",
      "76 1.6318623575500035\n",
      "77 1.6320310200563284\n",
      "78 1.6321953856053093\n",
      "79 1.6323556163375637\n",
      "80 1.6325118663375637\n",
      "81 1.6326642821278397\n",
      "82 1.6328130031272448\n",
      "83 1.632958162076294\n",
      "84 1.6330998854323031\n",
      "85 1.6332382937368013\n",
      "86 1.6333735019574611\n",
      "87 1.6335056198065825\n",
      "88 1.6336347520379875\n",
      "89 1.633760998724012\n",
      "90 1.6338844555141354\n",
      "91 1.634005213876652\n",
      "92 1.6341233613246673\n",
      "93 1.6342389816275924\n",
      "94 1.634352155009213\n",
      "95 1.6344629583333128\n",
      "96 1.6345714652777572\n",
      "97 1.6346777464978657\n",
      "98 1.6347818697798315\n",
      "99 1.6348839001848923\n",
      "100 1.6349839001848923\n"
     ]
    }
   ],
   "source": [
    "for n in range(1,101):\n",
    "    print(n, sum(1/(k+1)**2 for k in range(0,n)))"
   ]
  },
  {
   "cell_type": "code",
   "execution_count": 6,
   "id": "c8a0478b-2258-4926-bc2b-f1c60f693bbb",
   "metadata": {},
   "outputs": [],
   "source": [
    "#Aufgabe 3"
   ]
  },
  {
   "cell_type": "code",
   "execution_count": 7,
   "id": "6a45274c-e9ec-4974-ba4c-183483a48942",
   "metadata": {},
   "outputs": [
    {
     "data": {
      "text/latex": [
       "$\\displaystyle \\text{True}$"
      ],
      "text/plain": [
       "True"
      ]
     },
     "execution_count": 7,
     "metadata": {},
     "output_type": "execute_result"
    }
   ],
   "source": [
    "from sympy import *\n",
    "import math\n",
    "\n",
    "n = symbols(\"n\")\n",
    "Sum(10**n/factorial(n), (n, 0, oo)).is_convergent()"
   ]
  },
  {
   "cell_type": "code",
   "execution_count": 8,
   "id": "77199c22-57f5-4119-95a0-e1ff0719dacc",
   "metadata": {},
   "outputs": [
    {
     "data": {
      "text/latex": [
       "$\\displaystyle e^{10}$"
      ],
      "text/plain": [
       "exp(10)"
      ]
     },
     "execution_count": 8,
     "metadata": {},
     "output_type": "execute_result"
    }
   ],
   "source": [
    "Sum(10**n/factorial(n), (n, 0, oo)).doit()"
   ]
  },
  {
   "cell_type": "code",
   "execution_count": 9,
   "id": "cdc53ae7-8cb4-43d3-afee-fb5d445a6bb5",
   "metadata": {},
   "outputs": [
    {
     "data": {
      "text/latex": [
       "$\\displaystyle \\text{True}$"
      ],
      "text/plain": [
       "True"
      ]
     },
     "execution_count": 9,
     "metadata": {},
     "output_type": "execute_result"
    }
   ],
   "source": [
    "from sympy import *\n",
    "\n",
    "n = symbols(\"n\")\n",
    "Sum(1/((2*n + 1) * (2**(2*n + 1))), (n, 0, oo)).is_convergent()"
   ]
  },
  {
   "cell_type": "code",
   "execution_count": 22,
   "id": "35bdf438-f4ca-480c-b60f-739038734edc",
   "metadata": {},
   "outputs": [
    {
     "data": {
      "text/latex": [
       "$\\displaystyle \\operatorname{atanh}{\\left(\\frac{1}{2} \\right)}$"
      ],
      "text/plain": [
       "atanh(1/2)"
      ]
     },
     "execution_count": 22,
     "metadata": {},
     "output_type": "execute_result"
    }
   ],
   "source": [
    "Sum(1/((2*n + 1) * (2**(2*n + 1))), (n, 0, oo)).doit()"
   ]
  },
  {
   "cell_type": "code",
   "execution_count": 11,
   "id": "0740da12-0d0d-4c33-ba6e-895ed3f1c014",
   "metadata": {},
   "outputs": [
    {
     "data": {
      "text/latex": [
       "$\\displaystyle \\text{True}$"
      ],
      "text/plain": [
       "True"
      ]
     },
     "execution_count": 11,
     "metadata": {},
     "output_type": "execute_result"
    }
   ],
   "source": [
    "from sympy import *\n",
    "\n",
    "n = symbols(\"n\")\n",
    "Sum(((2*n + 1)/(2**(n+1))), (n, 0, oo)).is_convergent()"
   ]
  },
  {
   "cell_type": "code",
   "execution_count": 12,
   "id": "24676cdc-81f3-4308-9c98-3a104aba8ffd",
   "metadata": {},
   "outputs": [
    {
     "data": {
      "text/latex": [
       "$\\displaystyle 3$"
      ],
      "text/plain": [
       "3"
      ]
     },
     "execution_count": 12,
     "metadata": {},
     "output_type": "execute_result"
    }
   ],
   "source": [
    "Sum(((2*n + 1)/(2**(n+1))), (n, 0, oo)).doit()"
   ]
  },
  {
   "cell_type": "code",
   "execution_count": 13,
   "id": "8445b631-45df-4459-8499-baa3066179f8",
   "metadata": {},
   "outputs": [],
   "source": [
    "#Aufgabe 4"
   ]
  },
  {
   "cell_type": "code",
   "execution_count": 14,
   "id": "2c3e01c8-68da-485a-84af-f7ebc305c6db",
   "metadata": {},
   "outputs": [
    {
     "data": {
      "text/plain": [
       "148.4131591025766"
      ]
     },
     "execution_count": 14,
     "metadata": {},
     "output_type": "execute_result"
    }
   ],
   "source": [
    "from math import exp\n",
    "\n",
    "exp(2) * exp(3)"
   ]
  },
  {
   "cell_type": "code",
   "execution_count": 15,
   "id": "b43dc462-ae86-461f-8297-0298644c8290",
   "metadata": {},
   "outputs": [
    {
     "data": {
      "text/plain": [
       "148.4131591025766"
      ]
     },
     "execution_count": 15,
     "metadata": {},
     "output_type": "execute_result"
    }
   ],
   "source": [
    "exp(2 + 3)"
   ]
  },
  {
   "cell_type": "code",
   "execution_count": 16,
   "id": "e72ba570-4272-4596-b7b1-9a0040c0c578",
   "metadata": {},
   "outputs": [
    {
     "data": {
      "text/plain": [
       "1.0"
      ]
     },
     "execution_count": 16,
     "metadata": {},
     "output_type": "execute_result"
    }
   ],
   "source": [
    "exp(-2) * exp(2)"
   ]
  },
  {
   "cell_type": "code",
   "execution_count": 17,
   "id": "7b1d09a6-606c-4907-8e6a-9144a8b43803",
   "metadata": {},
   "outputs": [
    {
     "data": {
      "text/plain": [
       "1.0"
      ]
     },
     "execution_count": 17,
     "metadata": {},
     "output_type": "execute_result"
    }
   ],
   "source": [
    "exp(0)"
   ]
  },
  {
   "cell_type": "code",
   "execution_count": 18,
   "id": "e8713883-841a-487c-b1d5-dbb72a0b591d",
   "metadata": {},
   "outputs": [],
   "source": [
    "#Aufgabe 5"
   ]
  },
  {
   "cell_type": "code",
   "execution_count": 19,
   "id": "8373fd3a-ab31-4763-a99e-b5b08ad37000",
   "metadata": {},
   "outputs": [
    {
     "data": {
      "text/plain": [
       "0.9999999999999978"
      ]
     },
     "execution_count": 19,
     "metadata": {},
     "output_type": "execute_result"
    }
   ],
   "source": [
    "from math import e, exp\n",
    "\n",
    "e**42 / exp(42)"
   ]
  },
  {
   "cell_type": "code",
   "execution_count": 20,
   "id": "739f78d1-08f4-4a55-99d5-ea64678e195b",
   "metadata": {},
   "outputs": [
    {
     "data": {
      "text/plain": [
       "[<matplotlib.lines.Line2D at 0x275783683a0>]"
      ]
     },
     "execution_count": 20,
     "metadata": {},
     "output_type": "execute_result"
    },
    {
     "data": {
      "image/png": "[encoded data removed]",
      "text/plain": [
       "<Figure size 432x288 with 1 Axes>"
      ]
     },
     "metadata": {
      "needs_background": "light"
     },
     "output_type": "display_data"
    }
   ],
   "source": [
    "import matplotlib.pyplot as plt\n",
    "import math as Math\n",
    "import numpy as np\n",
    "\n",
    "samples = 1000\n",
    "domain = [-10,2]\n",
    "f = lambda x: exp(x)\n",
    "\n",
    "X = np.linspace(*domain, samples)\n",
    "Y = np.fromiter((f(x) for x in X), np.float64, samples)\n",
    "plt.plot(X,Y)"
   ]
  }
 ],
 "metadata": {
  "kernelspec": {
   "display_name": "Python 3 (ipykernel)",
   "language": "python",
   "name": "python3"
  },
  "language_info": {
   "codemirror_mode": {
    "name": "ipython",
    "version": 3
   },
   "file_extension": ".py",
   "mimetype": "text/x-python",
   "name": "python",
   "nbconvert_exporter": "python",
   "pygments_lexer": "ipython3",
   "version": "3.9.12"
  }
 },
 "nbformat": 4,
 "nbformat_minor": 5
}
