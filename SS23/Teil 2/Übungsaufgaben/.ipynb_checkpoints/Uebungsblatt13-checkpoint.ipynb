{
 "cells": [
  {
   "cell_type": "code",
   "execution_count": 1,
   "id": "fdaa38e1-0e1b-4578-91e1-b22c52291e39",
   "metadata": {},
   "outputs": [],
   "source": [
    "#Übungsblatt 13"
   ]
  },
  {
   "cell_type": "code",
   "execution_count": 2,
   "id": "d0739ad6-4e61-4325-b9eb-5a49b0b6e824",
   "metadata": {},
   "outputs": [],
   "source": [
    "#Aufgabe 2"
   ]
  },
  {
   "cell_type": "code",
   "execution_count": 3,
   "id": "8e73c7bc-78a2-4440-91b1-3b07c8e8f5b6",
   "metadata": {},
   "outputs": [],
   "source": [
    "def Horner(b, P): # b = auswertestelle, P = koeffizienten des Polynoms\n",
    "    r = 0\n",
    "    for a in P:\n",
    "        r = b * r + a\n",
    "    return r"
   ]
  },
  {
   "cell_type": "code",
   "execution_count": 4,
   "id": "1bfcce2b-ce13-45c7-bfdb-e0afba87fbe7",
   "metadata": {},
   "outputs": [
    {
     "data": {
      "text/plain": [
       "3"
      ]
     },
     "execution_count": 4,
     "metadata": {},
     "output_type": "execute_result"
    }
   ],
   "source": [
    "Horner(-1, [2,0,-1,7,9])"
   ]
  },
  {
   "cell_type": "code",
   "execution_count": 5,
   "id": "8a75a37e-de4f-4e06-866e-b5179da137f9",
   "metadata": {},
   "outputs": [],
   "source": [
    "#Aufgabe 5"
   ]
  },
  {
   "cell_type": "code",
   "execution_count": 6,
   "id": "dcea9a4d-198c-4405-93ee-c6cb5c9f37fa",
   "metadata": {},
   "outputs": [
    {
     "data": {
      "text/latex": [
       "$\\displaystyle 2 x^{2} - 5 x + 3$"
      ],
      "text/plain": [
       "2*x**2 - 5*x + 3"
      ]
     },
     "execution_count": 6,
     "metadata": {},
     "output_type": "execute_result"
    }
   ],
   "source": [
    "from sympy import *\n",
    "\n",
    "x = symbols(\"x\")\n",
    "interpolate([(-1,10),(2,1),(3,6)],x)"
   ]
  },
  {
   "cell_type": "code",
   "execution_count": 7,
   "id": "33112cec-6737-4ede-b07e-094afc7eb844",
   "metadata": {},
   "outputs": [
    {
     "data": {
      "text/plain": [
       "[<matplotlib.lines.Line2D at 0x1171725efa0>]"
      ]
     },
     "execution_count": 7,
     "metadata": {},
     "output_type": "execute_result"
    },
    {
     "data": {
      "image/png": "[encoded data removed]",
      "text/plain": [
       "<Figure size 432x288 with 1 Axes>"
      ]
     },
     "metadata": {
      "needs_background": "light"
     },
     "output_type": "display_data"
    }
   ],
   "source": [
    "import matplotlib.pyplot as plt\n",
    "import numpy as np\n",
    "import math\n",
    "\n",
    "XP = np.array([-1, 2, 3])\n",
    "YP = np.array([10, 1, 6])\n",
    "\n",
    "plt.scatter(XP, YP, color='r')\n",
    "\n",
    "X = np.linspace(-1.5, 3.5, 100)\n",
    "\n",
    "p = lambda x: 2 * x**2 - 5 * x + 3\n",
    "\n",
    "plt.plot(X, p(X), color='g')"
   ]
  }
 ],
 "metadata": {
  "kernelspec": {
   "display_name": "Python 3 (ipykernel)",
   "language": "python",
   "name": "python3"
  },
  "language_info": {
   "codemirror_mode": {
    "name": "ipython",
    "version": 3
   },
   "file_extension": ".py",
   "mimetype": "text/x-python",
   "name": "python",
   "nbconvert_exporter": "python",
   "pygments_lexer": "ipython3",
   "version": "3.9.12"
  }
 },
 "nbformat": 4,
 "nbformat_minor": 5
}
