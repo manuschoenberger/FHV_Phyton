{
 "cells": [
  {
   "cell_type": "code",
   "execution_count": 1,
   "id": "e8299354-23b6-4c38-bfc3-900c8e401274",
   "metadata": {},
   "outputs": [],
   "source": [
    "#Reihen - unendliche Summe"
   ]
  },
  {
   "cell_type": "code",
   "execution_count": 2,
   "id": "444a8b6c-c2fc-4376-b22d-cfd610ba277e",
   "metadata": {},
   "outputs": [
    {
     "name": "stdout",
     "output_type": "stream",
     "text": [
      "1.0\n",
      "1.2\n"
     ]
    }
   ],
   "source": [
    "s1 = sum((1/5)**k for k in range(0,1))\n",
    "print(s1)\n",
    "s2 = sum((1/5)**k for k in range(0,2))\n",
    "print(s2)"
   ]
  },
  {
   "cell_type": "code",
   "execution_count": 13,
   "id": "a6a4a8b8-5183-40d8-bc39-0d6855cf8e12",
   "metadata": {},
   "outputs": [
    {
     "name": "stdout",
     "output_type": "stream",
     "text": [
      "1 1.0\n",
      "2 1.2\n",
      "3 1.24\n",
      "4 1.248\n",
      "5 1.2496\n",
      "6 1.2499200000000001\n",
      "7 1.2499840000000002\n",
      "8 1.2499968000000001\n",
      "9 1.2499993600000001\n",
      "10 1.249999872\n",
      "11 1.2499999744\n",
      "12 1.24999999488\n",
      "13 1.249999998976\n",
      "14 1.2499999997952\n",
      "15 1.24999999995904\n",
      "16 1.249999999991808\n",
      "17 1.2499999999983618\n",
      "18 1.2499999999996725\n",
      "19 1.2499999999999347\n"
     ]
    }
   ],
   "source": [
    "for n in range(1,20):\n",
    "    print(n, sum((1/5)**k for k in range(0,n)))"
   ]
  },
  {
   "cell_type": "code",
   "execution_count": 9,
   "id": "9c59eb07-d008-4a5e-9271-c8cfa44392c1",
   "metadata": {},
   "outputs": [
    {
     "data": {
      "text/latex": [
       "$\\displaystyle \\text{True}$"
      ],
      "text/plain": [
       "True"
      ]
     },
     "execution_count": 9,
     "metadata": {},
     "output_type": "execute_result"
    }
   ],
   "source": [
    "from sympy import *\n",
    "n = symbols(\"n\")\n",
    "Sum((1/5**n), (n, 0, oo)).is_convergent()"
   ]
  },
  {
   "cell_type": "code",
   "execution_count": 11,
   "id": "025f5ff7-d28b-497b-831f-9297d0d485f4",
   "metadata": {},
   "outputs": [
    {
     "data": {
      "text/latex": [
       "$\\displaystyle \\frac{5}{4}$"
      ],
      "text/plain": [
       "5/4"
      ]
     },
     "execution_count": 11,
     "metadata": {},
     "output_type": "execute_result"
    }
   ],
   "source": [
    "Sum((1/5**n), (n, 0, oo)).doit()"
   ]
  },
  {
   "cell_type": "code",
   "execution_count": 12,
   "id": "c1812377-ca00-41f6-9f16-beadb706198c",
   "metadata": {},
   "outputs": [
    {
     "data": {
      "text/latex": [
       "$\\displaystyle \\frac{\\pi^{2}}{6}$"
      ],
      "text/plain": [
       "pi**2/6"
      ]
     },
     "execution_count": 12,
     "metadata": {},
     "output_type": "execute_result"
    }
   ],
   "source": [
    "Sum((1/(n+1)**2), (n ,0 , oo)).doit()"
   ]
  }
 ],
 "metadata": {
  "kernelspec": {
   "display_name": "Python 3 (ipykernel)",
   "language": "python",
   "name": "python3"
  },
  "language_info": {
   "codemirror_mode": {
    "name": "ipython",
    "version": 3
   },
   "file_extension": ".py",
   "mimetype": "text/x-python",
   "name": "python",
   "nbconvert_exporter": "python",
   "pygments_lexer": "ipython3",
   "version": "3.9.12"
  }
 },
 "nbformat": 4,
 "nbformat_minor": 5
}
