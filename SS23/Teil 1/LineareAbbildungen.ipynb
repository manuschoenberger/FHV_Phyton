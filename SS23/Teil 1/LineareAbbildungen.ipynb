{
 "cells": [
  {
   "cell_type": "code",
   "execution_count": 1,
   "id": "a139ad10-d9d3-4793-be7b-3f340ead502d",
   "metadata": {},
   "outputs": [],
   "source": [
    "#Lineare Abbildungen"
   ]
  },
  {
   "cell_type": "code",
   "execution_count": 2,
   "id": "28d0d577-6e57-4586-bdc6-332fd55e84ae",
   "metadata": {},
   "outputs": [],
   "source": [
    "#im CLassic Notebook"
   ]
  }
 ],
 "metadata": {
  "kernelspec": {
   "display_name": "Python 3 (ipykernel)",
   "language": "python",
   "name": "python3"
  },
  "language_info": {
   "codemirror_mode": {
    "name": "ipython",
    "version": 3
   },
   "file_extension": ".py",
   "mimetype": "text/x-python",
   "name": "python",
   "nbconvert_exporter": "python",
   "pygments_lexer": "ipython3",
   "version": "3.9.12"
  }
 },
 "nbformat": 4,
 "nbformat_minor": 5
}
