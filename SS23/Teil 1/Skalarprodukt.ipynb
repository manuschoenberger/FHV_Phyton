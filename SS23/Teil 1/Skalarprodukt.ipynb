{
 "cells": [
  {
   "cell_type": "code",
   "execution_count": 1,
   "id": "69916c48-008f-4fbe-b3d4-1a8810e88b7d",
   "metadata": {},
   "outputs": [],
   "source": [
    "#Skalarprodukt"
   ]
  },
  {
   "cell_type": "code",
   "execution_count": 3,
   "id": "02c06767-cb96-445f-bee7-bad3035ef899",
   "metadata": {},
   "outputs": [],
   "source": [
    "def scalarprod(a,b):\n",
    "    retval = 0\n",
    "    if (len(a) != len(b)):\n",
    "        return \"Dimension missmatch\"\n",
    "    for i in range(len(a)):\n",
    "        retval += a[i] * b[i]\n",
    "    return retval"
   ]
  },
  {
   "cell_type": "code",
   "execution_count": 6,
   "id": "2971fde0-556e-484d-a4ba-304885cb9b9f",
   "metadata": {},
   "outputs": [],
   "source": [
    "a = [3,2]\n",
    "b = [2,4]"
   ]
  },
  {
   "cell_type": "code",
   "execution_count": 7,
   "id": "fb4079e2-830d-471a-8259-f0100ebbefb4",
   "metadata": {},
   "outputs": [
    {
     "data": {
      "text/plain": [
       "14"
      ]
     },
     "execution_count": 7,
     "metadata": {},
     "output_type": "execute_result"
    }
   ],
   "source": [
    "scalarprod(a,b)"
   ]
  },
  {
   "cell_type": "code",
   "execution_count": 16,
   "id": "ea1d0e23-febf-4c83-8905-27e0f2a0aa48",
   "metadata": {},
   "outputs": [],
   "source": [
    "from math import sqrt, acos, degrees\n",
    "def vecnorm(a):\n",
    "    return sqrt(scalarprod(a,a))"
   ]
  },
  {
   "cell_type": "code",
   "execution_count": 12,
   "id": "ff59388a-80da-4cd7-bd77-d7052132a6d6",
   "metadata": {},
   "outputs": [
    {
     "data": {
      "text/plain": [
       "0.8682431421244593"
      ]
     },
     "execution_count": 12,
     "metadata": {},
     "output_type": "execute_result"
    }
   ],
   "source": [
    "scalarprod(a,b) / (vecnorm(a) * vecnorm(b))"
   ]
  },
  {
   "cell_type": "code",
   "execution_count": 18,
   "id": "841d5634-62c5-42f6-aeb4-da6a0cd545d6",
   "metadata": {},
   "outputs": [
    {
     "data": {
      "text/plain": [
       "29.7452441579448"
      ]
     },
     "execution_count": 18,
     "metadata": {},
     "output_type": "execute_result"
    }
   ],
   "source": [
    "degrees(acos(0.86824))"
   ]
  }
 ],
 "metadata": {
  "kernelspec": {
   "display_name": "Python 3 (ipykernel)",
   "language": "python",
   "name": "python3"
  },
  "language_info": {
   "codemirror_mode": {
    "name": "ipython",
    "version": 3
   },
   "file_extension": ".py",
   "mimetype": "text/x-python",
   "name": "python",
   "nbconvert_exporter": "python",
   "pygments_lexer": "ipython3",
   "version": "3.9.12"
  }
 },
 "nbformat": 4,
 "nbformat_minor": 5
}
