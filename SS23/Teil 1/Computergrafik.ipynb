{
 "cells": [
  {
   "cell_type": "code",
   "execution_count": 1,
   "id": "1fa33945-100f-4341-be66-943b6b8440bd",
   "metadata": {},
   "outputs": [],
   "source": [
    "#Computergrafik"
   ]
  },
  {
   "cell_type": "code",
   "execution_count": 2,
   "id": "b0dffe3e-70b1-4c34-8f39-6ae944c6d465",
   "metadata": {},
   "outputs": [],
   "source": [
    "#im CLassic Notebook"
   ]
  }
 ],
 "metadata": {
  "kernelspec": {
   "display_name": "Python 3 (ipykernel)",
   "language": "python",
   "name": "python3"
  },
  "language_info": {
   "codemirror_mode": {
    "name": "ipython",
    "version": 3
   },
   "file_extension": ".py",
   "mimetype": "text/x-python",
   "name": "python",
   "nbconvert_exporter": "python",
   "pygments_lexer": "ipython3",
   "version": "3.9.12"
  }
 },
 "nbformat": 4,
 "nbformat_minor": 5
}
