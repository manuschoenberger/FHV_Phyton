{
 "cells": [
  {
   "cell_type": "code",
   "execution_count": 1,
   "id": "bf8821e9-c777-4041-a0dc-4687b43fd2dd",
   "metadata": {},
   "outputs": [],
   "source": [
    "#Determinanten"
   ]
  },
  {
   "cell_type": "code",
   "execution_count": 2,
   "id": "2df0e64a-6281-452a-9583-861146013522",
   "metadata": {},
   "outputs": [],
   "source": [
    "def detR2(A):\n",
    "    if (len(A) != len(A[0])):\n",
    "        return \"Matrix ist nicht quadratisch\"\n",
    "    if (len(A) != 2):\n",
    "        return \"Geht nur für 2 x 2 Matrizen\"\n",
    "        \n",
    "    return A[0][0] * A[1][1] - A[0][1] * A[1][0]"
   ]
  },
  {
   "cell_type": "code",
   "execution_count": 3,
   "id": "97a5bf96-f664-49ad-9070-49d8bcb775bd",
   "metadata": {},
   "outputs": [
    {
     "data": {
      "text/plain": [
       "-10"
      ]
     },
     "execution_count": 3,
     "metadata": {},
     "output_type": "execute_result"
    }
   ],
   "source": [
    "detR2([[1,3],[4,2]])"
   ]
  },
  {
   "cell_type": "code",
   "execution_count": 4,
   "id": "a1629586-ad33-474c-a702-3b6329c90d2b",
   "metadata": {},
   "outputs": [
    {
     "data": {
      "text/plain": [
       "10"
      ]
     },
     "execution_count": 4,
     "metadata": {},
     "output_type": "execute_result"
    }
   ],
   "source": [
    "detR2([[4,2],[1,3]])"
   ]
  },
  {
   "cell_type": "code",
   "execution_count": 5,
   "id": "60d2c715-2454-41fe-bc4e-3ca45b081165",
   "metadata": {},
   "outputs": [
    {
     "data": {
      "text/plain": [
       "[[1, 2], [0, -2]]"
      ]
     },
     "execution_count": 5,
     "metadata": {},
     "output_type": "execute_result"
    }
   ],
   "source": [
    "# rowEcholon\n",
    "# EZ vom Typ 3). Abziehen (Addition mit negativen FAktor) des mehrfachen einer Zeile von einer anderen\n",
    "def rowMod(M, i, j, x): #Matrix M, Zeilenindex i der zu modifizierrenden Zeile und Zeilenindex j \n",
    "                        #(Zeile die wir abziehen möchten), Faktor x\n",
    "    M[i] = [a + x * b for a,b in zip(M[i], M[j])]\n",
    "\n",
    "M = [[1,2], [3,4]]\n",
    "\n",
    "rowMod(M,1,0,-3)\n",
    "\n",
    "M"
   ]
  },
  {
   "cell_type": "code",
   "execution_count": 6,
   "id": "3b7989d5-8bdb-4589-87ef-b10aa0b54a5a",
   "metadata": {},
   "outputs": [],
   "source": [
    "def rowEcholon(M): # Gauß-Verfahren\n",
    "    row, col = 0,0\n",
    "    rows, cols = len(M), len(M[0])\n",
    "    while row < rows and col < cols:\n",
    "        # try to find pivot element\n",
    "        if M[row][col] == 0:\n",
    "            for r in range(row + 1, rows):\n",
    "                if M[r][col] != 0: #search until pivotelement (!=0) found\n",
    "                    rowMod(M, row, r, 1)\n",
    "                    break\n",
    "        # no pivot element, skip column\n",
    "        if M[row][col] == 0:\n",
    "            col += 1\n",
    "            continue\n",
    "        # pivot element found, create zeros\n",
    "        pivot = M[row][col]\n",
    "        for r in range(row + 1, rows):\n",
    "            if M[r][col] != 0:\n",
    "                rowMod(M, r, row, -M[r][col] / pivot)\n",
    "        row += 1\n",
    "        col += 1"
   ]
  },
  {
   "cell_type": "code",
   "execution_count": 7,
   "id": "f24117e7-c901-4be9-a6c6-15712fc83df8",
   "metadata": {},
   "outputs": [
    {
     "name": "stdout",
     "output_type": "stream",
     "text": [
      "M = [[4, 2], [1, 3]]\n",
      "det(M)= 10.0\n",
      "M = [[1, 3], [4, 2]]\n",
      "det(M)= -10.0\n",
      "M = [[6, -1, -1], [1, 1, 10], [2, -1, 1]]\n",
      "det(M)= 50.0\n",
      "M = [[6, -1, -1, 2], [1, 1, 10, 1], [2, -1, 1, 2], [3, 1, 1, 4]]\n",
      "det(M)= 246.0\n"
     ]
    }
   ],
   "source": [
    "def determinante(M):\n",
    "    rowEcholon(M)\n",
    "    det = 1\n",
    "    for i in range(len(M)):\n",
    "        det *= M[i][i]\n",
    "    return det\n",
    "\n",
    " \n",
    "\n",
    "def printDet(M):\n",
    "    print('M =', M)\n",
    "    det = determinante(M)\n",
    "    print('det(M)=', det)\n",
    "    \n",
    "A = [[4, 2], [1, 3]]\n",
    "B = [A[1], A[0]]\n",
    "printDet(A)\n",
    "printDet(B)\n",
    "printDet([[6,-1, -1],[1,1,10],[2,-1,1]])\n",
    "printDet([[6,-1,-1,2],[1,1,10,1],[2,-1,1,2],[3,1,1,4]])"
   ]
  },
  {
   "cell_type": "code",
   "execution_count": 12,
   "id": "0ae14aa8-bf66-46f3-bd6b-b01edd91835b",
   "metadata": {},
   "outputs": [
    {
     "name": "stdout",
     "output_type": "stream",
     "text": [
      "M = [[3, 7, 3, 0], [0, 2, -1, 1], [5, 4, 3, 2], [6, 6, 4, -1]]\n",
      "det(M)= 105.0\n"
     ]
    },
    {
     "ename": "AttributeError",
     "evalue": "'MutableDenseMatrix' object has no attribute 'determinante'",
     "output_type": "error",
     "traceback": [
      "\u001b[1;31m---------------------------------------------------------------------------\u001b[0m",
      "\u001b[1;31mAttributeError\u001b[0m                            Traceback (most recent call last)",
      "Input \u001b[1;32mIn [12]\u001b[0m, in \u001b[0;36m<cell line: 9>\u001b[1;34m()\u001b[0m\n\u001b[0;32m      4\u001b[0m printDet([[\u001b[38;5;241m3\u001b[39m,\u001b[38;5;241m7\u001b[39m,\u001b[38;5;241m3\u001b[39m,\u001b[38;5;241m0\u001b[39m],[\u001b[38;5;241m0\u001b[39m,\u001b[38;5;241m2\u001b[39m,\u001b[38;5;241m-\u001b[39m\u001b[38;5;241m1\u001b[39m,\u001b[38;5;241m1\u001b[39m],[\u001b[38;5;241m5\u001b[39m,\u001b[38;5;241m4\u001b[39m,\u001b[38;5;241m3\u001b[39m,\u001b[38;5;241m2\u001b[39m],[\u001b[38;5;241m6\u001b[39m,\u001b[38;5;241m6\u001b[39m,\u001b[38;5;241m4\u001b[39m,\u001b[38;5;241m-\u001b[39m\u001b[38;5;241m1\u001b[39m]])\n\u001b[0;32m      8\u001b[0m Mat \u001b[38;5;241m=\u001b[39m Matrix([[\u001b[38;5;241m3\u001b[39m,\u001b[38;5;241m7\u001b[39m,\u001b[38;5;241m3\u001b[39m,\u001b[38;5;241m0\u001b[39m],[\u001b[38;5;241m0\u001b[39m,\u001b[38;5;241m2\u001b[39m,\u001b[38;5;241m-\u001b[39m\u001b[38;5;241m1\u001b[39m,\u001b[38;5;241m1\u001b[39m],[\u001b[38;5;241m5\u001b[39m,\u001b[38;5;241m4\u001b[39m,\u001b[38;5;241m3\u001b[39m,\u001b[38;5;241m2\u001b[39m],[\u001b[38;5;241m6\u001b[39m,\u001b[38;5;241m6\u001b[39m,\u001b[38;5;241m4\u001b[39m,\u001b[38;5;241m-\u001b[39m\u001b[38;5;241m1\u001b[39m]])\n\u001b[1;32m----> 9\u001b[0m \u001b[38;5;28mprint\u001b[39m(\u001b[43mMat\u001b[49m\u001b[38;5;241;43m.\u001b[39;49m\u001b[43mdeterminante\u001b[49m())\n\u001b[0;32m     10\u001b[0m \u001b[38;5;28mprint\u001b[39m((\u001b[38;5;241m-\u001b[39m\u001b[38;5;241m1\u001b[39m\u001b[38;5;241m*\u001b[39mMat)\u001b[38;5;241m.\u001b[39mdeterminante())\n\u001b[0;32m     11\u001b[0m \u001b[38;5;28mprint\u001b[39m(\u001b[38;5;241m-\u001b[39m\u001b[38;5;241m1\u001b[39m\u001b[38;5;241m*\u001b[39mMatrix([[\u001b[38;5;241m6\u001b[39m,\u001b[38;5;241m-\u001b[39m\u001b[38;5;241m1\u001b[39m, \u001b[38;5;241m-\u001b[39m\u001b[38;5;241m1\u001b[39m],[\u001b[38;5;241m1\u001b[39m,\u001b[38;5;241m1\u001b[39m,\u001b[38;5;241m10\u001b[39m],[\u001b[38;5;241m2\u001b[39m,\u001b[38;5;241m-\u001b[39m\u001b[38;5;241m1\u001b[39m,\u001b[38;5;241m1\u001b[39m]])\u001b[38;5;241m.\u001b[39mdeterminante())\n",
      "\u001b[1;31mAttributeError\u001b[0m: 'MutableDenseMatrix' object has no attribute 'determinante'"
     ]
    }
   ],
   "source": [
    "from sympy import Matrix\n",
    " \n",
    "\n",
    "printDet([[3,7,3,0],[0,2,-1,1],[5,4,3,2],[6,6,4,-1]])\n",
    "\n",
    " \n",
    "\n",
    "Mat = Matrix([[3,7,3,0],[0,2,-1,1],[5,4,3,2],[6,6,4,-1]])\n",
    "print(Mat.determinante())\n",
    "print((-1*Mat).determinante())\n",
    "print(-1*Matrix([[6,-1, -1],[1,1,10],[2,-1,1]]).determinante())"
   ]
  }
 ],
 "metadata": {
  "kernelspec": {
   "display_name": "Python 3 (ipykernel)",
   "language": "python",
   "name": "python3"
  },
  "language_info": {
   "codemirror_mode": {
    "name": "ipython",
    "version": 3
   },
   "file_extension": ".py",
   "mimetype": "text/x-python",
   "name": "python",
   "nbconvert_exporter": "python",
   "pygments_lexer": "ipython3",
   "version": "3.9.12"
  }
 },
 "nbformat": 4,
 "nbformat_minor": 5
}
