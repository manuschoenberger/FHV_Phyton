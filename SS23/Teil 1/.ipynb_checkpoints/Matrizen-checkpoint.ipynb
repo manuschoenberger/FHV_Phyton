{
 "cells": [
  {
   "cell_type": "code",
   "execution_count": 4,
   "id": "dabd2697-a590-4269-91a2-1be71f65cb5a",
   "metadata": {},
   "outputs": [],
   "source": [
    "#Matrizen"
   ]
  },
  {
   "cell_type": "code",
   "execution_count": 5,
   "id": "2fabe158-0862-48db-84ff-dc2d434b650c",
   "metadata": {},
   "outputs": [],
   "source": [
    "A = [[1] * 3 for i in range(2)]"
   ]
  },
  {
   "cell_type": "code",
   "execution_count": 6,
   "id": "87c6dead-1c8c-42db-9804-533ad259024f",
   "metadata": {},
   "outputs": [
    {
     "name": "stdout",
     "output_type": "stream",
     "text": [
      "[[1, 1, 1], [1, 1, 1]]\n"
     ]
    }
   ],
   "source": [
    "print(A)"
   ]
  },
  {
   "cell_type": "code",
   "execution_count": 7,
   "id": "285e58eb-487e-406f-83cf-80820cea3833",
   "metadata": {},
   "outputs": [
    {
     "data": {
      "text/plain": [
       "2"
      ]
     },
     "execution_count": 7,
     "metadata": {},
     "output_type": "execute_result"
    }
   ],
   "source": [
    "len(A)"
   ]
  },
  {
   "cell_type": "code",
   "execution_count": 8,
   "id": "41b209bd-352c-415f-9664-59e7b5824939",
   "metadata": {},
   "outputs": [],
   "source": [
    "A = [[1] * 3 for i in range(3)]"
   ]
  },
  {
   "cell_type": "code",
   "execution_count": 9,
   "id": "96580c0f-3dca-4481-8a41-2aaf496454d2",
   "metadata": {},
   "outputs": [
    {
     "name": "stdout",
     "output_type": "stream",
     "text": [
      "[[1, 1, 1], [1, 1, 1], [1, 1, 1]]\n"
     ]
    }
   ],
   "source": [
    "print(A)"
   ]
  },
  {
   "cell_type": "code",
   "execution_count": 10,
   "id": "cf86d9dd-ff4c-45ed-8991-4540a349fc85",
   "metadata": {},
   "outputs": [
    {
     "data": {
      "text/plain": [
       "'Dimensionen von A und B stimmen nicht überein / Spalte'"
      ]
     },
     "execution_count": 10,
     "metadata": {},
     "output_type": "execute_result"
    }
   ],
   "source": [
    "def matrixAdd(A,B):\n",
    "    if  (len(A) != len(B)):\n",
    "        return \"Dimensionen von A und B stimmen nicht überein / Spalte\"\n",
    "    retval = [[] for i in range(len(A))]\n",
    "    for i in range(len(A)):\n",
    "        if (len(A[i]) != len(B[i])):\n",
    "            return \"Dimensionen von A und B stimmen nicht überein / Zeile\"\n",
    "        for j in range(len(A[i])):\n",
    "            retval[i].append([])\n",
    "            retval[i][j] = A[i][j] * B[i][j]\n",
    "    return retval\n",
    "\n",
    "A = [[1] * 3 for i in range(3)]\n",
    "B = [[1] * 3 for i in  range(2)]\n",
    "\n",
    "matrixAdd(A,B)"
   ]
  },
  {
   "cell_type": "code",
   "execution_count": 11,
   "id": "bea0f6de-13c2-48c3-8e17-eaf7eccada15",
   "metadata": {},
   "outputs": [
    {
     "data": {
      "text/plain": [
       "3"
      ]
     },
     "execution_count": 11,
     "metadata": {},
     "output_type": "execute_result"
    }
   ],
   "source": [
    "len(A)"
   ]
  },
  {
   "cell_type": "code",
   "execution_count": 12,
   "id": "f3d37d3e-0ecb-4fb0-8f46-d682fc32bb5f",
   "metadata": {},
   "outputs": [
    {
     "data": {
      "text/plain": [
       "3"
      ]
     },
     "execution_count": 12,
     "metadata": {},
     "output_type": "execute_result"
    }
   ],
   "source": [
    "len(A[1])"
   ]
  },
  {
   "cell_type": "code",
   "execution_count": 13,
   "id": "26ec61c6-6c1b-4d16-bfb7-dc4449fe5003",
   "metadata": {},
   "outputs": [],
   "source": [
    "def scalarMult(lam, A):\n",
    "    retval = [[] for i in range(len(A))]\n",
    "    for i in range(len(A)):\n",
    "        for j in range(len(A[i])):\n",
    "            retval[i].append([])\n",
    "            retval[i][j] = A[i][j] * lam\n",
    "    return retval"
   ]
  },
  {
   "cell_type": "code",
   "execution_count": 14,
   "id": "a8941d8c-574c-485d-99da-62ab5bb73d03",
   "metadata": {},
   "outputs": [
    {
     "data": {
      "text/plain": [
       "[[2, 2, 2], [2, 2, 2], [2, 2, 2]]"
      ]
     },
     "execution_count": 14,
     "metadata": {},
     "output_type": "execute_result"
    }
   ],
   "source": [
    "scalarMult(2,A)"
   ]
  }
 ],
 "metadata": {
  "kernelspec": {
   "display_name": "Python 3 (ipykernel)",
   "language": "python",
   "name": "python3"
  },
  "language_info": {
   "codemirror_mode": {
    "name": "ipython",
    "version": 3
   },
   "file_extension": ".py",
   "mimetype": "text/x-python",
   "name": "python",
   "nbconvert_exporter": "python",
   "pygments_lexer": "ipython3",
   "version": "3.9.12"
  }
 },
 "nbformat": 4,
 "nbformat_minor": 5
}
