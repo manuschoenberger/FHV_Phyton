{
 "cells": [
  {
   "cell_type": "code",
   "execution_count": 1,
   "id": "e935b58c-61c1-4541-a9eb-d58c9f32d522",
   "metadata": {},
   "outputs": [],
   "source": [
    "#Lineare Gleichungssysteme"
   ]
  },
  {
   "cell_type": "code",
   "execution_count": 7,
   "id": "f1234e42-dc55-467c-bc3a-a2b147f26027",
   "metadata": {},
   "outputs": [
    {
     "data": {
      "text/plain": [
       "[[1, 2], [0, -2]]"
      ]
     },
     "execution_count": 8,
     "metadata": {},
     "output_type": "execute_result"
    }
   ],
   "source": [
    "# rowEcholon\n",
    "# EZ vom Typ 3). Abziehen (Addition mit negativen FAktor) des mehrfachen einer Zeile von einer anderen\n",
    "def rowMod(M, i, j, x): #Matrix M, Zeilenindex i der zu modifizierrenden Zeile und Zeilenindex j (Zeile die wir abziehen möchten), Faktor x\n",
    "    M[i] = [a + x * b for a,b in zip(M[i], M[j])]\n",
    "\n",
    "M = [[1,2], [3,4]]\n",
    "\n",
    "rowMod(M,1,0,-3)\n",
    "\n",
    "M"
   ]
  },
  {
   "cell_type": "code",
   "execution_count": 9,
   "id": "e0571c6c-d08f-4146-9f33-5e6657075c15",
   "metadata": {},
   "outputs": [
    {
     "data": {
      "text/plain": [
       "[(1, 3), (2, 4)]"
      ]
     },
     "execution_count": 9,
     "metadata": {},
     "output_type": "execute_result"
    }
   ],
   "source": [
    "list(zip([1,2], [3,4]))"
   ]
  },
  {
   "cell_type": "code",
   "execution_count": 10,
   "id": "b94ab499-4c57-4b43-8659-9f5726ff92ee",
   "metadata": {},
   "outputs": [],
   "source": [
    "def rowEcholon(M): #Gauß-Verfahren\n",
    "    row, col = 0,0\n",
    "    rows, cols = len(M), len(M[0])\n",
    "    while row < rows and col < cols:\n",
    "        #try to find pivotelement\n",
    "        if M[row][col] == 0:\n",
    "            for r in range(row + 1, rows):\n",
    "                if M[r][col] != 0: #search until pivotelement (!=0) found\n",
    "                    rowMod(M,row,r,1)\n",
    "                    break\n",
    "        #no pivotelement, skip colomn (no break)\n",
    "        if M[row][col] == 0:\n",
    "            col += 1\n",
    "            continue\n",
    "        #pivotelement found, create zeros\n",
    "        pivot = M[row][col]\n",
    "        for r in range(row + 1, rows):\n",
    "            if M[r][col] != 0:\n",
    "                rowMod(M,r,row,-M[r][col] / pivot)\n",
    "        row += 1\n",
    "        col += 1"
   ]
  },
  {
   "cell_type": "code",
   "execution_count": 11,
   "id": "ffaf0668-3c7f-487a-9e64-432467949e03",
   "metadata": {},
   "outputs": [],
   "source": [
    "M = [[1,2], [3,4]]"
   ]
  },
  {
   "cell_type": "code",
   "execution_count": 13,
   "id": "216273bd-d993-4eac-8909-e0107142f499",
   "metadata": {},
   "outputs": [
    {
     "data": {
      "text/plain": [
       "[[1, 2], [0.0, -2.0]]"
      ]
     },
     "execution_count": 13,
     "metadata": {},
     "output_type": "execute_result"
    }
   ],
   "source": [
    "rowEcholon(M)\n",
    "M"
   ]
  }
 ],
 "metadata": {
  "kernelspec": {
   "display_name": "Python 3 (ipykernel)",
   "language": "python",
   "name": "python3"
  },
  "language_info": {
   "codemirror_mode": {
    "name": "ipython",
    "version": 3
   },
   "file_extension": ".py",
   "mimetype": "text/x-python",
   "name": "python",
   "nbconvert_exporter": "python",
   "pygments_lexer": "ipython3",
   "version": "3.9.12"
  }
 },
 "nbformat": 4,
 "nbformat_minor": 5
}
