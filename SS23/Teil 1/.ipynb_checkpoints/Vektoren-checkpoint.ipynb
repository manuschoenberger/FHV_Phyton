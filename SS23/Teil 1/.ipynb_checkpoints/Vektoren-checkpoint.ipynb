{
 "cells": [
  {
   "cell_type": "code",
   "execution_count": 1,
   "id": "2b129e6c-18dc-4714-b394-bd9a699e4dea",
   "metadata": {},
   "outputs": [],
   "source": [
    "#Vektoren"
   ]
  },
  {
   "cell_type": "code",
   "execution_count": 2,
   "id": "66b02e92-ae85-45eb-8c64-59390bf2d8fe",
   "metadata": {},
   "outputs": [],
   "source": [
    "#Vektoren Addieren"
   ]
  },
  {
   "cell_type": "code",
   "execution_count": 3,
   "id": "dec6f719-ef53-45e3-adc8-ebcafb904651",
   "metadata": {},
   "outputs": [],
   "source": [
    "def vectorAdd(a,b):\n",
    "    c = [a[0] + b[0], a[1] + b[1]]\n",
    "    return c\n",
    "\n",
    "a = [1,2]\n",
    "b = [1,2]"
   ]
  },
  {
   "cell_type": "code",
   "execution_count": 4,
   "id": "67a57489-5d1d-4d8b-9e80-1f9f54496967",
   "metadata": {},
   "outputs": [
    {
     "data": {
      "text/plain": [
       "[2, 4]"
      ]
     },
     "execution_count": 4,
     "metadata": {},
     "output_type": "execute_result"
    }
   ],
   "source": [
    "vectorAdd(a,b)"
   ]
  },
  {
   "cell_type": "code",
   "execution_count": 5,
   "id": "f83af1f0-9d6d-466a-aa04-e28ae7107f83",
   "metadata": {},
   "outputs": [],
   "source": [
    "#Vektoren multiplizieren"
   ]
  },
  {
   "cell_type": "code",
   "execution_count": 6,
   "id": "7ec4d3f1-e82c-46f9-a1d2-20d325d85100",
   "metadata": {},
   "outputs": [],
   "source": [
    "def vectorMul(a,x):\n",
    "    c = [a[0] * x, a[1] * x]\n",
    "    return c\n",
    "\n",
    "a = [1,2]\n",
    "x = 2"
   ]
  },
  {
   "cell_type": "code",
   "execution_count": 7,
   "id": "462d88a0-a6b7-436b-aa7c-75ba2b7836e2",
   "metadata": {},
   "outputs": [
    {
     "data": {
      "text/plain": [
       "[2, 4]"
      ]
     },
     "execution_count": 7,
     "metadata": {},
     "output_type": "execute_result"
    }
   ],
   "source": [
    "vectorMul(a,x)"
   ]
  },
  {
   "cell_type": "code",
   "execution_count": 8,
   "id": "8603d0fb-89f4-4cc7-a92a-a37cc071e9ea",
   "metadata": {},
   "outputs": [
    {
     "data": {
      "text/plain": [
       "True"
      ]
     },
     "execution_count": 8,
     "metadata": {},
     "output_type": "execute_result"
    }
   ],
   "source": [
    "vectorMul(a,x) == vectorAdd(a,a)"
   ]
  },
  {
   "cell_type": "code",
   "execution_count": 9,
   "id": "928de99e-6650-454b-bcce-29e8988b7013",
   "metadata": {},
   "outputs": [
    {
     "data": {
      "text/plain": [
       "True"
      ]
     },
     "execution_count": 9,
     "metadata": {},
     "output_type": "execute_result"
    }
   ],
   "source": [
    "vectorAdd(vectorMul(a,-1),a) == [0,0]"
   ]
  }
 ],
 "metadata": {
  "kernelspec": {
   "display_name": "Python 3 (ipykernel)",
   "language": "python",
   "name": "python3"
  },
  "language_info": {
   "codemirror_mode": {
    "name": "ipython",
    "version": 3
   },
   "file_extension": ".py",
   "mimetype": "text/x-python",
   "name": "python",
   "nbconvert_exporter": "python",
   "pygments_lexer": "ipython3",
   "version": "3.9.12"
  }
 },
 "nbformat": 4,
 "nbformat_minor": 5
}
