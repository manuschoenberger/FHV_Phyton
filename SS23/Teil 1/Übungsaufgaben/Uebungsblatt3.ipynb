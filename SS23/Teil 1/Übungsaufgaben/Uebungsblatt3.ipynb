{
 "cells": [
  {
   "cell_type": "code",
   "execution_count": 1,
   "id": "19399b6b-7b3a-490d-80e4-a127f8cf9bfc",
   "metadata": {},
   "outputs": [],
   "source": [
    "#Übungsblatt 3"
   ]
  },
  {
   "cell_type": "code",
   "execution_count": 2,
   "id": "748dc303-5edf-4a9d-80da-5c938807c3c2",
   "metadata": {},
   "outputs": [
    {
     "data": {
      "text/plain": [
       "[[1, 2], [0, -2]]"
      ]
     },
     "execution_count": 2,
     "metadata": {},
     "output_type": "execute_result"
    }
   ],
   "source": [
    "# rowEcholon\n",
    "# EZ vom Typ 3). Abziehen (Addition mit negativen FAktor) des mehrfachen einer Zeile von einer anderen\n",
    "def rowMod(M, i, j, x): #Matrix M, Zeilenindex i der zu modifizierrenden Zeile und Zeilenindex j (Zeile die wir abziehen möchten), Faktor x\n",
    "    M[i] = [a + x * b for a,b in zip(M[i], M[j])]\n",
    "\n",
    "M = [[1,2], [3,4]]\n",
    "\n",
    "rowMod(M,1,0,-3)\n",
    "\n",
    "M"
   ]
  },
  {
   "cell_type": "code",
   "execution_count": 3,
   "id": "f16375da-e5ce-4f3b-8b28-0606a31ff2d1",
   "metadata": {},
   "outputs": [],
   "source": [
    "def rowEcholon(M): # Gauß-Verfahren\n",
    "    row, col = 0,0\n",
    "    rows, cols = len(M), len(M[0])\n",
    "    while row < rows and col < cols:\n",
    "        # try to find pivot element\n",
    "        if M[row][col] == 0:\n",
    "            for r in range(row + 1, rows):\n",
    "                if M[r][col] != 0: #search until pivotelement (!=0) found\n",
    "                    rowMod(M, row, r, 1)\n",
    "                    break\n",
    "        # no pivot element, skip column\n",
    "        if M[row][col] == 0:\n",
    "            col += 1\n",
    "            continue\n",
    "        # pivot element found, create zeros\n",
    "        pivot = M[row][col]\n",
    "        for r in range(row + 1, rows):\n",
    "            if M[r][col] != 0:\n",
    "                rowMod(M, r, row, -M[r][col] / pivot)\n",
    "        row += 1\n",
    "        col += 1"
   ]
  },
  {
   "cell_type": "code",
   "execution_count": 4,
   "id": "86aff468-6c4a-473c-a1c5-f74815f366ba",
   "metadata": {},
   "outputs": [
    {
     "data": {
      "text/plain": [
       "[[1, 2], [0.0, -2.0]]"
      ]
     },
     "execution_count": 4,
     "metadata": {},
     "output_type": "execute_result"
    }
   ],
   "source": [
    "M = [[1,2], [3,4]]\n",
    "rowEcholon(M)\n",
    "M"
   ]
  },
  {
   "cell_type": "code",
   "execution_count": 6,
   "id": "be3cc116-3199-4aa9-861e-16a918306df6",
   "metadata": {},
   "outputs": [],
   "source": [
    "#Aufgabe 5"
   ]
  },
  {
   "cell_type": "code",
   "execution_count": 7,
   "id": "e67a3548-beb6-4d0d-9b38-db6169b20d5c",
   "metadata": {},
   "outputs": [],
   "source": [
    "A1 = [[6,-1,-1,4],[1,1,10,-6],[2,-1,1,-1]]"
   ]
  },
  {
   "cell_type": "code",
   "execution_count": 8,
   "id": "aed61f23-4eb1-4cb3-9f10-b30b2833f3fe",
   "metadata": {},
   "outputs": [
    {
     "data": {
      "text/plain": [
       "[[6, -1, -1, 4],\n",
       " [0.0, 1.1666666666666667, 10.166666666666666, -6.666666666666667],\n",
       " [0.0, 1.1102230246251565e-16, 7.142857142857143, -6.142857142857143]]"
      ]
     },
     "execution_count": 8,
     "metadata": {},
     "output_type": "execute_result"
    }
   ],
   "source": [
    "rowEcholon(A1)\n",
    "A1"
   ]
  },
  {
   "cell_type": "code",
   "execution_count": 9,
   "id": "77adc9ac-f38b-43cf-a1a6-fe1b8ce00e64",
   "metadata": {},
   "outputs": [],
   "source": [
    "def checkZero(x):\n",
    "    if (x > 0.01) or (x < 0.01):\n",
    "        return x\n",
    "    else: \n",
    "        return 0"
   ]
  },
  {
   "cell_type": "code",
   "execution_count": 10,
   "id": "50d626fc-a532-45be-9883-aa4c9cb50fc9",
   "metadata": {},
   "outputs": [],
   "source": [
    "def rowMod(M, i, j, x): #Matrix M, Zeilenindex i der zu modifizierrenden Zeile und Zeilenindex j (Zeile die wir abziehen möchten), Faktor x\n",
    "    M[i] = [checkZero(a + x * b) for a,b in zip(M[i], M[j])]"
   ]
  },
  {
   "cell_type": "code",
   "execution_count": 12,
   "id": "f9dee1f6-9e8e-40d1-b47a-305159b4660a",
   "metadata": {},
   "outputs": [
    {
     "data": {
      "text/plain": [
       "[[6, -1, -1, 4],\n",
       " [0.0, 1.1666666666666667, 10.166666666666666, -6.666666666666667],\n",
       " [0.0, 0.0, 7.142857142857142, -6.142857142857142]]"
      ]
     },
     "execution_count": 12,
     "metadata": {},
     "output_type": "execute_result"
    }
   ],
   "source": [
    "rowEcholon(A1)\n",
    "A1"
   ]
  },
  {
   "cell_type": "code",
   "execution_count": 13,
   "id": "e5ab389a-7384-48e8-9edf-faa3c68a33b3",
   "metadata": {},
   "outputs": [
    {
     "data": {
      "text/plain": [
       "(Matrix([\n",
       " [1, 0, 0,  0.82],\n",
       " [0, 1, 0,  1.78],\n",
       " [0, 0, 1, -0.86]]),\n",
       " (0, 1, 2))"
      ]
     },
     "execution_count": 13,
     "metadata": {},
     "output_type": "execute_result"
    }
   ],
   "source": [
    "from sympy import * \n",
    "A = Matrix(A1)\n",
    "A.rref()"
   ]
  },
  {
   "cell_type": "code",
   "execution_count": 15,
   "id": "10d7c7a7-c34d-47d6-a6e3-2d726fb8047a",
   "metadata": {},
   "outputs": [],
   "source": [
    "A2 = [[1,2,3],[4,5,6],[7,8,9]]"
   ]
  },
  {
   "cell_type": "code",
   "execution_count": 16,
   "id": "4d9261f8-851f-4219-8f0b-fd6ff7b8faed",
   "metadata": {},
   "outputs": [
    {
     "data": {
      "text/plain": [
       "[[1, 2, 3], [0.0, -3.0, -6.0], [0.0, 0.0, 0.0]]"
      ]
     },
     "execution_count": 16,
     "metadata": {},
     "output_type": "execute_result"
    }
   ],
   "source": [
    "rowEcholon(A2)\n",
    "A2"
   ]
  },
  {
   "cell_type": "code",
   "execution_count": 17,
   "id": "88f4d540-88a8-45fb-9369-b793bafb8300",
   "metadata": {},
   "outputs": [
    {
     "data": {
      "text/plain": [
       "(Matrix([\n",
       " [1, 0, -1.0],\n",
       " [0, 1,  2.0],\n",
       " [0, 0,    0]]),\n",
       " (0, 1))"
      ]
     },
     "execution_count": 17,
     "metadata": {},
     "output_type": "execute_result"
    }
   ],
   "source": [
    "A = Matrix(A2)\n",
    "A.rref()"
   ]
  },
  {
   "cell_type": "code",
   "execution_count": 18,
   "id": "03b0e68a-d173-4780-9c1c-11332b544753",
   "metadata": {},
   "outputs": [],
   "source": [
    "#Aufgabe 6"
   ]
  },
  {
   "cell_type": "code",
   "execution_count": 20,
   "id": "5c4dba35-fe6e-4f93-a452-e1d97fff5c22",
   "metadata": {},
   "outputs": [],
   "source": [
    "def matrixMult(A,B):\n",
    "    res = 0\n",
    "    retval = [[] for i in range(len(A))]\n",
    "    for i in range(len(A)): #Zeilen in A\n",
    "        for j in range(len(B[0])): #Spalten in B\n",
    "            for k in range(len(B)): #Zeile in A, Spalte in B\n",
    "                res += A[i][k] * B[k][j]\n",
    "            retval[i].append([])\n",
    "            retval[i][j] = res\n",
    "            res = 0\n",
    "    return retval"
   ]
  },
  {
   "cell_type": "code",
   "execution_count": 24,
   "id": "7a07e907-f39a-41bc-84be-7ba2cebe658f",
   "metadata": {},
   "outputs": [],
   "source": [
    "E = [[1,0,0],[0,1,0],[0,0,1]]"
   ]
  },
  {
   "cell_type": "code",
   "execution_count": 26,
   "id": "7b8ef4eb-f1fb-4ba3-93e6-db9aa1c3e951",
   "metadata": {},
   "outputs": [
    {
     "data": {
      "text/plain": [
       "[[1, 0, 0], [0, 1, 0], [0, 0, 1]]"
      ]
     },
     "execution_count": 26,
     "metadata": {},
     "output_type": "execute_result"
    }
   ],
   "source": [
    "E"
   ]
  },
  {
   "cell_type": "code",
   "execution_count": 27,
   "id": "bc48d97d-cf76-4a32-9604-5b4d20cca8fd",
   "metadata": {},
   "outputs": [],
   "source": [
    "M = [[1,2], [3,4]]"
   ]
  },
  {
   "cell_type": "code",
   "execution_count": 28,
   "id": "6d35131b-6d5f-44e1-89f4-1d9a6d10700d",
   "metadata": {},
   "outputs": [
    {
     "data": {
      "text/plain": [
       "[[1, 2], [3, 4]]"
      ]
     },
     "execution_count": 28,
     "metadata": {},
     "output_type": "execute_result"
    }
   ],
   "source": [
    "M"
   ]
  },
  {
   "cell_type": "code",
   "execution_count": 29,
   "id": "53738b1b-3efa-4267-b655-d62f71922433",
   "metadata": {},
   "outputs": [],
   "source": [
    "def modRowMod(E,i,j,alpha):\n",
    "    E[i][j] = alpha\n",
    "    return matrixMult(E,M)"
   ]
  },
  {
   "cell_type": "code",
   "execution_count": 30,
   "id": "2eade064-567b-4e90-96bc-6fb57e6e00cb",
   "metadata": {},
   "outputs": [
    {
     "data": {
      "text/plain": [
       "[[1, 2], [3, 4], [12, 16]]"
      ]
     },
     "execution_count": 30,
     "metadata": {},
     "output_type": "execute_result"
    }
   ],
   "source": [
    "modRowMod(E,2,1,4)"
   ]
  },
  {
   "cell_type": "code",
   "execution_count": 31,
   "id": "31a38c02-e288-49c5-9ad1-ca0d7269f3c7",
   "metadata": {},
   "outputs": [
    {
     "data": {
      "text/plain": [
       "[[1, 2], [6, 10], [12, 16]]"
      ]
     },
     "execution_count": 31,
     "metadata": {},
     "output_type": "execute_result"
    }
   ],
   "source": [
    "modRowMod(E,1,0,3)"
   ]
  }
 ],
 "metadata": {
  "kernelspec": {
   "display_name": "Python 3 (ipykernel)",
   "language": "python",
   "name": "python3"
  },
  "language_info": {
   "codemirror_mode": {
    "name": "ipython",
    "version": 3
   },
   "file_extension": ".py",
   "mimetype": "text/x-python",
   "name": "python",
   "nbconvert_exporter": "python",
   "pygments_lexer": "ipython3",
   "version": "3.9.12"
  }
 },
 "nbformat": 4,
 "nbformat_minor": 5
}
