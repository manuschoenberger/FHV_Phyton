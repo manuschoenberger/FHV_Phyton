{
 "cells": [
  {
   "cell_type": "code",
   "execution_count": 1,
   "id": "655c47ad-54c7-49e4-9fe0-02ccee71ce2a",
   "metadata": {},
   "outputs": [],
   "source": [
    "#Übungsblatt 1"
   ]
  },
  {
   "cell_type": "code",
   "execution_count": 2,
   "id": "a022d0c6-3d60-454a-a657-40e1f6b813aa",
   "metadata": {},
   "outputs": [],
   "source": [
    "#Aufgabe 1"
   ]
  },
  {
   "cell_type": "code",
   "execution_count": 3,
   "id": "28d77dad-8230-43a4-887b-e373aa3c175d",
   "metadata": {},
   "outputs": [],
   "source": [
    "def vectorAdd(a,b):\n",
    "    c = [a[0] + b[0], a[1] + b[1]]\n",
    "    return c"
   ]
  },
  {
   "cell_type": "code",
   "execution_count": 4,
   "id": "0eb6e3cc-0623-49d2-8494-974e9e72ca39",
   "metadata": {},
   "outputs": [],
   "source": [
    "def vectorMul(a,x):\n",
    "    c = [a[0] * x, a[1] * x]\n",
    "    return c"
   ]
  },
  {
   "cell_type": "code",
   "execution_count": 5,
   "id": "b022c1f2-32f4-48cb-b51e-0255d870ef64",
   "metadata": {},
   "outputs": [],
   "source": [
    "a = [-2,5]"
   ]
  },
  {
   "cell_type": "code",
   "execution_count": 6,
   "id": "eaebe920-b150-4e4b-9a77-1088a04802d7",
   "metadata": {},
   "outputs": [],
   "source": [
    "b = [1,-3]"
   ]
  },
  {
   "cell_type": "code",
   "execution_count": 7,
   "id": "0c42d46a-bfc2-4433-bf97-319bb7c62a47",
   "metadata": {},
   "outputs": [
    {
     "data": {
      "text/plain": [
       "[-1, 2]"
      ]
     },
     "execution_count": 7,
     "metadata": {},
     "output_type": "execute_result"
    }
   ],
   "source": [
    "vectorAdd(a,b)"
   ]
  },
  {
   "cell_type": "code",
   "execution_count": 8,
   "id": "16e05011-e050-4ab2-b469-7b395c5e240e",
   "metadata": {},
   "outputs": [
    {
     "data": {
      "text/plain": [
       "[-6, 15]"
      ]
     },
     "execution_count": 8,
     "metadata": {},
     "output_type": "execute_result"
    }
   ],
   "source": [
    "vectorMul(a,3)"
   ]
  },
  {
   "cell_type": "code",
   "execution_count": 9,
   "id": "7b497541-c818-438a-ba29-e830ef02906a",
   "metadata": {},
   "outputs": [
    {
     "data": {
      "text/plain": [
       "[-0.5, 1.5]"
      ]
     },
     "execution_count": 9,
     "metadata": {},
     "output_type": "execute_result"
    }
   ],
   "source": [
    "vectorMul(b,-0.5)"
   ]
  }
 ],
 "metadata": {
  "kernelspec": {
   "display_name": "Python 3 (ipykernel)",
   "language": "python",
   "name": "python3"
  },
  "language_info": {
   "codemirror_mode": {
    "name": "ipython",
    "version": 3
   },
   "file_extension": ".py",
   "mimetype": "text/x-python",
   "name": "python",
   "nbconvert_exporter": "python",
   "pygments_lexer": "ipython3",
   "version": "3.9.12"
  }
 },
 "nbformat": 4,
 "nbformat_minor": 5
}
