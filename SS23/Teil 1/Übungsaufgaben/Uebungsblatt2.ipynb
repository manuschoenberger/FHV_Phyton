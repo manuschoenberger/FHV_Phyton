{
 "cells": [
  {
   "cell_type": "code",
   "execution_count": 1,
   "id": "1578d73a-0e8b-4d3b-9333-dd4930da509e",
   "metadata": {},
   "outputs": [],
   "source": [
    "#Übungsblatt 2"
   ]
  },
  {
   "cell_type": "code",
   "execution_count": 2,
   "id": "9320cdd8-1597-4bcc-a7f6-1377eee80be1",
   "metadata": {},
   "outputs": [],
   "source": [
    "#Aufgabe 4"
   ]
  },
  {
   "cell_type": "code",
   "execution_count": 3,
   "id": "cf97c6f7-ca44-4b47-969e-021127c2b5f8",
   "metadata": {},
   "outputs": [],
   "source": [
    "def matrixMult(A,B):\n",
    "    res = 0\n",
    "    retval = [[] for i in range(len(A))]\n",
    "    for i in range(len(A)): #Zeilen in A\n",
    "        for j in range(len(B[0])): #Spalten in B\n",
    "            for k in range(len(B)): #Zeile in A, Spalte in B\n",
    "                res += A[i][k] * B[k][j]\n",
    "            retval[i].append([])\n",
    "            retval[i][j] = res\n",
    "            res = 0\n",
    "    return retval"
   ]
  },
  {
   "cell_type": "code",
   "execution_count": 4,
   "id": "81e3e741-9323-4019-a7dc-29b3a0b8034b",
   "metadata": {},
   "outputs": [],
   "source": [
    "A = [[3,7,0],[-1,-2,9],[-1,4,3],[8,0,-6]]"
   ]
  },
  {
   "cell_type": "code",
   "execution_count": 5,
   "id": "ddc4143d-0848-4f53-b04c-7310e9bb78ce",
   "metadata": {},
   "outputs": [],
   "source": [
    "B = [[5,2,-4],[-1,3,7],[0,-2,1]]"
   ]
  },
  {
   "cell_type": "code",
   "execution_count": 6,
   "id": "b1de3182-2994-420d-a883-35704519c4ed",
   "metadata": {},
   "outputs": [
    {
     "data": {
      "text/plain": [
       "[[8, 27, 37], [-3, -26, -1], [-9, 4, 35], [40, 28, -38]]"
      ]
     },
     "execution_count": 6,
     "metadata": {},
     "output_type": "execute_result"
    }
   ],
   "source": [
    "matrixMult(A,B)"
   ]
  },
  {
   "cell_type": "code",
   "execution_count": 7,
   "id": "b145a6d4-cde1-45d2-98e4-89d531bc1510",
   "metadata": {},
   "outputs": [],
   "source": [
    "#Rechenregeln der Matrizenmultiplikation"
   ]
  },
  {
   "cell_type": "code",
   "execution_count": 8,
   "id": "90234401-d5f0-49fd-9eea-24424a9eb984",
   "metadata": {},
   "outputs": [],
   "source": [
    "C = [[4,2,-4],[1,3,7],[3,-2,1]]"
   ]
  },
  {
   "cell_type": "code",
   "execution_count": 9,
   "id": "f63bef7e-1637-47fa-9bf2-82f68c213408",
   "metadata": {},
   "outputs": [
    {
     "data": {
      "text/plain": [
       "[[8, 27, 37], [-3, -26, -1], [-9, 4, 35], [40, 28, -38]]"
      ]
     },
     "execution_count": 9,
     "metadata": {},
     "output_type": "execute_result"
    }
   ],
   "source": [
    "AB = matrixMult(A,B)\n",
    "AB"
   ]
  },
  {
   "cell_type": "code",
   "execution_count": 10,
   "id": "4531a2ed-e85a-4128-8a59-b69ddbf24acb",
   "metadata": {},
   "outputs": [
    {
     "data": {
      "text/plain": [
       "[[10, 24, -10], [20, -7, 32], [1, -8, -13]]"
      ]
     },
     "execution_count": 10,
     "metadata": {},
     "output_type": "execute_result"
    }
   ],
   "source": [
    "BC = matrixMult(B,C)\n",
    "BC"
   ]
  },
  {
   "cell_type": "code",
   "execution_count": 11,
   "id": "5eacc625-1fef-4c3c-bad8-01e81db92523",
   "metadata": {},
   "outputs": [
    {
     "data": {
      "text/plain": [
       "[[170, 23, 194], [-41, -82, -171], [73, -76, 99], [74, 240, -2]]"
      ]
     },
     "execution_count": 11,
     "metadata": {},
     "output_type": "execute_result"
    }
   ],
   "source": [
    "matrixMult(AB,C)"
   ]
  },
  {
   "cell_type": "code",
   "execution_count": 12,
   "id": "4614ed53-1cd9-4c5b-8169-a008d00cd6e6",
   "metadata": {},
   "outputs": [
    {
     "data": {
      "text/plain": [
       "True"
      ]
     },
     "execution_count": 12,
     "metadata": {},
     "output_type": "execute_result"
    }
   ],
   "source": [
    "matrixMult(A,BC) == matrixMult(AB,C)"
   ]
  },
  {
   "cell_type": "code",
   "execution_count": 13,
   "id": "87d9a0e2-c750-4093-bf3f-0203ee39a5aa",
   "metadata": {},
   "outputs": [],
   "source": [
    "N = [[0,0,0],[0,0,0],[0,0,0]]"
   ]
  },
  {
   "cell_type": "code",
   "execution_count": 14,
   "id": "d93326a2-edae-403c-9927-fa840af5a9b9",
   "metadata": {},
   "outputs": [
    {
     "data": {
      "text/plain": [
       "[[0, 0, 0], [0, 0, 0], [0, 0, 0], [0, 0, 0]]"
      ]
     },
     "execution_count": 14,
     "metadata": {},
     "output_type": "execute_result"
    }
   ],
   "source": [
    "matrixMult(A,N)"
   ]
  },
  {
   "cell_type": "code",
   "execution_count": 15,
   "id": "5fd84fc5-aeea-45e6-8da2-a876509335b5",
   "metadata": {},
   "outputs": [],
   "source": [
    "E = [[1,0,0],[0,1,0],[0,0,1]]"
   ]
  },
  {
   "cell_type": "code",
   "execution_count": 16,
   "id": "1276c9c4-d92d-4d88-b7a9-9cc8c07c8818",
   "metadata": {},
   "outputs": [
    {
     "data": {
      "text/plain": [
       "True"
      ]
     },
     "execution_count": 16,
     "metadata": {},
     "output_type": "execute_result"
    }
   ],
   "source": [
    "matrixMult(A,E) == A"
   ]
  },
  {
   "cell_type": "code",
   "execution_count": 17,
   "id": "617d72b0-edb1-402c-94cd-8c333a90c292",
   "metadata": {},
   "outputs": [],
   "source": [
    "def matrixAdd(A,B):\n",
    "    if  (len(A) != len(B)):\n",
    "        return \"Dimensionen von A und B stimmen nicht überein / Spalte\"\n",
    "    retval = [[] for i in range(len(A))]\n",
    "    for i in range(len(A)):\n",
    "        if (len(A[i]) != len(B[i])):\n",
    "            return \"Dimensionen von A und B stimmen nicht überein / Zeile\"\n",
    "        for j in range(len(A[i])):\n",
    "            retval[i].append([])\n",
    "            retval[i][j] = A[i][j] * B[i][j]\n",
    "    return retval"
   ]
  },
  {
   "cell_type": "code",
   "execution_count": 18,
   "id": "564efebb-a2b7-4f0a-ac9e-9186f5d26cce",
   "metadata": {},
   "outputs": [],
   "source": [
    "BC = matrixAdd(B,C)"
   ]
  },
  {
   "cell_type": "code",
   "execution_count": 19,
   "id": "3ba8adeb-9b3d-4758-b69f-92e0af86eab8",
   "metadata": {},
   "outputs": [],
   "source": [
    "AB = matrixMult(A,B)"
   ]
  },
  {
   "cell_type": "code",
   "execution_count": 20,
   "id": "172ad12c-116c-4d74-bac7-a23eed8eb097",
   "metadata": {},
   "outputs": [],
   "source": [
    "AC = matrixMult(A,C)"
   ]
  },
  {
   "cell_type": "code",
   "execution_count": 21,
   "id": "adeab62d-6c94-4d7d-b31e-6212123c8e38",
   "metadata": {},
   "outputs": [
    {
     "data": {
      "text/plain": [
       "False"
      ]
     },
     "execution_count": 21,
     "metadata": {},
     "output_type": "execute_result"
    }
   ],
   "source": [
    "matrixMult(A,BC) == matrixAdd(AB,AC)"
   ]
  },
  {
   "cell_type": "code",
   "execution_count": 22,
   "id": "8e4d51ae-ecbc-4a4a-bf14-5f603e40817a",
   "metadata": {},
   "outputs": [],
   "source": [
    "def matrixVectorMult(A,V):\n",
    "    retval = [[0] for i in range(len(A))]\n",
    "    for i in range(len(A)): #Zeilen in A\n",
    "        for j in range(len(V)): #Spalten in V\n",
    "            retval[i][0] += A[i][j] * V[j]\n",
    "    return retval"
   ]
  },
  {
   "cell_type": "code",
   "execution_count": 23,
   "id": "aeef552c-b70b-4411-af86-1719398dcca1",
   "metadata": {},
   "outputs": [],
   "source": [
    "V = [1,2,3]"
   ]
  },
  {
   "cell_type": "code",
   "execution_count": 24,
   "id": "ffd857db-fb8c-48a1-a2fd-6a18b8bf715d",
   "metadata": {},
   "outputs": [
    {
     "data": {
      "text/plain": [
       "[[3, 7, 0], [-1, -2, 9], [-1, 4, 3], [8, 0, -6]]"
      ]
     },
     "execution_count": 24,
     "metadata": {},
     "output_type": "execute_result"
    }
   ],
   "source": [
    "A"
   ]
  },
  {
   "cell_type": "code",
   "execution_count": 25,
   "id": "c4da8648-40f7-4c7f-8a79-ed10a7574b12",
   "metadata": {},
   "outputs": [
    {
     "data": {
      "text/plain": [
       "[[17], [22], [16], [-10]]"
      ]
     },
     "execution_count": 25,
     "metadata": {},
     "output_type": "execute_result"
    }
   ],
   "source": [
    "matrixVectorMult(A,V)"
   ]
  },
  {
   "cell_type": "code",
   "execution_count": 26,
   "id": "31dd7630-f903-4154-95a7-c96d105a3206",
   "metadata": {},
   "outputs": [],
   "source": [
    "#Aufgabe 5"
   ]
  },
  {
   "cell_type": "code",
   "execution_count": 27,
   "id": "c49c79af-07ee-4e0c-9df9-0c0949000540",
   "metadata": {},
   "outputs": [],
   "source": [
    "def trans(A):\n",
    "    retval = [[] for i in range(len(A[0]))]\n",
    "    for i in range(len(A)): #Zeile in A\n",
    "        for j in range(len(A[0])): #Spalte in A\n",
    "            retval[j].append(A[i][j])\n",
    "    return retval"
   ]
  },
  {
   "cell_type": "code",
   "execution_count": 28,
   "id": "37098efb-bdc8-4fe0-94aa-12796dbf96a9",
   "metadata": {},
   "outputs": [
    {
     "data": {
      "text/plain": [
       "[[3, 7, 0], [-1, -2, 9], [-1, 4, 3], [8, 0, -6]]"
      ]
     },
     "execution_count": 28,
     "metadata": {},
     "output_type": "execute_result"
    }
   ],
   "source": [
    "A"
   ]
  },
  {
   "cell_type": "code",
   "execution_count": 29,
   "id": "15dff4f1-27a3-498d-9313-c5719282f6f2",
   "metadata": {},
   "outputs": [
    {
     "data": {
      "text/plain": [
       "[[3, -1, -1, 8], [7, -2, 4, 0], [0, 9, 3, -6]]"
      ]
     },
     "execution_count": 29,
     "metadata": {},
     "output_type": "execute_result"
    }
   ],
   "source": [
    "trans(A)"
   ]
  },
  {
   "cell_type": "code",
   "execution_count": 30,
   "id": "06a65d0b-097e-47f5-ba05-0432a87bf065",
   "metadata": {},
   "outputs": [],
   "source": [
    "AB = matrixMult(A,B)"
   ]
  },
  {
   "cell_type": "code",
   "execution_count": 31,
   "id": "9422de8b-d5ff-477b-bf58-96e0a03fba38",
   "metadata": {},
   "outputs": [],
   "source": [
    "BT = trans(B)"
   ]
  },
  {
   "cell_type": "code",
   "execution_count": 32,
   "id": "16059d12-0588-4fc7-b1ac-2928674b5a6e",
   "metadata": {},
   "outputs": [],
   "source": [
    "AT = trans(A)"
   ]
  },
  {
   "cell_type": "code",
   "execution_count": 33,
   "id": "03f22c34-9575-4bb5-bc0a-ad7062c644d5",
   "metadata": {},
   "outputs": [
    {
     "data": {
      "text/plain": [
       "True"
      ]
     },
     "execution_count": 33,
     "metadata": {},
     "output_type": "execute_result"
    }
   ],
   "source": [
    "trans(AB) == matrixMult(BT,AT)"
   ]
  },
  {
   "cell_type": "code",
   "execution_count": 34,
   "id": "1596c8dd-a455-4b77-9d0f-ea418a315eec",
   "metadata": {},
   "outputs": [],
   "source": [
    "def transpose(A):\n",
    "    \n",
    "    result = [[0 for a in range(len(A))] for a in range(len(A[0]))]\n",
    "    \n",
    "    for i in range(len(A)):\n",
    "        for j in range(len(A[0])):\n",
    "            result[j][i] = A[i][j]\n",
    "            \n",
    "    return result"
   ]
  },
  {
   "cell_type": "code",
   "execution_count": 35,
   "id": "96fb518c-2db4-4f08-ab89-9fafe33feb9a",
   "metadata": {},
   "outputs": [
    {
     "data": {
      "text/plain": [
       "[[3, -1, -1, 8], [7, -2, 4, 0], [0, 9, 3, -6]]"
      ]
     },
     "execution_count": 35,
     "metadata": {},
     "output_type": "execute_result"
    }
   ],
   "source": [
    "transpose(A)"
   ]
  }
 ],
 "metadata": {
  "kernelspec": {
   "display_name": "Python 3 (ipykernel)",
   "language": "python",
   "name": "python3"
  },
  "language_info": {
   "codemirror_mode": {
    "name": "ipython",
    "version": 3
   },
   "file_extension": ".py",
   "mimetype": "text/x-python",
   "name": "python",
   "nbconvert_exporter": "python",
   "pygments_lexer": "ipython3",
   "version": "3.9.12"
  }
 },
 "nbformat": 4,
 "nbformat_minor": 5
}
