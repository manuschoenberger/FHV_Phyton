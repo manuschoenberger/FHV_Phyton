{
 "cells": [
  {
   "cell_type": "code",
   "execution_count": 1,
   "id": "9bc5c6de-6076-4afb-88c0-645b0c8b0ada",
   "metadata": {},
   "outputs": [],
   "source": [
    "#Übungsblatt 3 & 4 "
   ]
  },
  {
   "cell_type": "code",
   "execution_count": 2,
   "id": "6c7849a0-52eb-49a4-bfd3-b5771ccbe0ea",
   "metadata": {},
   "outputs": [],
   "source": [
    "#in classic Notebook"
   ]
  }
 ],
 "metadata": {
  "kernelspec": {
   "display_name": "Python 3 (ipykernel)",
   "language": "python",
   "name": "python3"
  },
  "language_info": {
   "codemirror_mode": {
    "name": "ipython",
    "version": 3
   },
   "file_extension": ".py",
   "mimetype": "text/x-python",
   "name": "python",
   "nbconvert_exporter": "python",
   "pygments_lexer": "ipython3",
   "version": "3.9.12"
  }
 },
 "nbformat": 4,
 "nbformat_minor": 5
}
