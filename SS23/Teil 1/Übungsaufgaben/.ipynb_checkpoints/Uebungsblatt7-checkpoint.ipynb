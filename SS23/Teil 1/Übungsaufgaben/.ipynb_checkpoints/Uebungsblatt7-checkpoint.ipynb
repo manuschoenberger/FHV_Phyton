{
 "cells": [
  {
   "cell_type": "code",
   "execution_count": 1,
   "id": "7f6e7fcb-3248-47b4-b11e-cdc9073801e7",
   "metadata": {},
   "outputs": [],
   "source": [
    "#Übungsblatt 7"
   ]
  },
  {
   "cell_type": "code",
   "execution_count": 2,
   "id": "a04d5e63-6e0c-452d-a2c6-12b5337f6f51",
   "metadata": {},
   "outputs": [],
   "source": [
    "#Aufgabe 1"
   ]
  },
  {
   "cell_type": "code",
   "execution_count": 3,
   "id": "a71b9659-69f5-4dc6-b940-a15a5e7bbcb4",
   "metadata": {},
   "outputs": [],
   "source": [
    "def scalarprod(a,b):\n",
    "    retval = 0\n",
    "    if (len(a) != len(b)):\n",
    "        return \"Dimension missmatch\"\n",
    "    for i in range(len(a)):\n",
    "        retval += a[i] * b[i]\n",
    "    return retval"
   ]
  },
  {
   "cell_type": "code",
   "execution_count": 4,
   "id": "22777be9-d7e1-4355-91d6-02e264a18fc3",
   "metadata": {},
   "outputs": [],
   "source": [
    "a = [2,1,3]\n",
    "b = [2,3,1]"
   ]
  },
  {
   "cell_type": "code",
   "execution_count": 5,
   "id": "afb5e63d-45a2-4134-be1a-5f46ea7d8a19",
   "metadata": {},
   "outputs": [
    {
     "data": {
      "text/plain": [
       "10"
      ]
     },
     "execution_count": 5,
     "metadata": {},
     "output_type": "execute_result"
    }
   ],
   "source": [
    "scalarprod(a,b)"
   ]
  },
  {
   "cell_type": "code",
   "execution_count": 6,
   "id": "4eefc9b0-2c12-42c4-a820-c3019046f12a",
   "metadata": {},
   "outputs": [
    {
     "data": {
      "text/plain": [
       "10"
      ]
     },
     "execution_count": 6,
     "metadata": {},
     "output_type": "execute_result"
    }
   ],
   "source": [
    "scalarprod(b,a)"
   ]
  },
  {
   "cell_type": "code",
   "execution_count": 7,
   "id": "dd58a49e-ebd1-40b6-b154-16bcfd28fad1",
   "metadata": {},
   "outputs": [
    {
     "data": {
      "text/plain": [
       "14"
      ]
     },
     "execution_count": 7,
     "metadata": {},
     "output_type": "execute_result"
    }
   ],
   "source": [
    "scalarprod(a,a)"
   ]
  },
  {
   "cell_type": "code",
   "execution_count": 8,
   "id": "a73ad999-a4df-43d6-834c-6d6055768e52",
   "metadata": {},
   "outputs": [],
   "source": [
    "#Aufgabe 3"
   ]
  },
  {
   "cell_type": "code",
   "execution_count": 9,
   "id": "ac6eb456-3e96-4489-b339-0f6215f28436",
   "metadata": {},
   "outputs": [],
   "source": [
    "from math import sqrt\n",
    "def vecnorm(a):\n",
    "    return sqrt(scalarprod(a,a))"
   ]
  },
  {
   "cell_type": "code",
   "execution_count": 10,
   "id": "c2f80879-44f6-4c17-a469-5c3bd0a8cf2e",
   "metadata": {},
   "outputs": [],
   "source": [
    "a = [3,2]\n",
    "b = [2,1,3]"
   ]
  },
  {
   "cell_type": "code",
   "execution_count": 11,
   "id": "80126b8d-4d7d-431f-8439-9ddcbdf522eb",
   "metadata": {},
   "outputs": [
    {
     "data": {
      "text/plain": [
       "3.605551275463989"
      ]
     },
     "execution_count": 11,
     "metadata": {},
     "output_type": "execute_result"
    }
   ],
   "source": [
    "vecnorm(a)"
   ]
  },
  {
   "cell_type": "code",
   "execution_count": 12,
   "id": "d3f12bed-100b-45c1-8f3e-28d5be3ad950",
   "metadata": {},
   "outputs": [
    {
     "data": {
      "text/plain": [
       "3.7416573867739413"
      ]
     },
     "execution_count": 12,
     "metadata": {},
     "output_type": "execute_result"
    }
   ],
   "source": [
    "vecnorm(b)"
   ]
  },
  {
   "cell_type": "code",
   "execution_count": 13,
   "id": "b3ee4c2b-c33d-410e-9ac3-413de48178c9",
   "metadata": {},
   "outputs": [],
   "source": [
    "#Aufgabe 4"
   ]
  },
  {
   "cell_type": "code",
   "execution_count": 14,
   "id": "f0d24686-40eb-4cdf-ac0d-dd8568a68f34",
   "metadata": {},
   "outputs": [],
   "source": [
    "def vectorAdd(a,b):\n",
    "    c = [a[0] + b[0], a[1] + b[1]]\n",
    "    return c"
   ]
  },
  {
   "cell_type": "code",
   "execution_count": 15,
   "id": "1168221b-f592-4e2f-a379-a150e2e06a38",
   "metadata": {},
   "outputs": [],
   "source": [
    "def vectorSub(a,b):\n",
    "    c = [a[0] - b[0], a[1] - b[1]]\n",
    "    return c"
   ]
  },
  {
   "cell_type": "code",
   "execution_count": 16,
   "id": "bea6a876-1dea-4e7b-9e63-80453bb7cf8c",
   "metadata": {},
   "outputs": [],
   "source": [
    "def betterVectorSub(a,b):\n",
    "    return [a - b for a, b in zip(a,b)]"
   ]
  },
  {
   "cell_type": "code",
   "execution_count": 17,
   "id": "b4c71178-da2e-401e-b694-85ad822a82f7",
   "metadata": {},
   "outputs": [],
   "source": [
    "def distance(a,b):\n",
    "    return vecnorm(betterVectorSub(a,b))"
   ]
  },
  {
   "cell_type": "code",
   "execution_count": 18,
   "id": "f306fd84-8999-4789-abd9-b5d191f6a8e6",
   "metadata": {},
   "outputs": [],
   "source": [
    "a = [2,1,3]\n",
    "b = [2,3,1]"
   ]
  },
  {
   "cell_type": "code",
   "execution_count": 19,
   "id": "e0dee557-be2f-43f6-aeb4-ae55aa911c2f",
   "metadata": {},
   "outputs": [
    {
     "data": {
      "text/plain": [
       "2.8284271247461903"
      ]
     },
     "execution_count": 19,
     "metadata": {},
     "output_type": "execute_result"
    }
   ],
   "source": [
    "distance(a,b)"
   ]
  },
  {
   "cell_type": "code",
   "execution_count": 20,
   "id": "27ab96ef-2d24-4b56-8a70-f51e15509ba5",
   "metadata": {},
   "outputs": [],
   "source": [
    "#Aufgabe 5"
   ]
  },
  {
   "cell_type": "code",
   "execution_count": 21,
   "id": "0cdf50ad-fffe-4057-ad0c-ac378be75a53",
   "metadata": {},
   "outputs": [],
   "source": [
    "from math import acos, degrees\n",
    "\n",
    "def angle(a,b):\n",
    "    return degrees(acos(scalarprod(a,b) / (vecnorm(a) * vecnorm(b))))"
   ]
  },
  {
   "cell_type": "code",
   "execution_count": 22,
   "id": "fac01fae-8d3d-4ac6-8db7-300566a02b79",
   "metadata": {},
   "outputs": [],
   "source": [
    "a = [32,63]\n",
    "b = [-4,15]"
   ]
  },
  {
   "cell_type": "code",
   "execution_count": 23,
   "id": "50c2c63e-90a0-4a2d-887a-a717eebe8c4d",
   "metadata": {},
   "outputs": [
    {
     "data": {
      "text/plain": [
       "41.859095029178064"
      ]
     },
     "execution_count": 23,
     "metadata": {},
     "output_type": "execute_result"
    }
   ],
   "source": [
    "angle(a,b)"
   ]
  }
 ],
 "metadata": {
  "kernelspec": {
   "display_name": "Python 3 (ipykernel)",
   "language": "python",
   "name": "python3"
  },
  "language_info": {
   "codemirror_mode": {
    "name": "ipython",
    "version": 3
   },
   "file_extension": ".py",
   "mimetype": "text/x-python",
   "name": "python",
   "nbconvert_exporter": "python",
   "pygments_lexer": "ipython3",
   "version": "3.9.12"
  }
 },
 "nbformat": 4,
 "nbformat_minor": 5
}
