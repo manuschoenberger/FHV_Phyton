{
 "cells": [
  {
   "cell_type": "code",
   "execution_count": 1,
   "id": "19399b6b-7b3a-490d-80e4-a127f8cf9bfc",
   "metadata": {},
   "outputs": [],
   "source": [
    "#Übungsblatt 3"
   ]
  },
  {
   "cell_type": "code",
   "execution_count": 2,
   "id": "748dc303-5edf-4a9d-80da-5c938807c3c2",
   "metadata": {},
   "outputs": [
    {
     "data": {
      "text/plain": [
       "[[1, 2], [0, -2]]"
      ]
     },
     "execution_count": 2,
     "metadata": {},
     "output_type": "execute_result"
    }
   ],
   "source": [
    "# rowEcholon\n",
    "# EZ vom Typ 3). Abziehen (Addition mit negativen FAktor) des mehrfachen einer Zeile von einer anderen\n",
    "def rowMod(M, i, j, x): #Matrix M, Zeilenindex i der zu modifizierrenden Zeile und Zeilenindex j (Zeile die wir abziehen möchten), Faktor x\n",
    "    M[i] = [a + x * b for a,b in zip(M[i], M[j])]\n",
    "\n",
    "M = [[1,2], [3,4]]\n",
    "\n",
    "rowMod(M,1,0,-3)\n",
    "\n",
    "M"
   ]
  },
  {
   "cell_type": "code",
   "execution_count": 3,
   "id": "f16375da-e5ce-4f3b-8b28-0606a31ff2d1",
   "metadata": {},
   "outputs": [],
   "source": [
    "def rowEcholon(M): # Gauß-Verfahren\n",
    "    row, col = 0,0\n",
    "    rows, cols = len(M), len(M[0])\n",
    "    while row < rows and col < cols:\n",
    "        # try to find pivot element\n",
    "        if M[row][col] == 0:\n",
    "            for r in range(row + 1, rows):\n",
    "                if M[r][col] != 0: #search until pivotelement (!=0) found\n",
    "                    rowMod(M, row, r, 1)\n",
    "                    break\n",
    "        # no pivot element, skip column\n",
    "        if M[row][col] == 0:\n",
    "            col += 1\n",
    "            continue\n",
    "        # pivot element found, create zeros\n",
    "        pivot = M[row][col]\n",
    "        for r in range(row + 1, rows):\n",
    "            if M[r][col] != 0:\n",
    "                rowMod(M, r, row, -M[r][col] / pivot)\n",
    "        row += 1\n",
    "        col += 1"
   ]
  },
  {
   "cell_type": "code",
   "execution_count": 4,
   "id": "86aff468-6c4a-473c-a1c5-f74815f366ba",
   "metadata": {},
   "outputs": [
    {
     "data": {
      "text/plain": [
       "[[1, 2], [0.0, -2.0]]"
      ]
     },
     "execution_count": 4,
     "metadata": {},
     "output_type": "execute_result"
    }
   ],
   "source": [
    "M = [[1,2], [3,4]]\n",
    "rowEcholon(M)\n",
    "M"
   ]
  },
  {
   "cell_type": "code",
   "execution_count": 5,
   "id": "d3c754c3-28c2-48ea-9d8d-f1ca05296ff6",
   "metadata": {},
   "outputs": [
    {
     "data": {
      "text/plain": [
       "(Matrix([\n",
       " [1, 0, 0,    3/2],\n",
       " [0, 1, 0, 115/18],\n",
       " [0, 0, 1, -25/18]]),\n",
       " (0, 1, 2))"
      ]
     },
     "execution_count": 5,
     "metadata": {},
     "output_type": "execute_result"
    }
   ],
   "source": [
    "from sympy import * \n",
    "A = Matrix([[6, -1, -1, 4],\n",
    "            [1, 1, 10, -6],\n",
    "            [2, -1, -1, -2]])\n",
    "A.rref()"
   ]
  }
 ],
 "metadata": {
  "kernelspec": {
   "display_name": "Python 3 (ipykernel)",
   "language": "python",
   "name": "python3"
  },
  "language_info": {
   "codemirror_mode": {
    "name": "ipython",
    "version": 3
   },
   "file_extension": ".py",
   "mimetype": "text/x-python",
   "name": "python",
   "nbconvert_exporter": "python",
   "pygments_lexer": "ipython3",
   "version": "3.9.12"
  }
 },
 "nbformat": 4,
 "nbformat_minor": 5
}
