{
 "cells": [
  {
   "cell_type": "code",
   "execution_count": 1,
   "id": "ec127aa6-83e8-4b95-8f00-fa23b641ef09",
   "metadata": {},
   "outputs": [],
   "source": [
    "#Übungsblatt 6"
   ]
  },
  {
   "cell_type": "code",
   "execution_count": 2,
   "id": "cbb1c74b-9d15-4e1d-93b3-aff271b4876b",
   "metadata": {},
   "outputs": [],
   "source": [
    "# rowEcholon\n",
    "# EZ vom Typ 3). Abziehen (Addition mit negativen FAktor) des mehrfachen einer Zeile von einer anderen\n",
    "def rowMod(M, i, j, x): #Matrix M, Zeilenindex i der zu modifizierrenden Zeile und Zeilenindex j (Zeile die wir abziehen möchten), Faktor x\n",
    "    M[i] = [a + x * b for a,b in zip(M[i], M[j])]"
   ]
  },
  {
   "cell_type": "code",
   "execution_count": 3,
   "id": "75ebb02c-ab90-45a0-9741-5704c9dc0456",
   "metadata": {},
   "outputs": [],
   "source": [
    "def rowEcholon(M): # Gauß-Verfahren\n",
    "    row, col = 0,0\n",
    "    rows, cols = len(M), len(M[0])\n",
    "    while row < rows and col < cols:\n",
    "        # try to find pivot element\n",
    "        if M[row][col] == 0:\n",
    "            for r in range(row + 1, rows):\n",
    "                if M[r][col] != 0: #search until pivotelement (!=0) found\n",
    "                    rowMod(M, row, r, 1)\n",
    "                    break\n",
    "        # no pivot element, skip column\n",
    "        if M[row][col] == 0:\n",
    "            col += 1\n",
    "            continue\n",
    "        # pivot element found, create zeros\n",
    "        pivot = M[row][col]\n",
    "        for r in range(row + 1, rows):\n",
    "            if M[r][col] != 0:\n",
    "                rowMod(M, r, row, -M[r][col] / pivot)\n",
    "        row += 1\n",
    "        col += 1"
   ]
  },
  {
   "cell_type": "code",
   "execution_count": 4,
   "id": "7303dd5c-6d00-418f-9097-29cd26c64a7d",
   "metadata": {},
   "outputs": [],
   "source": [
    "def determinante(M):\n",
    "    rowEcholon(M)\n",
    "    det = 1\n",
    "    for i in range(len(M)):\n",
    "        det *= M[i][i]\n",
    "    return det\n",
    "\n",
    " \n",
    "\n",
    "def printDet(M):\n",
    "    print('M =', M)\n",
    "    det = determinante(M)\n",
    "    print('det(M)=', det)"
   ]
  },
  {
   "cell_type": "code",
   "execution_count": 2,
   "id": "d87f9062-8ae7-4a94-ae47-a7ce215f8e23",
   "metadata": {},
   "outputs": [],
   "source": [
    "#Aufgabe 3"
   ]
  },
  {
   "cell_type": "code",
   "execution_count": 5,
   "id": "295c2f26-53d0-4dcb-8685-e1d2e4a66db6",
   "metadata": {},
   "outputs": [
    {
     "data": {
      "text/latex": [
       "$\\displaystyle -98$"
      ],
      "text/plain": [
       "-98"
      ]
     },
     "execution_count": 5,
     "metadata": {},
     "output_type": "execute_result"
    }
   ],
   "source": [
    "from sympy import Matrix\n",
    "A = Matrix([[1,3,5],[8,7,0],[2,1,4]])\n",
    "A.det()"
   ]
  },
  {
   "cell_type": "code",
   "execution_count": 7,
   "id": "8a6eeb28-5fdd-4a09-ad33-5025e7b89f32",
   "metadata": {},
   "outputs": [
    {
     "data": {
      "text/latex": [
       "$\\displaystyle -40$"
      ],
      "text/plain": [
       "-40"
      ]
     },
     "execution_count": 7,
     "metadata": {},
     "output_type": "execute_result"
    }
   ],
   "source": [
    "B = Matrix([[1,3,5],[1,-2,-9],[2,1,4]])\n",
    "B.det()"
   ]
  },
  {
   "cell_type": "code",
   "execution_count": 9,
   "id": "617297b4-90c7-4d27-9c36-e1b1f0b0138b",
   "metadata": {},
   "outputs": [
    {
     "data": {
      "text/latex": [
       "$\\displaystyle 98$"
      ],
      "text/plain": [
       "98"
      ]
     },
     "execution_count": 9,
     "metadata": {},
     "output_type": "execute_result"
    }
   ],
   "source": [
    "A = Matrix([[8,7,0],[1,3,5],[2,1,4]])\n",
    "A.det()"
   ]
  },
  {
   "cell_type": "code",
   "execution_count": 11,
   "id": "f7658950-90cd-4af4-813b-1f617eb9bf41",
   "metadata": {},
   "outputs": [
    {
     "data": {
      "text/latex": [
       "$\\displaystyle 98$"
      ],
      "text/plain": [
       "98"
      ]
     },
     "execution_count": 11,
     "metadata": {},
     "output_type": "execute_result"
    }
   ],
   "source": [
    "A = Matrix([[3,1,5],[7,8,0],[1,2,4]])\n",
    "A.det()"
   ]
  },
  {
   "cell_type": "code",
   "execution_count": 8,
   "id": "98dcb587-17a0-4108-8bc4-3d802c0cf68b",
   "metadata": {},
   "outputs": [],
   "source": [
    "def transpose(A):\n",
    "    \n",
    "    result = [[0 for a in range(len(A))] for a in range(len(A[0]))]\n",
    "    \n",
    "    for i in range(len(A)):\n",
    "        for j in range(len(A[0])):\n",
    "            result[j][i] = A[i][j]\n",
    "            \n",
    "    return result"
   ]
  },
  {
   "cell_type": "code",
   "execution_count": 12,
   "id": "6462a1a6-9211-4011-bce6-2718b6c001b4",
   "metadata": {},
   "outputs": [
    {
     "data": {
      "text/latex": [
       "$\\displaystyle -98$"
      ],
      "text/plain": [
       "-98"
      ]
     },
     "execution_count": 12,
     "metadata": {},
     "output_type": "execute_result"
    }
   ],
   "source": [
    "A = Matrix([[1,3,5],[8,7,0],[2,1,4]])\n",
    "A.det()"
   ]
  },
  {
   "cell_type": "code",
   "execution_count": 14,
   "id": "2c203f42-2de7-418f-bcfa-e2bcda2f3450",
   "metadata": {},
   "outputs": [
    {
     "data": {
      "text/plain": [
       "[[1, 8, 2], [3, 7, 1], [5, 0, 4]]"
      ]
     },
     "execution_count": 14,
     "metadata": {},
     "output_type": "execute_result"
    }
   ],
   "source": [
    "A = [[1,3,5],[8,7,0],[2,1,4]]\n",
    "transpose(A)"
   ]
  },
  {
   "cell_type": "code",
   "execution_count": 17,
   "id": "80d623e1-50c2-4a4b-94b2-96fd2f9b625f",
   "metadata": {},
   "outputs": [
    {
     "data": {
      "text/latex": [
       "$\\displaystyle -98$"
      ],
      "text/plain": [
       "-98"
      ]
     },
     "execution_count": 17,
     "metadata": {},
     "output_type": "execute_result"
    }
   ],
   "source": [
    "A = Matrix([[1, 8, 2], [3, 7, 1], [5, 0, 4]])\n",
    "A.det()"
   ]
  },
  {
   "cell_type": "code",
   "execution_count": 18,
   "id": "4d35f7f6-f987-4ef3-b7e0-c7f95c730bc8",
   "metadata": {},
   "outputs": [
    {
     "data": {
      "text/latex": [
       "$\\displaystyle -40$"
      ],
      "text/plain": [
       "-40"
      ]
     },
     "execution_count": 18,
     "metadata": {},
     "output_type": "execute_result"
    }
   ],
   "source": [
    "B = Matrix([[1,3,5],[1,-2,-9],[2,1,4]])\n",
    "B.det()"
   ]
  },
  {
   "cell_type": "code",
   "execution_count": 19,
   "id": "50384d3f-4dce-47b9-b4f8-7c741af55424",
   "metadata": {},
   "outputs": [
    {
     "data": {
      "text/plain": [
       "[[1, 1, 2], [3, -2, 1], [5, -9, 4]]"
      ]
     },
     "execution_count": 19,
     "metadata": {},
     "output_type": "execute_result"
    }
   ],
   "source": [
    "B = [[1,3,5],[1,-2,-9],[2,1,4]]\n",
    "transpose(B)"
   ]
  },
  {
   "cell_type": "code",
   "execution_count": 20,
   "id": "0db5a38f-95bc-488b-890a-3b10f1b6b790",
   "metadata": {},
   "outputs": [
    {
     "data": {
      "text/latex": [
       "$\\displaystyle -40$"
      ],
      "text/plain": [
       "-40"
      ]
     },
     "execution_count": 20,
     "metadata": {},
     "output_type": "execute_result"
    }
   ],
   "source": [
    "B = Matrix([[1, 1, 2], [3, -2, 1], [5, -9, 4]])\n",
    "B.det()"
   ]
  },
  {
   "cell_type": "code",
   "execution_count": 1,
   "id": "c55219d1-82b4-4cb7-994e-4a484deb51e0",
   "metadata": {},
   "outputs": [],
   "source": [
    "#Aufgabe 4"
   ]
  },
  {
   "cell_type": "code",
   "execution_count": 5,
   "id": "cdd5dfdf-2088-452d-9b21-ab53f7213b2d",
   "metadata": {},
   "outputs": [
    {
     "name": "stdout",
     "output_type": "stream",
     "text": [
      "M = [[3, 7, 3, 0], [0, 2, -1, 1], [5, 4, 3, 2], [6, 6, 4, -1]]\n",
      "det(M)= 105.0\n"
     ]
    }
   ],
   "source": [
    "printDet([[3,7,3,0],[0,2,-1,1],[5,4,3,2],[6,6,4,-1]])"
   ]
  }
 ],
 "metadata": {
  "kernelspec": {
   "display_name": "Python 3 (ipykernel)",
   "language": "python",
   "name": "python3"
  },
  "language_info": {
   "codemirror_mode": {
    "name": "ipython",
    "version": 3
   },
   "file_extension": ".py",
   "mimetype": "text/x-python",
   "name": "python",
   "nbconvert_exporter": "python",
   "pygments_lexer": "ipython3",
   "version": "3.9.12"
  }
 },
 "nbformat": 4,
 "nbformat_minor": 5
}
