{
 "cells": [
  {
   "cell_type": "code",
   "execution_count": 1,
   "id": "d72525b9-943c-4db2-b0b0-da05b3037190",
   "metadata": {},
   "outputs": [],
   "source": [
    "#Übungsblatt 8"
   ]
  },
  {
   "cell_type": "code",
   "execution_count": 2,
   "id": "2bd2ea4f-914f-4f01-a8c5-9ff483840d58",
   "metadata": {},
   "outputs": [],
   "source": [
    "#im classic Notebook"
   ]
  }
 ],
 "metadata": {
  "kernelspec": {
   "display_name": "Python 3 (ipykernel)",
   "language": "python",
   "name": "python3"
  },
  "language_info": {
   "codemirror_mode": {
    "name": "ipython",
    "version": 3
   },
   "file_extension": ".py",
   "mimetype": "text/x-python",
   "name": "python",
   "nbconvert_exporter": "python",
   "pygments_lexer": "ipython3",
   "version": "3.9.12"
  }
 },
 "nbformat": 4,
 "nbformat_minor": 5
}
